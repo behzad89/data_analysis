{
 "cells": [
  {
   "cell_type": "code",
   "execution_count": 5,
   "metadata": {},
   "outputs": [],
   "source": [
    "import pandas as pd\n",
    "import psycopg2\n",
    "import sys\n",
    "import xarray as xr\n",
    "\n",
    "from getpass import getpass\n",
    "from subprocess import call, check_output"
   ]
  },
  {
   "cell_type": "markdown",
   "metadata": {},
   "source": [
    "List of files to process"
   ]
  },
  {
   "cell_type": "code",
   "execution_count": 6,
   "metadata": {},
   "outputs": [],
   "source": [
    "path = \"/data-uerra/mescan-surfex/temperature/\""
   ]
  },
  {
   "cell_type": "code",
   "execution_count": 7,
   "metadata": {},
   "outputs": [
    {
     "data": {
      "text/plain": [
       "38"
      ]
     },
     "execution_count": 7,
     "metadata": {},
     "output_type": "execute_result"
    }
   ],
   "source": [
    "len(path)"
   ]
  },
  {
   "cell_type": "code",
   "execution_count": 8,
   "metadata": {},
   "outputs": [
    {
     "name": "stdout",
     "output_type": "stream",
     "text": [
      "2t.tiff\r\n",
      "consecutive_frost_days_index_per_time_period.tiff\r\n",
      "consecutive_summer_days_index_per_time_period.tiff\r\n",
      "frost_days_index_per_time_period.tiff\r\n",
      "heating_degree_days_per_time_period.tiff\r\n",
      "ice_days_index_per_time_period.tiff\r\n",
      "mescan-surfex-finland-temperature-2000.nc\r\n",
      "mescan-surfex-finland-temperature-2001.nc\r\n",
      "mescan-surfex-finland-temperature-2002.nc\r\n",
      "mescan-surfex-finland-temperature-2003.nc\r\n",
      "mescan-surfex-finland-temperature-2005.nc\r\n",
      "mescan-surfex-finland-temperature-2006.nc\r\n",
      "mescan-surfex-finland-temperature-2007.nc\r\n",
      "mescan-surfex-finland-temperature-2008.nc\r\n",
      "mescan-surfex-finland-temperature-2009.nc\r\n",
      "mescan-surfex-finland-temperature-2010.nc\r\n",
      "mescan-surfex-finland-temperature-2011.nc\r\n",
      "mescan-surfex-finland-temperature-2012.nc\r\n",
      "mescan-surfex-finland-temperature-2013.nc\r\n",
      "mescan-surfex-finland-temperature-2014.nc\r\n",
      "mescan_surfex_nordics_2t.sql\r\n",
      "mescan_surfex_nordics_consecutive_frost_days_index_per_time_period.sql\r\n",
      "mescan_surfex_nordics_consecutive_summer_days_index_per_time_period.sql\r\n",
      "mescan-surfex-nordics-eca_cfd.nc\r\n",
      "mescan-surfex-nordics-eca_csu.nc\r\n",
      "mescan-surfex-nordics-eca_fd.nc\r\n",
      "mescan-surfex-nordics-eca_hd.nc\r\n",
      "mescan-surfex-nordics-eca_id.nc\r\n",
      "mescan-surfex-nordics-eca_su.nc\r\n",
      "mescan-surfex-nordics-eca_tr.nc\r\n",
      "mescan_surfex_nordics_frost_days_index_per_time_period.sql\r\n",
      "mescan_surfex_nordics_heating_degree_days_per_time_period.sql\r\n",
      "mescan_surfex_nordics_ice_days_index_per_time_period.sql\r\n",
      "mescan_surfex_nordics_number_of_cfd_periods_with_more_than_5days_per_time_period.sql\r\n",
      "mescan_surfex_nordics_number_of_csu_periods_with_more_than_5days_per_time_period.sql\r\n",
      "mescan_surfex_nordics_summer_days_index_per_time_period.sql\r\n",
      "mescan-surfex-nordics-t2m_daily_max.nc\r\n",
      "mescan-surfex-nordics-t2m_daily_min.nc\r\n",
      "mescan-surfex-nordics-t2m_daily.nc\r\n",
      "mescan-surfex-nordics-t2m_k_daily_min.nc\r\n",
      "mescan-surfex-nordics-t2m_ymonstd.nc\r\n",
      "mescan-surfex-nordics-temperature-2000.nc\r\n",
      "mescan-surfex-nordics-temperature-2001.nc\r\n",
      "mescan-surfex-nordics-temperature-2002.nc\r\n",
      "mescan-surfex-nordics-temperature-2003.nc\r\n",
      "mescan-surfex-nordics-temperature-2005.nc\r\n",
      "mescan-surfex-nordics-temperature-2006.nc\r\n",
      "mescan-surfex-nordics-temperature-2007.nc\r\n",
      "mescan-surfex-nordics-temperature-2008.nc\r\n",
      "mescan-surfex-nordics-temperature-2009.nc\r\n",
      "mescan-surfex-nordics-temperature-2010.nc\r\n",
      "mescan-surfex-nordics-temperature-2011.nc\r\n",
      "mescan-surfex-nordics-temperature-2012.nc\r\n",
      "mescan-surfex-nordics-temperature-2013.nc\r\n",
      "mescan-surfex-nordics-temperature-2014.nc\r\n",
      "mescan-surfex-nordics-temperature-ymon.nc\r\n",
      "mescan_surfex_nordics_tropical_nights_index_per_time_period.sql\r\n",
      "mescan-surfex-precipitation-daily-mean-2000-2015.grib\r\n",
      "mescan-surfex-temperature-2000.grib\r\n",
      "mescan-surfex-temperature-2000.grib.887f8.idx\r\n",
      "mescan-surfex-temperature-2000.nc\r\n",
      "mescan-surfex-temperature-2001.grib\r\n",
      "mescan-surfex-temperature-2001.grib.887f8.idx\r\n",
      "mescan-surfex-temperature-2002.grib\r\n",
      "mescan-surfex-temperature-2003.grib\r\n",
      "mescan-surfex-temperature-2005.grib\r\n",
      "mescan-surfex-temperature-2006.grib\r\n",
      "mescan-surfex-temperature-2007.grib\r\n",
      "mescan-surfex-temperature-2008.grib\r\n",
      "mescan-surfex-temperature-2009.grib\r\n",
      "mescan-surfex-temperature-2010.grib\r\n",
      "mescan-surfex-temperature-2011.grib\r\n",
      "mescan-surfex-temperature-2012.grib\r\n",
      "mescan-surfex-temperature-2013.grib\r\n",
      "mescan-surfex-temperature-2014.grib\r\n",
      "mescan-surfex-temperature-2014.grib.887f8.idx\r\n",
      "mescan-surfex-temperature-2015.grib\r\n",
      "mescan-surfex-temperature-daily-mean-2000-2015.grib\r\n",
      "mescan-surfex-temperature-ymon.nc\r\n",
      "number_of_cfd_periods_with_more_than_5days_per_time_period.tiff\r\n",
      "number_of_csu_periods_with_more_than_5days_per_time_period.tiff\r\n",
      "summer_days_index_per_time_period.tiff\r\n",
      "tropical_nights_index_per_time_period.tiff\r\n"
     ]
    }
   ],
   "source": [
    "!ls {path}"
   ]
  },
  {
   "cell_type": "code",
   "execution_count": 9,
   "metadata": {},
   "outputs": [],
   "source": [
    "files = [\n",
    "    \"mescan-surfex-nordics-eca_cfd.nc\",\n",
    "    \"mescan-surfex-nordics-eca_csu.nc\",\n",
    "    \"mescan-surfex-nordics-eca_fd.nc\",\n",
    "    \"mescan-surfex-nordics-eca_hd.nc\",\n",
    "    \"mescan-surfex-nordics-eca_id.nc\",\n",
    "    \"mescan-surfex-nordics-eca_su.nc\",\n",
    "    \"mescan-surfex-nordics-eca_tr.nc\",\n",
    "    \"mescan-surfex-nordics-t2m_ymonstd.nc\"\n",
    "]"
   ]
  },
  {
   "cell_type": "markdown",
   "metadata": {},
   "source": [
    "Build list of variables for each file"
   ]
  },
  {
   "cell_type": "code",
   "execution_count": 10,
   "metadata": {},
   "outputs": [
    {
     "name": "stdout",
     "output_type": "stream",
     "text": [
      "{'mescan-surfex-nordics-eca_cfd.nc': ['consecutive_frost_days_index_per_time_period', 'number_of_cfd_periods_with_more_than_5days_per_time_period'], 'mescan-surfex-nordics-eca_csu.nc': ['consecutive_summer_days_index_per_time_period', 'number_of_csu_periods_with_more_than_5days_per_time_period'], 'mescan-surfex-nordics-eca_fd.nc': ['frost_days_index_per_time_period'], 'mescan-surfex-nordics-eca_hd.nc': ['heating_degree_days_per_time_period'], 'mescan-surfex-nordics-eca_id.nc': ['ice_days_index_per_time_period'], 'mescan-surfex-nordics-eca_su.nc': ['summer_days_index_per_time_period'], 'mescan-surfex-nordics-eca_tr.nc': ['tropical_nights_index_per_time_period'], 'mescan-surfex-nordics-t2m_ymonstd.nc': ['2t']}\n"
     ]
    }
   ],
   "source": [
    "variables = {}\n",
    "for f in files:\n",
    "    ds = xr.open_dataset(path + f)\n",
    "    for v in ds.variables:\n",
    "        if f not in variables:\n",
    "            variables[f] = []\n",
    "        if v not in [\"time\", \"lon\", \"lat\", \"inate.\", \"oordinate.\", \"height\"]:\n",
    "            variables[f].append(v)\n",
    "\n",
    "print(variables)"
   ]
  },
  {
   "cell_type": "markdown",
   "metadata": {},
   "source": [
    "Convert each variable to a single GeoTiff file"
   ]
  },
  {
   "cell_type": "code",
   "execution_count": 11,
   "metadata": {},
   "outputs": [
    {
     "name": "stdout",
     "output_type": "stream",
     "text": [
      "mescan-surfex-nordics-eca_cfd.nc\n",
      "consecutive_frost_days_index_per_time_period.tiff\n",
      "number_of_cfd_periods_with_more_than_5days_per_time_period.tiff\n",
      "mescan-surfex-nordics-eca_csu.nc\n",
      "consecutive_summer_days_index_per_time_period.tiff\n",
      "number_of_csu_periods_with_more_than_5days_per_time_period.tiff\n",
      "mescan-surfex-nordics-eca_fd.nc\n",
      "frost_days_index_per_time_period.tiff\n",
      "mescan-surfex-nordics-eca_hd.nc\n",
      "heating_degree_days_per_time_period.tiff\n",
      "mescan-surfex-nordics-eca_id.nc\n",
      "ice_days_index_per_time_period.tiff\n",
      "mescan-surfex-nordics-eca_su.nc\n",
      "summer_days_index_per_time_period.tiff\n",
      "mescan-surfex-nordics-eca_tr.nc\n",
      "tropical_nights_index_per_time_period.tiff\n",
      "mescan-surfex-nordics-t2m_ymonstd.nc\n",
      "2t.tiff\n"
     ]
    }
   ],
   "source": [
    "for f in files:\n",
    "    print(f)\n",
    "    for v in variables[f]:\n",
    "        g = \"%s.tiff\" % v\n",
    "        print(g) \n",
    "        call([\"gdalwarp\", \"-s_srs\", \"EPSG:4326\", \"-t_srs\", \"EPSG:3035\", \"NETCDF:%s/%s:%s\" % (path, f, v), \n",
    "              \"-of\", \"GTiff\", \"%s/%s\" % (path, g)])"
   ]
  },
  {
   "cell_type": "code",
   "execution_count": 3,
   "metadata": {},
   "outputs": [
    {
     "name": "stdout",
     "output_type": "stream",
     "text": [
      "········\n"
     ]
    }
   ],
   "source": [
    "password = getpass()"
   ]
  },
  {
   "cell_type": "code",
   "execution_count": 12,
   "metadata": {},
   "outputs": [],
   "source": [
    "conn = psycopg2.connect(\"dbname='ccgeodb' user='linda_ml' host='10.0.18.10' password='%s'\" % (password))"
   ]
  },
  {
   "cell_type": "markdown",
   "metadata": {},
   "source": [
    "Generate SQL script to load each GeoTiff, create tables in the database and store the SQL files"
   ]
  },
  {
   "cell_type": "code",
   "execution_count": 13,
   "metadata": {},
   "outputs": [
    {
     "name": "stdout",
     "output_type": "stream",
     "text": [
      "consecutive_frost_days_index_per_time_period.tiff\n",
      "mescan_surfex_nordics_consecutive_frost_days_index_per_time_period\n",
      "CREATE TABLE \"climate\".\"mescan_surfex_nordics_consecutive_frost_days_index_per_time_period\" (\"rid\" serial PRIMARY KEY,\"rast\" raster);\n",
      "number_of_cfd_periods_with_more_than_5days_per_time_period.tiff\n",
      "mescan_surfex_nordics_number_of_cfd_periods_with_more_than_5days_per_time_period\n",
      "CREATE TABLE \"climate\".\"mescan_surfex_nordics_number_of_cfd_periods_with_more_than_5days_per_time_period\" (\"rid\" serial PRIMARY KEY,\"rast\" raster);\n",
      "consecutive_summer_days_index_per_time_period.tiff\n",
      "mescan_surfex_nordics_consecutive_summer_days_index_per_time_period\n",
      "CREATE TABLE \"climate\".\"mescan_surfex_nordics_consecutive_summer_days_index_per_time_period\" (\"rid\" serial PRIMARY KEY,\"rast\" raster);\n",
      "number_of_csu_periods_with_more_than_5days_per_time_period.tiff\n",
      "mescan_surfex_nordics_number_of_csu_periods_with_more_than_5days_per_time_period\n",
      "CREATE TABLE \"climate\".\"mescan_surfex_nordics_number_of_csu_periods_with_more_than_5days_per_time_period\" (\"rid\" serial PRIMARY KEY,\"rast\" raster);\n",
      "frost_days_index_per_time_period.tiff\n",
      "mescan_surfex_nordics_frost_days_index_per_time_period\n",
      "CREATE TABLE \"climate\".\"mescan_surfex_nordics_frost_days_index_per_time_period\" (\"rid\" serial PRIMARY KEY,\"rast\" raster);\n",
      "heating_degree_days_per_time_period.tiff\n",
      "mescan_surfex_nordics_heating_degree_days_per_time_period\n",
      "CREATE TABLE \"climate\".\"mescan_surfex_nordics_heating_degree_days_per_time_period\" (\"rid\" serial PRIMARY KEY,\"rast\" raster);\n",
      "ice_days_index_per_time_period.tiff\n",
      "mescan_surfex_nordics_ice_days_index_per_time_period\n",
      "CREATE TABLE \"climate\".\"mescan_surfex_nordics_ice_days_index_per_time_period\" (\"rid\" serial PRIMARY KEY,\"rast\" raster);\n",
      "summer_days_index_per_time_period.tiff\n",
      "mescan_surfex_nordics_summer_days_index_per_time_period\n",
      "CREATE TABLE \"climate\".\"mescan_surfex_nordics_summer_days_index_per_time_period\" (\"rid\" serial PRIMARY KEY,\"rast\" raster);\n",
      "tropical_nights_index_per_time_period.tiff\n",
      "mescan_surfex_nordics_tropical_nights_index_per_time_period\n",
      "CREATE TABLE \"climate\".\"mescan_surfex_nordics_tropical_nights_index_per_time_period\" (\"rid\" serial PRIMARY KEY,\"rast\" raster);\n",
      "2t.tiff\n",
      "mescan_surfex_nordics_2t\n",
      "CREATE TABLE \"climate\".\"mescan_surfex_nordics_2t\" (\"rid\" serial PRIMARY KEY,\"rast\" raster);\n"
     ]
    }
   ],
   "source": [
    "cursor = conn.cursor()\n",
    "for f in files:\n",
    "    for v in variables[f]:\n",
    "        g = \"%s.tiff\" % v\n",
    "        table = \"mescan_surfex_nordics_%s\" % g[0:-5]\n",
    "        print(g)\n",
    "        print(table)\n",
    "        output = check_output([\"raster2pgsql\", \"-I\", \"%s%s\" % (path, g), \"climate.%s\" % table]).decode(sys.stdout.encoding)\n",
    "        statements = output.split('\\n')\n",
    "    \n",
    "        # skip BEGIN and COMMIT statements\n",
    "        for i in range(1, 4):\n",
    "            if i == 1:\n",
    "                print(statements[i])\n",
    "            cursor.execute(statements[i])\n",
    "\n",
    "        conn.commit()\n",
    "\n",
    "        \n",
    "        with open('%s%s.sql' % (path, table), 'w') as sql:\n",
    "            sql.write(output)"
   ]
  },
  {
   "cell_type": "code",
   "execution_count": null,
   "metadata": {},
   "outputs": [],
   "source": []
  }
 ],
 "metadata": {
  "kernelspec": {
   "display_name": "Python 3",
   "language": "python",
   "name": "python3"
  },
  "language_info": {
   "codemirror_mode": {
    "name": "ipython",
    "version": 3
   },
   "file_extension": ".py",
   "mimetype": "text/x-python",
   "name": "python",
   "nbconvert_exporter": "python",
   "pygments_lexer": "ipython3",
   "version": "3.6.7"
  }
 },
 "nbformat": 4,
 "nbformat_minor": 2
}
