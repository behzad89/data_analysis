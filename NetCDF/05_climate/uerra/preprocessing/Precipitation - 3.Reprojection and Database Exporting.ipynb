{
 "cells": [
  {
   "cell_type": "code",
   "execution_count": 1,
   "metadata": {},
   "outputs": [],
   "source": [
    "import pandas as pd\n",
    "import psycopg2\n",
    "import sys\n",
    "import xarray as xr\n",
    "\n",
    "from getpass import getpass\n",
    "from subprocess import call, check_output"
   ]
  },
  {
   "cell_type": "markdown",
   "metadata": {},
   "source": [
    "List of files to process"
   ]
  },
  {
   "cell_type": "code",
   "execution_count": 2,
   "metadata": {},
   "outputs": [],
   "source": [
    "path = \"/data-uerra/mescan-surfex/precipitation/\""
   ]
  },
  {
   "cell_type": "code",
   "execution_count": 3,
   "metadata": {},
   "outputs": [
    {
     "data": {
      "text/plain": [
       "40"
      ]
     },
     "execution_count": 3,
     "metadata": {},
     "output_type": "execute_result"
    }
   ],
   "source": [
    "len(path)"
   ]
  },
  {
   "cell_type": "code",
   "execution_count": 4,
   "metadata": {},
   "outputs": [
    {
     "name": "stdout",
     "output_type": "stream",
     "text": [
      "consecutive_dry_days_index_per_time_period.tiff\r\n",
      "consecutive_wet_days_index_per_time_period.tiff\r\n",
      "heavy_precipitation_days_index_per_time_period.tiff\r\n",
      "highest_five_day_precipitation_amount_per_time_period.tiff\r\n",
      "highest_one_day_precipitation_amount_per_time_period.tiff\r\n",
      "mescan_surfex_nordics_consecutive_dry_days_index_per_time_period.sql\r\n",
      "mescan_surfex_nordics_consecutive_wet_days_index_per_time_period.sql\r\n",
      "mescan-surfex-nordics-eca_cdd.nc\r\n",
      "mescan-surfex-nordics-eca_cwd.nc\r\n",
      "mescan-surfex-nordics-eca_pd.nc\r\n",
      "mescan-surfex-nordics-eca_r10mm.nc\r\n",
      "mescan-surfex-nordics-eca_r20mm.nc\r\n",
      "mescan-surfex-nordics-eca_rr1.nc\r\n",
      "mescan-surfex-nordics-eca_rx1day.nc\r\n",
      "mescan-surfex-nordics-eca_rx5day.nc\r\n",
      "mescan-surfex-nordics-eca_sdii.nc\r\n",
      "mescan_surfex_nordics_heavy_precipitation_days_index_per_time_period.sql\r\n",
      "mescan_surfex_nordics_highest_five_day_precipitation_amount_per_time_period.sql\r\n",
      "mescan_surfex_nordics_highest_one_day_precipitation_amount_per_time_period.sql\r\n",
      "mescan_surfex_nordics_number_of_5day_heavy_precipitation_periods_per_time_period.sql\r\n",
      "mescan_surfex_nordics_number_of_cdd_periods_with_more_than_5days_per_time_period.sql\r\n",
      "mescan_surfex_nordics_number_of_cwd_periods_with_more_than_5days_per_time_period.sql\r\n",
      "mescan-surfex-nordics-precipitation-2000.nc\r\n",
      "mescan-surfex-nordics-precipitation-2001.nc\r\n",
      "mescan-surfex-nordics-precipitation-2002.nc\r\n",
      "mescan-surfex-nordics-precipitation-2003.nc\r\n",
      "mescan-surfex-nordics-precipitation-2004.nc\r\n",
      "mescan-surfex-nordics-precipitation-2005.nc\r\n",
      "mescan-surfex-nordics-precipitation-2006.nc\r\n",
      "mescan-surfex-nordics-precipitation-2007.nc\r\n",
      "mescan-surfex-nordics-precipitation-2008.nc\r\n",
      "mescan-surfex-nordics-precipitation-2009.nc\r\n",
      "mescan-surfex-nordics-precipitation-2010.nc\r\n",
      "mescan-surfex-nordics-precipitation-2011.nc\r\n",
      "mescan-surfex-nordics-precipitation-2012.nc\r\n",
      "mescan-surfex-nordics-precipitation-2013.nc\r\n",
      "mescan-surfex-nordics-precipitation-2014.nc\r\n",
      "mescan-surfex-nordics-precipitation_daily.nc\r\n",
      "mescan_surfex_nordics_precipitation_days_index_per_time_period.sql\r\n",
      "mescan-surfex-nordics-precipitation_ymon.nc\r\n",
      "mescan_surfex_nordics_simple_daily_intensity_index_per_time_period.sql\r\n",
      "mescan_surfex_nordics_tp.sql\r\n",
      "mescan_surfex_nordics_very_heavy_precipitation_days_index_per_time_period.sql\r\n",
      "mescan_surfex_nordics_wet_days_index_per_time_period.sql\r\n",
      "mescan-surfex-precipitation-2000.grib\r\n",
      "mescan-surfex-precipitation-2001.grib\r\n",
      "mescan-surfex-precipitation-2002.grib\r\n",
      "mescan-surfex-precipitation-2003.grib\r\n",
      "mescan-surfex-precipitation-2004.grib\r\n",
      "mescan-surfex-precipitation-2005.grib\r\n",
      "mescan-surfex-precipitation-2006.grib\r\n",
      "mescan-surfex-precipitation-2007.grib\r\n",
      "mescan-surfex-precipitation-2008.grib\r\n",
      "mescan-surfex-precipitation-2009.grib\r\n",
      "mescan-surfex-precipitation-2010.grib\r\n",
      "mescan-surfex-precipitation-2011.grib\r\n",
      "mescan-surfex-precipitation-2012.grib\r\n",
      "mescan-surfex-precipitation-2013.grib\r\n",
      "mescan-surfex-precipitation-2014.grib\r\n",
      "mescan-surfex-precipitation-2015.grib\r\n",
      "number_of_5day_heavy_precipitation_periods_per_time_period.tiff\r\n",
      "number_of_cdd_periods_with_more_than_5days_per_time_period.tiff\r\n",
      "number_of_cwd_periods_with_more_than_5days_per_time_period.tiff\r\n",
      "outgrid_fi.txt\r\n",
      "precipitation_days_index_per_time_period.tiff\r\n",
      "simple_daily_intensity_index_per_time_period.tiff\r\n",
      "tp.tiff\r\n",
      "very_heavy_precipitation_days_index_per_time_period.tiff\r\n",
      "wet_days_index_per_time_period.tiff\r\n"
     ]
    }
   ],
   "source": [
    "!ls {path}"
   ]
  },
  {
   "cell_type": "code",
   "execution_count": 5,
   "metadata": {},
   "outputs": [],
   "source": [
    "files = [\n",
    "    \"mescan-surfex-nordics-precipitation_ymon.nc\",\n",
    "    \"mescan-surfex-nordics-eca_cdd.nc\",\n",
    "    \"mescan-surfex-nordics-eca_cwd.nc\",\n",
    "    \"mescan-surfex-nordics-eca_pd.nc\",\n",
    "    \"mescan-surfex-nordics-eca_r10mm.nc\",\n",
    "    \"mescan-surfex-nordics-eca_r20mm.nc\",\n",
    "    \"mescan-surfex-nordics-eca_rr1.nc\",\n",
    "    \"mescan-surfex-nordics-eca_rx1day.nc\",\n",
    "    \"mescan-surfex-nordics-eca_rx5day.nc\",\n",
    "    \"mescan-surfex-nordics-eca_sdii.nc\"\n",
    "]"
   ]
  },
  {
   "cell_type": "markdown",
   "metadata": {},
   "source": [
    "Build list of variables for each file"
   ]
  },
  {
   "cell_type": "code",
   "execution_count": 6,
   "metadata": {},
   "outputs": [
    {
     "name": "stdout",
     "output_type": "stream",
     "text": [
      "{'mescan-surfex-nordics-precipitation_ymon.nc': ['tp'], 'mescan-surfex-nordics-eca_cdd.nc': ['consecutive_dry_days_index_per_time_period', 'number_of_cdd_periods_with_more_than_5days_per_time_period'], 'mescan-surfex-nordics-eca_cwd.nc': ['consecutive_wet_days_index_per_time_period', 'number_of_cwd_periods_with_more_than_5days_per_time_period'], 'mescan-surfex-nordics-eca_pd.nc': ['precipitation_days_index_per_time_period'], 'mescan-surfex-nordics-eca_r10mm.nc': ['heavy_precipitation_days_index_per_time_period'], 'mescan-surfex-nordics-eca_r20mm.nc': ['very_heavy_precipitation_days_index_per_time_period'], 'mescan-surfex-nordics-eca_rr1.nc': ['wet_days_index_per_time_period'], 'mescan-surfex-nordics-eca_rx1day.nc': ['highest_one_day_precipitation_amount_per_time_period'], 'mescan-surfex-nordics-eca_rx5day.nc': ['highest_five_day_precipitation_amount_per_time_period', 'number_of_5day_heavy_precipitation_periods_per_time_period'], 'mescan-surfex-nordics-eca_sdii.nc': ['simple_daily_intensity_index_per_time_period']}\n"
     ]
    }
   ],
   "source": [
    "variables = {}\n",
    "for f in files:\n",
    "    ds = xr.open_dataset(path + f)\n",
    "    for v in ds.variables:\n",
    "        if f not in variables:\n",
    "            variables[f] = []\n",
    "        if v not in [\"time\", \"lon\", \"lat\", \"inate.\", \"oordinate.\"]:\n",
    "            variables[f].append(v)\n",
    "\n",
    "print(variables)"
   ]
  },
  {
   "cell_type": "markdown",
   "metadata": {},
   "source": [
    "Convert each variable to a single GeoTiff file"
   ]
  },
  {
   "cell_type": "code",
   "execution_count": 7,
   "metadata": {},
   "outputs": [
    {
     "name": "stdout",
     "output_type": "stream",
     "text": [
      "mescan-surfex-nordics-precipitation_ymon.nc\n",
      "tp.tiff\n",
      "mescan-surfex-nordics-eca_cdd.nc\n",
      "consecutive_dry_days_index_per_time_period.tiff\n",
      "number_of_cdd_periods_with_more_than_5days_per_time_period.tiff\n",
      "mescan-surfex-nordics-eca_cwd.nc\n",
      "consecutive_wet_days_index_per_time_period.tiff\n",
      "number_of_cwd_periods_with_more_than_5days_per_time_period.tiff\n",
      "mescan-surfex-nordics-eca_pd.nc\n",
      "precipitation_days_index_per_time_period.tiff\n",
      "mescan-surfex-nordics-eca_r10mm.nc\n",
      "heavy_precipitation_days_index_per_time_period.tiff\n",
      "mescan-surfex-nordics-eca_r20mm.nc\n",
      "very_heavy_precipitation_days_index_per_time_period.tiff\n",
      "mescan-surfex-nordics-eca_rr1.nc\n",
      "wet_days_index_per_time_period.tiff\n",
      "mescan-surfex-nordics-eca_rx1day.nc\n",
      "highest_one_day_precipitation_amount_per_time_period.tiff\n",
      "mescan-surfex-nordics-eca_rx5day.nc\n",
      "highest_five_day_precipitation_amount_per_time_period.tiff\n",
      "number_of_5day_heavy_precipitation_periods_per_time_period.tiff\n",
      "mescan-surfex-nordics-eca_sdii.nc\n",
      "simple_daily_intensity_index_per_time_period.tiff\n"
     ]
    }
   ],
   "source": [
    "for f in files:\n",
    "    print(f)\n",
    "    for v in variables[f]:\n",
    "        g = \"%s.tiff\" % v\n",
    "        print(g) \n",
    "        call([\"gdalwarp\", \"-s_srs\", \"EPSG:4326\", \"-t_srs\", \"EPSG:3035\", \"NETCDF:%s/%s:%s\" % (path, f, v), \n",
    "              \"-of\", \"GTiff\", \"%s/%s\" % (path, g)])"
   ]
  },
  {
   "cell_type": "code",
   "execution_count": 8,
   "metadata": {},
   "outputs": [
    {
     "name": "stdout",
     "output_type": "stream",
     "text": [
      "········\n"
     ]
    }
   ],
   "source": [
    "password = getpass()"
   ]
  },
  {
   "cell_type": "code",
   "execution_count": 22,
   "metadata": {},
   "outputs": [],
   "source": [
    "conn = psycopg2.connect(\"dbname='ccgeodb' user='linda_ml' host='10.0.18.10' password='%s'\" % (password))"
   ]
  },
  {
   "cell_type": "markdown",
   "metadata": {},
   "source": [
    "Generate SQL script to load each GeoTiff, create tables in the database and store the SQL files"
   ]
  },
  {
   "cell_type": "code",
   "execution_count": 23,
   "metadata": {},
   "outputs": [
    {
     "name": "stdout",
     "output_type": "stream",
     "text": [
      "tp.tiff\n",
      "mescan_surfex_nordics_tp\n",
      "DROP TABLE IF EXISTS \"climate\".\"mescan_surfex_nordics_tp\"\n",
      "CREATE TABLE \"climate\".\"mescan_surfex_nordics_tp\" (\"rid\" serial PRIMARY KEY,\"rast\" raster);\n",
      "consecutive_dry_days_index_per_time_period.tiff\n",
      "mescan_surfex_nordics_consecutive_dry_days_index_per_time_period\n",
      "DROP TABLE IF EXISTS \"climate\".\"mescan_surfex_nordics_consecutive_dry_days_index_per_time_period\"\n",
      "CREATE TABLE \"climate\".\"mescan_surfex_nordics_consecutive_dry_days_index_per_time_period\" (\"rid\" serial PRIMARY KEY,\"rast\" raster);\n",
      "number_of_cdd_periods_with_more_than_5days_per_time_period.tiff\n",
      "mescan_surfex_nordics_number_of_cdd_periods_with_more_than_5days_per_time_period\n",
      "DROP TABLE IF EXISTS \"climate\".\"mescan_surfex_nordics_number_of_cdd_periods_with_more_than_5days_per_time_period\"\n",
      "CREATE TABLE \"climate\".\"mescan_surfex_nordics_number_of_cdd_periods_with_more_than_5days_per_time_period\" (\"rid\" serial PRIMARY KEY,\"rast\" raster);\n",
      "consecutive_wet_days_index_per_time_period.tiff\n",
      "mescan_surfex_nordics_consecutive_wet_days_index_per_time_period\n",
      "DROP TABLE IF EXISTS \"climate\".\"mescan_surfex_nordics_consecutive_wet_days_index_per_time_period\"\n",
      "CREATE TABLE \"climate\".\"mescan_surfex_nordics_consecutive_wet_days_index_per_time_period\" (\"rid\" serial PRIMARY KEY,\"rast\" raster);\n",
      "number_of_cwd_periods_with_more_than_5days_per_time_period.tiff\n",
      "mescan_surfex_nordics_number_of_cwd_periods_with_more_than_5days_per_time_period\n",
      "DROP TABLE IF EXISTS \"climate\".\"mescan_surfex_nordics_number_of_cwd_periods_with_more_than_5days_per_time_period\"\n",
      "CREATE TABLE \"climate\".\"mescan_surfex_nordics_number_of_cwd_periods_with_more_than_5days_per_time_period\" (\"rid\" serial PRIMARY KEY,\"rast\" raster);\n",
      "precipitation_days_index_per_time_period.tiff\n",
      "mescan_surfex_nordics_precipitation_days_index_per_time_period\n",
      "DROP TABLE IF EXISTS \"climate\".\"mescan_surfex_nordics_precipitation_days_index_per_time_period\"\n",
      "CREATE TABLE \"climate\".\"mescan_surfex_nordics_precipitation_days_index_per_time_period\" (\"rid\" serial PRIMARY KEY,\"rast\" raster);\n",
      "heavy_precipitation_days_index_per_time_period.tiff\n",
      "mescan_surfex_nordics_heavy_precipitation_days_index_per_time_period\n",
      "DROP TABLE IF EXISTS \"climate\".\"mescan_surfex_nordics_heavy_precipitation_days_index_per_time_period\"\n",
      "CREATE TABLE \"climate\".\"mescan_surfex_nordics_heavy_precipitation_days_index_per_time_period\" (\"rid\" serial PRIMARY KEY,\"rast\" raster);\n",
      "very_heavy_precipitation_days_index_per_time_period.tiff\n",
      "mescan_surfex_nordics_very_heavy_precipitation_days_index_per_time_period\n",
      "DROP TABLE IF EXISTS \"climate\".\"mescan_surfex_nordics_very_heavy_precipitation_days_index_per_time_period\"\n",
      "CREATE TABLE \"climate\".\"mescan_surfex_nordics_very_heavy_precipitation_days_index_per_time_period\" (\"rid\" serial PRIMARY KEY,\"rast\" raster);\n",
      "wet_days_index_per_time_period.tiff\n",
      "mescan_surfex_nordics_wet_days_index_per_time_period\n",
      "DROP TABLE IF EXISTS \"climate\".\"mescan_surfex_nordics_wet_days_index_per_time_period\"\n",
      "CREATE TABLE \"climate\".\"mescan_surfex_nordics_wet_days_index_per_time_period\" (\"rid\" serial PRIMARY KEY,\"rast\" raster);\n",
      "highest_one_day_precipitation_amount_per_time_period.tiff\n",
      "mescan_surfex_nordics_highest_one_day_precipitation_amount_per_time_period\n",
      "DROP TABLE IF EXISTS \"climate\".\"mescan_surfex_nordics_highest_one_day_precipitation_amount_per_time_period\"\n",
      "CREATE TABLE \"climate\".\"mescan_surfex_nordics_highest_one_day_precipitation_amount_per_time_period\" (\"rid\" serial PRIMARY KEY,\"rast\" raster);\n",
      "highest_five_day_precipitation_amount_per_time_period.tiff\n",
      "mescan_surfex_nordics_highest_five_day_precipitation_amount_per_time_period\n",
      "DROP TABLE IF EXISTS \"climate\".\"mescan_surfex_nordics_highest_five_day_precipitation_amount_per_time_period\"\n",
      "CREATE TABLE \"climate\".\"mescan_surfex_nordics_highest_five_day_precipitation_amount_per_time_period\" (\"rid\" serial PRIMARY KEY,\"rast\" raster);\n",
      "number_of_5day_heavy_precipitation_periods_per_time_period.tiff\n",
      "mescan_surfex_nordics_number_of_5day_heavy_precipitation_periods_per_time_period\n",
      "DROP TABLE IF EXISTS \"climate\".\"mescan_surfex_nordics_number_of_5day_heavy_precipitation_periods_per_time_period\"\n",
      "CREATE TABLE \"climate\".\"mescan_surfex_nordics_number_of_5day_heavy_precipitation_periods_per_time_period\" (\"rid\" serial PRIMARY KEY,\"rast\" raster);\n",
      "simple_daily_intensity_index_per_time_period.tiff\n",
      "mescan_surfex_nordics_simple_daily_intensity_index_per_time_period\n",
      "DROP TABLE IF EXISTS \"climate\".\"mescan_surfex_nordics_simple_daily_intensity_index_per_time_period\"\n",
      "CREATE TABLE \"climate\".\"mescan_surfex_nordics_simple_daily_intensity_index_per_time_period\" (\"rid\" serial PRIMARY KEY,\"rast\" raster);\n"
     ]
    }
   ],
   "source": [
    "cursor = conn.cursor()\n",
    "for f in files:\n",
    "    for v in variables[f]:\n",
    "        g = \"%s.tiff\" % v\n",
    "        table = \"mescan_surfex_nordics_%s\" % g[0:-5]\n",
    "        print(g)\n",
    "        print(table)\n",
    "        sql = f'DROP TABLE IF EXISTS \"climate\".\"{table}\"'\n",
    "        print(sql)\n",
    "        cursor.execute(sql)\n",
    "        \n",
    "        output = check_output([\"raster2pgsql\", \"-I\", \"%s%s\" % (path, g), \"climate.%s\" % table]).decode(sys.stdout.encoding)\n",
    "        statements = output.split('\\n')\n",
    "    \n",
    "        # skip BEGIN and COMMIT statements\n",
    "        for i in range(1, 4):\n",
    "            if i == 1:\n",
    "                print(statements[i])\n",
    "            \n",
    "            cursor.execute(statements[i])\n",
    "        conn.commit()\n",
    "        \n",
    "        # Save to SQL file\n",
    "        with open('%s%s.sql' % (path, table), 'w') as sql:\n",
    "            sql.write(output)"
   ]
  },
  {
   "cell_type": "code",
   "execution_count": 1,
   "metadata": {},
   "outputs": [
    {
     "name": "stdout",
     "output_type": "stream",
     "text": [
      "/data-uerra/mescan-surfex/precipitation/mescan_surfex_nordics_consecutive_dry_days_index_per_time_period.sql\r\n",
      "/data-uerra/mescan-surfex/precipitation/mescan_surfex_nordics_consecutive_wet_days_index_per_time_period.sql\r\n",
      "/data-uerra/mescan-surfex/precipitation/mescan_surfex_nordics_heavy_precipitation_days_index_per_time_period.sql\r\n",
      "/data-uerra/mescan-surfex/precipitation/mescan_surfex_nordics_highest_five_day_precipitation_amount_per_time_period.sql\r\n",
      "/data-uerra/mescan-surfex/precipitation/mescan_surfex_nordics_highest_one_day_precipitation_amount_per_time_period.sql\r\n",
      "/data-uerra/mescan-surfex/precipitation/mescan_surfex_nordics_number_of_5day_heavy_precipitation_periods_per_time_period.sql\r\n",
      "/data-uerra/mescan-surfex/precipitation/mescan_surfex_nordics_number_of_cdd_periods_with_more_than_5days_per_time_period.sql\r\n",
      "/data-uerra/mescan-surfex/precipitation/mescan_surfex_nordics_number_of_cwd_periods_with_more_than_5days_per_time_period.sql\r\n",
      "/data-uerra/mescan-surfex/precipitation/mescan_surfex_nordics_precipitation_days_index_per_time_period.sql\r\n",
      "/data-uerra/mescan-surfex/precipitation/mescan_surfex_nordics_simple_daily_intensity_index_per_time_period.sql\r\n",
      "/data-uerra/mescan-surfex/precipitation/mescan_surfex_nordics_tp.sql\r\n",
      "/data-uerra/mescan-surfex/precipitation/mescan_surfex_nordics_very_heavy_precipitation_days_index_per_time_period.sql\r\n",
      "/data-uerra/mescan-surfex/precipitation/mescan_surfex_nordics_wet_days_index_per_time_period.sql\r\n"
     ]
    }
   ],
   "source": [
    "!ls /data-uerra/mescan-surfex/precipitation/*.sql"
   ]
  },
  {
   "cell_type": "code",
   "execution_count": null,
   "metadata": {},
   "outputs": [],
   "source": []
  }
 ],
 "metadata": {
  "kernelspec": {
   "display_name": "Python 3",
   "language": "python",
   "name": "python3"
  },
  "language_info": {
   "codemirror_mode": {
    "name": "ipython",
    "version": 3
   },
   "file_extension": ".py",
   "mimetype": "text/x-python",
   "name": "python",
   "nbconvert_exporter": "python",
   "pygments_lexer": "ipython3",
   "version": "3.6.7"
  }
 },
 "nbformat": 4,
 "nbformat_minor": 2
}
