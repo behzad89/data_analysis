{
 "cells": [
  {
   "cell_type": "code",
   "execution_count": 2,
   "metadata": {},
   "outputs": [
    {
     "name": "stdout",
     "output_type": "stream",
     "text": [
      "Processing year: 2000\n",
      "cdo remapbil: Started child process \"shifttime,3hour data-temp/mescan-surfex-precipitation-2000.grib (pipe1.1)\".\n",
      "cdo remapbil: SCRIP bilinear weights from curvilinear (1069x1069) to lonlat (329x364) grid\n",
      "cdo remapbil:                        1 1 1 1 1 1 1 1 1 1 2 2 2 2 2 2 2 2 2 2 3 3 3 3 3 3 3 3 3 3 4 4 4 4 4 4 4 4 4 4 5 5 5 5 5 5 5 5 5 5 6 6 6 6 6 6 6 6 6 6 7 7 7 7 7 7 7 7 7 7 8 8 8 8 8 8 8 8 8 8 9 9 9 9 9 9 9 9 9 910cdo(2) shifttime: Processed 418250526 values from 1 variable over 366 timesteps [8.92s]\n",
      "cdo remapbil: Processed 418250526 values from 1 variable over 366 timesteps [8.92s 248MB]\n",
      "Processing year: 2001\n",
      "cdo remapbil: Started child process \"shifttime,3hour data-temp/mescan-surfex-precipitation-2001.grib (pipe1.1)\".\n",
      "cdo remapbil: SCRIP bilinear weights from curvilinear (1069x1069) to lonlat (329x364) grid\n",
      "cdo remapbil:                        1 1 1 1 1 1 1 1 1 1 2 2 2 2 2 2 2 2 2 2 3 3 3 3 3 3 3 3 3 3 4 4 4 4 4 4 4 4 4 4 5 5 5 5 5 5 5 5 5 5 6 6 6 6 6 6 6 6 6 6 7 7 7 7 7 7 7 7 7 7 8 8 8 8 8 8 8 8 8 8 9 9 9 9 9 9 9 9 9 910cdo(2) shifttime: Processed 417107765 values from 1 variable over 365 timesteps [8.87s]\n",
      "cdo remapbil: Processed 417107765 values from 1 variable over 365 timesteps [8.87s 251MB]\n",
      "Processing year: 2002\n",
      "cdo remapbil: Started child process \"shifttime,3hour data-temp/mescan-surfex-precipitation-2002.grib (pipe1.1)\".\n",
      "cdo remapbil: SCRIP bilinear weights from curvilinear (1069x1069) to lonlat (329x364) grid\n",
      "cdo remapbil:                        1 1 1 1 1 1 1 1 1 1 2 2 2 2 2 2 2 2 2 2 3 3 3 3 3 3 3 3 3 3 4 4 4 4 4 4 4 4 4 4 5 5 5 5 5 5 5 5 5 5 6 6 6 6 6 6 6 6 6 6 7 7 7 7 7 7 7 7 7 7 8 8 8 8 8 8 8 8 8 8 9 9 9 9 9 9 9 9 9 910cdo(2) shifttime: Processed 417107765 values from 1 variable over 365 timesteps [8.88s]\n",
      "cdo remapbil: Processed 417107765 values from 1 variable over 365 timesteps [8.88s 248MB]\n",
      "Processing year: 2003\n",
      "cdo remapbil: Started child process \"shifttime,3hour data-temp/mescan-surfex-precipitation-2003.grib (pipe1.1)\".\n",
      "cdo remapbil: SCRIP bilinear weights from curvilinear (1069x1069) to lonlat (329x364) grid\n",
      "cdo remapbil:                        1 1 1 1 1 1 1 1 1 1 2 2 2 2 2 2 2 2 2 2 3 3 3 3 3 3 3 3 3 3 4 4 4 4 4 4 4 4 4 4 5 5 5 5 5 5 5 5 5 5 6 6 6 6 6 6 6 6 6 6 7 7 7 7 7 7 7 7 7 7 8 8 8 8 8 8 8 8 8 8 9 9 9 9 9 9 9 9 9 910cdo(2) shifttime: Processed 417107765 values from 1 variable over 365 timesteps [8.92s]\n",
      "cdo remapbil: Processed 417107765 values from 1 variable over 365 timesteps [8.92s 246MB]\n",
      "Processing year: 2004\n",
      "cdo remapbil: Started child process \"shifttime,3hour data-temp/mescan-surfex-precipitation-2004.grib (pipe1.1)\".\n",
      "cdo remapbil: SCRIP bilinear weights from curvilinear (1069x1069) to lonlat (329x364) grid\n",
      "cdo remapbil:                        1 1 1 1 1 1 1 1 1 1 2 2 2 2 2 2 2 2 2 2 3 3 3 3 3 3 3 3 3 3 4 4 4 4 4 4 4 4 4 4 5 5 5 5 5 5 5 5 5 5 6 6 6 6 6 6 6 6 6 6 7 7 7 7 7 7 7 7 7 7 8 8 8 8 8 8 8 8 8 8 9 9 9 9 9 9 9 9 9 910cdo(2) shifttime: Processed 418250526 values from 1 variable over 366 timesteps [8.78s]\n",
      "cdo remapbil: Processed 418250526 values from 1 variable over 366 timesteps [8.78s 247MB]\n",
      "Processing year: 2005\n",
      "cdo remapbil: Started child process \"shifttime,3hour data-temp/mescan-surfex-precipitation-2005.grib (pipe1.1)\".\n",
      "cdo remapbil: SCRIP bilinear weights from curvilinear (1069x1069) to lonlat (329x364) grid\n",
      "cdo remapbil:                        1 1 1 1 1 1 1 1 1 1 2 2 2 2 2 2 2 2 2 2 3 3 3 3 3 3 3 3 3 3 4 4 4 4 4 4 4 4 4 4 5 5 5 5 5 5 5 5 5 5 6 6 6 6 6 6 6 6 6 6 7 7 7 7 7 7 7 7 7 7 8 8 8 8 8 8 8 8 8 8 9 9 9 9 9 9 9 9 9 910cdo(2) shifttime: Processed 417107765 values from 1 variable over 365 timesteps [8.88s]\n",
      "cdo remapbil: Processed 417107765 values from 1 variable over 365 timesteps [8.88s 247MB]\n",
      "Processing year: 2006\n",
      "cdo remapbil: Started child process \"shifttime,3hour data-temp/mescan-surfex-precipitation-2006.grib (pipe1.1)\".\n",
      "cdo remapbil: SCRIP bilinear weights from curvilinear (1069x1069) to lonlat (329x364) grid\n",
      "cdo remapbil:                        1 1 1 1 1 1 1 1 1 1 2 2 2 2 2 2 2 2 2 2 3 3 3 3 3 3 3 3 3 3 4 4 4 4 4 4 4 4 4 4 5 5 5 5 5 5 5 5 5 5 6 6 6 6 6 6 6 6 6 6 7 7 7 7 7 7 7 7 7 7 8 8 8 8 8 8 8 8 8 8 9 9 9 9 9 9 9 9 9 910cdo(2) shifttime: Processed 417107765 values from 1 variable over 365 timesteps [8.97s]\n",
      "cdo remapbil: Processed 417107765 values from 1 variable over 365 timesteps [8.97s 247MB]\n",
      "Processing year: 2007\n",
      "cdo remapbil: Started child process \"shifttime,3hour data-temp/mescan-surfex-precipitation-2007.grib (pipe1.1)\".\n",
      "cdo remapbil: SCRIP bilinear weights from curvilinear (1069x1069) to lonlat (329x364) grid\n",
      "cdo remapbil:                        1 1 1 1 1 1 1 1 1 1 2 2 2 2 2 2 2 2 2 2 3 3 3 3 3 3 3 3 3 3 4 4 4 4 4 4 4 4 4 4 5 5 5 5 5 5 5 5 5 5 6 6 6 6 6 6 6 6 6 6 7 7 7 7 7 7 7 7 7 7 8 8 8 8 8 8 8 8 8 8 9 9 9 9 9 9 9 9 9 910cdo(2) shifttime: Processed 417107765 values from 1 variable over 365 timesteps [8.86s]\n",
      "cdo remapbil: Processed 417107765 values from 1 variable over 365 timesteps [8.86s 246MB]\n",
      "Processing year: 2008\n",
      "cdo remapbil: Started child process \"shifttime,3hour data-temp/mescan-surfex-precipitation-2008.grib (pipe1.1)\".\n",
      "cdo remapbil: SCRIP bilinear weights from curvilinear (1069x1069) to lonlat (329x364) grid\n",
      "cdo remapbil:                        1 1 1 1 1 1 1 1 1 1 2 2 2 2 2 2 2 2 2 2 3 3 3 3 3 3 3 3 3 3 4 4 4 4 4 4 4 4 4 4 5 5 5 5 5 5 5 5 5 5 6 6 6 6 6 6 6 6 6 6 7 7 7 7 7 7 7 7 7 7 8 8 8 8 8 8 8 8 8 8 9 9 9 9 9 9 9 9 9 910cdo(2) shifttime: Processed 418250526 values from 1 variable over 366 timesteps [8.86s]\n",
      "cdo remapbil: Processed 418250526 values from 1 variable over 366 timesteps [8.86s 247MB]\n",
      "Processing year: 2009\n",
      "cdo remapbil: Started child process \"shifttime,3hour data-temp/mescan-surfex-precipitation-2009.grib (pipe1.1)\".\n",
      "cdo remapbil: SCRIP bilinear weights from curvilinear (1069x1069) to lonlat (329x364) grid\n",
      "cdo remapbil:                        1 1 1 1 1 1 1 1 1 1 2 2 2 2 2 2 2 2 2 2 3 3 3 3 3 3 3 3 3 3 4 4 4 4 4 4 4 4 4 4 5 5 5 5 5 5 5 5 5 5 6 6 6 6 6 6 6 6 6 6 7 7 7 7 7 7 7 7 7 7 8 8 8 8 8 8 8 8 8 8 9 9 9 9 9 9 9 9 9 910cdo(2) shifttime: Processed 417107765 values from 1 variable over 365 timesteps [8.94s]\n",
      "cdo remapbil: Processed 417107765 values from 1 variable over 365 timesteps [8.94s 247MB]\n",
      "Processing year: 2010\n",
      "cdo remapbil: Started child process \"shifttime,3hour data-temp/mescan-surfex-precipitation-2010.grib (pipe1.1)\".\n",
      "cdo remapbil: SCRIP bilinear weights from curvilinear (1069x1069) to lonlat (329x364) grid\n",
      "cdo remapbil:                        1 1 1 1 1 1 1 1 1 1 2 2 2 2 2 2 2 2 2 2 3 3 3 3 3 3 3 3 3 3 4 4 4 4 4 4 4 4 4 4 5 5 5 5 5 5 5 5 5 5 6 6 6 6 6 6 6 6 6 6 7 7 7 7 7 7 7 7 7 7 8 8 8 8 8 8 8 8 8 8 9 9 9 9 9 9 9 9 9 910cdo(2) shifttime: Processed 417107765 values from 1 variable over 365 timesteps [9.01s]\n",
      "cdo remapbil: Processed 417107765 values from 1 variable over 365 timesteps [9.01s 247MB]\n",
      "Processing year: 2011\n",
      "cdo remapbil: Started child process \"shifttime,3hour data-temp/mescan-surfex-precipitation-2011.grib (pipe1.1)\".\n",
      "cdo remapbil: SCRIP bilinear weights from curvilinear (1069x1069) to lonlat (329x364) grid\n",
      "cdo remapbil:                        1 1 1 1 1 1 1 1 1 1 2 2 2 2 2 2 2 2 2 2 3 3 3 3 3 3 3 3 3 3 4 4 4 4 4 4 4 4 4 4 5 5 5 5 5 5 5 5 5 5 6 6 6 6 6 6 6 6 6 6 7 7 7 7 7 7 7 7 7 7 8 8 8 8 8 8 8 8 8 8 9 9 9 9 9 9 9 9 9 910cdo(2) shifttime: Processed 417107765 values from 1 variable over 365 timesteps [9.03s]\n",
      "cdo remapbil: Processed 417107765 values from 1 variable over 365 timesteps [9.03s 247MB]\n",
      "Processing year: 2012\n",
      "cdo remapbil: Started child process \"shifttime,3hour data-temp/mescan-surfex-precipitation-2012.grib (pipe1.1)\".\n",
      "cdo remapbil: SCRIP bilinear weights from curvilinear (1069x1069) to lonlat (329x364) grid\n",
      "cdo remapbil:                        1 1 1 1 1 1 1 1 1 1 2 2 2 2 2 2 2 2 2 2 3 3 3 3 3 3 3 3 3 3 4 4 4 4 4 4 4 4 4 4 5 5 5 5 5 5 5 5 5 5 6 6 6 6 6 6 6 6 6 6 7 7 7 7 7 7 7 7 7 7 8 8 8 8 8 8 8 8 8 8 9 9 9 9 9 9 9 9 9 910cdo(2) shifttime: Processed 418250526 values from 1 variable over 366 timesteps [8.83s]\n",
      "cdo remapbil: Processed 418250526 values from 1 variable over 366 timesteps [8.84s 249MB]\n",
      "Processing year: 2013\n",
      "cdo remapbil: Started child process \"shifttime,3hour data-temp/mescan-surfex-precipitation-2013.grib (pipe1.1)\".\n"
     ]
    },
    {
     "name": "stdout",
     "output_type": "stream",
     "text": [
      "cdo remapbil: SCRIP bilinear weights from curvilinear (1069x1069) to lonlat (329x364) grid\n",
      "cdo remapbil:                        1 1 1 1 1 1 1 1 1 1 2 2 2 2 2 2 2 2 2 2 3 3 3 3 3 3 3 3 3 3 4 4 4 4 4 4 4 4 4 4 5 5 5 5 5 5 5 5 5 5 6 6 6 6 6 6 6 6 6 6 7 7 7 7 7 7 7 7 7 7 8 8 8 8 8 8 8 8 8 8 9 9 9 9 9 9 9 9 9 910cdo(2) shifttime: Processed 417107765 values from 1 variable over 365 timesteps [8.83s]\n",
      "cdo remapbil: Processed 417107765 values from 1 variable over 365 timesteps [8.83s 248MB]\n",
      "Processing year: 2014\n",
      "cdo remapbil: Started child process \"shifttime,3hour data-temp/mescan-surfex-precipitation-2014.grib (pipe1.1)\".\n",
      "cdo remapbil: SCRIP bilinear weights from curvilinear (1069x1069) to lonlat (329x364) grid\n",
      "cdo remapbil:                        1 1 1 1 1 1 1 1 1 1 2 2 2 2 2 2 2 2 2 2 3 3 3 3 3 3 3 3 3 3 4 4 4 4 4 4 4 4 4 4 5 5 5 5 5 5 5 5 5 5 6 6 6 6 6 6 6 6 6 6 7 7 7 7 7 7 7 7 7 7 8 8 8 8 8 8 8 8 8 8 9 9 9 9 9 9 9 9 9 910cdo(2) shifttime: Processed 417107765 values from 1 variable over 365 timesteps [9.04s]\n",
      "cdo remapbil: Processed 417107765 values from 1 variable over 365 timesteps [9.04s 247MB]\n"
     ]
    }
   ],
   "source": [
    "for y in range(2000,2015):\n",
    "    print(f'Processing year: {y}')\n",
    "    !cdo -f nc remapbil,outgrid_nordics.txt -shifttime,3hour data-temp/mescan-surfex-precipitation-{y}.grib data-temp/mescan-surfex-nordics-precipitation-{y}.nc"
   ]
  },
  {
   "cell_type": "code",
   "execution_count": 1,
   "metadata": {},
   "outputs": [
    {
     "name": "stdout",
     "output_type": "stream",
     "text": [
      "lost+found\r\n",
      "mescan-surfex-nordics-precipitation-2000.nc\r\n",
      "mescan-surfex-nordics-precipitation-2001.nc\r\n",
      "mescan-surfex-nordics-precipitation-2002.nc\r\n",
      "mescan-surfex-nordics-precipitation-2003.nc\r\n",
      "mescan-surfex-nordics-precipitation-2004.nc\r\n",
      "mescan-surfex-nordics-precipitation-2005.nc\r\n",
      "mescan-surfex-nordics-precipitation-2006.nc\r\n",
      "mescan-surfex-nordics-precipitation-2007.nc\r\n",
      "mescan-surfex-nordics-precipitation-2008.nc\r\n",
      "mescan-surfex-nordics-precipitation-2009.nc\r\n",
      "mescan-surfex-nordics-precipitation-2010.nc\r\n",
      "mescan-surfex-nordics-precipitation-2011.nc\r\n",
      "mescan-surfex-nordics-precipitation-2012.nc\r\n",
      "mescan-surfex-nordics-precipitation-2013.nc\r\n",
      "mescan-surfex-nordics-precipitation-2014.nc\r\n",
      "mescan-surfex-precipitation-2000.grib\r\n",
      "mescan-surfex-precipitation-2001.grib\r\n",
      "mescan-surfex-precipitation-2002.grib\r\n",
      "mescan-surfex-precipitation-2003.grib\r\n",
      "mescan-surfex-precipitation-2004.grib\r\n",
      "mescan-surfex-precipitation-2005.grib\r\n",
      "mescan-surfex-precipitation-2006.grib\r\n",
      "mescan-surfex-precipitation-2007.grib\r\n",
      "mescan-surfex-precipitation-2008.grib\r\n",
      "mescan-surfex-precipitation-2009.grib\r\n",
      "mescan-surfex-precipitation-2010.grib\r\n",
      "mescan-surfex-precipitation-2011.grib\r\n",
      "mescan-surfex-precipitation-2012.grib\r\n",
      "mescan-surfex-precipitation-2013.grib\r\n",
      "mescan-surfex-precipitation-2014.grib\r\n",
      "mescan-surfex-precipitation-2015.grib\r\n"
     ]
    }
   ],
   "source": [
    "!ls ./data-temp/"
   ]
  },
  {
   "cell_type": "code",
   "execution_count": null,
   "metadata": {},
   "outputs": [],
   "source": []
  }
 ],
 "metadata": {
  "kernelspec": {
   "display_name": "Python 3",
   "language": "python",
   "name": "python3"
  },
  "language_info": {
   "codemirror_mode": {
    "name": "ipython",
    "version": 3
   },
   "file_extension": ".py",
   "mimetype": "text/x-python",
   "name": "python",
   "nbconvert_exporter": "python",
   "pygments_lexer": "ipython3",
   "version": "3.6.7"
  }
 },
 "nbformat": 4,
 "nbformat_minor": 2
}
