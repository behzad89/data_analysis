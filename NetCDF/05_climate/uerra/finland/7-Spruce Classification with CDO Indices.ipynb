{
 "cells": [
  {
   "cell_type": "code",
   "execution_count": 24,
   "metadata": {},
   "outputs": [],
   "source": [
    "import xarray as xr\n",
    "import pandas as pd\n",
    "import numpy as np\n",
    "import seaborn as sn\n",
    "import matplotlib.pyplot as plt\n",
    "\n",
    "from glob import glob\n",
    "from sklearn.ensemble import RandomForestClassifier\n",
    "from sklearn.model_selection import train_test_split\n",
    "from sklearn.metrics import accuracy_score, precision_score, recall_score, confusion_matrix\n",
    "from imblearn.over_sampling import SMOTE\n",
    "\n",
    "from tqdm import tqdm"
   ]
  },
  {
   "cell_type": "code",
   "execution_count": 3,
   "metadata": {},
   "outputs": [],
   "source": [
    "ds_cfd = xr.open_dataset(\"/data-uerra/mescan-surfex/temperature/mescan-surfex-nordics-eca_cfd.nc\")\n",
    "ds_fd = xr.open_dataset(\"/data-uerra/mescan-surfex/temperature/mescan-surfex-nordics-eca_fd.nc\")\n",
    "ds_csu = xr.open_dataset(\"/data-uerra/mescan-surfex/temperature/mescan-surfex-nordics-eca_csu.nc\")\n",
    "ds_id = xr.open_dataset(\"/data-uerra/mescan-surfex/temperature/mescan-surfex-nordics-eca_id.nc\")\n",
    "ds_su = xr.open_dataset(\"/data-uerra/mescan-surfex/temperature/mescan-surfex-nordics-eca_su.nc\")\n",
    "\n",
    "ds_cdd = xr.open_dataset(\"/data-uerra/mescan-surfex/precipitation/mescan-surfex-nordics-eca_cdd.nc\")\n",
    "ds_cwd = xr.open_dataset(\"/data-uerra/mescan-surfex/precipitation/mescan-surfex-nordics-eca_cwd.nc\")\n",
    "ds_pd = xr.open_dataset(\"/data-uerra/mescan-surfex/precipitation/mescan-surfex-nordics-eca_pd.nc\")\n",
    "ds_rr1 = xr.open_dataset(\"/data-uerra/mescan-surfex/precipitation/mescan-surfex-nordics-eca_rr1.nc\")\n",
    "ds_rx1day = xr.open_dataset(\"/data-uerra/mescan-surfex/precipitation/mescan-surfex-nordics-eca_rx1day.nc\")\n",
    "ds_rx5day = xr.open_dataset(\"/data-uerra/mescan-surfex/precipitation/mescan-surfex-nordics-eca_rx5day.nc\")\n",
    "ds_sdii = xr.open_dataset(\"/data-uerra/mescan-surfex/precipitation/mescan-surfex-nordics-eca_sdii.nc\")"
   ]
  },
  {
   "cell_type": "code",
   "execution_count": 4,
   "metadata": {},
   "outputs": [],
   "source": [
    "lons, lats = np.meshgrid(ds_cfd.lon, ds_cfd.lat)"
   ]
  },
  {
   "cell_type": "code",
   "execution_count": 5,
   "metadata": {},
   "outputs": [],
   "source": [
    "ds_spruce = xr.open_dataset('../../data/finland/mescan_surfex_spruce_ratio_finland.nc')"
   ]
  },
  {
   "cell_type": "code",
   "execution_count": 6,
   "metadata": {},
   "outputs": [
    {
     "data": {
      "text/plain": [
       "<matplotlib.collections.QuadMesh at 0x7fe07a8913c8>"
      ]
     },
     "execution_count": 6,
     "metadata": {},
     "output_type": "execute_result"
    },
    {
     "data": {
      "image/png": "[encoded data removed]",
      "text/plain": [
       "<Figure size 432x288 with 2 Axes>"
      ]
     },
     "metadata": {
      "needs_background": "light"
     },
     "output_type": "display_data"
    }
   ],
   "source": [
    "ds_spruce.spruce_ratio.plot()"
   ]
  },
  {
   "cell_type": "code",
   "execution_count": 7,
   "metadata": {},
   "outputs": [],
   "source": [
    "data = {\n",
    "    'ratio': ds_spruce.spruce_ratio.values.ravel()\n",
    "}"
   ]
  },
  {
   "cell_type": "code",
   "execution_count": 8,
   "metadata": {},
   "outputs": [],
   "source": [
    "data[\"cfd\"] = ds_cfd.number_of_cfd_periods_with_more_than_5days_per_time_period.values.ravel()\n",
    "data[\"fd\"] = ds_fd.frost_days_index_per_time_period.values.ravel()\n",
    "data[\"csu\"] = ds_csu.number_of_csu_periods_with_more_than_5days_per_time_period.values.ravel()\n",
    "data[\"id\"] = ds_id.ice_days_index_per_time_period.values.ravel()\n",
    "data[\"su\"] = ds_su.summer_days_index_per_time_period.values.ravel()"
   ]
  },
  {
   "cell_type": "code",
   "execution_count": 9,
   "metadata": {},
   "outputs": [],
   "source": [
    "data[\"cdd\"] = ds_cdd.number_of_cdd_periods_with_more_than_5days_per_time_period.values.ravel()\n",
    "data[\"cwd\"] = ds_cwd.number_of_cwd_periods_with_more_than_5days_per_time_period.values.ravel()\n",
    "data[\"pd\"] = ds_pd.precipitation_days_index_per_time_period.values.ravel()\n",
    "data[\"rr1\"] = ds_rr1.wet_days_index_per_time_period.values.ravel()\n",
    "data[\"rx1day\"] = ds_rx1day.highest_one_day_precipitation_amount_per_time_period.values.ravel()\n",
    "data[\"rx5day\"] = ds_rx5day.highest_five_day_precipitation_amount_per_time_period.values.ravel()\n",
    "data[\"sdii\"] = ds_sdii.simple_daily_intensity_index_per_time_period.values.ravel()"
   ]
  },
  {
   "cell_type": "code",
   "execution_count": 10,
   "metadata": {},
   "outputs": [],
   "source": [
    "df = pd.DataFrame(data)"
   ]
  },
  {
   "cell_type": "code",
   "execution_count": 11,
   "metadata": {},
   "outputs": [],
   "source": [
    "df.dropna(inplace=True)"
   ]
  },
  {
   "cell_type": "code",
   "execution_count": 12,
   "metadata": {},
   "outputs": [],
   "source": [
    "df['predominant'] = np.where(df['ratio'] > 0.5, 1, 0)"
   ]
  },
  {
   "cell_type": "code",
   "execution_count": 13,
   "metadata": {},
   "outputs": [
    {
     "data": {
      "text/html": [
       "<div>\n",
       "<style scoped>\n",
       "    .dataframe tbody tr th:only-of-type {\n",
       "        vertical-align: middle;\n",
       "    }\n",
       "\n",
       "    .dataframe tbody tr th {\n",
       "        vertical-align: top;\n",
       "    }\n",
       "\n",
       "    .dataframe thead th {\n",
       "        text-align: right;\n",
       "    }\n",
       "</style>\n",
       "<table border=\"1\" class=\"dataframe\">\n",
       "  <thead>\n",
       "    <tr style=\"text-align: right;\">\n",
       "      <th></th>\n",
       "      <th>ratio</th>\n",
       "      <th>cfd</th>\n",
       "      <th>fd</th>\n",
       "      <th>csu</th>\n",
       "      <th>id</th>\n",
       "      <th>su</th>\n",
       "      <th>cdd</th>\n",
       "      <th>cwd</th>\n",
       "      <th>pd</th>\n",
       "      <th>rr1</th>\n",
       "      <th>rx1day</th>\n",
       "      <th>rx5day</th>\n",
       "      <th>sdii</th>\n",
       "      <th>predominant</th>\n",
       "    </tr>\n",
       "  </thead>\n",
       "  <tbody>\n",
       "    <tr>\n",
       "      <th>0</th>\n",
       "      <td>0.0</td>\n",
       "      <td>3.0</td>\n",
       "      <td>72.0</td>\n",
       "      <td>0.0</td>\n",
       "      <td>21.0</td>\n",
       "      <td>0.0</td>\n",
       "      <td>171.0</td>\n",
       "      <td>56.0</td>\n",
       "      <td>2147.0</td>\n",
       "      <td>2147.0</td>\n",
       "      <td>46.463284</td>\n",
       "      <td>46.463284</td>\n",
       "      <td>5.506374</td>\n",
       "      <td>0</td>\n",
       "    </tr>\n",
       "    <tr>\n",
       "      <th>1</th>\n",
       "      <td>0.0</td>\n",
       "      <td>3.0</td>\n",
       "      <td>80.0</td>\n",
       "      <td>0.0</td>\n",
       "      <td>23.0</td>\n",
       "      <td>0.0</td>\n",
       "      <td>172.0</td>\n",
       "      <td>53.0</td>\n",
       "      <td>2137.0</td>\n",
       "      <td>2137.0</td>\n",
       "      <td>45.531666</td>\n",
       "      <td>45.531666</td>\n",
       "      <td>5.599585</td>\n",
       "      <td>0</td>\n",
       "    </tr>\n",
       "    <tr>\n",
       "      <th>2</th>\n",
       "      <td>0.0</td>\n",
       "      <td>3.0</td>\n",
       "      <td>90.0</td>\n",
       "      <td>0.0</td>\n",
       "      <td>28.0</td>\n",
       "      <td>0.0</td>\n",
       "      <td>171.0</td>\n",
       "      <td>51.0</td>\n",
       "      <td>2131.0</td>\n",
       "      <td>2131.0</td>\n",
       "      <td>51.473633</td>\n",
       "      <td>51.473633</td>\n",
       "      <td>5.635111</td>\n",
       "      <td>0</td>\n",
       "    </tr>\n",
       "    <tr>\n",
       "      <th>3</th>\n",
       "      <td>0.0</td>\n",
       "      <td>3.0</td>\n",
       "      <td>96.0</td>\n",
       "      <td>0.0</td>\n",
       "      <td>31.0</td>\n",
       "      <td>0.0</td>\n",
       "      <td>172.0</td>\n",
       "      <td>55.0</td>\n",
       "      <td>2142.0</td>\n",
       "      <td>2142.0</td>\n",
       "      <td>57.756439</td>\n",
       "      <td>57.756439</td>\n",
       "      <td>5.662997</td>\n",
       "      <td>0</td>\n",
       "    </tr>\n",
       "    <tr>\n",
       "      <th>4</th>\n",
       "      <td>0.0</td>\n",
       "      <td>3.0</td>\n",
       "      <td>100.0</td>\n",
       "      <td>0.0</td>\n",
       "      <td>34.0</td>\n",
       "      <td>0.0</td>\n",
       "      <td>169.0</td>\n",
       "      <td>57.0</td>\n",
       "      <td>2161.0</td>\n",
       "      <td>2161.0</td>\n",
       "      <td>63.826298</td>\n",
       "      <td>63.826298</td>\n",
       "      <td>5.695758</td>\n",
       "      <td>0</td>\n",
       "    </tr>\n",
       "  </tbody>\n",
       "</table>\n",
       "</div>"
      ],
      "text/plain": [
       "   ratio  cfd     fd  csu    id   su    cdd   cwd      pd     rr1     rx1day  \\\n",
       "0    0.0  3.0   72.0  0.0  21.0  0.0  171.0  56.0  2147.0  2147.0  46.463284   \n",
       "1    0.0  3.0   80.0  0.0  23.0  0.0  172.0  53.0  2137.0  2137.0  45.531666   \n",
       "2    0.0  3.0   90.0  0.0  28.0  0.0  171.0  51.0  2131.0  2131.0  51.473633   \n",
       "3    0.0  3.0   96.0  0.0  31.0  0.0  172.0  55.0  2142.0  2142.0  57.756439   \n",
       "4    0.0  3.0  100.0  0.0  34.0  0.0  169.0  57.0  2161.0  2161.0  63.826298   \n",
       "\n",
       "      rx5day      sdii  predominant  \n",
       "0  46.463284  5.506374            0  \n",
       "1  45.531666  5.599585            0  \n",
       "2  51.473633  5.635111            0  \n",
       "3  57.756439  5.662997            0  \n",
       "4  63.826298  5.695758            0  "
      ]
     },
     "execution_count": 13,
     "metadata": {},
     "output_type": "execute_result"
    }
   ],
   "source": [
    "df.head()"
   ]
  },
  {
   "cell_type": "code",
   "execution_count": 14,
   "metadata": {},
   "outputs": [
    {
     "data": {
      "text/plain": [
       "Index(['cfd', 'fd', 'csu', 'id', 'su', 'cdd', 'cwd', 'pd', 'rr1', 'rx1day',\n",
       "       'rx5day', 'sdii'],\n",
       "      dtype='object')"
      ]
     },
     "execution_count": 14,
     "metadata": {},
     "output_type": "execute_result"
    }
   ],
   "source": [
    "df.columns[1:-1]"
   ]
  },
  {
   "cell_type": "code",
   "execution_count": 15,
   "metadata": {},
   "outputs": [],
   "source": [
    "X = df[df.columns[1:-1]]"
   ]
  },
  {
   "cell_type": "code",
   "execution_count": 16,
   "metadata": {},
   "outputs": [],
   "source": [
    "y = df['predominant']"
   ]
  },
  {
   "cell_type": "code",
   "execution_count": 17,
   "metadata": {},
   "outputs": [],
   "source": [
    "X_resampled, y_resampled = SMOTE().fit_resample(X, y)"
   ]
  },
  {
   "cell_type": "code",
   "execution_count": 18,
   "metadata": {},
   "outputs": [],
   "source": [
    "X_train, X_test, y_train, y_test = train_test_split(X_resampled, y_resampled)"
   ]
  },
  {
   "cell_type": "code",
   "execution_count": 19,
   "metadata": {},
   "outputs": [],
   "source": [
    "rf = RandomForestClassifier(n_estimators=500, max_depth=15)"
   ]
  },
  {
   "cell_type": "code",
   "execution_count": 20,
   "metadata": {},
   "outputs": [
    {
     "data": {
      "text/plain": [
       "RandomForestClassifier(bootstrap=True, class_weight=None, criterion='gini',\n",
       "                       max_depth=15, max_features='auto', max_leaf_nodes=None,\n",
       "                       min_impurity_decrease=0.0, min_impurity_split=None,\n",
       "                       min_samples_leaf=1, min_samples_split=2,\n",
       "                       min_weight_fraction_leaf=0.0, n_estimators=500,\n",
       "                       n_jobs=None, oob_score=False, random_state=None,\n",
       "                       verbose=0, warm_start=False)"
      ]
     },
     "execution_count": 20,
     "metadata": {},
     "output_type": "execute_result"
    }
   ],
   "source": [
    "rf.fit(X_train, y_train)"
   ]
  },
  {
   "cell_type": "code",
   "execution_count": 21,
   "metadata": {},
   "outputs": [],
   "source": [
    "y_pred = rf.predict(X_test)"
   ]
  },
  {
   "cell_type": "code",
   "execution_count": 22,
   "metadata": {},
   "outputs": [
    {
     "data": {
      "text/plain": [
       "0.9358220163965204"
      ]
     },
     "execution_count": 22,
     "metadata": {},
     "output_type": "execute_result"
    }
   ],
   "source": [
    "precision_score(y_test, y_pred)"
   ]
  },
  {
   "cell_type": "code",
   "execution_count": 23,
   "metadata": {},
   "outputs": [
    {
     "data": {
      "text/plain": [
       "0.9655703664009646"
      ]
     },
     "execution_count": 23,
     "metadata": {},
     "output_type": "execute_result"
    }
   ],
   "source": [
    "accuracy_score(y_test, y_pred)"
   ]
  },
  {
   "cell_type": "code",
   "execution_count": 25,
   "metadata": {},
   "outputs": [
    {
     "data": {
      "text/plain": [
       "0.9998328430061514"
      ]
     },
     "execution_count": 25,
     "metadata": {},
     "output_type": "execute_result"
    }
   ],
   "source": [
    "recall_score(y_test, y_pred)"
   ]
  },
  {
   "cell_type": "code",
   "execution_count": 26,
   "metadata": {},
   "outputs": [
    {
     "data": {
      "text/plain": [
       "array([[27753,  2051],\n",
       "       [    5, 29907]])"
      ]
     },
     "execution_count": 26,
     "metadata": {},
     "output_type": "execute_result"
    }
   ],
   "source": [
    "cm = confusion_matrix(y_test, y_pred)\n",
    "cm"
   ]
  },
  {
   "cell_type": "code",
   "execution_count": 27,
   "metadata": {},
   "outputs": [
    {
     "data": {
      "text/plain": [
       "<matplotlib.axes._subplots.AxesSubplot at 0x7fe0776e2908>"
      ]
     },
     "execution_count": 27,
     "metadata": {},
     "output_type": "execute_result"
    },
    {
     "data": {
      "image/png": "[encoded data removed]",
      "text/plain": [
       "<Figure size 432x288 with 2 Axes>"
      ]
     },
     "metadata": {
      "needs_background": "light"
     },
     "output_type": "display_data"
    }
   ],
   "source": [
    "sn.heatmap(cm, annot=True)"
   ]
  },
  {
   "cell_type": "code",
   "execution_count": 28,
   "metadata": {},
   "outputs": [
    {
     "data": {
      "image/png": "[encoded data removed]",
      "text/plain": [
       "<Figure size 864x576 with 1 Axes>"
      ]
     },
     "metadata": {
      "needs_background": "light"
     },
     "output_type": "display_data"
    }
   ],
   "source": [
    "features = [c for c in X.columns]\n",
    "importances = rf.feature_importances_\n",
    "indices = np.argsort(importances)\n",
    "\n",
    "plt.figure(figsize=(12,8))\n",
    "plt.title('RF Spruce Classifier - Feature Importances')\n",
    "plt.barh(range(len(indices)), importances[indices], color='b', align='center')\n",
    "plt.yticks(range(len(indices)), [features[i] for i in indices])\n",
    "plt.xlabel('Relative Importance')\n",
    "plt.show()"
   ]
  },
  {
   "cell_type": "code",
   "execution_count": null,
   "metadata": {},
   "outputs": [],
   "source": []
  }
 ],
 "metadata": {
  "kernelspec": {
   "display_name": "Python 3",
   "language": "python",
   "name": "python3"
  },
  "language_info": {
   "codemirror_mode": {
    "name": "ipython",
    "version": 3
   },
   "file_extension": ".py",
   "mimetype": "text/x-python",
   "name": "python",
   "nbconvert_exporter": "python",
   "pygments_lexer": "ipython3",
   "version": "3.6.7"
  }
 },
 "nbformat": 4,
 "nbformat_minor": 2
}
