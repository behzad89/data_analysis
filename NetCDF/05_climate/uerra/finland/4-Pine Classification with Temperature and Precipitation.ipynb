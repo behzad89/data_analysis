{
 "cells": [
  {
   "cell_type": "code",
   "execution_count": 48,
   "metadata": {},
   "outputs": [],
   "source": [
    "import xarray as xr\n",
    "import pandas as pd\n",
    "import numpy as np\n",
    "#import seaborn as sns\n",
    "import matplotlib.pyplot as plt\n",
    "import seaborn as sn\n",
    "\n",
    "from glob import glob\n",
    "from sklearn.ensemble import RandomForestClassifier\n",
    "from sklearn.model_selection import train_test_split\n",
    "from sklearn.metrics import accuracy_score, precision_score, recall_score, confusion_matrix\n",
    "from imblearn.over_sampling import SMOTE\n",
    "\n",
    "from tqdm import tqdm"
   ]
  },
  {
   "cell_type": "code",
   "execution_count": 49,
   "metadata": {},
   "outputs": [],
   "source": [
    "ds_p = xr.open_dataset(\"/data-uerra/mescan-surfex/precipitation/mescan-surfex-nordics-precipitation_ymon.nc\")"
   ]
  },
  {
   "cell_type": "code",
   "execution_count": 50,
   "metadata": {},
   "outputs": [],
   "source": [
    "ds_t_avg = xr.open_dataset(\"/data-uerra/mescan-surfex/temperature/mescan-surfex-nordics-temperature-ymon.nc\")"
   ]
  },
  {
   "cell_type": "code",
   "execution_count": 51,
   "metadata": {},
   "outputs": [],
   "source": [
    "ds_t_std = xr.open_dataset(\"/data-uerra/mescan-surfex/temperature/mescan-surfex-nordics-t2m_ymonstd.nc\")"
   ]
  },
  {
   "cell_type": "code",
   "execution_count": 52,
   "metadata": {},
   "outputs": [],
   "source": [
    "lons, lats = np.meshgrid(ds_p.lon, ds_p.lat)"
   ]
  },
  {
   "cell_type": "code",
   "execution_count": 53,
   "metadata": {},
   "outputs": [],
   "source": [
    "ds_pine = xr.open_dataset('../../data/finland/mescan_surfex_pine_ratio_finland.nc')"
   ]
  },
  {
   "cell_type": "code",
   "execution_count": 54,
   "metadata": {},
   "outputs": [
    {
     "data": {
      "text/plain": [
       "<matplotlib.collections.QuadMesh at 0x7fc31b27c2b0>"
      ]
     },
     "execution_count": 54,
     "metadata": {},
     "output_type": "execute_result"
    },
    {
     "data": {
      "image/png": "[encoded data removed]",
      "text/plain": [
       "<Figure size 432x288 with 2 Axes>"
      ]
     },
     "metadata": {
      "needs_background": "light"
     },
     "output_type": "display_data"
    }
   ],
   "source": [
    "ds_pine.pine_ratio.plot()"
   ]
  },
  {
   "cell_type": "code",
   "execution_count": 55,
   "metadata": {},
   "outputs": [],
   "source": [
    "data = {\n",
    "    'ratio': ds_pine.pine_ratio.values.ravel()\n",
    "}"
   ]
  },
  {
   "cell_type": "code",
   "execution_count": 56,
   "metadata": {},
   "outputs": [],
   "source": [
    "for m in range(0, 12):\n",
    "    data[\"p%02d\" % (m + 1)] = ds_p.tp[m,:,:].values.ravel()\n",
    "    data[\"tavg%02d\" % (m + 1)] = ds_t_avg['2t'][m,:,:].values.ravel()\n",
    "    data[\"tstd%02d\" % (m + 1)] = ds_t_std['2t'][m,:,:].values.ravel()"
   ]
  },
  {
   "cell_type": "code",
   "execution_count": 57,
   "metadata": {},
   "outputs": [],
   "source": [
    "df = pd.DataFrame(data)"
   ]
  },
  {
   "cell_type": "code",
   "execution_count": 58,
   "metadata": {},
   "outputs": [],
   "source": [
    "df.dropna(inplace=True)"
   ]
  },
  {
   "cell_type": "code",
   "execution_count": 59,
   "metadata": {},
   "outputs": [],
   "source": [
    "df['predominant'] = np.where(df['ratio'] > 0.5, 1, 0)"
   ]
  },
  {
   "cell_type": "code",
   "execution_count": 60,
   "metadata": {},
   "outputs": [
    {
     "data": {
      "text/html": [
       "<div>\n",
       "<style scoped>\n",
       "    .dataframe tbody tr th:only-of-type {\n",
       "        vertical-align: middle;\n",
       "    }\n",
       "\n",
       "    .dataframe tbody tr th {\n",
       "        vertical-align: top;\n",
       "    }\n",
       "\n",
       "    .dataframe thead th {\n",
       "        text-align: right;\n",
       "    }\n",
       "</style>\n",
       "<table border=\"1\" class=\"dataframe\">\n",
       "  <thead>\n",
       "    <tr style=\"text-align: right;\">\n",
       "      <th></th>\n",
       "      <th>ratio</th>\n",
       "      <th>p01</th>\n",
       "      <th>tavg01</th>\n",
       "      <th>tstd01</th>\n",
       "      <th>p02</th>\n",
       "      <th>tavg02</th>\n",
       "      <th>tstd02</th>\n",
       "      <th>p03</th>\n",
       "      <th>tavg03</th>\n",
       "      <th>tstd03</th>\n",
       "      <th>...</th>\n",
       "      <th>p10</th>\n",
       "      <th>tavg10</th>\n",
       "      <th>tstd10</th>\n",
       "      <th>p11</th>\n",
       "      <th>tavg11</th>\n",
       "      <th>tstd11</th>\n",
       "      <th>p12</th>\n",
       "      <th>tavg12</th>\n",
       "      <th>tstd12</th>\n",
       "      <th>predominant</th>\n",
       "    </tr>\n",
       "  </thead>\n",
       "  <tbody>\n",
       "    <tr>\n",
       "      <th>0</th>\n",
       "      <td>0.0</td>\n",
       "      <td>1028.032227</td>\n",
       "      <td>5.608397</td>\n",
       "      <td>7.007261</td>\n",
       "      <td>917.894836</td>\n",
       "      <td>5.002995</td>\n",
       "      <td>7.260077</td>\n",
       "      <td>650.246582</td>\n",
       "      <td>5.655244</td>\n",
       "      <td>6.870195</td>\n",
       "      <td>...</td>\n",
       "      <td>1568.007690</td>\n",
       "      <td>13.477379</td>\n",
       "      <td>6.853115</td>\n",
       "      <td>1500.251465</td>\n",
       "      <td>10.144375</td>\n",
       "      <td>6.999880</td>\n",
       "      <td>1369.432983</td>\n",
       "      <td>6.964911</td>\n",
       "      <td>7.071146</td>\n",
       "      <td>0</td>\n",
       "    </tr>\n",
       "    <tr>\n",
       "      <th>1</th>\n",
       "      <td>0.0</td>\n",
       "      <td>1030.239990</td>\n",
       "      <td>5.552064</td>\n",
       "      <td>7.020378</td>\n",
       "      <td>918.201050</td>\n",
       "      <td>4.964746</td>\n",
       "      <td>7.266491</td>\n",
       "      <td>655.511414</td>\n",
       "      <td>5.644968</td>\n",
       "      <td>6.875551</td>\n",
       "      <td>...</td>\n",
       "      <td>1570.813110</td>\n",
       "      <td>13.457698</td>\n",
       "      <td>6.857547</td>\n",
       "      <td>1527.257690</td>\n",
       "      <td>10.099838</td>\n",
       "      <td>7.006363</td>\n",
       "      <td>1403.411987</td>\n",
       "      <td>6.912345</td>\n",
       "      <td>7.084951</td>\n",
       "      <td>0</td>\n",
       "    </tr>\n",
       "    <tr>\n",
       "      <th>2</th>\n",
       "      <td>0.0</td>\n",
       "      <td>1016.340820</td>\n",
       "      <td>5.489423</td>\n",
       "      <td>7.035015</td>\n",
       "      <td>906.867371</td>\n",
       "      <td>4.926759</td>\n",
       "      <td>7.274645</td>\n",
       "      <td>654.641479</td>\n",
       "      <td>5.643862</td>\n",
       "      <td>6.882475</td>\n",
       "      <td>...</td>\n",
       "      <td>1567.075073</td>\n",
       "      <td>13.434568</td>\n",
       "      <td>6.862309</td>\n",
       "      <td>1534.351562</td>\n",
       "      <td>10.043708</td>\n",
       "      <td>7.013369</td>\n",
       "      <td>1418.747681</td>\n",
       "      <td>6.846510</td>\n",
       "      <td>7.099665</td>\n",
       "      <td>0</td>\n",
       "    </tr>\n",
       "    <tr>\n",
       "      <th>3</th>\n",
       "      <td>0.0</td>\n",
       "      <td>1007.638123</td>\n",
       "      <td>5.422871</td>\n",
       "      <td>7.050332</td>\n",
       "      <td>899.044739</td>\n",
       "      <td>4.887269</td>\n",
       "      <td>7.282977</td>\n",
       "      <td>658.758667</td>\n",
       "      <td>5.644159</td>\n",
       "      <td>6.890760</td>\n",
       "      <td>...</td>\n",
       "      <td>1578.622925</td>\n",
       "      <td>13.406312</td>\n",
       "      <td>6.867037</td>\n",
       "      <td>1547.973633</td>\n",
       "      <td>9.977019</td>\n",
       "      <td>7.020970</td>\n",
       "      <td>1435.245117</td>\n",
       "      <td>6.770231</td>\n",
       "      <td>7.115871</td>\n",
       "      <td>0</td>\n",
       "    </tr>\n",
       "    <tr>\n",
       "      <th>4</th>\n",
       "      <td>0.0</td>\n",
       "      <td>1009.436646</td>\n",
       "      <td>5.354242</td>\n",
       "      <td>7.066104</td>\n",
       "      <td>896.284363</td>\n",
       "      <td>4.846446</td>\n",
       "      <td>7.290096</td>\n",
       "      <td>667.336914</td>\n",
       "      <td>5.641715</td>\n",
       "      <td>6.899733</td>\n",
       "      <td>...</td>\n",
       "      <td>1600.710693</td>\n",
       "      <td>13.374018</td>\n",
       "      <td>6.871669</td>\n",
       "      <td>1566.086426</td>\n",
       "      <td>9.903564</td>\n",
       "      <td>7.029491</td>\n",
       "      <td>1456.438599</td>\n",
       "      <td>6.687763</td>\n",
       "      <td>7.133628</td>\n",
       "      <td>0</td>\n",
       "    </tr>\n",
       "  </tbody>\n",
       "</table>\n",
       "<p>5 rows × 38 columns</p>\n",
       "</div>"
      ],
      "text/plain": [
       "   ratio          p01    tavg01    tstd01         p02    tavg02    tstd02  \\\n",
       "0    0.0  1028.032227  5.608397  7.007261  917.894836  5.002995  7.260077   \n",
       "1    0.0  1030.239990  5.552064  7.020378  918.201050  4.964746  7.266491   \n",
       "2    0.0  1016.340820  5.489423  7.035015  906.867371  4.926759  7.274645   \n",
       "3    0.0  1007.638123  5.422871  7.050332  899.044739  4.887269  7.282977   \n",
       "4    0.0  1009.436646  5.354242  7.066104  896.284363  4.846446  7.290096   \n",
       "\n",
       "          p03    tavg03    tstd03  ...          p10     tavg10    tstd10  \\\n",
       "0  650.246582  5.655244  6.870195  ...  1568.007690  13.477379  6.853115   \n",
       "1  655.511414  5.644968  6.875551  ...  1570.813110  13.457698  6.857547   \n",
       "2  654.641479  5.643862  6.882475  ...  1567.075073  13.434568  6.862309   \n",
       "3  658.758667  5.644159  6.890760  ...  1578.622925  13.406312  6.867037   \n",
       "4  667.336914  5.641715  6.899733  ...  1600.710693  13.374018  6.871669   \n",
       "\n",
       "           p11     tavg11    tstd11          p12    tavg12    tstd12  \\\n",
       "0  1500.251465  10.144375  6.999880  1369.432983  6.964911  7.071146   \n",
       "1  1527.257690  10.099838  7.006363  1403.411987  6.912345  7.084951   \n",
       "2  1534.351562  10.043708  7.013369  1418.747681  6.846510  7.099665   \n",
       "3  1547.973633   9.977019  7.020970  1435.245117  6.770231  7.115871   \n",
       "4  1566.086426   9.903564  7.029491  1456.438599  6.687763  7.133628   \n",
       "\n",
       "   predominant  \n",
       "0            0  \n",
       "1            0  \n",
       "2            0  \n",
       "3            0  \n",
       "4            0  \n",
       "\n",
       "[5 rows x 38 columns]"
      ]
     },
     "execution_count": 60,
     "metadata": {},
     "output_type": "execute_result"
    }
   ],
   "source": [
    "df.head()"
   ]
  },
  {
   "cell_type": "code",
   "execution_count": 61,
   "metadata": {},
   "outputs": [
    {
     "data": {
      "text/plain": [
       "Index(['p01', 'tavg01', 'tstd01', 'p02', 'tavg02', 'tstd02', 'p03', 'tavg03',\n",
       "       'tstd03', 'p04', 'tavg04', 'tstd04', 'p05', 'tavg05', 'tstd05', 'p06',\n",
       "       'tavg06', 'tstd06', 'p07', 'tavg07', 'tstd07', 'p08', 'tavg08',\n",
       "       'tstd08', 'p09', 'tavg09', 'tstd09', 'p10', 'tavg10', 'tstd10', 'p11',\n",
       "       'tavg11', 'tstd11', 'p12', 'tavg12', 'tstd12'],\n",
       "      dtype='object')"
      ]
     },
     "execution_count": 61,
     "metadata": {},
     "output_type": "execute_result"
    }
   ],
   "source": [
    "df.columns[1:-1]"
   ]
  },
  {
   "cell_type": "code",
   "execution_count": 62,
   "metadata": {},
   "outputs": [],
   "source": [
    "X = df[df.columns[1:-1]]"
   ]
  },
  {
   "cell_type": "code",
   "execution_count": 63,
   "metadata": {},
   "outputs": [],
   "source": [
    "y = df[\"predominant\"]"
   ]
  },
  {
   "cell_type": "code",
   "execution_count": 64,
   "metadata": {},
   "outputs": [],
   "source": [
    "X_resampled, y_resampled = SMOTE().fit_resample(X, y)"
   ]
  },
  {
   "cell_type": "code",
   "execution_count": 65,
   "metadata": {},
   "outputs": [],
   "source": [
    "X_train, X_test, y_train, y_test = train_test_split(X_resampled, y_resampled)"
   ]
  },
  {
   "cell_type": "code",
   "execution_count": 66,
   "metadata": {},
   "outputs": [],
   "source": [
    "rf = RandomForestClassifier(n_estimators=200, max_depth=6)"
   ]
  },
  {
   "cell_type": "code",
   "execution_count": 67,
   "metadata": {},
   "outputs": [
    {
     "data": {
      "text/plain": [
       "RandomForestClassifier(bootstrap=True, class_weight=None, criterion='gini',\n",
       "                       max_depth=6, max_features='auto', max_leaf_nodes=None,\n",
       "                       min_impurity_decrease=0.0, min_impurity_split=None,\n",
       "                       min_samples_leaf=1, min_samples_split=2,\n",
       "                       min_weight_fraction_leaf=0.0, n_estimators=200,\n",
       "                       n_jobs=None, oob_score=False, random_state=None,\n",
       "                       verbose=0, warm_start=False)"
      ]
     },
     "execution_count": 67,
     "metadata": {},
     "output_type": "execute_result"
    }
   ],
   "source": [
    "rf.fit(X_train, y_train)"
   ]
  },
  {
   "cell_type": "code",
   "execution_count": 68,
   "metadata": {},
   "outputs": [],
   "source": [
    "y_pred = rf.predict(X_test)"
   ]
  },
  {
   "cell_type": "code",
   "execution_count": 69,
   "metadata": {},
   "outputs": [
    {
     "data": {
      "text/plain": [
       "0.8781212841854935"
      ]
     },
     "execution_count": 69,
     "metadata": {},
     "output_type": "execute_result"
    }
   ],
   "source": [
    "precision_score(y_test, y_pred)"
   ]
  },
  {
   "cell_type": "code",
   "execution_count": 70,
   "metadata": {},
   "outputs": [
    {
     "data": {
      "text/plain": [
       "0.9307596176579863"
      ]
     },
     "execution_count": 70,
     "metadata": {},
     "output_type": "execute_result"
    }
   ],
   "source": [
    "accuracy_score(y_test, y_pred)"
   ]
  },
  {
   "cell_type": "code",
   "execution_count": 75,
   "metadata": {},
   "outputs": [
    {
     "data": {
      "text/plain": [
       "1.0"
      ]
     },
     "execution_count": 75,
     "metadata": {},
     "output_type": "execute_result"
    }
   ],
   "source": [
    "recall_score(y_test, y_pred)"
   ]
  },
  {
   "cell_type": "code",
   "execution_count": 72,
   "metadata": {},
   "outputs": [
    {
     "data": {
      "text/plain": [
       "array([[25574,  4100],\n",
       "       [    0, 29540]])"
      ]
     },
     "execution_count": 72,
     "metadata": {},
     "output_type": "execute_result"
    }
   ],
   "source": [
    "cm = confusion_matrix(y_test, y_pred)\n",
    "cm"
   ]
  },
  {
   "cell_type": "code",
   "execution_count": 74,
   "metadata": {},
   "outputs": [
    {
     "data": {
      "text/plain": [
       "<matplotlib.axes._subplots.AxesSubplot at 0x7fc31b251b38>"
      ]
     },
     "execution_count": 74,
     "metadata": {},
     "output_type": "execute_result"
    },
    {
     "data": {
      "image/png": "[encoded data removed]",
      "text/plain": [
       "<Figure size 432x288 with 2 Axes>"
      ]
     },
     "metadata": {
      "needs_background": "light"
     },
     "output_type": "display_data"
    }
   ],
   "source": [
    "sn.heatmap(cm, annot=True)"
   ]
  },
  {
   "cell_type": "code",
   "execution_count": 82,
   "metadata": {},
   "outputs": [
    {
     "data": {
      "image/png": "[encoded data removed]",
      "text/plain": [
       "<Figure size 864x576 with 1 Axes>"
      ]
     },
     "metadata": {
      "needs_background": "light"
     },
     "output_type": "display_data"
    }
   ],
   "source": [
    "features = [c for c in X.columns]\n",
    "importances = rf.feature_importances_\n",
    "indices = np.argsort(importances)\n",
    "\n",
    "plt.figure(figsize=(12,8))\n",
    "plt.title('RF Pine Classifier - Feature Importances')\n",
    "plt.barh(range(len(indices)), importances[indices], color='b', align='center')\n",
    "plt.yticks(range(len(indices)), [features[i] for i in indices])\n",
    "plt.xlabel('Relative Importance')\n",
    "plt.show()"
   ]
  },
  {
   "cell_type": "code",
   "execution_count": null,
   "metadata": {},
   "outputs": [],
   "source": []
  }
 ],
 "metadata": {
  "kernelspec": {
   "display_name": "Python 3",
   "language": "python",
   "name": "python3"
  },
  "language_info": {
   "codemirror_mode": {
    "name": "ipython",
    "version": 3
   },
   "file_extension": ".py",
   "mimetype": "text/x-python",
   "name": "python",
   "nbconvert_exporter": "python",
   "pygments_lexer": "ipython3",
   "version": "3.6.7"
  }
 },
 "nbformat": 4,
 "nbformat_minor": 2
}
