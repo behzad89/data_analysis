{
 "cells": [
  {
   "cell_type": "code",
   "execution_count": 27,
   "metadata": {},
   "outputs": [],
   "source": [
    "import numpy as np\n",
    "import matplotlib.pyplot as plt\n",
    "import pandas as pd\n",
    "import seaborn as sn\n",
    "\n",
    "from imblearn.over_sampling import SMOTE\n",
    "from sklearn.ensemble import RandomForestClassifier\n",
    "from sklearn.model_selection import StratifiedKFold, GridSearchCV, train_test_split\n",
    "from sklearn.metrics import accuracy_score, precision_score, recall_score, confusion_matrix\n",
    "from sklearn.preprocessing import LabelEncoder"
   ]
  },
  {
   "cell_type": "code",
   "execution_count": 3,
   "metadata": {},
   "outputs": [],
   "source": [
    "df = pd.read_csv('../../data/finland/sample_plots_all_features.csv')"
   ]
  },
  {
   "cell_type": "code",
   "execution_count": 4,
   "metadata": {},
   "outputs": [
    {
     "data": {
      "text/html": [
       "<div>\n",
       "<style scoped>\n",
       "    .dataframe tbody tr th:only-of-type {\n",
       "        vertical-align: middle;\n",
       "    }\n",
       "\n",
       "    .dataframe tbody tr th {\n",
       "        vertical-align: top;\n",
       "    }\n",
       "\n",
       "    .dataframe thead th {\n",
       "        text-align: right;\n",
       "    }\n",
       "</style>\n",
       "<table border=\"1\" class=\"dataframe\">\n",
       "  <thead>\n",
       "    <tr style=\"text-align: right;\">\n",
       "      <th></th>\n",
       "      <th>plot_id</th>\n",
       "      <th>lon</th>\n",
       "      <th>lat</th>\n",
       "      <th>num_pine</th>\n",
       "      <th>vol_pine</th>\n",
       "      <th>num_spruce</th>\n",
       "      <th>vol_spruce</th>\n",
       "      <th>num_deciduous</th>\n",
       "      <th>vol_deciduous</th>\n",
       "      <th>number</th>\n",
       "      <th>...</th>\n",
       "      <th>era5_consecutive_dry_days_index_per_time_period</th>\n",
       "      <th>era5_number_of_cdd_periods_with_more_than_5days_per_time_period</th>\n",
       "      <th>era5_consecutive_wet_days_index_per_time_period</th>\n",
       "      <th>era5_number_of_cwd_periods_with_more_than_5days_per_time_period</th>\n",
       "      <th>era5_precipitation_days_index_per_time_period</th>\n",
       "      <th>era5_wet_days_index_per_time_period</th>\n",
       "      <th>era5_highest_one_day_precipitation_amount_per_time_period</th>\n",
       "      <th>era5_highest_five_day_precipitation_amount_per_time_period</th>\n",
       "      <th>era5_number_of_5day_heavy_precipitation_periods_per_time_period</th>\n",
       "      <th>era5_simple_daily_intensity_index_per_time_period</th>\n",
       "    </tr>\n",
       "  </thead>\n",
       "  <tbody>\n",
       "    <tr>\n",
       "      <th>0</th>\n",
       "      <td>509711</td>\n",
       "      <td>23.760515</td>\n",
       "      <td>61.857391</td>\n",
       "      <td>629</td>\n",
       "      <td>239.3</td>\n",
       "      <td>79</td>\n",
       "      <td>27.6</td>\n",
       "      <td>118</td>\n",
       "      <td>11.3</td>\n",
       "      <td>825</td>\n",
       "      <td>...</td>\n",
       "      <td>32.0</td>\n",
       "      <td>212.0</td>\n",
       "      <td>31.0</td>\n",
       "      <td>69.0</td>\n",
       "      <td>2672.0</td>\n",
       "      <td>2672.0</td>\n",
       "      <td>64.8069</td>\n",
       "      <td>64.8069</td>\n",
       "      <td>31.0</td>\n",
       "      <td>5.286695</td>\n",
       "    </tr>\n",
       "    <tr>\n",
       "      <th>1</th>\n",
       "      <td>509712</td>\n",
       "      <td>23.776417</td>\n",
       "      <td>61.857257</td>\n",
       "      <td>668</td>\n",
       "      <td>129.7</td>\n",
       "      <td>118</td>\n",
       "      <td>16.5</td>\n",
       "      <td>393</td>\n",
       "      <td>28.6</td>\n",
       "      <td>1179</td>\n",
       "      <td>...</td>\n",
       "      <td>32.0</td>\n",
       "      <td>212.0</td>\n",
       "      <td>31.0</td>\n",
       "      <td>69.0</td>\n",
       "      <td>2672.0</td>\n",
       "      <td>2672.0</td>\n",
       "      <td>64.8069</td>\n",
       "      <td>64.8069</td>\n",
       "      <td>31.0</td>\n",
       "      <td>5.286695</td>\n",
       "    </tr>\n",
       "    <tr>\n",
       "      <th>2</th>\n",
       "      <td>509713</td>\n",
       "      <td>23.762006</td>\n",
       "      <td>61.854816</td>\n",
       "      <td>865</td>\n",
       "      <td>194.8</td>\n",
       "      <td>0</td>\n",
       "      <td>0.0</td>\n",
       "      <td>39</td>\n",
       "      <td>0.2</td>\n",
       "      <td>904</td>\n",
       "      <td>...</td>\n",
       "      <td>32.0</td>\n",
       "      <td>212.0</td>\n",
       "      <td>31.0</td>\n",
       "      <td>69.0</td>\n",
       "      <td>2672.0</td>\n",
       "      <td>2672.0</td>\n",
       "      <td>64.8069</td>\n",
       "      <td>64.8069</td>\n",
       "      <td>31.0</td>\n",
       "      <td>5.286695</td>\n",
       "    </tr>\n",
       "    <tr>\n",
       "      <th>3</th>\n",
       "      <td>509714</td>\n",
       "      <td>23.761818</td>\n",
       "      <td>61.852331</td>\n",
       "      <td>2358</td>\n",
       "      <td>130.1</td>\n",
       "      <td>236</td>\n",
       "      <td>4.4</td>\n",
       "      <td>472</td>\n",
       "      <td>6.4</td>\n",
       "      <td>3065</td>\n",
       "      <td>...</td>\n",
       "      <td>32.0</td>\n",
       "      <td>212.0</td>\n",
       "      <td>31.0</td>\n",
       "      <td>69.0</td>\n",
       "      <td>2672.0</td>\n",
       "      <td>2672.0</td>\n",
       "      <td>64.8069</td>\n",
       "      <td>64.8069</td>\n",
       "      <td>31.0</td>\n",
       "      <td>5.286695</td>\n",
       "    </tr>\n",
       "    <tr>\n",
       "      <th>4</th>\n",
       "      <td>509715</td>\n",
       "      <td>23.762492</td>\n",
       "      <td>61.850755</td>\n",
       "      <td>200</td>\n",
       "      <td>105.7</td>\n",
       "      <td>320</td>\n",
       "      <td>127.4</td>\n",
       "      <td>20</td>\n",
       "      <td>0.4</td>\n",
       "      <td>540</td>\n",
       "      <td>...</td>\n",
       "      <td>32.0</td>\n",
       "      <td>212.0</td>\n",
       "      <td>31.0</td>\n",
       "      <td>69.0</td>\n",
       "      <td>2672.0</td>\n",
       "      <td>2672.0</td>\n",
       "      <td>64.8069</td>\n",
       "      <td>64.8069</td>\n",
       "      <td>31.0</td>\n",
       "      <td>5.286695</td>\n",
       "    </tr>\n",
       "  </tbody>\n",
       "</table>\n",
       "<p>5 rows × 50 columns</p>\n",
       "</div>"
      ],
      "text/plain": [
       "   plot_id        lon        lat  num_pine  vol_pine  num_spruce  vol_spruce  \\\n",
       "0   509711  23.760515  61.857391       629     239.3          79        27.6   \n",
       "1   509712  23.776417  61.857257       668     129.7         118        16.5   \n",
       "2   509713  23.762006  61.854816       865     194.8           0         0.0   \n",
       "3   509714  23.761818  61.852331      2358     130.1         236         4.4   \n",
       "4   509715  23.762492  61.850755       200     105.7         320       127.4   \n",
       "\n",
       "   num_deciduous  vol_deciduous  number  ...  \\\n",
       "0            118           11.3     825  ...   \n",
       "1            393           28.6    1179  ...   \n",
       "2             39            0.2     904  ...   \n",
       "3            472            6.4    3065  ...   \n",
       "4             20            0.4     540  ...   \n",
       "\n",
       "   era5_consecutive_dry_days_index_per_time_period  \\\n",
       "0                                             32.0   \n",
       "1                                             32.0   \n",
       "2                                             32.0   \n",
       "3                                             32.0   \n",
       "4                                             32.0   \n",
       "\n",
       "   era5_number_of_cdd_periods_with_more_than_5days_per_time_period  \\\n",
       "0                                              212.0                 \n",
       "1                                              212.0                 \n",
       "2                                              212.0                 \n",
       "3                                              212.0                 \n",
       "4                                              212.0                 \n",
       "\n",
       "   era5_consecutive_wet_days_index_per_time_period  \\\n",
       "0                                             31.0   \n",
       "1                                             31.0   \n",
       "2                                             31.0   \n",
       "3                                             31.0   \n",
       "4                                             31.0   \n",
       "\n",
       "   era5_number_of_cwd_periods_with_more_than_5days_per_time_period  \\\n",
       "0                                               69.0                 \n",
       "1                                               69.0                 \n",
       "2                                               69.0                 \n",
       "3                                               69.0                 \n",
       "4                                               69.0                 \n",
       "\n",
       "   era5_precipitation_days_index_per_time_period  \\\n",
       "0                                         2672.0   \n",
       "1                                         2672.0   \n",
       "2                                         2672.0   \n",
       "3                                         2672.0   \n",
       "4                                         2672.0   \n",
       "\n",
       "   era5_wet_days_index_per_time_period  \\\n",
       "0                               2672.0   \n",
       "1                               2672.0   \n",
       "2                               2672.0   \n",
       "3                               2672.0   \n",
       "4                               2672.0   \n",
       "\n",
       "   era5_highest_one_day_precipitation_amount_per_time_period  \\\n",
       "0                                            64.8069           \n",
       "1                                            64.8069           \n",
       "2                                            64.8069           \n",
       "3                                            64.8069           \n",
       "4                                            64.8069           \n",
       "\n",
       "  era5_highest_five_day_precipitation_amount_per_time_period  \\\n",
       "0                                            64.8069           \n",
       "1                                            64.8069           \n",
       "2                                            64.8069           \n",
       "3                                            64.8069           \n",
       "4                                            64.8069           \n",
       "\n",
       "   era5_number_of_5day_heavy_precipitation_periods_per_time_period  \\\n",
       "0                                               31.0                 \n",
       "1                                               31.0                 \n",
       "2                                               31.0                 \n",
       "3                                               31.0                 \n",
       "4                                               31.0                 \n",
       "\n",
       "   era5_simple_daily_intensity_index_per_time_period  \n",
       "0                                           5.286695  \n",
       "1                                           5.286695  \n",
       "2                                           5.286695  \n",
       "3                                           5.286695  \n",
       "4                                           5.286695  \n",
       "\n",
       "[5 rows x 50 columns]"
      ]
     },
     "execution_count": 4,
     "metadata": {},
     "output_type": "execute_result"
    }
   ],
   "source": [
    "df.head()"
   ]
  },
  {
   "cell_type": "code",
   "execution_count": 5,
   "metadata": {},
   "outputs": [
    {
     "data": {
      "text/plain": [
       "array(['pine', 'none', 'spruce', 'deciduous'], dtype=object)"
      ]
     },
     "execution_count": 5,
     "metadata": {},
     "output_type": "execute_result"
    }
   ],
   "source": [
    "df['dominant_species'].unique()"
   ]
  },
  {
   "cell_type": "code",
   "execution_count": 6,
   "metadata": {},
   "outputs": [
    {
     "data": {
      "text/plain": [
       "Index(['plot_id', 'lon', 'lat', 'num_pine', 'vol_pine', 'num_spruce',\n",
       "       'vol_spruce', 'num_deciduous', 'vol_deciduous', 'number', 'volume',\n",
       "       'diameter', 'height', 'age', 'ratio_pine', 'ratio_spruce',\n",
       "       'ratio_deciduous', 'dominant_species',\n",
       "       'uerra_consecutive_frost_days_index_per_time_period',\n",
       "       'uerra_number_of_cfd_periods_with_more_than_5days_per_time_period',\n",
       "       'uerra_frost_days_index_per_time_period',\n",
       "       'uerra_consecutive_summer_days_index_per_time_period',\n",
       "       'uerra_number_of_csu_periods_with_more_than_5days_per_time_period',\n",
       "       'uerra_ice_days_index_per_time_period',\n",
       "       'uerra_summer_days_index_per_time_period',\n",
       "       'uerra_consecutive_dry_days_index_per_time_period',\n",
       "       'uerra_number_of_cdd_periods_with_more_than_5days_per_time_period',\n",
       "       'uerra_consecutive_wet_days_index_per_time_period',\n",
       "       'uerra_number_of_cwd_periods_with_more_than_5days_per_time_period',\n",
       "       'uerra_precipitation_days_index_per_time_period',\n",
       "       'uerra_wet_days_index_per_time_period',\n",
       "       'uerra_highest_one_day_precipitation_amount_per_time_period',\n",
       "       'uerra_highest_five_day_precipitation_amount_per_time_period',\n",
       "       'uerra_number_of_5day_heavy_precipitation_periods_per_time_period',\n",
       "       'uerra_simple_daily_intensity_index_per_time_period',\n",
       "       'era5_number_of_cfd_periods_with_more_than_5days_per_time_period',\n",
       "       'era5_frost_days_index_per_time_period',\n",
       "       'era5_number_of_csu_periods_with_more_than_5days_per_time_period',\n",
       "       'era5_ice_days_index_per_time_period',\n",
       "       'era5_summer_days_index_per_time_period',\n",
       "       'era5_consecutive_dry_days_index_per_time_period',\n",
       "       'era5_number_of_cdd_periods_with_more_than_5days_per_time_period',\n",
       "       'era5_consecutive_wet_days_index_per_time_period',\n",
       "       'era5_number_of_cwd_periods_with_more_than_5days_per_time_period',\n",
       "       'era5_precipitation_days_index_per_time_period',\n",
       "       'era5_wet_days_index_per_time_period',\n",
       "       'era5_highest_one_day_precipitation_amount_per_time_period',\n",
       "       'era5_highest_five_day_precipitation_amount_per_time_period',\n",
       "       'era5_number_of_5day_heavy_precipitation_periods_per_time_period',\n",
       "       'era5_simple_daily_intensity_index_per_time_period'],\n",
       "      dtype='object')"
      ]
     },
     "execution_count": 6,
     "metadata": {},
     "output_type": "execute_result"
    }
   ],
   "source": [
    "df.columns"
   ]
  },
  {
   "cell_type": "code",
   "execution_count": 7,
   "metadata": {},
   "outputs": [],
   "source": [
    "columns = [c for c in df.columns if 'era5' in c]"
   ]
  },
  {
   "cell_type": "code",
   "execution_count": 8,
   "metadata": {},
   "outputs": [
    {
     "data": {
      "text/plain": [
       "['era5_number_of_cfd_periods_with_more_than_5days_per_time_period',\n",
       " 'era5_frost_days_index_per_time_period',\n",
       " 'era5_number_of_csu_periods_with_more_than_5days_per_time_period',\n",
       " 'era5_ice_days_index_per_time_period',\n",
       " 'era5_summer_days_index_per_time_period',\n",
       " 'era5_consecutive_dry_days_index_per_time_period',\n",
       " 'era5_number_of_cdd_periods_with_more_than_5days_per_time_period',\n",
       " 'era5_consecutive_wet_days_index_per_time_period',\n",
       " 'era5_number_of_cwd_periods_with_more_than_5days_per_time_period',\n",
       " 'era5_precipitation_days_index_per_time_period',\n",
       " 'era5_wet_days_index_per_time_period',\n",
       " 'era5_highest_one_day_precipitation_amount_per_time_period',\n",
       " 'era5_highest_five_day_precipitation_amount_per_time_period',\n",
       " 'era5_number_of_5day_heavy_precipitation_periods_per_time_period',\n",
       " 'era5_simple_daily_intensity_index_per_time_period']"
      ]
     },
     "execution_count": 8,
     "metadata": {},
     "output_type": "execute_result"
    }
   ],
   "source": [
    "columns"
   ]
  },
  {
   "cell_type": "code",
   "execution_count": 9,
   "metadata": {},
   "outputs": [],
   "source": [
    "X = df[columns]"
   ]
  },
  {
   "cell_type": "code",
   "execution_count": 10,
   "metadata": {},
   "outputs": [
    {
     "data": {
      "text/html": [
       "<div>\n",
       "<style scoped>\n",
       "    .dataframe tbody tr th:only-of-type {\n",
       "        vertical-align: middle;\n",
       "    }\n",
       "\n",
       "    .dataframe tbody tr th {\n",
       "        vertical-align: top;\n",
       "    }\n",
       "\n",
       "    .dataframe thead th {\n",
       "        text-align: right;\n",
       "    }\n",
       "</style>\n",
       "<table border=\"1\" class=\"dataframe\">\n",
       "  <thead>\n",
       "    <tr style=\"text-align: right;\">\n",
       "      <th></th>\n",
       "      <th>era5_number_of_cfd_periods_with_more_than_5days_per_time_period</th>\n",
       "      <th>era5_frost_days_index_per_time_period</th>\n",
       "      <th>era5_number_of_csu_periods_with_more_than_5days_per_time_period</th>\n",
       "      <th>era5_ice_days_index_per_time_period</th>\n",
       "      <th>era5_summer_days_index_per_time_period</th>\n",
       "      <th>era5_consecutive_dry_days_index_per_time_period</th>\n",
       "      <th>era5_number_of_cdd_periods_with_more_than_5days_per_time_period</th>\n",
       "      <th>era5_consecutive_wet_days_index_per_time_period</th>\n",
       "      <th>era5_number_of_cwd_periods_with_more_than_5days_per_time_period</th>\n",
       "      <th>era5_precipitation_days_index_per_time_period</th>\n",
       "      <th>era5_wet_days_index_per_time_period</th>\n",
       "      <th>era5_highest_one_day_precipitation_amount_per_time_period</th>\n",
       "      <th>era5_highest_five_day_precipitation_amount_per_time_period</th>\n",
       "      <th>era5_number_of_5day_heavy_precipitation_periods_per_time_period</th>\n",
       "      <th>era5_simple_daily_intensity_index_per_time_period</th>\n",
       "    </tr>\n",
       "  </thead>\n",
       "  <tbody>\n",
       "    <tr>\n",
       "      <th>0</th>\n",
       "      <td>111.0</td>\n",
       "      <td>2888.0</td>\n",
       "      <td>88.0</td>\n",
       "      <td>1428.0</td>\n",
       "      <td>2040.0</td>\n",
       "      <td>32.0</td>\n",
       "      <td>212.0</td>\n",
       "      <td>31.0</td>\n",
       "      <td>69.0</td>\n",
       "      <td>2672.0</td>\n",
       "      <td>2672.0</td>\n",
       "      <td>64.8069</td>\n",
       "      <td>64.8069</td>\n",
       "      <td>31.0</td>\n",
       "      <td>5.286695</td>\n",
       "    </tr>\n",
       "    <tr>\n",
       "      <th>1</th>\n",
       "      <td>111.0</td>\n",
       "      <td>2888.0</td>\n",
       "      <td>88.0</td>\n",
       "      <td>1428.0</td>\n",
       "      <td>2040.0</td>\n",
       "      <td>32.0</td>\n",
       "      <td>212.0</td>\n",
       "      <td>31.0</td>\n",
       "      <td>69.0</td>\n",
       "      <td>2672.0</td>\n",
       "      <td>2672.0</td>\n",
       "      <td>64.8069</td>\n",
       "      <td>64.8069</td>\n",
       "      <td>31.0</td>\n",
       "      <td>5.286695</td>\n",
       "    </tr>\n",
       "    <tr>\n",
       "      <th>2</th>\n",
       "      <td>111.0</td>\n",
       "      <td>2888.0</td>\n",
       "      <td>88.0</td>\n",
       "      <td>1428.0</td>\n",
       "      <td>2040.0</td>\n",
       "      <td>32.0</td>\n",
       "      <td>212.0</td>\n",
       "      <td>31.0</td>\n",
       "      <td>69.0</td>\n",
       "      <td>2672.0</td>\n",
       "      <td>2672.0</td>\n",
       "      <td>64.8069</td>\n",
       "      <td>64.8069</td>\n",
       "      <td>31.0</td>\n",
       "      <td>5.286695</td>\n",
       "    </tr>\n",
       "    <tr>\n",
       "      <th>3</th>\n",
       "      <td>111.0</td>\n",
       "      <td>2888.0</td>\n",
       "      <td>88.0</td>\n",
       "      <td>1428.0</td>\n",
       "      <td>2040.0</td>\n",
       "      <td>32.0</td>\n",
       "      <td>212.0</td>\n",
       "      <td>31.0</td>\n",
       "      <td>69.0</td>\n",
       "      <td>2672.0</td>\n",
       "      <td>2672.0</td>\n",
       "      <td>64.8069</td>\n",
       "      <td>64.8069</td>\n",
       "      <td>31.0</td>\n",
       "      <td>5.286695</td>\n",
       "    </tr>\n",
       "    <tr>\n",
       "      <th>4</th>\n",
       "      <td>111.0</td>\n",
       "      <td>2888.0</td>\n",
       "      <td>88.0</td>\n",
       "      <td>1428.0</td>\n",
       "      <td>2040.0</td>\n",
       "      <td>32.0</td>\n",
       "      <td>212.0</td>\n",
       "      <td>31.0</td>\n",
       "      <td>69.0</td>\n",
       "      <td>2672.0</td>\n",
       "      <td>2672.0</td>\n",
       "      <td>64.8069</td>\n",
       "      <td>64.8069</td>\n",
       "      <td>31.0</td>\n",
       "      <td>5.286695</td>\n",
       "    </tr>\n",
       "  </tbody>\n",
       "</table>\n",
       "</div>"
      ],
      "text/plain": [
       "   era5_number_of_cfd_periods_with_more_than_5days_per_time_period  \\\n",
       "0                                              111.0                 \n",
       "1                                              111.0                 \n",
       "2                                              111.0                 \n",
       "3                                              111.0                 \n",
       "4                                              111.0                 \n",
       "\n",
       "   era5_frost_days_index_per_time_period  \\\n",
       "0                                 2888.0   \n",
       "1                                 2888.0   \n",
       "2                                 2888.0   \n",
       "3                                 2888.0   \n",
       "4                                 2888.0   \n",
       "\n",
       "   era5_number_of_csu_periods_with_more_than_5days_per_time_period  \\\n",
       "0                                               88.0                 \n",
       "1                                               88.0                 \n",
       "2                                               88.0                 \n",
       "3                                               88.0                 \n",
       "4                                               88.0                 \n",
       "\n",
       "   era5_ice_days_index_per_time_period  \\\n",
       "0                               1428.0   \n",
       "1                               1428.0   \n",
       "2                               1428.0   \n",
       "3                               1428.0   \n",
       "4                               1428.0   \n",
       "\n",
       "   era5_summer_days_index_per_time_period  \\\n",
       "0                                  2040.0   \n",
       "1                                  2040.0   \n",
       "2                                  2040.0   \n",
       "3                                  2040.0   \n",
       "4                                  2040.0   \n",
       "\n",
       "   era5_consecutive_dry_days_index_per_time_period  \\\n",
       "0                                             32.0   \n",
       "1                                             32.0   \n",
       "2                                             32.0   \n",
       "3                                             32.0   \n",
       "4                                             32.0   \n",
       "\n",
       "   era5_number_of_cdd_periods_with_more_than_5days_per_time_period  \\\n",
       "0                                              212.0                 \n",
       "1                                              212.0                 \n",
       "2                                              212.0                 \n",
       "3                                              212.0                 \n",
       "4                                              212.0                 \n",
       "\n",
       "   era5_consecutive_wet_days_index_per_time_period  \\\n",
       "0                                             31.0   \n",
       "1                                             31.0   \n",
       "2                                             31.0   \n",
       "3                                             31.0   \n",
       "4                                             31.0   \n",
       "\n",
       "   era5_number_of_cwd_periods_with_more_than_5days_per_time_period  \\\n",
       "0                                               69.0                 \n",
       "1                                               69.0                 \n",
       "2                                               69.0                 \n",
       "3                                               69.0                 \n",
       "4                                               69.0                 \n",
       "\n",
       "   era5_precipitation_days_index_per_time_period  \\\n",
       "0                                         2672.0   \n",
       "1                                         2672.0   \n",
       "2                                         2672.0   \n",
       "3                                         2672.0   \n",
       "4                                         2672.0   \n",
       "\n",
       "   era5_wet_days_index_per_time_period  \\\n",
       "0                               2672.0   \n",
       "1                               2672.0   \n",
       "2                               2672.0   \n",
       "3                               2672.0   \n",
       "4                               2672.0   \n",
       "\n",
       "   era5_highest_one_day_precipitation_amount_per_time_period  \\\n",
       "0                                            64.8069           \n",
       "1                                            64.8069           \n",
       "2                                            64.8069           \n",
       "3                                            64.8069           \n",
       "4                                            64.8069           \n",
       "\n",
       "   era5_highest_five_day_precipitation_amount_per_time_period  \\\n",
       "0                                            64.8069            \n",
       "1                                            64.8069            \n",
       "2                                            64.8069            \n",
       "3                                            64.8069            \n",
       "4                                            64.8069            \n",
       "\n",
       "   era5_number_of_5day_heavy_precipitation_periods_per_time_period  \\\n",
       "0                                               31.0                 \n",
       "1                                               31.0                 \n",
       "2                                               31.0                 \n",
       "3                                               31.0                 \n",
       "4                                               31.0                 \n",
       "\n",
       "   era5_simple_daily_intensity_index_per_time_period  \n",
       "0                                           5.286695  \n",
       "1                                           5.286695  \n",
       "2                                           5.286695  \n",
       "3                                           5.286695  \n",
       "4                                           5.286695  "
      ]
     },
     "execution_count": 10,
     "metadata": {},
     "output_type": "execute_result"
    }
   ],
   "source": [
    "X.head()"
   ]
  },
  {
   "cell_type": "code",
   "execution_count": 11,
   "metadata": {},
   "outputs": [],
   "source": [
    "y = df['dominant_species']"
   ]
  },
  {
   "cell_type": "code",
   "execution_count": 12,
   "metadata": {},
   "outputs": [
    {
     "data": {
      "text/plain": [
       "array(['pine', 'none', 'spruce', 'deciduous'], dtype=object)"
      ]
     },
     "execution_count": 12,
     "metadata": {},
     "output_type": "execute_result"
    }
   ],
   "source": [
    "y.unique()"
   ]
  },
  {
   "cell_type": "code",
   "execution_count": 13,
   "metadata": {},
   "outputs": [],
   "source": [
    "le = LabelEncoder()"
   ]
  },
  {
   "cell_type": "code",
   "execution_count": 14,
   "metadata": {},
   "outputs": [
    {
     "data": {
      "text/plain": [
       "LabelEncoder()"
      ]
     },
     "execution_count": 14,
     "metadata": {},
     "output_type": "execute_result"
    }
   ],
   "source": [
    "le.fit(df['dominant_species'])"
   ]
  },
  {
   "cell_type": "code",
   "execution_count": 15,
   "metadata": {},
   "outputs": [
    {
     "data": {
      "text/plain": [
       "array(['deciduous', 'none', 'pine', 'spruce'], dtype=object)"
      ]
     },
     "execution_count": 15,
     "metadata": {},
     "output_type": "execute_result"
    }
   ],
   "source": [
    "le.classes_"
   ]
  },
  {
   "cell_type": "code",
   "execution_count": 16,
   "metadata": {},
   "outputs": [],
   "source": [
    "y = le.transform(df['dominant_species'])"
   ]
  },
  {
   "cell_type": "code",
   "execution_count": 17,
   "metadata": {},
   "outputs": [
    {
     "data": {
      "text/plain": [
       "array(['deciduous', 'none', 'pine', 'spruce'], dtype=object)"
      ]
     },
     "execution_count": 17,
     "metadata": {},
     "output_type": "execute_result"
    }
   ],
   "source": [
    "le.classes_"
   ]
  },
  {
   "cell_type": "code",
   "execution_count": 18,
   "metadata": {},
   "outputs": [],
   "source": [
    "X_train, X_test, y_train, y_test = train_test_split(X, y, train_size=0.7)"
   ]
  },
  {
   "cell_type": "code",
   "execution_count": 19,
   "metadata": {},
   "outputs": [],
   "source": [
    "parameters = {'n_estimators': [100, 300, 500], 'max_depth': [10, 12, 14]}"
   ]
  },
  {
   "cell_type": "code",
   "execution_count": 20,
   "metadata": {},
   "outputs": [],
   "source": [
    "clf = GridSearchCV(RandomForestClassifier(), cv=3, param_grid=parameters, verbose=9)"
   ]
  },
  {
   "cell_type": "code",
   "execution_count": 21,
   "metadata": {},
   "outputs": [
    {
     "data": {
      "text/plain": [
       "array([0, 1, 2, 3])"
      ]
     },
     "execution_count": 21,
     "metadata": {},
     "output_type": "execute_result"
    }
   ],
   "source": [
    "np.unique(y_train)"
   ]
  },
  {
   "cell_type": "code",
   "execution_count": 22,
   "metadata": {},
   "outputs": [
    {
     "name": "stdout",
     "output_type": "stream",
     "text": [
      "Fitting 3 folds for each of 9 candidates, totalling 27 fits\n",
      "[CV] max_depth=10, n_estimators=100 ..................................\n"
     ]
    },
    {
     "name": "stderr",
     "output_type": "stream",
     "text": [
      "[Parallel(n_jobs=1)]: Using backend SequentialBackend with 1 concurrent workers.\n"
     ]
    },
    {
     "name": "stdout",
     "output_type": "stream",
     "text": [
      "[CV] ...... max_depth=10, n_estimators=100, score=0.485, total=   0.6s\n",
      "[CV] max_depth=10, n_estimators=100 ..................................\n"
     ]
    },
    {
     "name": "stderr",
     "output_type": "stream",
     "text": [
      "[Parallel(n_jobs=1)]: Done   1 out of   1 | elapsed:    0.6s remaining:    0.0s\n"
     ]
    },
    {
     "name": "stdout",
     "output_type": "stream",
     "text": [
      "[CV] ...... max_depth=10, n_estimators=100, score=0.485, total=   0.6s\n",
      "[CV] max_depth=10, n_estimators=100 ..................................\n"
     ]
    },
    {
     "name": "stderr",
     "output_type": "stream",
     "text": [
      "[Parallel(n_jobs=1)]: Done   2 out of   2 | elapsed:    1.2s remaining:    0.0s\n"
     ]
    },
    {
     "name": "stdout",
     "output_type": "stream",
     "text": [
      "[CV] ...... max_depth=10, n_estimators=100, score=0.495, total=   0.6s\n",
      "[CV] max_depth=10, n_estimators=300 ..................................\n"
     ]
    },
    {
     "name": "stderr",
     "output_type": "stream",
     "text": [
      "[Parallel(n_jobs=1)]: Done   3 out of   3 | elapsed:    1.8s remaining:    0.0s\n"
     ]
    },
    {
     "name": "stdout",
     "output_type": "stream",
     "text": [
      "[CV] ...... max_depth=10, n_estimators=300, score=0.485, total=   1.8s\n",
      "[CV] max_depth=10, n_estimators=300 ..................................\n"
     ]
    },
    {
     "name": "stderr",
     "output_type": "stream",
     "text": [
      "[Parallel(n_jobs=1)]: Done   4 out of   4 | elapsed:    3.6s remaining:    0.0s\n"
     ]
    },
    {
     "name": "stdout",
     "output_type": "stream",
     "text": [
      "[CV] ...... max_depth=10, n_estimators=300, score=0.483, total=   1.8s\n",
      "[CV] max_depth=10, n_estimators=300 ..................................\n"
     ]
    },
    {
     "name": "stderr",
     "output_type": "stream",
     "text": [
      "[Parallel(n_jobs=1)]: Done   5 out of   5 | elapsed:    5.5s remaining:    0.0s\n"
     ]
    },
    {
     "name": "stdout",
     "output_type": "stream",
     "text": [
      "[CV] ...... max_depth=10, n_estimators=300, score=0.495, total=   1.8s\n",
      "[CV] max_depth=10, n_estimators=500 ..................................\n"
     ]
    },
    {
     "name": "stderr",
     "output_type": "stream",
     "text": [
      "[Parallel(n_jobs=1)]: Done   6 out of   6 | elapsed:    7.2s remaining:    0.0s\n"
     ]
    },
    {
     "name": "stdout",
     "output_type": "stream",
     "text": [
      "[CV] ...... max_depth=10, n_estimators=500, score=0.485, total=   3.0s\n",
      "[CV] max_depth=10, n_estimators=500 ..................................\n"
     ]
    },
    {
     "name": "stderr",
     "output_type": "stream",
     "text": [
      "[Parallel(n_jobs=1)]: Done   7 out of   7 | elapsed:   10.2s remaining:    0.0s\n"
     ]
    },
    {
     "name": "stdout",
     "output_type": "stream",
     "text": [
      "[CV] ...... max_depth=10, n_estimators=500, score=0.485, total=   2.9s\n",
      "[CV] max_depth=10, n_estimators=500 ..................................\n"
     ]
    },
    {
     "name": "stderr",
     "output_type": "stream",
     "text": [
      "[Parallel(n_jobs=1)]: Done   8 out of   8 | elapsed:   13.2s remaining:    0.0s\n"
     ]
    },
    {
     "name": "stdout",
     "output_type": "stream",
     "text": [
      "[CV] ...... max_depth=10, n_estimators=500, score=0.493, total=   3.0s\n",
      "[CV] max_depth=12, n_estimators=100 ..................................\n",
      "[CV] ...... max_depth=12, n_estimators=100, score=0.482, total=   0.6s\n",
      "[CV] max_depth=12, n_estimators=100 ..................................\n",
      "[CV] ...... max_depth=12, n_estimators=100, score=0.482, total=   0.7s\n",
      "[CV] max_depth=12, n_estimators=100 ..................................\n",
      "[CV] ...... max_depth=12, n_estimators=100, score=0.494, total=   0.7s\n",
      "[CV] max_depth=12, n_estimators=300 ..................................\n",
      "[CV] ...... max_depth=12, n_estimators=300, score=0.480, total=   2.1s\n",
      "[CV] max_depth=12, n_estimators=300 ..................................\n",
      "[CV] ...... max_depth=12, n_estimators=300, score=0.483, total=   2.0s\n",
      "[CV] max_depth=12, n_estimators=300 ..................................\n",
      "[CV] ...... max_depth=12, n_estimators=300, score=0.496, total=   1.9s\n",
      "[CV] max_depth=12, n_estimators=500 ..................................\n",
      "[CV] ...... max_depth=12, n_estimators=500, score=0.482, total=   3.2s\n",
      "[CV] max_depth=12, n_estimators=500 ..................................\n",
      "[CV] ...... max_depth=12, n_estimators=500, score=0.483, total=   3.3s\n",
      "[CV] max_depth=12, n_estimators=500 ..................................\n",
      "[CV] ...... max_depth=12, n_estimators=500, score=0.495, total=   3.2s\n",
      "[CV] max_depth=14, n_estimators=100 ..................................\n",
      "[CV] ...... max_depth=14, n_estimators=100, score=0.478, total=   0.7s\n",
      "[CV] max_depth=14, n_estimators=100 ..................................\n",
      "[CV] ...... max_depth=14, n_estimators=100, score=0.481, total=   0.7s\n",
      "[CV] max_depth=14, n_estimators=100 ..................................\n",
      "[CV] ...... max_depth=14, n_estimators=100, score=0.496, total=   0.7s\n",
      "[CV] max_depth=14, n_estimators=300 ..................................\n",
      "[CV] ...... max_depth=14, n_estimators=300, score=0.481, total=   2.0s\n",
      "[CV] max_depth=14, n_estimators=300 ..................................\n",
      "[CV] ...... max_depth=14, n_estimators=300, score=0.481, total=   2.0s\n",
      "[CV] max_depth=14, n_estimators=300 ..................................\n",
      "[CV] ...... max_depth=14, n_estimators=300, score=0.495, total=   2.1s\n",
      "[CV] max_depth=14, n_estimators=500 ..................................\n",
      "[CV] ...... max_depth=14, n_estimators=500, score=0.480, total=   3.4s\n",
      "[CV] max_depth=14, n_estimators=500 ..................................\n",
      "[CV] ...... max_depth=14, n_estimators=500, score=0.476, total=   3.4s\n",
      "[CV] max_depth=14, n_estimators=500 ..................................\n",
      "[CV] ...... max_depth=14, n_estimators=500, score=0.495, total=   3.5s\n"
     ]
    },
    {
     "name": "stderr",
     "output_type": "stream",
     "text": [
      "[Parallel(n_jobs=1)]: Done  27 out of  27 | elapsed:   52.2s finished\n"
     ]
    },
    {
     "data": {
      "text/plain": [
       "GridSearchCV(cv=3, error_score='raise-deprecating',\n",
       "             estimator=RandomForestClassifier(bootstrap=True, class_weight=None,\n",
       "                                              criterion='gini', max_depth=None,\n",
       "                                              max_features='auto',\n",
       "                                              max_leaf_nodes=None,\n",
       "                                              min_impurity_decrease=0.0,\n",
       "                                              min_impurity_split=None,\n",
       "                                              min_samples_leaf=1,\n",
       "                                              min_samples_split=2,\n",
       "                                              min_weight_fraction_leaf=0.0,\n",
       "                                              n_estimators='warn', n_jobs=None,\n",
       "                                              oob_score=False,\n",
       "                                              random_state=None, verbose=0,\n",
       "                                              warm_start=False),\n",
       "             iid='warn', n_jobs=None,\n",
       "             param_grid={'max_depth': [10, 12, 14],\n",
       "                         'n_estimators': [100, 300, 500]},\n",
       "             pre_dispatch='2*n_jobs', refit=True, return_train_score=False,\n",
       "             scoring=None, verbose=9)"
      ]
     },
     "execution_count": 22,
     "metadata": {},
     "output_type": "execute_result"
    }
   ],
   "source": [
    "clf.fit(X_train, y_train)"
   ]
  },
  {
   "cell_type": "code",
   "execution_count": 23,
   "metadata": {},
   "outputs": [
    {
     "data": {
      "text/plain": [
       "RandomForestClassifier(bootstrap=True, class_weight=None, criterion='gini',\n",
       "                       max_depth=10, max_features='auto', max_leaf_nodes=None,\n",
       "                       min_impurity_decrease=0.0, min_impurity_split=None,\n",
       "                       min_samples_leaf=1, min_samples_split=2,\n",
       "                       min_weight_fraction_leaf=0.0, n_estimators=100,\n",
       "                       n_jobs=None, oob_score=False, random_state=None,\n",
       "                       verbose=0, warm_start=False)"
      ]
     },
     "execution_count": 23,
     "metadata": {},
     "output_type": "execute_result"
    }
   ],
   "source": [
    "clf.best_estimator_"
   ]
  },
  {
   "cell_type": "code",
   "execution_count": 24,
   "metadata": {},
   "outputs": [],
   "source": [
    "y_pred = clf.predict(X_test)"
   ]
  },
  {
   "cell_type": "code",
   "execution_count": 29,
   "metadata": {},
   "outputs": [
    {
     "data": {
      "text/plain": [
       "0.499916149589133"
      ]
     },
     "execution_count": 29,
     "metadata": {},
     "output_type": "execute_result"
    }
   ],
   "source": [
    "accuracy_score(y_test, y_pred)"
   ]
  },
  {
   "cell_type": "code",
   "execution_count": null,
   "metadata": {},
   "outputs": [],
   "source": [
    "cm = confusion_matrix(y_pred, y_test)"
   ]
  },
  {
   "cell_type": "markdown",
   "metadata": {},
   "source": [
    "# Pine Classifier"
   ]
  },
  {
   "cell_type": "code",
   "execution_count": 30,
   "metadata": {},
   "outputs": [],
   "source": [
    "df['target'] = np.where(df['dominant_species'] == 'pine', 1, 0)"
   ]
  },
  {
   "cell_type": "code",
   "execution_count": 31,
   "metadata": {},
   "outputs": [],
   "source": [
    "y_pine = df['target']"
   ]
  },
  {
   "cell_type": "code",
   "execution_count": 32,
   "metadata": {},
   "outputs": [],
   "source": [
    "X_pine_resampled, y_pine_resampled = SMOTE().fit_resample(X, y_pine)"
   ]
  },
  {
   "cell_type": "code",
   "execution_count": 33,
   "metadata": {},
   "outputs": [],
   "source": [
    "X_pine_train, X_pine_test, y_pine_train, y_pine_test = train_test_split(X_pine_resampled, y_pine_resampled, train_size=0.7)"
   ]
  },
  {
   "cell_type": "code",
   "execution_count": 34,
   "metadata": {},
   "outputs": [],
   "source": [
    "pine_parameters = {'n_estimators': [10, 50, 100], 'max_depth': [50, 75, 100]}"
   ]
  },
  {
   "cell_type": "code",
   "execution_count": 35,
   "metadata": {},
   "outputs": [],
   "source": [
    "clf_pine = GridSearchCV(RandomForestClassifier(), cv=3, param_grid=pine_parameters, verbose=9)"
   ]
  },
  {
   "cell_type": "code",
   "execution_count": 36,
   "metadata": {},
   "outputs": [
    {
     "name": "stdout",
     "output_type": "stream",
     "text": [
      "Fitting 3 folds for each of 9 candidates, totalling 27 fits\n",
      "[CV] max_depth=50, n_estimators=10 ...................................\n",
      "[CV] ....... max_depth=50, n_estimators=10, score=0.645, total=   0.1s\n",
      "[CV] max_depth=50, n_estimators=10 ...................................\n",
      "[CV] ....... max_depth=50, n_estimators=10, score=0.649, total=   0.1s\n",
      "[CV] max_depth=50, n_estimators=10 ...................................\n"
     ]
    },
    {
     "name": "stderr",
     "output_type": "stream",
     "text": [
      "[Parallel(n_jobs=1)]: Using backend SequentialBackend with 1 concurrent workers.\n",
      "[Parallel(n_jobs=1)]: Done   1 out of   1 | elapsed:    0.1s remaining:    0.0s\n",
      "[Parallel(n_jobs=1)]: Done   2 out of   2 | elapsed:    0.2s remaining:    0.0s\n"
     ]
    },
    {
     "name": "stdout",
     "output_type": "stream",
     "text": [
      "[CV] ....... max_depth=50, n_estimators=10, score=0.654, total=   0.1s\n",
      "[CV] max_depth=50, n_estimators=50 ...................................\n"
     ]
    },
    {
     "name": "stderr",
     "output_type": "stream",
     "text": [
      "[Parallel(n_jobs=1)]: Done   3 out of   3 | elapsed:    0.2s remaining:    0.0s\n"
     ]
    },
    {
     "name": "stdout",
     "output_type": "stream",
     "text": [
      "[CV] ....... max_depth=50, n_estimators=50, score=0.650, total=   0.4s\n",
      "[CV] max_depth=50, n_estimators=50 ...................................\n"
     ]
    },
    {
     "name": "stderr",
     "output_type": "stream",
     "text": [
      "[Parallel(n_jobs=1)]: Done   4 out of   4 | elapsed:    0.6s remaining:    0.0s\n"
     ]
    },
    {
     "name": "stdout",
     "output_type": "stream",
     "text": [
      "[CV] ....... max_depth=50, n_estimators=50, score=0.651, total=   0.4s\n",
      "[CV] max_depth=50, n_estimators=50 ...................................\n"
     ]
    },
    {
     "name": "stderr",
     "output_type": "stream",
     "text": [
      "[Parallel(n_jobs=1)]: Done   5 out of   5 | elapsed:    1.0s remaining:    0.0s\n"
     ]
    },
    {
     "name": "stdout",
     "output_type": "stream",
     "text": [
      "[CV] ....... max_depth=50, n_estimators=50, score=0.656, total=   0.4s\n",
      "[CV] max_depth=50, n_estimators=100 ..................................\n"
     ]
    },
    {
     "name": "stderr",
     "output_type": "stream",
     "text": [
      "[Parallel(n_jobs=1)]: Done   6 out of   6 | elapsed:    1.3s remaining:    0.0s\n"
     ]
    },
    {
     "name": "stdout",
     "output_type": "stream",
     "text": [
      "[CV] ...... max_depth=50, n_estimators=100, score=0.650, total=   0.7s\n",
      "[CV] max_depth=50, n_estimators=100 ..................................\n"
     ]
    },
    {
     "name": "stderr",
     "output_type": "stream",
     "text": [
      "[Parallel(n_jobs=1)]: Done   7 out of   7 | elapsed:    2.1s remaining:    0.0s\n"
     ]
    },
    {
     "name": "stdout",
     "output_type": "stream",
     "text": [
      "[CV] ...... max_depth=50, n_estimators=100, score=0.650, total=   0.7s\n",
      "[CV] max_depth=50, n_estimators=100 ..................................\n"
     ]
    },
    {
     "name": "stderr",
     "output_type": "stream",
     "text": [
      "[Parallel(n_jobs=1)]: Done   8 out of   8 | elapsed:    2.8s remaining:    0.0s\n"
     ]
    },
    {
     "name": "stdout",
     "output_type": "stream",
     "text": [
      "[CV] ...... max_depth=50, n_estimators=100, score=0.651, total=   0.7s\n",
      "[CV] max_depth=75, n_estimators=10 ...................................\n",
      "[CV] ....... max_depth=75, n_estimators=10, score=0.645, total=   0.1s\n",
      "[CV] max_depth=75, n_estimators=10 ...................................\n",
      "[CV] ....... max_depth=75, n_estimators=10, score=0.650, total=   0.1s\n",
      "[CV] max_depth=75, n_estimators=10 ...................................\n",
      "[CV] ....... max_depth=75, n_estimators=10, score=0.654, total=   0.1s\n",
      "[CV] max_depth=75, n_estimators=50 ...................................\n",
      "[CV] ....... max_depth=75, n_estimators=50, score=0.648, total=   0.4s\n",
      "[CV] max_depth=75, n_estimators=50 ...................................\n",
      "[CV] ....... max_depth=75, n_estimators=50, score=0.647, total=   0.4s\n",
      "[CV] max_depth=75, n_estimators=50 ...................................\n",
      "[CV] ....... max_depth=75, n_estimators=50, score=0.653, total=   0.4s\n",
      "[CV] max_depth=75, n_estimators=100 ..................................\n",
      "[CV] ...... max_depth=75, n_estimators=100, score=0.649, total=   0.8s\n",
      "[CV] max_depth=75, n_estimators=100 ..................................\n",
      "[CV] ...... max_depth=75, n_estimators=100, score=0.650, total=   0.7s\n",
      "[CV] max_depth=75, n_estimators=100 ..................................\n",
      "[CV] ...... max_depth=75, n_estimators=100, score=0.654, total=   0.7s\n",
      "[CV] max_depth=100, n_estimators=10 ..................................\n",
      "[CV] ...... max_depth=100, n_estimators=10, score=0.647, total=   0.1s\n",
      "[CV] max_depth=100, n_estimators=10 ..................................\n",
      "[CV] ...... max_depth=100, n_estimators=10, score=0.648, total=   0.1s\n",
      "[CV] max_depth=100, n_estimators=10 ..................................\n",
      "[CV] ...... max_depth=100, n_estimators=10, score=0.653, total=   0.1s\n",
      "[CV] max_depth=100, n_estimators=50 ..................................\n",
      "[CV] ...... max_depth=100, n_estimators=50, score=0.649, total=   0.4s\n",
      "[CV] max_depth=100, n_estimators=50 ..................................\n",
      "[CV] ...... max_depth=100, n_estimators=50, score=0.650, total=   0.4s\n",
      "[CV] max_depth=100, n_estimators=50 ..................................\n",
      "[CV] ...... max_depth=100, n_estimators=50, score=0.655, total=   0.4s\n",
      "[CV] max_depth=100, n_estimators=100 .................................\n",
      "[CV] ..... max_depth=100, n_estimators=100, score=0.651, total=   0.7s\n",
      "[CV] max_depth=100, n_estimators=100 .................................\n",
      "[CV] ..... max_depth=100, n_estimators=100, score=0.649, total=   0.7s\n",
      "[CV] max_depth=100, n_estimators=100 .................................\n",
      "[CV] ..... max_depth=100, n_estimators=100, score=0.654, total=   0.8s\n"
     ]
    },
    {
     "name": "stderr",
     "output_type": "stream",
     "text": [
      "[Parallel(n_jobs=1)]: Done  27 out of  27 | elapsed:   10.7s finished\n"
     ]
    },
    {
     "data": {
      "text/plain": [
       "GridSearchCV(cv=3, error_score='raise-deprecating',\n",
       "             estimator=RandomForestClassifier(bootstrap=True, class_weight=None,\n",
       "                                              criterion='gini', max_depth=None,\n",
       "                                              max_features='auto',\n",
       "                                              max_leaf_nodes=None,\n",
       "                                              min_impurity_decrease=0.0,\n",
       "                                              min_impurity_split=None,\n",
       "                                              min_samples_leaf=1,\n",
       "                                              min_samples_split=2,\n",
       "                                              min_weight_fraction_leaf=0.0,\n",
       "                                              n_estimators='warn', n_jobs=None,\n",
       "                                              oob_score=False,\n",
       "                                              random_state=None, verbose=0,\n",
       "                                              warm_start=False),\n",
       "             iid='warn', n_jobs=None,\n",
       "             param_grid={'max_depth': [50, 75, 100],\n",
       "                         'n_estimators': [10, 50, 100]},\n",
       "             pre_dispatch='2*n_jobs', refit=True, return_train_score=False,\n",
       "             scoring=None, verbose=9)"
      ]
     },
     "execution_count": 36,
     "metadata": {},
     "output_type": "execute_result"
    }
   ],
   "source": [
    "clf_pine.fit(X_pine_train, y_pine_train)"
   ]
  },
  {
   "cell_type": "code",
   "execution_count": 37,
   "metadata": {},
   "outputs": [],
   "source": [
    "y_pine_pred = clf_pine.predict(X_pine_test)"
   ]
  },
  {
   "cell_type": "code",
   "execution_count": 38,
   "metadata": {},
   "outputs": [
    {
     "data": {
      "text/plain": [
       "0.6457457133613718"
      ]
     },
     "execution_count": 38,
     "metadata": {},
     "output_type": "execute_result"
    }
   ],
   "source": [
    "accuracy_score(y_pine_pred, y_pine_test)"
   ]
  },
  {
   "cell_type": "code",
   "execution_count": 39,
   "metadata": {},
   "outputs": [
    {
     "data": {
      "text/plain": [
       "0.5943025540275049"
      ]
     },
     "execution_count": 39,
     "metadata": {},
     "output_type": "execute_result"
    }
   ],
   "source": [
    "precision_score(y_pine_pred, y_pine_test)"
   ]
  },
  {
   "cell_type": "code",
   "execution_count": 40,
   "metadata": {},
   "outputs": [
    {
     "data": {
      "text/plain": [
       "0.6561822125813449"
      ]
     },
     "execution_count": 40,
     "metadata": {},
     "output_type": "execute_result"
    }
   ],
   "source": [
    "recall_score(y_pine_pred, y_pine_test)"
   ]
  },
  {
   "cell_type": "code",
   "execution_count": 41,
   "metadata": {},
   "outputs": [
    {
     "data": {
      "text/plain": [
       "array([[2177, 1239],\n",
       "       [ 951, 1815]])"
      ]
     },
     "execution_count": 41,
     "metadata": {},
     "output_type": "execute_result"
    }
   ],
   "source": [
    "cm = confusion_matrix(y_pine_pred, y_pine_test)\n",
    "cm"
   ]
  },
  {
   "cell_type": "code",
   "execution_count": 42,
   "metadata": {},
   "outputs": [
    {
     "data": {
      "text/plain": [
       "<matplotlib.axes._subplots.AxesSubplot at 0x7f8d64d2cd30>"
      ]
     },
     "execution_count": 42,
     "metadata": {},
     "output_type": "execute_result"
    },
    {
     "data": {
      "image/png": "[encoded data removed]",
      "text/plain": [
       "<Figure size 432x288 with 2 Axes>"
      ]
     },
     "metadata": {
      "needs_background": "light"
     },
     "output_type": "display_data"
    }
   ],
   "source": [
    "sn.heatmap(cm, annot=True)"
   ]
  },
  {
   "cell_type": "code",
   "execution_count": 39,
   "metadata": {},
   "outputs": [
    {
     "data": {
      "image/png": "[encoded data removed]",
      "text/plain": [
       "<Figure size 432x288 with 1 Axes>"
      ]
     },
     "metadata": {
      "needs_background": "light"
     },
     "output_type": "display_data"
    }
   ],
   "source": [
    "features = [c[5:-16] for c in X.columns]\n",
    "importances = clf_pine.best_estimator_.feature_importances_\n",
    "indices = np.argsort(importances)\n",
    "\n",
    "plt.title('RF Pine Classifier - Feature Importances')\n",
    "plt.barh(range(len(indices)), importances[indices], color='b', align='center')\n",
    "plt.yticks(range(len(indices)), [features[i] for i in indices])\n",
    "plt.xlabel('Relative Importance')\n",
    "plt.show()"
   ]
  },
  {
   "cell_type": "markdown",
   "metadata": {},
   "source": [
    "# Spruce"
   ]
  },
  {
   "cell_type": "code",
   "execution_count": 40,
   "metadata": {},
   "outputs": [],
   "source": [
    "df['target'] = np.where(df['dominant_species'] == 'spruce', 1, 0)"
   ]
  },
  {
   "cell_type": "code",
   "execution_count": 41,
   "metadata": {},
   "outputs": [],
   "source": [
    "y_spruce = df['target']"
   ]
  },
  {
   "cell_type": "code",
   "execution_count": 42,
   "metadata": {},
   "outputs": [],
   "source": [
    "X_spruce_resampled, y_spruce_resampled = SMOTE().fit_resample(X, y_spruce)"
   ]
  },
  {
   "cell_type": "code",
   "execution_count": 43,
   "metadata": {},
   "outputs": [],
   "source": [
    "X_spruce_train, X_spruce_test, y_spruce_train, y_spruce_test = train_test_split(X_spruce_resampled, y_spruce_resampled, train_size=0.7)"
   ]
  },
  {
   "cell_type": "code",
   "execution_count": 44,
   "metadata": {},
   "outputs": [],
   "source": [
    "spruce_parameters = {'n_estimators': [100], 'max_depth': [10, 25, 50, 100]}"
   ]
  },
  {
   "cell_type": "code",
   "execution_count": 45,
   "metadata": {},
   "outputs": [],
   "source": [
    "clf_spruce = GridSearchCV(RandomForestClassifier(), param_grid=spruce_parameters, cv=10, verbose=9)"
   ]
  },
  {
   "cell_type": "code",
   "execution_count": 46,
   "metadata": {},
   "outputs": [
    {
     "name": "stdout",
     "output_type": "stream",
     "text": [
      "Fitting 10 folds for each of 4 candidates, totalling 40 fits\n",
      "[CV] max_depth=10, n_estimators=100 ..................................\n"
     ]
    },
    {
     "name": "stderr",
     "output_type": "stream",
     "text": [
      "[Parallel(n_jobs=1)]: Using backend SequentialBackend with 1 concurrent workers.\n"
     ]
    },
    {
     "name": "stdout",
     "output_type": "stream",
     "text": [
      "[CV] ...... max_depth=10, n_estimators=100, score=0.668, total=   1.2s\n",
      "[CV] max_depth=10, n_estimators=100 ..................................\n"
     ]
    },
    {
     "name": "stderr",
     "output_type": "stream",
     "text": [
      "[Parallel(n_jobs=1)]: Done   1 out of   1 | elapsed:    1.2s remaining:    0.0s\n"
     ]
    },
    {
     "name": "stdout",
     "output_type": "stream",
     "text": [
      "[CV] ...... max_depth=10, n_estimators=100, score=0.680, total=   1.2s\n",
      "[CV] max_depth=10, n_estimators=100 ..................................\n"
     ]
    },
    {
     "name": "stderr",
     "output_type": "stream",
     "text": [
      "[Parallel(n_jobs=1)]: Done   2 out of   2 | elapsed:    2.4s remaining:    0.0s\n"
     ]
    },
    {
     "name": "stdout",
     "output_type": "stream",
     "text": [
      "[CV] ...... max_depth=10, n_estimators=100, score=0.699, total=   1.2s\n",
      "[CV] max_depth=10, n_estimators=100 ..................................\n"
     ]
    },
    {
     "name": "stderr",
     "output_type": "stream",
     "text": [
      "[Parallel(n_jobs=1)]: Done   3 out of   3 | elapsed:    3.6s remaining:    0.0s\n"
     ]
    },
    {
     "name": "stdout",
     "output_type": "stream",
     "text": [
      "[CV] ...... max_depth=10, n_estimators=100, score=0.667, total=   1.3s\n",
      "[CV] max_depth=10, n_estimators=100 ..................................\n"
     ]
    },
    {
     "name": "stderr",
     "output_type": "stream",
     "text": [
      "[Parallel(n_jobs=1)]: Done   4 out of   4 | elapsed:    4.9s remaining:    0.0s\n"
     ]
    },
    {
     "name": "stdout",
     "output_type": "stream",
     "text": [
      "[CV] ...... max_depth=10, n_estimators=100, score=0.680, total=   1.2s\n",
      "[CV] max_depth=10, n_estimators=100 ..................................\n"
     ]
    },
    {
     "name": "stderr",
     "output_type": "stream",
     "text": [
      "[Parallel(n_jobs=1)]: Done   5 out of   5 | elapsed:    6.1s remaining:    0.0s\n"
     ]
    },
    {
     "name": "stdout",
     "output_type": "stream",
     "text": [
      "[CV] ...... max_depth=10, n_estimators=100, score=0.662, total=   1.2s\n",
      "[CV] max_depth=10, n_estimators=100 ..................................\n"
     ]
    },
    {
     "name": "stderr",
     "output_type": "stream",
     "text": [
      "[Parallel(n_jobs=1)]: Done   6 out of   6 | elapsed:    7.3s remaining:    0.0s\n"
     ]
    },
    {
     "name": "stdout",
     "output_type": "stream",
     "text": [
      "[CV] ...... max_depth=10, n_estimators=100, score=0.694, total=   1.2s\n",
      "[CV] max_depth=10, n_estimators=100 ..................................\n"
     ]
    },
    {
     "name": "stderr",
     "output_type": "stream",
     "text": [
      "[Parallel(n_jobs=1)]: Done   7 out of   7 | elapsed:    8.5s remaining:    0.0s\n"
     ]
    },
    {
     "name": "stdout",
     "output_type": "stream",
     "text": [
      "[CV] ...... max_depth=10, n_estimators=100, score=0.706, total=   1.2s\n",
      "[CV] max_depth=10, n_estimators=100 ..................................\n"
     ]
    },
    {
     "name": "stderr",
     "output_type": "stream",
     "text": [
      "[Parallel(n_jobs=1)]: Done   8 out of   8 | elapsed:    9.7s remaining:    0.0s\n"
     ]
    },
    {
     "name": "stdout",
     "output_type": "stream",
     "text": [
      "[CV] ...... max_depth=10, n_estimators=100, score=0.692, total=   1.2s\n",
      "[CV] max_depth=10, n_estimators=100 ..................................\n",
      "[CV] ...... max_depth=10, n_estimators=100, score=0.694, total=   1.2s\n",
      "[CV] max_depth=25, n_estimators=100 ..................................\n",
      "[CV] ...... max_depth=25, n_estimators=100, score=0.679, total=   1.3s\n",
      "[CV] max_depth=25, n_estimators=100 ..................................\n",
      "[CV] ...... max_depth=25, n_estimators=100, score=0.687, total=   1.4s\n",
      "[CV] max_depth=25, n_estimators=100 ..................................\n",
      "[CV] ...... max_depth=25, n_estimators=100, score=0.705, total=   1.4s\n",
      "[CV] max_depth=25, n_estimators=100 ..................................\n",
      "[CV] ...... max_depth=25, n_estimators=100, score=0.678, total=   1.4s\n",
      "[CV] max_depth=25, n_estimators=100 ..................................\n",
      "[CV] ...... max_depth=25, n_estimators=100, score=0.681, total=   1.4s\n",
      "[CV] max_depth=25, n_estimators=100 ..................................\n",
      "[CV] ...... max_depth=25, n_estimators=100, score=0.669, total=   1.4s\n",
      "[CV] max_depth=25, n_estimators=100 ..................................\n",
      "[CV] ...... max_depth=25, n_estimators=100, score=0.700, total=   1.4s\n",
      "[CV] max_depth=25, n_estimators=100 ..................................\n",
      "[CV] ...... max_depth=25, n_estimators=100, score=0.716, total=   1.4s\n",
      "[CV] max_depth=25, n_estimators=100 ..................................\n",
      "[CV] ...... max_depth=25, n_estimators=100, score=0.695, total=   1.4s\n",
      "[CV] max_depth=25, n_estimators=100 ..................................\n",
      "[CV] ...... max_depth=25, n_estimators=100, score=0.709, total=   1.4s\n",
      "[CV] max_depth=50, n_estimators=100 ..................................\n",
      "[CV] ...... max_depth=50, n_estimators=100, score=0.674, total=   1.4s\n",
      "[CV] max_depth=50, n_estimators=100 ..................................\n",
      "[CV] ...... max_depth=50, n_estimators=100, score=0.687, total=   1.4s\n",
      "[CV] max_depth=50, n_estimators=100 ..................................\n",
      "[CV] ...... max_depth=50, n_estimators=100, score=0.707, total=   1.4s\n",
      "[CV] max_depth=50, n_estimators=100 ..................................\n",
      "[CV] ...... max_depth=50, n_estimators=100, score=0.677, total=   1.4s\n",
      "[CV] max_depth=50, n_estimators=100 ..................................\n",
      "[CV] ...... max_depth=50, n_estimators=100, score=0.686, total=   1.4s\n",
      "[CV] max_depth=50, n_estimators=100 ..................................\n",
      "[CV] ...... max_depth=50, n_estimators=100, score=0.668, total=   1.4s\n",
      "[CV] max_depth=50, n_estimators=100 ..................................\n",
      "[CV] ...... max_depth=50, n_estimators=100, score=0.700, total=   1.4s\n",
      "[CV] max_depth=50, n_estimators=100 ..................................\n",
      "[CV] ...... max_depth=50, n_estimators=100, score=0.716, total=   1.5s\n",
      "[CV] max_depth=50, n_estimators=100 ..................................\n",
      "[CV] ...... max_depth=50, n_estimators=100, score=0.696, total=   1.5s\n",
      "[CV] max_depth=50, n_estimators=100 ..................................\n",
      "[CV] ...... max_depth=50, n_estimators=100, score=0.705, total=   1.4s\n",
      "[CV] max_depth=100, n_estimators=100 .................................\n",
      "[CV] ..... max_depth=100, n_estimators=100, score=0.677, total=   1.5s\n",
      "[CV] max_depth=100, n_estimators=100 .................................\n",
      "[CV] ..... max_depth=100, n_estimators=100, score=0.680, total=   1.4s\n",
      "[CV] max_depth=100, n_estimators=100 .................................\n",
      "[CV] ..... max_depth=100, n_estimators=100, score=0.709, total=   1.5s\n",
      "[CV] max_depth=100, n_estimators=100 .................................\n",
      "[CV] ..... max_depth=100, n_estimators=100, score=0.678, total=   1.5s\n",
      "[CV] max_depth=100, n_estimators=100 .................................\n",
      "[CV] ..... max_depth=100, n_estimators=100, score=0.684, total=   1.4s\n",
      "[CV] max_depth=100, n_estimators=100 .................................\n",
      "[CV] ..... max_depth=100, n_estimators=100, score=0.668, total=   1.4s\n",
      "[CV] max_depth=100, n_estimators=100 .................................\n",
      "[CV] ..... max_depth=100, n_estimators=100, score=0.701, total=   1.4s\n",
      "[CV] max_depth=100, n_estimators=100 .................................\n",
      "[CV] ..... max_depth=100, n_estimators=100, score=0.715, total=   1.4s\n",
      "[CV] max_depth=100, n_estimators=100 .................................\n",
      "[CV] ..... max_depth=100, n_estimators=100, score=0.701, total=   1.4s\n",
      "[CV] max_depth=100, n_estimators=100 .................................\n",
      "[CV] ..... max_depth=100, n_estimators=100, score=0.702, total=   1.4s\n"
     ]
    },
    {
     "name": "stderr",
     "output_type": "stream",
     "text": [
      "[Parallel(n_jobs=1)]: Done  40 out of  40 | elapsed:   54.4s finished\n"
     ]
    },
    {
     "data": {
      "text/plain": [
       "GridSearchCV(cv=10, error_score='raise-deprecating',\n",
       "             estimator=RandomForestClassifier(bootstrap=True, class_weight=None,\n",
       "                                              criterion='gini', max_depth=None,\n",
       "                                              max_features='auto',\n",
       "                                              max_leaf_nodes=None,\n",
       "                                              min_impurity_decrease=0.0,\n",
       "                                              min_impurity_split=None,\n",
       "                                              min_samples_leaf=1,\n",
       "                                              min_samples_split=2,\n",
       "                                              min_weight_fraction_leaf=0.0,\n",
       "                                              n_estimators='warn', n_jobs=None,\n",
       "                                              oob_score=False,\n",
       "                                              random_state=None, verbose=0,\n",
       "                                              warm_start=False),\n",
       "             iid='warn', n_jobs=None,\n",
       "             param_grid={'max_depth': [10, 25, 50, 100], 'n_estimators': [100]},\n",
       "             pre_dispatch='2*n_jobs', refit=True, return_train_score=False,\n",
       "             scoring=None, verbose=9)"
      ]
     },
     "execution_count": 46,
     "metadata": {},
     "output_type": "execute_result"
    }
   ],
   "source": [
    "clf_spruce.fit(X_spruce_train, y_spruce_train)"
   ]
  },
  {
   "cell_type": "code",
   "execution_count": 47,
   "metadata": {},
   "outputs": [
    {
     "data": {
      "text/plain": [
       "{'max_depth': 25, 'n_estimators': 100}"
      ]
     },
     "execution_count": 47,
     "metadata": {},
     "output_type": "execute_result"
    }
   ],
   "source": [
    "clf_spruce.best_params_"
   ]
  },
  {
   "cell_type": "code",
   "execution_count": 48,
   "metadata": {},
   "outputs": [],
   "source": [
    "y_spruce_pred = clf_spruce.predict(X_spruce_test)"
   ]
  },
  {
   "cell_type": "code",
   "execution_count": 49,
   "metadata": {},
   "outputs": [
    {
     "data": {
      "text/plain": [
       "0.6896446078431373"
      ]
     },
     "execution_count": 49,
     "metadata": {},
     "output_type": "execute_result"
    }
   ],
   "source": [
    "accuracy_score(y_spruce_pred, y_spruce_test)"
   ]
  },
  {
   "cell_type": "code",
   "execution_count": 50,
   "metadata": {},
   "outputs": [
    {
     "data": {
      "text/plain": [
       "array([[2743,  913],\n",
       "       [2126, 4010]])"
      ]
     },
     "execution_count": 50,
     "metadata": {},
     "output_type": "execute_result"
    }
   ],
   "source": [
    "confusion_matrix(y_spruce_pred, y_spruce_test)"
   ]
  },
  {
   "cell_type": "code",
   "execution_count": 52,
   "metadata": {},
   "outputs": [
    {
     "data": {
      "image/png": "[encoded data removed]",
      "text/plain": [
       "<Figure size 432x288 with 1 Axes>"
      ]
     },
     "metadata": {
      "needs_background": "light"
     },
     "output_type": "display_data"
    }
   ],
   "source": [
    "features = [c[5:-16] for c in X.columns]\n",
    "importances = clf_spruce.best_estimator_.feature_importances_\n",
    "indices = np.argsort(importances)\n",
    "\n",
    "plt.title('RF Spruce Classifier - Feature Importances')\n",
    "plt.barh(range(len(indices)), importances[indices], color='b', align='center')\n",
    "plt.yticks(range(len(indices)), [features[i] for i in indices])\n",
    "plt.xlabel('Relative Importance')\n",
    "plt.show()"
   ]
  },
  {
   "cell_type": "code",
   "execution_count": null,
   "metadata": {},
   "outputs": [],
   "source": []
  }
 ],
 "metadata": {
  "kernelspec": {
   "display_name": "Python 3",
   "language": "python",
   "name": "python3"
  },
  "language_info": {
   "codemirror_mode": {
    "name": "ipython",
    "version": 3
   },
   "file_extension": ".py",
   "mimetype": "text/x-python",
   "name": "python",
   "nbconvert_exporter": "python",
   "pygments_lexer": "ipython3",
   "version": "3.6.7"
  }
 },
 "nbformat": 4,
 "nbformat_minor": 2
}
