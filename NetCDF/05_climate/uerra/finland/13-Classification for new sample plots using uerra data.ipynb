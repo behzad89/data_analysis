{
 "cells": [
  {
   "cell_type": "code",
   "execution_count": 22,
   "metadata": {},
   "outputs": [],
   "source": [
    "import numpy as np\n",
    "import matplotlib.pyplot as plt\n",
    "import pandas as pd\n",
    "import seaborn as sn\n",
    "\n",
    "from geopandas import GeoDataFrame\n",
    "from imblearn.over_sampling import SMOTE\n",
    "from shapely.wkb import loads\n",
    "from sklearn.ensemble import RandomForestClassifier\n",
    "from sklearn.model_selection import StratifiedKFold, GridSearchCV, train_test_split\n",
    "from sklearn.metrics import accuracy_score, precision_score, recall_score, confusion_matrix\n",
    "from sklearn.preprocessing import LabelEncoder"
   ]
  },
  {
   "cell_type": "code",
   "execution_count": 23,
   "metadata": {},
   "outputs": [],
   "source": [
    "df = pd.read_csv('../../data/finland/new_sample_plots_uerra_cdf_features.csv')"
   ]
  },
  {
   "cell_type": "code",
   "execution_count": 24,
   "metadata": {},
   "outputs": [
    {
     "data": {
      "text/html": [
       "<div>\n",
       "<style scoped>\n",
       "    .dataframe tbody tr th:only-of-type {\n",
       "        vertical-align: middle;\n",
       "    }\n",
       "\n",
       "    .dataframe tbody tr th {\n",
       "        vertical-align: top;\n",
       "    }\n",
       "\n",
       "    .dataframe thead th {\n",
       "        text-align: right;\n",
       "    }\n",
       "</style>\n",
       "<table border=\"1\" class=\"dataframe\">\n",
       "  <thead>\n",
       "    <tr style=\"text-align: right;\">\n",
       "      <th></th>\n",
       "      <th>sampleplotid</th>\n",
       "      <th>clusterid</th>\n",
       "      <th>sampleplottype</th>\n",
       "      <th>measurementdate</th>\n",
       "      <th>center_x</th>\n",
       "      <th>center_y</th>\n",
       "      <th>center_z</th>\n",
       "      <th>mean_age_years</th>\n",
       "      <th>mean_dbh_cm</th>\n",
       "      <th>mean_height_m</th>\n",
       "      <th>...</th>\n",
       "      <th>uerra_consecutive_dry_days_index_per_time_period</th>\n",
       "      <th>uerra_number_of_cdd_periods_with_more_than_5days_per_time_period</th>\n",
       "      <th>uerra_consecutive_wet_days_index_per_time_period</th>\n",
       "      <th>uerra_number_of_cwd_periods_with_more_than_5days_per_time_period</th>\n",
       "      <th>uerra_precipitation_days_index_per_time_period</th>\n",
       "      <th>uerra_wet_days_index_per_time_period</th>\n",
       "      <th>uerra_highest_one_day_precipitation_amount_per_time_period</th>\n",
       "      <th>uerra_highest_five_day_precipitation_amount_per_time_period</th>\n",
       "      <th>uerra_number_of_5day_heavy_precipitation_periods_per_time_period</th>\n",
       "      <th>uerra_simple_daily_intensity_index_per_time_period</th>\n",
       "    </tr>\n",
       "  </thead>\n",
       "  <tbody>\n",
       "    <tr>\n",
       "      <th>0</th>\n",
       "      <td>639971</td>\n",
       "      <td>48070005</td>\n",
       "      <td>1</td>\n",
       "      <td>2017-08-14</td>\n",
       "      <td>393888.00</td>\n",
       "      <td>7401168.00</td>\n",
       "      <td>0.00</td>\n",
       "      <td>39</td>\n",
       "      <td>9.20</td>\n",
       "      <td>9.10</td>\n",
       "      <td>...</td>\n",
       "      <td>29.0</td>\n",
       "      <td>209.0</td>\n",
       "      <td>15.0</td>\n",
       "      <td>36.0</td>\n",
       "      <td>1892.0</td>\n",
       "      <td>1892.0</td>\n",
       "      <td>33.170521</td>\n",
       "      <td>33.170521</td>\n",
       "      <td>0.0</td>\n",
       "      <td>5.050500</td>\n",
       "    </tr>\n",
       "    <tr>\n",
       "      <th>1</th>\n",
       "      <td>718519</td>\n",
       "      <td>47110091</td>\n",
       "      <td>1</td>\n",
       "      <td>2018-07-18</td>\n",
       "      <td>576046.89</td>\n",
       "      <td>7395714.46</td>\n",
       "      <td>346.79</td>\n",
       "      <td>66</td>\n",
       "      <td>16.41</td>\n",
       "      <td>9.95</td>\n",
       "      <td>...</td>\n",
       "      <td>24.0</td>\n",
       "      <td>166.0</td>\n",
       "      <td>14.0</td>\n",
       "      <td>43.0</td>\n",
       "      <td>2025.0</td>\n",
       "      <td>2025.0</td>\n",
       "      <td>49.622128</td>\n",
       "      <td>49.622128</td>\n",
       "      <td>0.0</td>\n",
       "      <td>4.469509</td>\n",
       "    </tr>\n",
       "    <tr>\n",
       "      <th>2</th>\n",
       "      <td>104636</td>\n",
       "      <td>40110069</td>\n",
       "      <td>1</td>\n",
       "      <td>2011-09-26</td>\n",
       "      <td>573195.59</td>\n",
       "      <td>7037602.47</td>\n",
       "      <td>197.03</td>\n",
       "      <td>72</td>\n",
       "      <td>23.75</td>\n",
       "      <td>17.73</td>\n",
       "      <td>...</td>\n",
       "      <td>20.0</td>\n",
       "      <td>196.0</td>\n",
       "      <td>13.0</td>\n",
       "      <td>56.0</td>\n",
       "      <td>2074.0</td>\n",
       "      <td>2074.0</td>\n",
       "      <td>53.007542</td>\n",
       "      <td>53.007542</td>\n",
       "      <td>1.0</td>\n",
       "      <td>5.247389</td>\n",
       "    </tr>\n",
       "    <tr>\n",
       "      <th>3</th>\n",
       "      <td>265558</td>\n",
       "      <td>43116119</td>\n",
       "      <td>1</td>\n",
       "      <td>2013-08-29</td>\n",
       "      <td>594209.26</td>\n",
       "      <td>7181267.18</td>\n",
       "      <td>255.95</td>\n",
       "      <td>42</td>\n",
       "      <td>17.99</td>\n",
       "      <td>14.19</td>\n",
       "      <td>...</td>\n",
       "      <td>25.0</td>\n",
       "      <td>174.0</td>\n",
       "      <td>12.0</td>\n",
       "      <td>58.0</td>\n",
       "      <td>2158.0</td>\n",
       "      <td>2158.0</td>\n",
       "      <td>43.480469</td>\n",
       "      <td>43.480469</td>\n",
       "      <td>0.0</td>\n",
       "      <td>5.019283</td>\n",
       "    </tr>\n",
       "    <tr>\n",
       "      <th>4</th>\n",
       "      <td>696784</td>\n",
       "      <td>39100744</td>\n",
       "      <td>1</td>\n",
       "      <td>2018-08-13</td>\n",
       "      <td>546924.17</td>\n",
       "      <td>6997684.98</td>\n",
       "      <td>124.56</td>\n",
       "      <td>14</td>\n",
       "      <td>6.95</td>\n",
       "      <td>7.19</td>\n",
       "      <td>...</td>\n",
       "      <td>47.0</td>\n",
       "      <td>214.0</td>\n",
       "      <td>13.0</td>\n",
       "      <td>32.0</td>\n",
       "      <td>1844.0</td>\n",
       "      <td>1844.0</td>\n",
       "      <td>60.879169</td>\n",
       "      <td>60.879169</td>\n",
       "      <td>1.0</td>\n",
       "      <td>5.115222</td>\n",
       "    </tr>\n",
       "  </tbody>\n",
       "</table>\n",
       "<p>5 rows × 54 columns</p>\n",
       "</div>"
      ],
      "text/plain": [
       "   sampleplotid  clusterid  sampleplottype measurementdate   center_x  \\\n",
       "0        639971   48070005               1      2017-08-14  393888.00   \n",
       "1        718519   47110091               1      2018-07-18  576046.89   \n",
       "2        104636   40110069               1      2011-09-26  573195.59   \n",
       "3        265558   43116119               1      2013-08-29  594209.26   \n",
       "4        696784   39100744               1      2018-08-13  546924.17   \n",
       "\n",
       "     center_y  center_z  mean_age_years  mean_dbh_cm  mean_height_m  ...  \\\n",
       "0  7401168.00      0.00              39         9.20           9.10  ...   \n",
       "1  7395714.46    346.79              66        16.41           9.95  ...   \n",
       "2  7037602.47    197.03              72        23.75          17.73  ...   \n",
       "3  7181267.18    255.95              42        17.99          14.19  ...   \n",
       "4  6997684.98    124.56              14         6.95           7.19  ...   \n",
       "\n",
       "  uerra_consecutive_dry_days_index_per_time_period  \\\n",
       "0                                             29.0   \n",
       "1                                             24.0   \n",
       "2                                             20.0   \n",
       "3                                             25.0   \n",
       "4                                             47.0   \n",
       "\n",
       "   uerra_number_of_cdd_periods_with_more_than_5days_per_time_period  \\\n",
       "0                                              209.0                  \n",
       "1                                              166.0                  \n",
       "2                                              196.0                  \n",
       "3                                              174.0                  \n",
       "4                                              214.0                  \n",
       "\n",
       "   uerra_consecutive_wet_days_index_per_time_period  \\\n",
       "0                                              15.0   \n",
       "1                                              14.0   \n",
       "2                                              13.0   \n",
       "3                                              12.0   \n",
       "4                                              13.0   \n",
       "\n",
       "   uerra_number_of_cwd_periods_with_more_than_5days_per_time_period  \\\n",
       "0                                               36.0                  \n",
       "1                                               43.0                  \n",
       "2                                               56.0                  \n",
       "3                                               58.0                  \n",
       "4                                               32.0                  \n",
       "\n",
       "   uerra_precipitation_days_index_per_time_period  \\\n",
       "0                                          1892.0   \n",
       "1                                          2025.0   \n",
       "2                                          2074.0   \n",
       "3                                          2158.0   \n",
       "4                                          1844.0   \n",
       "\n",
       "   uerra_wet_days_index_per_time_period  \\\n",
       "0                                1892.0   \n",
       "1                                2025.0   \n",
       "2                                2074.0   \n",
       "3                                2158.0   \n",
       "4                                1844.0   \n",
       "\n",
       "   uerra_highest_one_day_precipitation_amount_per_time_period  \\\n",
       "0                                          33.170521            \n",
       "1                                          49.622128            \n",
       "2                                          53.007542            \n",
       "3                                          43.480469            \n",
       "4                                          60.879169            \n",
       "\n",
       "   uerra_highest_five_day_precipitation_amount_per_time_period  \\\n",
       "0                                          33.170521             \n",
       "1                                          49.622128             \n",
       "2                                          53.007542             \n",
       "3                                          43.480469             \n",
       "4                                          60.879169             \n",
       "\n",
       "   uerra_number_of_5day_heavy_precipitation_periods_per_time_period  \\\n",
       "0                                                0.0                  \n",
       "1                                                0.0                  \n",
       "2                                                1.0                  \n",
       "3                                                0.0                  \n",
       "4                                                1.0                  \n",
       "\n",
       "   uerra_simple_daily_intensity_index_per_time_period  \n",
       "0                                           5.050500   \n",
       "1                                           4.469509   \n",
       "2                                           5.247389   \n",
       "3                                           5.019283   \n",
       "4                                           5.115222   \n",
       "\n",
       "[5 rows x 54 columns]"
      ]
     },
     "execution_count": 24,
     "metadata": {},
     "output_type": "execute_result"
    }
   ],
   "source": [
    "df.head()"
   ]
  },
  {
   "cell_type": "code",
   "execution_count": 25,
   "metadata": {},
   "outputs": [
    {
     "data": {
      "text/plain": [
       "Index(['sampleplotid', 'clusterid', 'sampleplottype', 'measurementdate',\n",
       "       'center_x', 'center_y', 'center_z', 'mean_age_years', 'mean_dbh_cm',\n",
       "       'mean_height_m', 'main_species_en', 'total_m3_ha', 'pine_m3_ha',\n",
       "       'spruce_m3_ha', 'birch_m3_ha', 'other_bl_m3_ha', 'pine_percent',\n",
       "       'spruce_percent', 'birch_percent', 'other_bl_percent',\n",
       "       'is_timber_defined', 'total_timber_m3_ha', 'pine_timber_m3_ha',\n",
       "       'spruce_timber_m3_ha', 'birch_timber_m3_ha', 'other_bl_timber_m3_ha',\n",
       "       'total_stems_ha', 'pine_stems_ha', 'spruce_stems_ha', 'birch_stems_ha',\n",
       "       'other_bl_stems_ha', 'total_m2_ha', 'pine_m2_ha', 'spruce_m2_ha',\n",
       "       'birch_m2_ha', 'other_bl_m2_ha', 'geometry',\n",
       "       'uerra_consecutive_frost_days_index_per_time_period',\n",
       "       'uerra_number_of_cfd_periods_with_more_than_5days_per_time_period',\n",
       "       'uerra_frost_days_index_per_time_period',\n",
       "       'uerra_consecutive_summer_days_index_per_time_period',\n",
       "       'uerra_number_of_csu_periods_with_more_than_5days_per_time_period',\n",
       "       'uerra_ice_days_index_per_time_period',\n",
       "       'uerra_summer_days_index_per_time_period',\n",
       "       'uerra_consecutive_dry_days_index_per_time_period',\n",
       "       'uerra_number_of_cdd_periods_with_more_than_5days_per_time_period',\n",
       "       'uerra_consecutive_wet_days_index_per_time_period',\n",
       "       'uerra_number_of_cwd_periods_with_more_than_5days_per_time_period',\n",
       "       'uerra_precipitation_days_index_per_time_period',\n",
       "       'uerra_wet_days_index_per_time_period',\n",
       "       'uerra_highest_one_day_precipitation_amount_per_time_period',\n",
       "       'uerra_highest_five_day_precipitation_amount_per_time_period',\n",
       "       'uerra_number_of_5day_heavy_precipitation_periods_per_time_period',\n",
       "       'uerra_simple_daily_intensity_index_per_time_period'],\n",
       "      dtype='object')"
      ]
     },
     "execution_count": 25,
     "metadata": {},
     "output_type": "execute_result"
    }
   ],
   "source": [
    "df.columns"
   ]
  },
  {
   "cell_type": "markdown",
   "metadata": {},
   "source": [
    "# Pine Classifier"
   ]
  },
  {
   "cell_type": "code",
   "execution_count": 26,
   "metadata": {},
   "outputs": [],
   "source": [
    "df['target'] = np.where(df['pine_percent'] > 0.5, 1, 0)"
   ]
  },
  {
   "cell_type": "code",
   "execution_count": 27,
   "metadata": {},
   "outputs": [],
   "source": [
    "columns = [c for c in df.columns if 'uerra' in c]"
   ]
  },
  {
   "cell_type": "code",
   "execution_count": 28,
   "metadata": {},
   "outputs": [],
   "source": [
    "X = df[columns]"
   ]
  },
  {
   "cell_type": "code",
   "execution_count": 29,
   "metadata": {},
   "outputs": [],
   "source": [
    "y_pine = df['target']"
   ]
  },
  {
   "cell_type": "code",
   "execution_count": 30,
   "metadata": {},
   "outputs": [],
   "source": [
    "X_pine_resampled, y_pine_resampled = SMOTE().fit_resample(X, y_pine)"
   ]
  },
  {
   "cell_type": "code",
   "execution_count": 31,
   "metadata": {},
   "outputs": [],
   "source": [
    "X_pine_train, X_pine_test, y_pine_train, y_pine_test = train_test_split(X_pine_resampled, y_pine_resampled, train_size=0.7)"
   ]
  },
  {
   "cell_type": "code",
   "execution_count": 32,
   "metadata": {},
   "outputs": [],
   "source": [
    "pine_parameters = {'n_estimators': [100], 'max_depth': [10, 25, 50]}"
   ]
  },
  {
   "cell_type": "code",
   "execution_count": 33,
   "metadata": {},
   "outputs": [],
   "source": [
    "clf_pine = GridSearchCV(RandomForestClassifier(), cv=3, param_grid=pine_parameters, verbose=9)"
   ]
  },
  {
   "cell_type": "code",
   "execution_count": 34,
   "metadata": {},
   "outputs": [
    {
     "name": "stdout",
     "output_type": "stream",
     "text": [
      "Fitting 3 folds for each of 3 candidates, totalling 9 fits\n",
      "[CV] max_depth=10, n_estimators=100 ..................................\n"
     ]
    },
    {
     "name": "stderr",
     "output_type": "stream",
     "text": [
      "[Parallel(n_jobs=1)]: Using backend SequentialBackend with 1 concurrent workers.\n"
     ]
    },
    {
     "name": "stdout",
     "output_type": "stream",
     "text": [
      "[CV] ...... max_depth=10, n_estimators=100, score=0.721, total=   6.1s\n",
      "[CV] max_depth=10, n_estimators=100 ..................................\n"
     ]
    },
    {
     "name": "stderr",
     "output_type": "stream",
     "text": [
      "[Parallel(n_jobs=1)]: Done   1 out of   1 | elapsed:    6.1s remaining:    0.0s\n"
     ]
    },
    {
     "name": "stdout",
     "output_type": "stream",
     "text": [
      "[CV] ...... max_depth=10, n_estimators=100, score=0.720, total=   6.1s\n",
      "[CV] max_depth=10, n_estimators=100 ..................................\n"
     ]
    },
    {
     "name": "stderr",
     "output_type": "stream",
     "text": [
      "[Parallel(n_jobs=1)]: Done   2 out of   2 | elapsed:   12.2s remaining:    0.0s\n"
     ]
    },
    {
     "name": "stdout",
     "output_type": "stream",
     "text": [
      "[CV] ...... max_depth=10, n_estimators=100, score=0.714, total=   6.1s\n",
      "[CV] max_depth=25, n_estimators=100 ..................................\n"
     ]
    },
    {
     "name": "stderr",
     "output_type": "stream",
     "text": [
      "[Parallel(n_jobs=1)]: Done   3 out of   3 | elapsed:   18.3s remaining:    0.0s\n"
     ]
    },
    {
     "name": "stdout",
     "output_type": "stream",
     "text": [
      "[CV] ...... max_depth=25, n_estimators=100, score=0.772, total=   9.4s\n",
      "[CV] max_depth=25, n_estimators=100 ..................................\n"
     ]
    },
    {
     "name": "stderr",
     "output_type": "stream",
     "text": [
      "[Parallel(n_jobs=1)]: Done   4 out of   4 | elapsed:   27.7s remaining:    0.0s\n"
     ]
    },
    {
     "name": "stdout",
     "output_type": "stream",
     "text": [
      "[CV] ...... max_depth=25, n_estimators=100, score=0.769, total=   9.4s\n",
      "[CV] max_depth=25, n_estimators=100 ..................................\n"
     ]
    },
    {
     "name": "stderr",
     "output_type": "stream",
     "text": [
      "[Parallel(n_jobs=1)]: Done   5 out of   5 | elapsed:   37.1s remaining:    0.0s\n"
     ]
    },
    {
     "name": "stdout",
     "output_type": "stream",
     "text": [
      "[CV] ...... max_depth=25, n_estimators=100, score=0.769, total=   9.4s\n",
      "[CV] max_depth=50, n_estimators=100 ..................................\n"
     ]
    },
    {
     "name": "stderr",
     "output_type": "stream",
     "text": [
      "[Parallel(n_jobs=1)]: Done   6 out of   6 | elapsed:   46.5s remaining:    0.0s\n"
     ]
    },
    {
     "name": "stdout",
     "output_type": "stream",
     "text": [
      "[CV] ...... max_depth=50, n_estimators=100, score=0.772, total=   9.7s\n",
      "[CV] max_depth=50, n_estimators=100 ..................................\n"
     ]
    },
    {
     "name": "stderr",
     "output_type": "stream",
     "text": [
      "[Parallel(n_jobs=1)]: Done   7 out of   7 | elapsed:   56.2s remaining:    0.0s\n"
     ]
    },
    {
     "name": "stdout",
     "output_type": "stream",
     "text": [
      "[CV] ...... max_depth=50, n_estimators=100, score=0.770, total=   9.7s\n",
      "[CV] max_depth=50, n_estimators=100 ..................................\n"
     ]
    },
    {
     "name": "stderr",
     "output_type": "stream",
     "text": [
      "[Parallel(n_jobs=1)]: Done   8 out of   8 | elapsed:  1.1min remaining:    0.0s\n"
     ]
    },
    {
     "name": "stdout",
     "output_type": "stream",
     "text": [
      "[CV] ...... max_depth=50, n_estimators=100, score=0.768, total=   9.4s\n"
     ]
    },
    {
     "name": "stderr",
     "output_type": "stream",
     "text": [
      "[Parallel(n_jobs=1)]: Done   9 out of   9 | elapsed:  1.3min finished\n"
     ]
    },
    {
     "data": {
      "text/plain": [
       "GridSearchCV(cv=3, error_score='raise-deprecating',\n",
       "             estimator=RandomForestClassifier(bootstrap=True, class_weight=None,\n",
       "                                              criterion='gini', max_depth=None,\n",
       "                                              max_features='auto',\n",
       "                                              max_leaf_nodes=None,\n",
       "                                              min_impurity_decrease=0.0,\n",
       "                                              min_impurity_split=None,\n",
       "                                              min_samples_leaf=1,\n",
       "                                              min_samples_split=2,\n",
       "                                              min_weight_fraction_leaf=0.0,\n",
       "                                              n_estimators='warn', n_jobs=None,\n",
       "                                              oob_score=False,\n",
       "                                              random_state=None, verbose=0,\n",
       "                                              warm_start=False),\n",
       "             iid='warn', n_jobs=None,\n",
       "             param_grid={'max_depth': [10, 25, 50], 'n_estimators': [100]},\n",
       "             pre_dispatch='2*n_jobs', refit=True, return_train_score=False,\n",
       "             scoring=None, verbose=9)"
      ]
     },
     "execution_count": 34,
     "metadata": {},
     "output_type": "execute_result"
    }
   ],
   "source": [
    "clf_pine.fit(X_pine_train, y_pine_train)"
   ]
  },
  {
   "cell_type": "code",
   "execution_count": 35,
   "metadata": {},
   "outputs": [],
   "source": [
    "y_pine_pred = clf_pine.predict(X_pine_test)"
   ]
  },
  {
   "cell_type": "code",
   "execution_count": 16,
   "metadata": {},
   "outputs": [
    {
     "data": {
      "text/plain": [
       "0.7852208721527507"
      ]
     },
     "execution_count": 16,
     "metadata": {},
     "output_type": "execute_result"
    }
   ],
   "source": [
    "accuracy_score(y_pine_pred, y_pine_test)"
   ]
  },
  {
   "cell_type": "code",
   "execution_count": 36,
   "metadata": {},
   "outputs": [
    {
     "data": {
      "text/plain": [
       "0.7564546933578553"
      ]
     },
     "execution_count": 36,
     "metadata": {},
     "output_type": "execute_result"
    }
   ],
   "source": [
    "precision_score(y_pine_pred, y_pine_test)"
   ]
  },
  {
   "cell_type": "code",
   "execution_count": 37,
   "metadata": {},
   "outputs": [
    {
     "data": {
      "text/plain": [
       "0.8014689350221089"
      ]
     },
     "execution_count": 37,
     "metadata": {},
     "output_type": "execute_result"
    }
   ],
   "source": [
    "recall_score(y_pine_pred, y_pine_test)"
   ]
  },
  {
   "cell_type": "code",
   "execution_count": 38,
   "metadata": {},
   "outputs": [
    {
     "data": {
      "text/plain": [
       "array([[11443,  3443],\n",
       "       [ 2649, 10694]])"
      ]
     },
     "execution_count": 38,
     "metadata": {},
     "output_type": "execute_result"
    }
   ],
   "source": [
    "cm = confusion_matrix(y_pine_pred, y_pine_test)\n",
    "cm"
   ]
  },
  {
   "cell_type": "code",
   "execution_count": 39,
   "metadata": {},
   "outputs": [
    {
     "data": {
      "text/plain": [
       "<matplotlib.axes._subplots.AxesSubplot at 0x7f265e39c518>"
      ]
     },
     "execution_count": 39,
     "metadata": {},
     "output_type": "execute_result"
    },
    {
     "data": {
      "image/png": "[encoded data removed]",
      "text/plain": [
       "<Figure size 432x288 with 2 Axes>"
      ]
     },
     "metadata": {
      "needs_background": "light"
     },
     "output_type": "display_data"
    }
   ],
   "source": [
    "sn.heatmap(cm, annot=True)"
   ]
  },
  {
   "cell_type": "code",
   "execution_count": 56,
   "metadata": {},
   "outputs": [
    {
     "data": {
      "image/png": "[encoded data removed]",
      "text/plain": [
       "<Figure size 432x288 with 1 Axes>"
      ]
     },
     "metadata": {
      "needs_background": "light"
     },
     "output_type": "display_data"
    }
   ],
   "source": [
    "features = [c[6:-16] for c in X.columns]\n",
    "importances = clf_pine.best_estimator_.feature_importances_\n",
    "indices = np.argsort(importances)\n",
    "\n",
    "plt.title('Pine Classifier - Feature Importances')\n",
    "plt.barh(range(len(indices)), importances[indices], color='b', align='center')\n",
    "plt.yticks(range(len(indices)), [features[i] for i in indices])\n",
    "plt.xlabel('Relative Importance')\n",
    "plt.show()"
   ]
  },
  {
   "cell_type": "markdown",
   "metadata": {},
   "source": [
    "# Spruce"
   ]
  },
  {
   "cell_type": "code",
   "execution_count": 41,
   "metadata": {},
   "outputs": [],
   "source": [
    "df['target'] = np.where(df['spruce_percent'] > 0.5, 1, 0)"
   ]
  },
  {
   "cell_type": "code",
   "execution_count": 42,
   "metadata": {},
   "outputs": [],
   "source": [
    "y_spruce = df['target']"
   ]
  },
  {
   "cell_type": "code",
   "execution_count": 43,
   "metadata": {},
   "outputs": [],
   "source": [
    "X_spruce_resampled, y_spruce_resampled = SMOTE().fit_resample(X, y_spruce)"
   ]
  },
  {
   "cell_type": "code",
   "execution_count": 44,
   "metadata": {},
   "outputs": [],
   "source": [
    "X_spruce_train, X_spruce_test, y_spruce_train, y_spruce_test = train_test_split(X_spruce_resampled, y_spruce_resampled, train_size=0.7)"
   ]
  },
  {
   "cell_type": "code",
   "execution_count": 45,
   "metadata": {},
   "outputs": [],
   "source": [
    "spruce_parameters = {'n_estimators': [100], 'max_depth': [100]}"
   ]
  },
  {
   "cell_type": "code",
   "execution_count": 46,
   "metadata": {},
   "outputs": [],
   "source": [
    "clf_spruce = GridSearchCV(RandomForestClassifier(), param_grid=spruce_parameters, cv=3, verbose=9)"
   ]
  },
  {
   "cell_type": "code",
   "execution_count": 47,
   "metadata": {},
   "outputs": [
    {
     "name": "stdout",
     "output_type": "stream",
     "text": [
      "Fitting 3 folds for each of 1 candidates, totalling 3 fits\n",
      "[CV] max_depth=100, n_estimators=100 .................................\n"
     ]
    },
    {
     "name": "stderr",
     "output_type": "stream",
     "text": [
      "[Parallel(n_jobs=1)]: Using backend SequentialBackend with 1 concurrent workers.\n"
     ]
    },
    {
     "name": "stdout",
     "output_type": "stream",
     "text": [
      "[CV] ..... max_depth=100, n_estimators=100, score=0.726, total=   8.9s\n",
      "[CV] max_depth=100, n_estimators=100 .................................\n"
     ]
    },
    {
     "name": "stderr",
     "output_type": "stream",
     "text": [
      "[Parallel(n_jobs=1)]: Done   1 out of   1 | elapsed:    8.9s remaining:    0.0s\n"
     ]
    },
    {
     "name": "stdout",
     "output_type": "stream",
     "text": [
      "[CV] ..... max_depth=100, n_estimators=100, score=0.729, total=   9.1s\n",
      "[CV] max_depth=100, n_estimators=100 .................................\n"
     ]
    },
    {
     "name": "stderr",
     "output_type": "stream",
     "text": [
      "[Parallel(n_jobs=1)]: Done   2 out of   2 | elapsed:   18.0s remaining:    0.0s\n"
     ]
    },
    {
     "name": "stdout",
     "output_type": "stream",
     "text": [
      "[CV] ..... max_depth=100, n_estimators=100, score=0.730, total=   8.8s\n"
     ]
    },
    {
     "name": "stderr",
     "output_type": "stream",
     "text": [
      "[Parallel(n_jobs=1)]: Done   3 out of   3 | elapsed:   26.8s remaining:    0.0s\n",
      "[Parallel(n_jobs=1)]: Done   3 out of   3 | elapsed:   26.8s finished\n"
     ]
    },
    {
     "data": {
      "text/plain": [
       "GridSearchCV(cv=3, error_score='raise-deprecating',\n",
       "             estimator=RandomForestClassifier(bootstrap=True, class_weight=None,\n",
       "                                              criterion='gini', max_depth=None,\n",
       "                                              max_features='auto',\n",
       "                                              max_leaf_nodes=None,\n",
       "                                              min_impurity_decrease=0.0,\n",
       "                                              min_impurity_split=None,\n",
       "                                              min_samples_leaf=1,\n",
       "                                              min_samples_split=2,\n",
       "                                              min_weight_fraction_leaf=0.0,\n",
       "                                              n_estimators='warn', n_jobs=None,\n",
       "                                              oob_score=False,\n",
       "                                              random_state=None, verbose=0,\n",
       "                                              warm_start=False),\n",
       "             iid='warn', n_jobs=None,\n",
       "             param_grid={'max_depth': [100], 'n_estimators': [100]},\n",
       "             pre_dispatch='2*n_jobs', refit=True, return_train_score=False,\n",
       "             scoring=None, verbose=9)"
      ]
     },
     "execution_count": 47,
     "metadata": {},
     "output_type": "execute_result"
    }
   ],
   "source": [
    "clf_spruce.fit(X_spruce_train, y_spruce_train)"
   ]
  },
  {
   "cell_type": "code",
   "execution_count": 48,
   "metadata": {},
   "outputs": [
    {
     "data": {
      "text/plain": [
       "{'max_depth': 100, 'n_estimators': 100}"
      ]
     },
     "execution_count": 48,
     "metadata": {},
     "output_type": "execute_result"
    }
   ],
   "source": [
    "clf_spruce.best_params_"
   ]
  },
  {
   "cell_type": "code",
   "execution_count": 49,
   "metadata": {},
   "outputs": [],
   "source": [
    "y_spruce_pred = clf_spruce.predict(X_spruce_test)"
   ]
  },
  {
   "cell_type": "code",
   "execution_count": 50,
   "metadata": {},
   "outputs": [
    {
     "data": {
      "text/plain": [
       "0.7417403443462075"
      ]
     },
     "execution_count": 50,
     "metadata": {},
     "output_type": "execute_result"
    }
   ],
   "source": [
    "accuracy_score(y_spruce_pred, y_spruce_test)"
   ]
  },
  {
   "cell_type": "code",
   "execution_count": 51,
   "metadata": {},
   "outputs": [
    {
     "data": {
      "text/plain": [
       "0.7575781189121795"
      ]
     },
     "execution_count": 51,
     "metadata": {},
     "output_type": "execute_result"
    }
   ],
   "source": [
    "precision_score(y_spruce_pred, y_spruce_test)"
   ]
  },
  {
   "cell_type": "code",
   "execution_count": 52,
   "metadata": {},
   "outputs": [
    {
     "data": {
      "text/plain": [
       "0.7325747871298319"
      ]
     },
     "execution_count": 52,
     "metadata": {},
     "output_type": "execute_result"
    }
   ],
   "source": [
    "recall_score(y_spruce_pred, y_spruce_test)"
   ]
  },
  {
   "cell_type": "code",
   "execution_count": 53,
   "metadata": {},
   "outputs": [
    {
     "data": {
      "text/plain": [
       "array([[9406, 3111],\n",
       "       [3549, 9722]])"
      ]
     },
     "execution_count": 53,
     "metadata": {},
     "output_type": "execute_result"
    }
   ],
   "source": [
    "cm = confusion_matrix(y_spruce_pred, y_spruce_test)\n",
    "cm"
   ]
  },
  {
   "cell_type": "code",
   "execution_count": 54,
   "metadata": {},
   "outputs": [
    {
     "data": {
      "text/plain": [
       "<matplotlib.axes._subplots.AxesSubplot at 0x7f2666c480f0>"
      ]
     },
     "execution_count": 54,
     "metadata": {},
     "output_type": "execute_result"
    },
    {
     "data": {
      "image/png": "[encoded data removed]",
      "text/plain": [
       "<Figure size 432x288 with 2 Axes>"
      ]
     },
     "metadata": {
      "needs_background": "light"
     },
     "output_type": "display_data"
    }
   ],
   "source": [
    "sn.heatmap(cm, annot=True)"
   ]
  },
  {
   "cell_type": "code",
   "execution_count": 55,
   "metadata": {},
   "outputs": [
    {
     "data": {
      "image/png": "[encoded data removed]",
      "text/plain": [
       "<Figure size 432x288 with 1 Axes>"
      ]
     },
     "metadata": {
      "needs_background": "light"
     },
     "output_type": "display_data"
    }
   ],
   "source": [
    "features = [c[0:-16] for c in X.columns]\n",
    "importances = clf_spruce.best_estimator_.feature_importances_\n",
    "indices = np.argsort(importances)\n",
    "\n",
    "plt.title('RF Spruce Classifier - Feature Importances')\n",
    "plt.barh(range(len(indices)), importances[indices], color='b', align='center')\n",
    "plt.yticks(range(len(indices)), [features[i] for i in indices])\n",
    "plt.xlabel('Relative Importance')\n",
    "plt.show()"
   ]
  },
  {
   "cell_type": "code",
   "execution_count": null,
   "metadata": {},
   "outputs": [],
   "source": []
  }
 ],
 "metadata": {
  "kernelspec": {
   "display_name": "Python 3",
   "language": "python",
   "name": "python3"
  },
  "language_info": {
   "codemirror_mode": {
    "name": "ipython",
    "version": 3
   },
   "file_extension": ".py",
   "mimetype": "text/x-python",
   "name": "python",
   "nbconvert_exporter": "python",
   "pygments_lexer": "ipython3",
   "version": "3.6.7"
  }
 },
 "nbformat": 4,
 "nbformat_minor": 2
}
