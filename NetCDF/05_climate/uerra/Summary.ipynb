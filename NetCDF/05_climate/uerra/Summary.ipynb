{
 "cells": [
  {
   "cell_type": "markdown",
   "metadata": {},
   "source": [
    "# Finland"
   ]
  },
  {
   "cell_type": "markdown",
   "metadata": {},
   "source": [
    "Old sample plots dataset"
   ]
  },
  {
   "cell_type": "markdown",
   "metadata": {},
   "source": [
    "| DATASET        |  TARGET   | ACCURACY |\n",
    "|----------------|---------- |---------:| \n",
    "| ERA 5          |MULTICLASS | 0.49     |\n",
    "| MESCAN-SURFEX  |MULTICLASS | 0.51     |\n",
    "| ERA 5          |PINE       | 0.65     |\n",
    "| MESCAN-SURFEX  |PINE       | 0.68     |\n",
    "| ERA 5          |SPRUCE     | 0.69     |\n",
    "| MESCAN-SURFEX  |SPRUCE     | 0.81     |"
   ]
  },
  {
   "cell_type": "markdown",
   "metadata": {},
   "source": [
    "NEW sample plots (Metsakeskus) dataset"
   ]
  },
  {
   "cell_type": "markdown",
   "metadata": {},
   "source": [
    "| DATASET        |  TARGET   | ACCURACY |\n",
    "|----------------|---------- |---------:| \n",
    "| ERA 5          |PINE       | 0.68     |\n",
    "| MESCAN-SURFEX  |PINE       | 0.78     |\n",
    "| ERA 5          |SPRUCE     | 0.66     |\n",
    "| MESCAN-SURFEX  |SPRUCE     | 0.74     |"
   ]
  },
  {
   "cell_type": "markdown",
   "metadata": {},
   "source": [
    "# Sweden"
   ]
  },
  {
   "cell_type": "markdown",
   "metadata": {},
   "source": [
    "| DATASET        | TARGET     | ACCURACY | F1-SCORE | PRECISION | RECALL |\n",
    "|----------------|------------|---------:|---------:|----------:|--------|\n",
    "| ERA 5          | MULTICLASS | TODO     |          |           |        |\n",
    "| MESCAN-SURFEX  | MULTICLASS | TODO     |          |           |        |\n",
    "| ERA 5          | PINE       | 0.66     |          |           |        |\n",
    "| MESCAN-SURFEX  | PINE       | 0.69     | 0.70     | 0.71      | 0.68   |\n",
    "| ERA 5          | SPRUCE     | 0.63     |          |           |        |\n",
    "| MESCAN-SURFEX  | SPRUCE     | 0.69     | 0.70     | 0.71      | 0.68   |"
   ]
  },
  {
   "cell_type": "code",
   "execution_count": null,
   "metadata": {},
   "outputs": [],
   "source": []
  }
 ],
 "metadata": {
  "kernelspec": {
   "display_name": "Python 3",
   "language": "python",
   "name": "python3"
  },
  "language_info": {
   "codemirror_mode": {
    "name": "ipython",
    "version": 3
   },
   "file_extension": ".py",
   "mimetype": "text/x-python",
   "name": "python",
   "nbconvert_exporter": "python",
   "pygments_lexer": "ipython3",
   "version": "3.6.7"
  }
 },
 "nbformat": 4,
 "nbformat_minor": 2
}
