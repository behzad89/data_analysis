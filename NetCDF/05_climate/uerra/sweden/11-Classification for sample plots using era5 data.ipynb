{
 "cells": [
  {
   "cell_type": "code",
   "execution_count": 1,
   "metadata": {},
   "outputs": [
    {
     "name": "stderr",
     "output_type": "stream",
     "text": [
      "/home/sato/linda-forest-climate/notebooks/env/lib/python3.6/site-packages/sklearn/externals/six.py:31: DeprecationWarning: The module is deprecated in version 0.21 and will be removed in version 0.23 since we've dropped support for Python 2.7. Please rely on the official version of six (https://pypi.org/project/six/).\n",
      "  \"(https://pypi.org/project/six/).\", DeprecationWarning)\n"
     ]
    }
   ],
   "source": [
    "import numpy as np\n",
    "import matplotlib.pyplot as plt\n",
    "import pandas as pd\n",
    "import seaborn as sn\n",
    "\n",
    "from imblearn.over_sampling import SMOTE\n",
    "from sklearn.ensemble import RandomForestClassifier\n",
    "from sklearn.model_selection import StratifiedKFold, GridSearchCV, train_test_split\n",
    "from sklearn.metrics import accuracy_score, precision_score, recall_score, confusion_matrix\n",
    "from sklearn.preprocessing import LabelEncoder"
   ]
  },
  {
   "cell_type": "code",
   "execution_count": 2,
   "metadata": {},
   "outputs": [],
   "source": [
    "df = pd.read_csv('../../data/sweden/sample_plots_all_features.csv')"
   ]
  },
  {
   "cell_type": "code",
   "execution_count": 3,
   "metadata": {},
   "outputs": [
    {
     "data": {
      "text/html": [
       "<div>\n",
       "<style scoped>\n",
       "    .dataframe tbody tr th:only-of-type {\n",
       "        vertical-align: middle;\n",
       "    }\n",
       "\n",
       "    .dataframe tbody tr th {\n",
       "        vertical-align: top;\n",
       "    }\n",
       "\n",
       "    .dataframe thead th {\n",
       "        text-align: right;\n",
       "    }\n",
       "</style>\n",
       "<table border=\"1\" class=\"dataframe\">\n",
       "  <thead>\n",
       "    <tr style=\"text-align: right;\">\n",
       "      <th></th>\n",
       "      <th>year</th>\n",
       "      <th>plotid</th>\n",
       "      <th>landuseclass</th>\n",
       "      <th>easting</th>\n",
       "      <th>northing</th>\n",
       "      <th>longitude</th>\n",
       "      <th>latitude</th>\n",
       "      <th>volbirch</th>\n",
       "      <th>volcontorta</th>\n",
       "      <th>volpine</th>\n",
       "      <th>...</th>\n",
       "      <th>era5_consecutive_dry_days_index_per_time_period</th>\n",
       "      <th>era5_number_of_cdd_periods_with_more_than_5days_per_time_period</th>\n",
       "      <th>era5_consecutive_wet_days_index_per_time_period</th>\n",
       "      <th>era5_number_of_cwd_periods_with_more_than_5days_per_time_period</th>\n",
       "      <th>era5_precipitation_days_index_per_time_period</th>\n",
       "      <th>era5_wet_days_index_per_time_period</th>\n",
       "      <th>era5_highest_one_day_precipitation_amount_per_time_period</th>\n",
       "      <th>era5_highest_five_day_precipitation_amount_per_time_period</th>\n",
       "      <th>era5_number_of_5day_heavy_precipitation_periods_per_time_period</th>\n",
       "      <th>era5_simple_daily_intensity_index_per_time_period</th>\n",
       "    </tr>\n",
       "  </thead>\n",
       "  <tbody>\n",
       "    <tr>\n",
       "      <th>0</th>\n",
       "      <td>2007</td>\n",
       "      <td>106</td>\n",
       "      <td>Skogsm</td>\n",
       "      <td>669894</td>\n",
       "      <td>7116684</td>\n",
       "      <td>18.491601</td>\n",
       "      <td>64.134697</td>\n",
       "      <td>78.134338</td>\n",
       "      <td>0.0</td>\n",
       "      <td>0.0</td>\n",
       "      <td>...</td>\n",
       "      <td>33.0</td>\n",
       "      <td>205.0</td>\n",
       "      <td>31.0</td>\n",
       "      <td>76.0</td>\n",
       "      <td>2741.0</td>\n",
       "      <td>2741.0</td>\n",
       "      <td>64.8069</td>\n",
       "      <td>64.8069</td>\n",
       "      <td>31.0</td>\n",
       "      <td>5.361475</td>\n",
       "    </tr>\n",
       "    <tr>\n",
       "      <th>1</th>\n",
       "      <td>2007</td>\n",
       "      <td>112</td>\n",
       "      <td>Skogsm</td>\n",
       "      <td>670490</td>\n",
       "      <td>7116694</td>\n",
       "      <td>18.503833</td>\n",
       "      <td>64.134493</td>\n",
       "      <td>0.000000</td>\n",
       "      <td>0.0</td>\n",
       "      <td>0.0</td>\n",
       "      <td>...</td>\n",
       "      <td>33.0</td>\n",
       "      <td>205.0</td>\n",
       "      <td>31.0</td>\n",
       "      <td>76.0</td>\n",
       "      <td>2741.0</td>\n",
       "      <td>2741.0</td>\n",
       "      <td>64.8069</td>\n",
       "      <td>64.8069</td>\n",
       "      <td>31.0</td>\n",
       "      <td>5.361475</td>\n",
       "    </tr>\n",
       "    <tr>\n",
       "      <th>2</th>\n",
       "      <td>2007</td>\n",
       "      <td>118</td>\n",
       "      <td>Myr</td>\n",
       "      <td>671088</td>\n",
       "      <td>7116706</td>\n",
       "      <td>18.516109</td>\n",
       "      <td>64.134305</td>\n",
       "      <td>84.315784</td>\n",
       "      <td>0.0</td>\n",
       "      <td>0.0</td>\n",
       "      <td>...</td>\n",
       "      <td>33.0</td>\n",
       "      <td>205.0</td>\n",
       "      <td>31.0</td>\n",
       "      <td>76.0</td>\n",
       "      <td>2741.0</td>\n",
       "      <td>2741.0</td>\n",
       "      <td>64.8069</td>\n",
       "      <td>64.8069</td>\n",
       "      <td>31.0</td>\n",
       "      <td>5.361475</td>\n",
       "    </tr>\n",
       "    <tr>\n",
       "      <th>3</th>\n",
       "      <td>2007</td>\n",
       "      <td>212</td>\n",
       "      <td>Skogsm</td>\n",
       "      <td>671110</td>\n",
       "      <td>7115502</td>\n",
       "      <td>18.515195</td>\n",
       "      <td>64.123509</td>\n",
       "      <td>0.000000</td>\n",
       "      <td>0.0</td>\n",
       "      <td>0.0</td>\n",
       "      <td>...</td>\n",
       "      <td>33.0</td>\n",
       "      <td>204.0</td>\n",
       "      <td>31.0</td>\n",
       "      <td>69.0</td>\n",
       "      <td>2712.0</td>\n",
       "      <td>2712.0</td>\n",
       "      <td>64.8069</td>\n",
       "      <td>64.8069</td>\n",
       "      <td>31.0</td>\n",
       "      <td>5.494736</td>\n",
       "    </tr>\n",
       "    <tr>\n",
       "      <th>4</th>\n",
       "      <td>2007</td>\n",
       "      <td>218</td>\n",
       "      <td>Skogsm</td>\n",
       "      <td>671117</td>\n",
       "      <td>7114900</td>\n",
       "      <td>18.514657</td>\n",
       "      <td>64.118114</td>\n",
       "      <td>0.000000</td>\n",
       "      <td>0.0</td>\n",
       "      <td>0.0</td>\n",
       "      <td>...</td>\n",
       "      <td>33.0</td>\n",
       "      <td>204.0</td>\n",
       "      <td>31.0</td>\n",
       "      <td>69.0</td>\n",
       "      <td>2712.0</td>\n",
       "      <td>2712.0</td>\n",
       "      <td>64.8069</td>\n",
       "      <td>64.8069</td>\n",
       "      <td>31.0</td>\n",
       "      <td>5.494736</td>\n",
       "    </tr>\n",
       "  </tbody>\n",
       "</table>\n",
       "<p>5 rows × 46 columns</p>\n",
       "</div>"
      ],
      "text/plain": [
       "   year  plotid landuseclass  easting  northing  longitude   latitude  \\\n",
       "0  2007     106       Skogsm   669894   7116684  18.491601  64.134697   \n",
       "1  2007     112       Skogsm   670490   7116694  18.503833  64.134493   \n",
       "2  2007     118          Myr   671088   7116706  18.516109  64.134305   \n",
       "3  2007     212       Skogsm   671110   7115502  18.515195  64.123509   \n",
       "4  2007     218       Skogsm   671117   7114900  18.514657  64.118114   \n",
       "\n",
       "    volbirch  volcontorta  volpine  ...  \\\n",
       "0  78.134338          0.0      0.0  ...   \n",
       "1   0.000000          0.0      0.0  ...   \n",
       "2  84.315784          0.0      0.0  ...   \n",
       "3   0.000000          0.0      0.0  ...   \n",
       "4   0.000000          0.0      0.0  ...   \n",
       "\n",
       "   era5_consecutive_dry_days_index_per_time_period  \\\n",
       "0                                             33.0   \n",
       "1                                             33.0   \n",
       "2                                             33.0   \n",
       "3                                             33.0   \n",
       "4                                             33.0   \n",
       "\n",
       "   era5_number_of_cdd_periods_with_more_than_5days_per_time_period  \\\n",
       "0                                              205.0                 \n",
       "1                                              205.0                 \n",
       "2                                              205.0                 \n",
       "3                                              204.0                 \n",
       "4                                              204.0                 \n",
       "\n",
       "   era5_consecutive_wet_days_index_per_time_period  \\\n",
       "0                                             31.0   \n",
       "1                                             31.0   \n",
       "2                                             31.0   \n",
       "3                                             31.0   \n",
       "4                                             31.0   \n",
       "\n",
       "   era5_number_of_cwd_periods_with_more_than_5days_per_time_period  \\\n",
       "0                                               76.0                 \n",
       "1                                               76.0                 \n",
       "2                                               76.0                 \n",
       "3                                               69.0                 \n",
       "4                                               69.0                 \n",
       "\n",
       "   era5_precipitation_days_index_per_time_period  \\\n",
       "0                                         2741.0   \n",
       "1                                         2741.0   \n",
       "2                                         2741.0   \n",
       "3                                         2712.0   \n",
       "4                                         2712.0   \n",
       "\n",
       "   era5_wet_days_index_per_time_period  \\\n",
       "0                               2741.0   \n",
       "1                               2741.0   \n",
       "2                               2741.0   \n",
       "3                               2712.0   \n",
       "4                               2712.0   \n",
       "\n",
       "   era5_highest_one_day_precipitation_amount_per_time_period  \\\n",
       "0                                            64.8069           \n",
       "1                                            64.8069           \n",
       "2                                            64.8069           \n",
       "3                                            64.8069           \n",
       "4                                            64.8069           \n",
       "\n",
       "   era5_highest_five_day_precipitation_amount_per_time_period  \\\n",
       "0                                            64.8069            \n",
       "1                                            64.8069            \n",
       "2                                            64.8069            \n",
       "3                                            64.8069            \n",
       "4                                            64.8069            \n",
       "\n",
       "   era5_number_of_5day_heavy_precipitation_periods_per_time_period  \\\n",
       "0                                               31.0                 \n",
       "1                                               31.0                 \n",
       "2                                               31.0                 \n",
       "3                                               31.0                 \n",
       "4                                               31.0                 \n",
       "\n",
       "   era5_simple_daily_intensity_index_per_time_period  \n",
       "0                                           5.361475  \n",
       "1                                           5.361475  \n",
       "2                                           5.361475  \n",
       "3                                           5.494736  \n",
       "4                                           5.494736  \n",
       "\n",
       "[5 rows x 46 columns]"
      ]
     },
     "execution_count": 3,
     "metadata": {},
     "output_type": "execute_result"
    }
   ],
   "source": [
    "df.head()"
   ]
  },
  {
   "cell_type": "code",
   "execution_count": 4,
   "metadata": {},
   "outputs": [
    {
     "data": {
      "text/plain": [
       "Index(['year', 'plotid', 'landuseclass', 'easting', 'northing', 'longitude',\n",
       "       'latitude', 'volbirch', 'volcontorta', 'volpine', 'volspruce',\n",
       "       'volotherdec', 'pine_spruce_ratio', 'voltotal',\n",
       "       'uerra_consecutive_frost_days_index_per_time_period',\n",
       "       'uerra_number_of_cfd_periods_with_more_than_5days_per_time_period',\n",
       "       'uerra_frost_days_index_per_time_period',\n",
       "       'uerra_consecutive_summer_days_index_per_time_period',\n",
       "       'uerra_number_of_csu_periods_with_more_than_5days_per_time_period',\n",
       "       'uerra_ice_days_index_per_time_period',\n",
       "       'uerra_summer_days_index_per_time_period',\n",
       "       'uerra_consecutive_dry_days_index_per_time_period',\n",
       "       'uerra_number_of_cdd_periods_with_more_than_5days_per_time_period',\n",
       "       'uerra_consecutive_wet_days_index_per_time_period',\n",
       "       'uerra_number_of_cwd_periods_with_more_than_5days_per_time_period',\n",
       "       'uerra_precipitation_days_index_per_time_period',\n",
       "       'uerra_wet_days_index_per_time_period',\n",
       "       'uerra_highest_one_day_precipitation_amount_per_time_period',\n",
       "       'uerra_highest_five_day_precipitation_amount_per_time_period',\n",
       "       'uerra_number_of_5day_heavy_precipitation_periods_per_time_period',\n",
       "       'uerra_simple_daily_intensity_index_per_time_period',\n",
       "       'era5_number_of_cfd_periods_with_more_than_5days_per_time_period',\n",
       "       'era5_frost_days_index_per_time_period',\n",
       "       'era5_number_of_csu_periods_with_more_than_5days_per_time_period',\n",
       "       'era5_ice_days_index_per_time_period',\n",
       "       'era5_summer_days_index_per_time_period',\n",
       "       'era5_consecutive_dry_days_index_per_time_period',\n",
       "       'era5_number_of_cdd_periods_with_more_than_5days_per_time_period',\n",
       "       'era5_consecutive_wet_days_index_per_time_period',\n",
       "       'era5_number_of_cwd_periods_with_more_than_5days_per_time_period',\n",
       "       'era5_precipitation_days_index_per_time_period',\n",
       "       'era5_wet_days_index_per_time_period',\n",
       "       'era5_highest_one_day_precipitation_amount_per_time_period',\n",
       "       'era5_highest_five_day_precipitation_amount_per_time_period',\n",
       "       'era5_number_of_5day_heavy_precipitation_periods_per_time_period',\n",
       "       'era5_simple_daily_intensity_index_per_time_period'],\n",
       "      dtype='object')"
      ]
     },
     "execution_count": 4,
     "metadata": {},
     "output_type": "execute_result"
    }
   ],
   "source": [
    "df.columns"
   ]
  },
  {
   "cell_type": "code",
   "execution_count": 5,
   "metadata": {},
   "outputs": [],
   "source": [
    "input_columns = [c for c in df.columns if 'era5' in c]"
   ]
  },
  {
   "cell_type": "code",
   "execution_count": 6,
   "metadata": {},
   "outputs": [
    {
     "data": {
      "text/plain": [
       "['era5_number_of_cfd_periods_with_more_than_5days_per_time_period',\n",
       " 'era5_frost_days_index_per_time_period',\n",
       " 'era5_number_of_csu_periods_with_more_than_5days_per_time_period',\n",
       " 'era5_ice_days_index_per_time_period',\n",
       " 'era5_summer_days_index_per_time_period',\n",
       " 'era5_consecutive_dry_days_index_per_time_period',\n",
       " 'era5_number_of_cdd_periods_with_more_than_5days_per_time_period',\n",
       " 'era5_consecutive_wet_days_index_per_time_period',\n",
       " 'era5_number_of_cwd_periods_with_more_than_5days_per_time_period',\n",
       " 'era5_precipitation_days_index_per_time_period',\n",
       " 'era5_wet_days_index_per_time_period',\n",
       " 'era5_highest_one_day_precipitation_amount_per_time_period',\n",
       " 'era5_highest_five_day_precipitation_amount_per_time_period',\n",
       " 'era5_number_of_5day_heavy_precipitation_periods_per_time_period',\n",
       " 'era5_simple_daily_intensity_index_per_time_period']"
      ]
     },
     "execution_count": 6,
     "metadata": {},
     "output_type": "execute_result"
    }
   ],
   "source": [
    "input_columns"
   ]
  },
  {
   "cell_type": "code",
   "execution_count": 7,
   "metadata": {},
   "outputs": [],
   "source": [
    "X = df[input_columns]"
   ]
  },
  {
   "cell_type": "code",
   "execution_count": 8,
   "metadata": {},
   "outputs": [
    {
     "data": {
      "text/html": [
       "<div>\n",
       "<style scoped>\n",
       "    .dataframe tbody tr th:only-of-type {\n",
       "        vertical-align: middle;\n",
       "    }\n",
       "\n",
       "    .dataframe tbody tr th {\n",
       "        vertical-align: top;\n",
       "    }\n",
       "\n",
       "    .dataframe thead th {\n",
       "        text-align: right;\n",
       "    }\n",
       "</style>\n",
       "<table border=\"1\" class=\"dataframe\">\n",
       "  <thead>\n",
       "    <tr style=\"text-align: right;\">\n",
       "      <th></th>\n",
       "      <th>era5_number_of_cfd_periods_with_more_than_5days_per_time_period</th>\n",
       "      <th>era5_frost_days_index_per_time_period</th>\n",
       "      <th>era5_number_of_csu_periods_with_more_than_5days_per_time_period</th>\n",
       "      <th>era5_ice_days_index_per_time_period</th>\n",
       "      <th>era5_summer_days_index_per_time_period</th>\n",
       "      <th>era5_consecutive_dry_days_index_per_time_period</th>\n",
       "      <th>era5_number_of_cdd_periods_with_more_than_5days_per_time_period</th>\n",
       "      <th>era5_consecutive_wet_days_index_per_time_period</th>\n",
       "      <th>era5_number_of_cwd_periods_with_more_than_5days_per_time_period</th>\n",
       "      <th>era5_precipitation_days_index_per_time_period</th>\n",
       "      <th>era5_wet_days_index_per_time_period</th>\n",
       "      <th>era5_highest_one_day_precipitation_amount_per_time_period</th>\n",
       "      <th>era5_highest_five_day_precipitation_amount_per_time_period</th>\n",
       "      <th>era5_number_of_5day_heavy_precipitation_periods_per_time_period</th>\n",
       "      <th>era5_simple_daily_intensity_index_per_time_period</th>\n",
       "    </tr>\n",
       "  </thead>\n",
       "  <tbody>\n",
       "    <tr>\n",
       "      <th>0</th>\n",
       "      <td>133.0</td>\n",
       "      <td>3679.0</td>\n",
       "      <td>78.0</td>\n",
       "      <td>1950.0</td>\n",
       "      <td>1588.0</td>\n",
       "      <td>33.0</td>\n",
       "      <td>205.0</td>\n",
       "      <td>31.0</td>\n",
       "      <td>76.0</td>\n",
       "      <td>2741.0</td>\n",
       "      <td>2741.0</td>\n",
       "      <td>64.8069</td>\n",
       "      <td>64.8069</td>\n",
       "      <td>31.0</td>\n",
       "      <td>5.361475</td>\n",
       "    </tr>\n",
       "    <tr>\n",
       "      <th>1</th>\n",
       "      <td>133.0</td>\n",
       "      <td>3679.0</td>\n",
       "      <td>78.0</td>\n",
       "      <td>1950.0</td>\n",
       "      <td>1588.0</td>\n",
       "      <td>33.0</td>\n",
       "      <td>205.0</td>\n",
       "      <td>31.0</td>\n",
       "      <td>76.0</td>\n",
       "      <td>2741.0</td>\n",
       "      <td>2741.0</td>\n",
       "      <td>64.8069</td>\n",
       "      <td>64.8069</td>\n",
       "      <td>31.0</td>\n",
       "      <td>5.361475</td>\n",
       "    </tr>\n",
       "    <tr>\n",
       "      <th>2</th>\n",
       "      <td>133.0</td>\n",
       "      <td>3679.0</td>\n",
       "      <td>78.0</td>\n",
       "      <td>1950.0</td>\n",
       "      <td>1588.0</td>\n",
       "      <td>33.0</td>\n",
       "      <td>205.0</td>\n",
       "      <td>31.0</td>\n",
       "      <td>76.0</td>\n",
       "      <td>2741.0</td>\n",
       "      <td>2741.0</td>\n",
       "      <td>64.8069</td>\n",
       "      <td>64.8069</td>\n",
       "      <td>31.0</td>\n",
       "      <td>5.361475</td>\n",
       "    </tr>\n",
       "    <tr>\n",
       "      <th>3</th>\n",
       "      <td>127.0</td>\n",
       "      <td>3605.0</td>\n",
       "      <td>77.0</td>\n",
       "      <td>1903.0</td>\n",
       "      <td>1595.0</td>\n",
       "      <td>33.0</td>\n",
       "      <td>204.0</td>\n",
       "      <td>31.0</td>\n",
       "      <td>69.0</td>\n",
       "      <td>2712.0</td>\n",
       "      <td>2712.0</td>\n",
       "      <td>64.8069</td>\n",
       "      <td>64.8069</td>\n",
       "      <td>31.0</td>\n",
       "      <td>5.494736</td>\n",
       "    </tr>\n",
       "    <tr>\n",
       "      <th>4</th>\n",
       "      <td>127.0</td>\n",
       "      <td>3605.0</td>\n",
       "      <td>77.0</td>\n",
       "      <td>1903.0</td>\n",
       "      <td>1595.0</td>\n",
       "      <td>33.0</td>\n",
       "      <td>204.0</td>\n",
       "      <td>31.0</td>\n",
       "      <td>69.0</td>\n",
       "      <td>2712.0</td>\n",
       "      <td>2712.0</td>\n",
       "      <td>64.8069</td>\n",
       "      <td>64.8069</td>\n",
       "      <td>31.0</td>\n",
       "      <td>5.494736</td>\n",
       "    </tr>\n",
       "  </tbody>\n",
       "</table>\n",
       "</div>"
      ],
      "text/plain": [
       "   era5_number_of_cfd_periods_with_more_than_5days_per_time_period  \\\n",
       "0                                              133.0                 \n",
       "1                                              133.0                 \n",
       "2                                              133.0                 \n",
       "3                                              127.0                 \n",
       "4                                              127.0                 \n",
       "\n",
       "   era5_frost_days_index_per_time_period  \\\n",
       "0                                 3679.0   \n",
       "1                                 3679.0   \n",
       "2                                 3679.0   \n",
       "3                                 3605.0   \n",
       "4                                 3605.0   \n",
       "\n",
       "   era5_number_of_csu_periods_with_more_than_5days_per_time_period  \\\n",
       "0                                               78.0                 \n",
       "1                                               78.0                 \n",
       "2                                               78.0                 \n",
       "3                                               77.0                 \n",
       "4                                               77.0                 \n",
       "\n",
       "   era5_ice_days_index_per_time_period  \\\n",
       "0                               1950.0   \n",
       "1                               1950.0   \n",
       "2                               1950.0   \n",
       "3                               1903.0   \n",
       "4                               1903.0   \n",
       "\n",
       "   era5_summer_days_index_per_time_period  \\\n",
       "0                                  1588.0   \n",
       "1                                  1588.0   \n",
       "2                                  1588.0   \n",
       "3                                  1595.0   \n",
       "4                                  1595.0   \n",
       "\n",
       "   era5_consecutive_dry_days_index_per_time_period  \\\n",
       "0                                             33.0   \n",
       "1                                             33.0   \n",
       "2                                             33.0   \n",
       "3                                             33.0   \n",
       "4                                             33.0   \n",
       "\n",
       "   era5_number_of_cdd_periods_with_more_than_5days_per_time_period  \\\n",
       "0                                              205.0                 \n",
       "1                                              205.0                 \n",
       "2                                              205.0                 \n",
       "3                                              204.0                 \n",
       "4                                              204.0                 \n",
       "\n",
       "   era5_consecutive_wet_days_index_per_time_period  \\\n",
       "0                                             31.0   \n",
       "1                                             31.0   \n",
       "2                                             31.0   \n",
       "3                                             31.0   \n",
       "4                                             31.0   \n",
       "\n",
       "   era5_number_of_cwd_periods_with_more_than_5days_per_time_period  \\\n",
       "0                                               76.0                 \n",
       "1                                               76.0                 \n",
       "2                                               76.0                 \n",
       "3                                               69.0                 \n",
       "4                                               69.0                 \n",
       "\n",
       "   era5_precipitation_days_index_per_time_period  \\\n",
       "0                                         2741.0   \n",
       "1                                         2741.0   \n",
       "2                                         2741.0   \n",
       "3                                         2712.0   \n",
       "4                                         2712.0   \n",
       "\n",
       "   era5_wet_days_index_per_time_period  \\\n",
       "0                               2741.0   \n",
       "1                               2741.0   \n",
       "2                               2741.0   \n",
       "3                               2712.0   \n",
       "4                               2712.0   \n",
       "\n",
       "   era5_highest_one_day_precipitation_amount_per_time_period  \\\n",
       "0                                            64.8069           \n",
       "1                                            64.8069           \n",
       "2                                            64.8069           \n",
       "3                                            64.8069           \n",
       "4                                            64.8069           \n",
       "\n",
       "   era5_highest_five_day_precipitation_amount_per_time_period  \\\n",
       "0                                            64.8069            \n",
       "1                                            64.8069            \n",
       "2                                            64.8069            \n",
       "3                                            64.8069            \n",
       "4                                            64.8069            \n",
       "\n",
       "   era5_number_of_5day_heavy_precipitation_periods_per_time_period  \\\n",
       "0                                               31.0                 \n",
       "1                                               31.0                 \n",
       "2                                               31.0                 \n",
       "3                                               31.0                 \n",
       "4                                               31.0                 \n",
       "\n",
       "   era5_simple_daily_intensity_index_per_time_period  \n",
       "0                                           5.361475  \n",
       "1                                           5.361475  \n",
       "2                                           5.361475  \n",
       "3                                           5.494736  \n",
       "4                                           5.494736  "
      ]
     },
     "execution_count": 8,
     "metadata": {},
     "output_type": "execute_result"
    }
   ],
   "source": [
    "X.head()"
   ]
  },
  {
   "cell_type": "code",
   "execution_count": 9,
   "metadata": {},
   "outputs": [],
   "source": [
    "df['pine'] = np.where(df.volpine > 0.5, 1, 0)\n",
    "df['spruce'] = np.where(df.volspruce > 0.5, 1, 0)"
   ]
  },
  {
   "cell_type": "code",
   "execution_count": 10,
   "metadata": {},
   "outputs": [
    {
     "data": {
      "text/html": [
       "<div>\n",
       "<style scoped>\n",
       "    .dataframe tbody tr th:only-of-type {\n",
       "        vertical-align: middle;\n",
       "    }\n",
       "\n",
       "    .dataframe tbody tr th {\n",
       "        vertical-align: top;\n",
       "    }\n",
       "\n",
       "    .dataframe thead th {\n",
       "        text-align: right;\n",
       "    }\n",
       "</style>\n",
       "<table border=\"1\" class=\"dataframe\">\n",
       "  <thead>\n",
       "    <tr style=\"text-align: right;\">\n",
       "      <th></th>\n",
       "      <th>year</th>\n",
       "      <th>plotid</th>\n",
       "      <th>landuseclass</th>\n",
       "      <th>easting</th>\n",
       "      <th>northing</th>\n",
       "      <th>longitude</th>\n",
       "      <th>latitude</th>\n",
       "      <th>volbirch</th>\n",
       "      <th>volcontorta</th>\n",
       "      <th>volpine</th>\n",
       "      <th>...</th>\n",
       "      <th>era5_number_of_cdd_periods_with_more_than_5days_per_time_period</th>\n",
       "      <th>era5_consecutive_wet_days_index_per_time_period</th>\n",
       "      <th>era5_number_of_cwd_periods_with_more_than_5days_per_time_period</th>\n",
       "      <th>era5_precipitation_days_index_per_time_period</th>\n",
       "      <th>era5_wet_days_index_per_time_period</th>\n",
       "      <th>era5_highest_one_day_precipitation_amount_per_time_period</th>\n",
       "      <th>era5_highest_five_day_precipitation_amount_per_time_period</th>\n",
       "      <th>era5_number_of_5day_heavy_precipitation_periods_per_time_period</th>\n",
       "      <th>era5_simple_daily_intensity_index_per_time_period</th>\n",
       "      <th>spruce</th>\n",
       "    </tr>\n",
       "    <tr>\n",
       "      <th>pine</th>\n",
       "      <th></th>\n",
       "      <th></th>\n",
       "      <th></th>\n",
       "      <th></th>\n",
       "      <th></th>\n",
       "      <th></th>\n",
       "      <th></th>\n",
       "      <th></th>\n",
       "      <th></th>\n",
       "      <th></th>\n",
       "      <th></th>\n",
       "      <th></th>\n",
       "      <th></th>\n",
       "      <th></th>\n",
       "      <th></th>\n",
       "      <th></th>\n",
       "      <th></th>\n",
       "      <th></th>\n",
       "      <th></th>\n",
       "      <th></th>\n",
       "      <th></th>\n",
       "    </tr>\n",
       "  </thead>\n",
       "  <tbody>\n",
       "    <tr>\n",
       "      <th>0</th>\n",
       "      <td>10310</td>\n",
       "      <td>10310</td>\n",
       "      <td>10310</td>\n",
       "      <td>10310</td>\n",
       "      <td>10310</td>\n",
       "      <td>10310</td>\n",
       "      <td>10310</td>\n",
       "      <td>10310</td>\n",
       "      <td>10310</td>\n",
       "      <td>10310</td>\n",
       "      <td>...</td>\n",
       "      <td>10310</td>\n",
       "      <td>10310</td>\n",
       "      <td>10310</td>\n",
       "      <td>10310</td>\n",
       "      <td>10310</td>\n",
       "      <td>10310</td>\n",
       "      <td>10310</td>\n",
       "      <td>10310</td>\n",
       "      <td>10310</td>\n",
       "      <td>10310</td>\n",
       "    </tr>\n",
       "    <tr>\n",
       "      <th>1</th>\n",
       "      <td>13929</td>\n",
       "      <td>13929</td>\n",
       "      <td>13929</td>\n",
       "      <td>13929</td>\n",
       "      <td>13929</td>\n",
       "      <td>13929</td>\n",
       "      <td>13929</td>\n",
       "      <td>13929</td>\n",
       "      <td>13929</td>\n",
       "      <td>13929</td>\n",
       "      <td>...</td>\n",
       "      <td>13929</td>\n",
       "      <td>13929</td>\n",
       "      <td>13929</td>\n",
       "      <td>13929</td>\n",
       "      <td>13929</td>\n",
       "      <td>13929</td>\n",
       "      <td>13929</td>\n",
       "      <td>13929</td>\n",
       "      <td>13929</td>\n",
       "      <td>13929</td>\n",
       "    </tr>\n",
       "  </tbody>\n",
       "</table>\n",
       "<p>2 rows × 47 columns</p>\n",
       "</div>"
      ],
      "text/plain": [
       "       year  plotid  landuseclass  easting  northing  longitude  latitude  \\\n",
       "pine                                                                        \n",
       "0     10310   10310         10310    10310     10310      10310     10310   \n",
       "1     13929   13929         13929    13929     13929      13929     13929   \n",
       "\n",
       "      volbirch  volcontorta  volpine  ...  \\\n",
       "pine                                  ...   \n",
       "0        10310        10310    10310  ...   \n",
       "1        13929        13929    13929  ...   \n",
       "\n",
       "      era5_number_of_cdd_periods_with_more_than_5days_per_time_period  \\\n",
       "pine                                                                    \n",
       "0                                                 10310                 \n",
       "1                                                 13929                 \n",
       "\n",
       "      era5_consecutive_wet_days_index_per_time_period  \\\n",
       "pine                                                    \n",
       "0                                               10310   \n",
       "1                                               13929   \n",
       "\n",
       "      era5_number_of_cwd_periods_with_more_than_5days_per_time_period  \\\n",
       "pine                                                                    \n",
       "0                                                 10310                 \n",
       "1                                                 13929                 \n",
       "\n",
       "      era5_precipitation_days_index_per_time_period  \\\n",
       "pine                                                  \n",
       "0                                             10310   \n",
       "1                                             13929   \n",
       "\n",
       "      era5_wet_days_index_per_time_period  \\\n",
       "pine                                        \n",
       "0                                   10310   \n",
       "1                                   13929   \n",
       "\n",
       "      era5_highest_one_day_precipitation_amount_per_time_period  \\\n",
       "pine                                                              \n",
       "0                                                 10310           \n",
       "1                                                 13929           \n",
       "\n",
       "      era5_highest_five_day_precipitation_amount_per_time_period  \\\n",
       "pine                                                               \n",
       "0                                                 10310            \n",
       "1                                                 13929            \n",
       "\n",
       "      era5_number_of_5day_heavy_precipitation_periods_per_time_period  \\\n",
       "pine                                                                    \n",
       "0                                                 10310                 \n",
       "1                                                 13929                 \n",
       "\n",
       "      era5_simple_daily_intensity_index_per_time_period  spruce  \n",
       "pine                                                             \n",
       "0                                                 10310   10310  \n",
       "1                                                 13929   13929  \n",
       "\n",
       "[2 rows x 47 columns]"
      ]
     },
     "execution_count": 10,
     "metadata": {},
     "output_type": "execute_result"
    }
   ],
   "source": [
    "df.groupby('pine').count()"
   ]
  },
  {
   "cell_type": "code",
   "execution_count": 11,
   "metadata": {},
   "outputs": [
    {
     "data": {
      "text/html": [
       "<div>\n",
       "<style scoped>\n",
       "    .dataframe tbody tr th:only-of-type {\n",
       "        vertical-align: middle;\n",
       "    }\n",
       "\n",
       "    .dataframe tbody tr th {\n",
       "        vertical-align: top;\n",
       "    }\n",
       "\n",
       "    .dataframe thead th {\n",
       "        text-align: right;\n",
       "    }\n",
       "</style>\n",
       "<table border=\"1\" class=\"dataframe\">\n",
       "  <thead>\n",
       "    <tr style=\"text-align: right;\">\n",
       "      <th></th>\n",
       "      <th>year</th>\n",
       "      <th>plotid</th>\n",
       "      <th>landuseclass</th>\n",
       "      <th>easting</th>\n",
       "      <th>northing</th>\n",
       "      <th>longitude</th>\n",
       "      <th>latitude</th>\n",
       "      <th>volbirch</th>\n",
       "      <th>volcontorta</th>\n",
       "      <th>volpine</th>\n",
       "      <th>...</th>\n",
       "      <th>era5_number_of_cdd_periods_with_more_than_5days_per_time_period</th>\n",
       "      <th>era5_consecutive_wet_days_index_per_time_period</th>\n",
       "      <th>era5_number_of_cwd_periods_with_more_than_5days_per_time_period</th>\n",
       "      <th>era5_precipitation_days_index_per_time_period</th>\n",
       "      <th>era5_wet_days_index_per_time_period</th>\n",
       "      <th>era5_highest_one_day_precipitation_amount_per_time_period</th>\n",
       "      <th>era5_highest_five_day_precipitation_amount_per_time_period</th>\n",
       "      <th>era5_number_of_5day_heavy_precipitation_periods_per_time_period</th>\n",
       "      <th>era5_simple_daily_intensity_index_per_time_period</th>\n",
       "      <th>pine</th>\n",
       "    </tr>\n",
       "    <tr>\n",
       "      <th>spruce</th>\n",
       "      <th></th>\n",
       "      <th></th>\n",
       "      <th></th>\n",
       "      <th></th>\n",
       "      <th></th>\n",
       "      <th></th>\n",
       "      <th></th>\n",
       "      <th></th>\n",
       "      <th></th>\n",
       "      <th></th>\n",
       "      <th></th>\n",
       "      <th></th>\n",
       "      <th></th>\n",
       "      <th></th>\n",
       "      <th></th>\n",
       "      <th></th>\n",
       "      <th></th>\n",
       "      <th></th>\n",
       "      <th></th>\n",
       "      <th></th>\n",
       "      <th></th>\n",
       "    </tr>\n",
       "  </thead>\n",
       "  <tbody>\n",
       "    <tr>\n",
       "      <th>0</th>\n",
       "      <td>8718</td>\n",
       "      <td>8718</td>\n",
       "      <td>8718</td>\n",
       "      <td>8718</td>\n",
       "      <td>8718</td>\n",
       "      <td>8718</td>\n",
       "      <td>8718</td>\n",
       "      <td>8718</td>\n",
       "      <td>8718</td>\n",
       "      <td>8718</td>\n",
       "      <td>...</td>\n",
       "      <td>8718</td>\n",
       "      <td>8718</td>\n",
       "      <td>8718</td>\n",
       "      <td>8718</td>\n",
       "      <td>8718</td>\n",
       "      <td>8718</td>\n",
       "      <td>8718</td>\n",
       "      <td>8718</td>\n",
       "      <td>8718</td>\n",
       "      <td>8718</td>\n",
       "    </tr>\n",
       "    <tr>\n",
       "      <th>1</th>\n",
       "      <td>15521</td>\n",
       "      <td>15521</td>\n",
       "      <td>15521</td>\n",
       "      <td>15521</td>\n",
       "      <td>15521</td>\n",
       "      <td>15521</td>\n",
       "      <td>15521</td>\n",
       "      <td>15521</td>\n",
       "      <td>15521</td>\n",
       "      <td>15521</td>\n",
       "      <td>...</td>\n",
       "      <td>15521</td>\n",
       "      <td>15521</td>\n",
       "      <td>15521</td>\n",
       "      <td>15521</td>\n",
       "      <td>15521</td>\n",
       "      <td>15521</td>\n",
       "      <td>15521</td>\n",
       "      <td>15521</td>\n",
       "      <td>15521</td>\n",
       "      <td>15521</td>\n",
       "    </tr>\n",
       "  </tbody>\n",
       "</table>\n",
       "<p>2 rows × 47 columns</p>\n",
       "</div>"
      ],
      "text/plain": [
       "         year  plotid  landuseclass  easting  northing  longitude  latitude  \\\n",
       "spruce                                                                        \n",
       "0        8718    8718          8718     8718      8718       8718      8718   \n",
       "1       15521   15521         15521    15521     15521      15521     15521   \n",
       "\n",
       "        volbirch  volcontorta  volpine  ...  \\\n",
       "spruce                                  ...   \n",
       "0           8718         8718     8718  ...   \n",
       "1          15521        15521    15521  ...   \n",
       "\n",
       "        era5_number_of_cdd_periods_with_more_than_5days_per_time_period  \\\n",
       "spruce                                                                    \n",
       "0                                                    8718                 \n",
       "1                                                   15521                 \n",
       "\n",
       "        era5_consecutive_wet_days_index_per_time_period  \\\n",
       "spruce                                                    \n",
       "0                                                  8718   \n",
       "1                                                 15521   \n",
       "\n",
       "        era5_number_of_cwd_periods_with_more_than_5days_per_time_period  \\\n",
       "spruce                                                                    \n",
       "0                                                    8718                 \n",
       "1                                                   15521                 \n",
       "\n",
       "        era5_precipitation_days_index_per_time_period  \\\n",
       "spruce                                                  \n",
       "0                                                8718   \n",
       "1                                               15521   \n",
       "\n",
       "        era5_wet_days_index_per_time_period  \\\n",
       "spruce                                        \n",
       "0                                      8718   \n",
       "1                                     15521   \n",
       "\n",
       "        era5_highest_one_day_precipitation_amount_per_time_period  \\\n",
       "spruce                                                              \n",
       "0                                                    8718           \n",
       "1                                                   15521           \n",
       "\n",
       "        era5_highest_five_day_precipitation_amount_per_time_period  \\\n",
       "spruce                                                               \n",
       "0                                                    8718            \n",
       "1                                                   15521            \n",
       "\n",
       "        era5_number_of_5day_heavy_precipitation_periods_per_time_period  \\\n",
       "spruce                                                                    \n",
       "0                                                    8718                 \n",
       "1                                                   15521                 \n",
       "\n",
       "        era5_simple_daily_intensity_index_per_time_period   pine  \n",
       "spruce                                                            \n",
       "0                                                    8718   8718  \n",
       "1                                                   15521  15521  \n",
       "\n",
       "[2 rows x 47 columns]"
      ]
     },
     "execution_count": 11,
     "metadata": {},
     "output_type": "execute_result"
    }
   ],
   "source": [
    "df.groupby('spruce').count()"
   ]
  },
  {
   "cell_type": "markdown",
   "metadata": {},
   "source": [
    "# Pine Classifier"
   ]
  },
  {
   "cell_type": "code",
   "execution_count": 12,
   "metadata": {},
   "outputs": [],
   "source": [
    "y_pine = df['pine']"
   ]
  },
  {
   "cell_type": "code",
   "execution_count": 13,
   "metadata": {},
   "outputs": [],
   "source": [
    "X_pine_resampled, y_pine_resampled = SMOTE().fit_resample(X, y_pine)"
   ]
  },
  {
   "cell_type": "code",
   "execution_count": 14,
   "metadata": {},
   "outputs": [],
   "source": [
    "X_pine_train, X_pine_test, y_pine_train, y_pine_test = train_test_split(X_pine_resampled, y_pine_resampled, train_size=0.7)"
   ]
  },
  {
   "cell_type": "code",
   "execution_count": 15,
   "metadata": {},
   "outputs": [],
   "source": [
    "pine_parameters = {'n_estimators': [10, 50, 100], 'max_depth': [50, 75, 100]}"
   ]
  },
  {
   "cell_type": "code",
   "execution_count": 16,
   "metadata": {},
   "outputs": [],
   "source": [
    "clf_pine = GridSearchCV(RandomForestClassifier(), cv=3, param_grid=pine_parameters, verbose=9)"
   ]
  },
  {
   "cell_type": "code",
   "execution_count": 17,
   "metadata": {},
   "outputs": [
    {
     "name": "stdout",
     "output_type": "stream",
     "text": [
      "Fitting 3 folds for each of 9 candidates, totalling 27 fits\n",
      "[CV] max_depth=50, n_estimators=10 ...................................\n",
      "[CV] ....... max_depth=50, n_estimators=10, score=0.643, total=   0.1s\n",
      "[CV] max_depth=50, n_estimators=10 ...................................\n"
     ]
    },
    {
     "name": "stderr",
     "output_type": "stream",
     "text": [
      "[Parallel(n_jobs=1)]: Using backend SequentialBackend with 1 concurrent workers.\n",
      "[Parallel(n_jobs=1)]: Done   1 out of   1 | elapsed:    0.1s remaining:    0.0s\n"
     ]
    },
    {
     "name": "stdout",
     "output_type": "stream",
     "text": [
      "[CV] ....... max_depth=50, n_estimators=10, score=0.653, total=   0.1s\n",
      "[CV] max_depth=50, n_estimators=10 ...................................\n",
      "[CV] ....... max_depth=50, n_estimators=10, score=0.650, total=   0.1s\n",
      "[CV] max_depth=50, n_estimators=50 ...................................\n"
     ]
    },
    {
     "name": "stderr",
     "output_type": "stream",
     "text": [
      "[Parallel(n_jobs=1)]: Done   2 out of   2 | elapsed:    0.3s remaining:    0.0s\n",
      "[Parallel(n_jobs=1)]: Done   3 out of   3 | elapsed:    0.4s remaining:    0.0s\n"
     ]
    },
    {
     "name": "stdout",
     "output_type": "stream",
     "text": [
      "[CV] ....... max_depth=50, n_estimators=50, score=0.642, total=   0.7s\n",
      "[CV] max_depth=50, n_estimators=50 ...................................\n"
     ]
    },
    {
     "name": "stderr",
     "output_type": "stream",
     "text": [
      "[Parallel(n_jobs=1)]: Done   4 out of   4 | elapsed:    1.1s remaining:    0.0s\n"
     ]
    },
    {
     "name": "stdout",
     "output_type": "stream",
     "text": [
      "[CV] ....... max_depth=50, n_estimators=50, score=0.650, total=   0.7s\n",
      "[CV] max_depth=50, n_estimators=50 ...................................\n"
     ]
    },
    {
     "name": "stderr",
     "output_type": "stream",
     "text": [
      "[Parallel(n_jobs=1)]: Done   5 out of   5 | elapsed:    1.9s remaining:    0.0s\n"
     ]
    },
    {
     "name": "stdout",
     "output_type": "stream",
     "text": [
      "[CV] ....... max_depth=50, n_estimators=50, score=0.651, total=   0.7s\n",
      "[CV] max_depth=50, n_estimators=100 ..................................\n"
     ]
    },
    {
     "name": "stderr",
     "output_type": "stream",
     "text": [
      "[Parallel(n_jobs=1)]: Done   6 out of   6 | elapsed:    2.6s remaining:    0.0s\n"
     ]
    },
    {
     "name": "stdout",
     "output_type": "stream",
     "text": [
      "[CV] ...... max_depth=50, n_estimators=100, score=0.643, total=   1.4s\n",
      "[CV] max_depth=50, n_estimators=100 ..................................\n"
     ]
    },
    {
     "name": "stderr",
     "output_type": "stream",
     "text": [
      "[Parallel(n_jobs=1)]: Done   7 out of   7 | elapsed:    4.0s remaining:    0.0s\n"
     ]
    },
    {
     "name": "stdout",
     "output_type": "stream",
     "text": [
      "[CV] ...... max_depth=50, n_estimators=100, score=0.648, total=   1.4s\n",
      "[CV] max_depth=50, n_estimators=100 ..................................\n"
     ]
    },
    {
     "name": "stderr",
     "output_type": "stream",
     "text": [
      "[Parallel(n_jobs=1)]: Done   8 out of   8 | elapsed:    5.4s remaining:    0.0s\n"
     ]
    },
    {
     "name": "stdout",
     "output_type": "stream",
     "text": [
      "[CV] ...... max_depth=50, n_estimators=100, score=0.651, total=   1.4s\n",
      "[CV] max_depth=75, n_estimators=10 ...................................\n",
      "[CV] ....... max_depth=75, n_estimators=10, score=0.645, total=   0.1s\n",
      "[CV] max_depth=75, n_estimators=10 ...................................\n",
      "[CV] ....... max_depth=75, n_estimators=10, score=0.645, total=   0.1s\n",
      "[CV] max_depth=75, n_estimators=10 ...................................\n",
      "[CV] ....... max_depth=75, n_estimators=10, score=0.653, total=   0.1s\n",
      "[CV] max_depth=75, n_estimators=50 ...................................\n",
      "[CV] ....... max_depth=75, n_estimators=50, score=0.644, total=   0.7s\n",
      "[CV] max_depth=75, n_estimators=50 ...................................\n",
      "[CV] ....... max_depth=75, n_estimators=50, score=0.649, total=   0.7s\n",
      "[CV] max_depth=75, n_estimators=50 ...................................\n",
      "[CV] ....... max_depth=75, n_estimators=50, score=0.651, total=   0.7s\n",
      "[CV] max_depth=75, n_estimators=100 ..................................\n",
      "[CV] ...... max_depth=75, n_estimators=100, score=0.640, total=   1.4s\n",
      "[CV] max_depth=75, n_estimators=100 ..................................\n",
      "[CV] ...... max_depth=75, n_estimators=100, score=0.654, total=   1.4s\n",
      "[CV] max_depth=75, n_estimators=100 ..................................\n",
      "[CV] ...... max_depth=75, n_estimators=100, score=0.652, total=   1.4s\n",
      "[CV] max_depth=100, n_estimators=10 ..................................\n",
      "[CV] ...... max_depth=100, n_estimators=10, score=0.641, total=   0.1s\n",
      "[CV] max_depth=100, n_estimators=10 ..................................\n",
      "[CV] ...... max_depth=100, n_estimators=10, score=0.645, total=   0.2s\n",
      "[CV] max_depth=100, n_estimators=10 ..................................\n",
      "[CV] ...... max_depth=100, n_estimators=10, score=0.649, total=   0.1s\n",
      "[CV] max_depth=100, n_estimators=50 ..................................\n",
      "[CV] ...... max_depth=100, n_estimators=50, score=0.645, total=   0.7s\n",
      "[CV] max_depth=100, n_estimators=50 ..................................\n",
      "[CV] ...... max_depth=100, n_estimators=50, score=0.646, total=   0.7s\n",
      "[CV] max_depth=100, n_estimators=50 ..................................\n",
      "[CV] ...... max_depth=100, n_estimators=50, score=0.649, total=   0.7s\n",
      "[CV] max_depth=100, n_estimators=100 .................................\n",
      "[CV] ..... max_depth=100, n_estimators=100, score=0.646, total=   1.4s\n",
      "[CV] max_depth=100, n_estimators=100 .................................\n",
      "[CV] ..... max_depth=100, n_estimators=100, score=0.644, total=   1.5s\n",
      "[CV] max_depth=100, n_estimators=100 .................................\n",
      "[CV] ..... max_depth=100, n_estimators=100, score=0.650, total=   1.4s\n"
     ]
    },
    {
     "name": "stderr",
     "output_type": "stream",
     "text": [
      "[Parallel(n_jobs=1)]: Done  27 out of  27 | elapsed:   20.6s finished\n"
     ]
    },
    {
     "data": {
      "text/plain": [
       "GridSearchCV(cv=3, error_score='raise-deprecating',\n",
       "             estimator=RandomForestClassifier(bootstrap=True, class_weight=None,\n",
       "                                              criterion='gini', max_depth=None,\n",
       "                                              max_features='auto',\n",
       "                                              max_leaf_nodes=None,\n",
       "                                              min_impurity_decrease=0.0,\n",
       "                                              min_impurity_split=None,\n",
       "                                              min_samples_leaf=1,\n",
       "                                              min_samples_split=2,\n",
       "                                              min_weight_fraction_leaf=0.0,\n",
       "                                              n_estimators='warn', n_jobs=None,\n",
       "                                              oob_score=False,\n",
       "                                              random_state=None, verbose=0,\n",
       "                                              warm_start=False),\n",
       "             iid='warn', n_jobs=None,\n",
       "             param_grid={'max_depth': [50, 75, 100],\n",
       "                         'n_estimators': [10, 50, 100]},\n",
       "             pre_dispatch='2*n_jobs', refit=True, return_train_score=False,\n",
       "             scoring=None, verbose=9)"
      ]
     },
     "execution_count": 17,
     "metadata": {},
     "output_type": "execute_result"
    }
   ],
   "source": [
    "clf_pine.fit(X_pine_train, y_pine_train)"
   ]
  },
  {
   "cell_type": "code",
   "execution_count": 18,
   "metadata": {},
   "outputs": [],
   "source": [
    "y_pine_pred = clf_pine.predict(X_pine_test)"
   ]
  },
  {
   "cell_type": "code",
   "execution_count": 19,
   "metadata": {},
   "outputs": [
    {
     "data": {
      "text/plain": [
       "0.6647523330940417"
      ]
     },
     "execution_count": 19,
     "metadata": {},
     "output_type": "execute_result"
    }
   ],
   "source": [
    "accuracy_score(y_pine_pred, y_pine_test)"
   ]
  },
  {
   "cell_type": "code",
   "execution_count": 20,
   "metadata": {},
   "outputs": [
    {
     "data": {
      "text/plain": [
       "0.7030012004801921"
      ]
     },
     "execution_count": 20,
     "metadata": {},
     "output_type": "execute_result"
    }
   ],
   "source": [
    "precision_score(y_pine_pred, y_pine_test)"
   ]
  },
  {
   "cell_type": "code",
   "execution_count": 21,
   "metadata": {},
   "outputs": [
    {
     "data": {
      "text/plain": [
       "0.651680391720454"
      ]
     },
     "execution_count": 21,
     "metadata": {},
     "output_type": "execute_result"
    }
   ],
   "source": [
    "recall_score(y_pine_pred, y_pine_test)"
   ]
  },
  {
   "cell_type": "code",
   "execution_count": 22,
   "metadata": {},
   "outputs": [
    {
     "data": {
      "text/plain": [
       "array([[2628, 1237],\n",
       "       [1565, 2928]])"
      ]
     },
     "execution_count": 22,
     "metadata": {},
     "output_type": "execute_result"
    }
   ],
   "source": [
    "cm = confusion_matrix(y_pine_pred, y_pine_test)\n",
    "cm"
   ]
  },
  {
   "cell_type": "code",
   "execution_count": 23,
   "metadata": {},
   "outputs": [
    {
     "data": {
      "text/plain": [
       "<matplotlib.axes._subplots.AxesSubplot at 0x7fa25b6660f0>"
      ]
     },
     "execution_count": 23,
     "metadata": {},
     "output_type": "execute_result"
    },
    {
     "data": {
      "image/png": "[encoded data removed]",
      "text/plain": [
       "<Figure size 432x288 with 2 Axes>"
      ]
     },
     "metadata": {
      "needs_background": "light"
     },
     "output_type": "display_data"
    }
   ],
   "source": [
    "sn.heatmap(cm, annot=True)"
   ]
  },
  {
   "cell_type": "code",
   "execution_count": 25,
   "metadata": {},
   "outputs": [
    {
     "data": {
      "image/png": "[encoded data removed]",
      "text/plain": [
       "<Figure size 432x288 with 1 Axes>"
      ]
     },
     "metadata": {
      "needs_background": "light"
     },
     "output_type": "display_data"
    }
   ],
   "source": [
    "features = [c[5:-16] for c in X.columns]\n",
    "importances = clf_pine.best_estimator_.feature_importances_\n",
    "indices = np.argsort(importances)\n",
    "\n",
    "plt.title('RF Pine Classifier - Feature Importances')\n",
    "plt.barh(range(len(indices)), importances[indices], color='b', align='center')\n",
    "plt.yticks(range(len(indices)), [features[i] for i in indices])\n",
    "plt.xlabel('Relative Importance')\n",
    "plt.show()"
   ]
  },
  {
   "cell_type": "markdown",
   "metadata": {},
   "source": [
    "# Spruce"
   ]
  },
  {
   "cell_type": "code",
   "execution_count": 26,
   "metadata": {},
   "outputs": [],
   "source": [
    "y_spruce = df['spruce']"
   ]
  },
  {
   "cell_type": "code",
   "execution_count": 27,
   "metadata": {},
   "outputs": [],
   "source": [
    "X_spruce_resampled, y_spruce_resampled = SMOTE().fit_resample(X, y_spruce)"
   ]
  },
  {
   "cell_type": "code",
   "execution_count": 28,
   "metadata": {},
   "outputs": [],
   "source": [
    "X_spruce_train, X_spruce_test, y_spruce_train, y_spruce_test = train_test_split(X_spruce_resampled, y_spruce_resampled, train_size=0.7)"
   ]
  },
  {
   "cell_type": "code",
   "execution_count": 29,
   "metadata": {},
   "outputs": [],
   "source": [
    "spruce_parameters = {'n_estimators': [100], 'max_depth': [10, 25, 50]}"
   ]
  },
  {
   "cell_type": "code",
   "execution_count": 30,
   "metadata": {},
   "outputs": [],
   "source": [
    "clf_spruce = GridSearchCV(RandomForestClassifier(), param_grid=spruce_parameters, cv=10, verbose=9)"
   ]
  },
  {
   "cell_type": "code",
   "execution_count": 31,
   "metadata": {},
   "outputs": [
    {
     "name": "stdout",
     "output_type": "stream",
     "text": [
      "Fitting 10 folds for each of 3 candidates, totalling 30 fits\n",
      "[CV] max_depth=10, n_estimators=100 ..................................\n"
     ]
    },
    {
     "name": "stderr",
     "output_type": "stream",
     "text": [
      "[Parallel(n_jobs=1)]: Using backend SequentialBackend with 1 concurrent workers.\n"
     ]
    },
    {
     "name": "stdout",
     "output_type": "stream",
     "text": [
      "[CV] ...... max_depth=10, n_estimators=100, score=0.627, total=   1.5s\n",
      "[CV] max_depth=10, n_estimators=100 ..................................\n"
     ]
    },
    {
     "name": "stderr",
     "output_type": "stream",
     "text": [
      "[Parallel(n_jobs=1)]: Done   1 out of   1 | elapsed:    1.5s remaining:    0.0s\n"
     ]
    },
    {
     "name": "stdout",
     "output_type": "stream",
     "text": [
      "[CV] ...... max_depth=10, n_estimators=100, score=0.617, total=   1.4s\n",
      "[CV] max_depth=10, n_estimators=100 ..................................\n"
     ]
    },
    {
     "name": "stderr",
     "output_type": "stream",
     "text": [
      "[Parallel(n_jobs=1)]: Done   2 out of   2 | elapsed:    2.9s remaining:    0.0s\n"
     ]
    },
    {
     "name": "stdout",
     "output_type": "stream",
     "text": [
      "[CV] ...... max_depth=10, n_estimators=100, score=0.614, total=   1.4s\n",
      "[CV] max_depth=10, n_estimators=100 ..................................\n"
     ]
    },
    {
     "name": "stderr",
     "output_type": "stream",
     "text": [
      "[Parallel(n_jobs=1)]: Done   3 out of   3 | elapsed:    4.3s remaining:    0.0s\n"
     ]
    },
    {
     "name": "stdout",
     "output_type": "stream",
     "text": [
      "[CV] ...... max_depth=10, n_estimators=100, score=0.609, total=   1.5s\n",
      "[CV] max_depth=10, n_estimators=100 ..................................\n"
     ]
    },
    {
     "name": "stderr",
     "output_type": "stream",
     "text": [
      "[Parallel(n_jobs=1)]: Done   4 out of   4 | elapsed:    5.8s remaining:    0.0s\n"
     ]
    },
    {
     "name": "stdout",
     "output_type": "stream",
     "text": [
      "[CV] ...... max_depth=10, n_estimators=100, score=0.635, total=   1.5s\n",
      "[CV] max_depth=10, n_estimators=100 ..................................\n"
     ]
    },
    {
     "name": "stderr",
     "output_type": "stream",
     "text": [
      "[Parallel(n_jobs=1)]: Done   5 out of   5 | elapsed:    7.3s remaining:    0.0s\n"
     ]
    },
    {
     "name": "stdout",
     "output_type": "stream",
     "text": [
      "[CV] ...... max_depth=10, n_estimators=100, score=0.619, total=   1.4s\n",
      "[CV] max_depth=10, n_estimators=100 ..................................\n"
     ]
    },
    {
     "name": "stderr",
     "output_type": "stream",
     "text": [
      "[Parallel(n_jobs=1)]: Done   6 out of   6 | elapsed:    8.7s remaining:    0.0s\n"
     ]
    },
    {
     "name": "stdout",
     "output_type": "stream",
     "text": [
      "[CV] ...... max_depth=10, n_estimators=100, score=0.616, total=   1.4s\n",
      "[CV] max_depth=10, n_estimators=100 ..................................\n"
     ]
    },
    {
     "name": "stderr",
     "output_type": "stream",
     "text": [
      "[Parallel(n_jobs=1)]: Done   7 out of   7 | elapsed:   10.1s remaining:    0.0s\n"
     ]
    },
    {
     "name": "stdout",
     "output_type": "stream",
     "text": [
      "[CV] ...... max_depth=10, n_estimators=100, score=0.606, total=   1.4s\n",
      "[CV] max_depth=10, n_estimators=100 ..................................\n"
     ]
    },
    {
     "name": "stderr",
     "output_type": "stream",
     "text": [
      "[Parallel(n_jobs=1)]: Done   8 out of   8 | elapsed:   11.6s remaining:    0.0s\n"
     ]
    },
    {
     "name": "stdout",
     "output_type": "stream",
     "text": [
      "[CV] ...... max_depth=10, n_estimators=100, score=0.601, total=   1.4s\n",
      "[CV] max_depth=10, n_estimators=100 ..................................\n",
      "[CV] ...... max_depth=10, n_estimators=100, score=0.615, total=   1.5s\n",
      "[CV] max_depth=25, n_estimators=100 ..................................\n",
      "[CV] ...... max_depth=25, n_estimators=100, score=0.624, total=   2.0s\n",
      "[CV] max_depth=25, n_estimators=100 ..................................\n",
      "[CV] ...... max_depth=25, n_estimators=100, score=0.617, total=   2.1s\n",
      "[CV] max_depth=25, n_estimators=100 ..................................\n",
      "[CV] ...... max_depth=25, n_estimators=100, score=0.627, total=   2.1s\n",
      "[CV] max_depth=25, n_estimators=100 ..................................\n",
      "[CV] ...... max_depth=25, n_estimators=100, score=0.612, total=   2.1s\n",
      "[CV] max_depth=25, n_estimators=100 ..................................\n",
      "[CV] ...... max_depth=25, n_estimators=100, score=0.631, total=   2.0s\n",
      "[CV] max_depth=25, n_estimators=100 ..................................\n",
      "[CV] ...... max_depth=25, n_estimators=100, score=0.625, total=   2.0s\n",
      "[CV] max_depth=25, n_estimators=100 ..................................\n",
      "[CV] ...... max_depth=25, n_estimators=100, score=0.617, total=   2.1s\n",
      "[CV] max_depth=25, n_estimators=100 ..................................\n",
      "[CV] ...... max_depth=25, n_estimators=100, score=0.616, total=   2.1s\n",
      "[CV] max_depth=25, n_estimators=100 ..................................\n",
      "[CV] ...... max_depth=25, n_estimators=100, score=0.601, total=   2.1s\n",
      "[CV] max_depth=25, n_estimators=100 ..................................\n",
      "[CV] ...... max_depth=25, n_estimators=100, score=0.629, total=   2.0s\n",
      "[CV] max_depth=50, n_estimators=100 ..................................\n",
      "[CV] ...... max_depth=50, n_estimators=100, score=0.624, total=   2.1s\n",
      "[CV] max_depth=50, n_estimators=100 ..................................\n",
      "[CV] ...... max_depth=50, n_estimators=100, score=0.615, total=   2.1s\n",
      "[CV] max_depth=50, n_estimators=100 ..................................\n",
      "[CV] ...... max_depth=50, n_estimators=100, score=0.624, total=   2.0s\n",
      "[CV] max_depth=50, n_estimators=100 ..................................\n",
      "[CV] ...... max_depth=50, n_estimators=100, score=0.615, total=   2.1s\n",
      "[CV] max_depth=50, n_estimators=100 ..................................\n",
      "[CV] ...... max_depth=50, n_estimators=100, score=0.637, total=   2.1s\n",
      "[CV] max_depth=50, n_estimators=100 ..................................\n",
      "[CV] ...... max_depth=50, n_estimators=100, score=0.623, total=   2.1s\n",
      "[CV] max_depth=50, n_estimators=100 ..................................\n",
      "[CV] ...... max_depth=50, n_estimators=100, score=0.612, total=   2.1s\n",
      "[CV] max_depth=50, n_estimators=100 ..................................\n",
      "[CV] ...... max_depth=50, n_estimators=100, score=0.618, total=   2.0s\n",
      "[CV] max_depth=50, n_estimators=100 ..................................\n",
      "[CV] ...... max_depth=50, n_estimators=100, score=0.599, total=   2.1s\n",
      "[CV] max_depth=50, n_estimators=100 ..................................\n",
      "[CV] ...... max_depth=50, n_estimators=100, score=0.629, total=   2.0s\n"
     ]
    },
    {
     "name": "stderr",
     "output_type": "stream",
     "text": [
      "[Parallel(n_jobs=1)]: Done  30 out of  30 | elapsed:   55.6s finished\n"
     ]
    },
    {
     "data": {
      "text/plain": [
       "GridSearchCV(cv=10, error_score='raise-deprecating',\n",
       "             estimator=RandomForestClassifier(bootstrap=True, class_weight=None,\n",
       "                                              criterion='gini', max_depth=None,\n",
       "                                              max_features='auto',\n",
       "                                              max_leaf_nodes=None,\n",
       "                                              min_impurity_decrease=0.0,\n",
       "                                              min_impurity_split=None,\n",
       "                                              min_samples_leaf=1,\n",
       "                                              min_samples_split=2,\n",
       "                                              min_weight_fraction_leaf=0.0,\n",
       "                                              n_estimators='warn', n_jobs=None,\n",
       "                                              oob_score=False,\n",
       "                                              random_state=None, verbose=0,\n",
       "                                              warm_start=False),\n",
       "             iid='warn', n_jobs=None,\n",
       "             param_grid={'max_depth': [10, 25, 50], 'n_estimators': [100]},\n",
       "             pre_dispatch='2*n_jobs', refit=True, return_train_score=False,\n",
       "             scoring=None, verbose=9)"
      ]
     },
     "execution_count": 31,
     "metadata": {},
     "output_type": "execute_result"
    }
   ],
   "source": [
    "clf_spruce.fit(X_spruce_train, y_spruce_train)"
   ]
  },
  {
   "cell_type": "code",
   "execution_count": 32,
   "metadata": {},
   "outputs": [
    {
     "data": {
      "text/plain": [
       "{'max_depth': 25, 'n_estimators': 100}"
      ]
     },
     "execution_count": 32,
     "metadata": {},
     "output_type": "execute_result"
    }
   ],
   "source": [
    "clf_spruce.best_params_"
   ]
  },
  {
   "cell_type": "code",
   "execution_count": 33,
   "metadata": {},
   "outputs": [],
   "source": [
    "y_spruce_pred = clf_spruce.predict(X_spruce_test)"
   ]
  },
  {
   "cell_type": "code",
   "execution_count": 34,
   "metadata": {},
   "outputs": [
    {
     "data": {
      "text/plain": [
       "0.6303017287662407"
      ]
     },
     "execution_count": 34,
     "metadata": {},
     "output_type": "execute_result"
    }
   ],
   "source": [
    "accuracy_score(y_spruce_pred, y_spruce_test)"
   ]
  },
  {
   "cell_type": "code",
   "execution_count": 37,
   "metadata": {},
   "outputs": [
    {
     "data": {
      "text/plain": [
       "0.6268975839213171"
      ]
     },
     "execution_count": 37,
     "metadata": {},
     "output_type": "execute_result"
    }
   ],
   "source": [
    "precision_score(y_spruce_pred, y_spruce_test)"
   ]
  },
  {
   "cell_type": "code",
   "execution_count": 38,
   "metadata": {},
   "outputs": [
    {
     "data": {
      "text/plain": [
       "0.6332613390928725"
      ]
     },
     "execution_count": 38,
     "metadata": {},
     "output_type": "execute_result"
    }
   ],
   "source": [
    "recall_score(y_spruce_pred, y_spruce_test)"
   ]
  },
  {
   "cell_type": "code",
   "execution_count": 39,
   "metadata": {},
   "outputs": [
    {
     "data": {
      "text/plain": [
       "array([[2938, 1745],\n",
       "       [1698, 2932]])"
      ]
     },
     "execution_count": 39,
     "metadata": {},
     "output_type": "execute_result"
    }
   ],
   "source": [
    "cm = confusion_matrix(y_spruce_pred, y_spruce_test)\n",
    "cm"
   ]
  },
  {
   "cell_type": "code",
   "execution_count": 41,
   "metadata": {},
   "outputs": [
    {
     "data": {
      "text/plain": [
       "<matplotlib.axes._subplots.AxesSubplot at 0x7fa25b5047b8>"
      ]
     },
     "execution_count": 41,
     "metadata": {},
     "output_type": "execute_result"
    },
    {
     "data": {
      "image/png": "[encoded data removed]",
      "text/plain": [
       "<Figure size 432x288 with 2 Axes>"
      ]
     },
     "metadata": {
      "needs_background": "light"
     },
     "output_type": "display_data"
    }
   ],
   "source": [
    "sn.heatmap(cm, annot=True)"
   ]
  },
  {
   "cell_type": "code",
   "execution_count": 43,
   "metadata": {},
   "outputs": [
    {
     "data": {
      "image/png": "[encoded data removed]",
      "text/plain": [
       "<Figure size 432x288 with 1 Axes>"
      ]
     },
     "metadata": {
      "needs_background": "light"
     },
     "output_type": "display_data"
    }
   ],
   "source": [
    "features = [c[5:-16] for c in X.columns]\n",
    "importances = clf_spruce.best_estimator_.feature_importances_\n",
    "indices = np.argsort(importances)\n",
    "\n",
    "plt.title('RF Spruce Classifier - Feature Importances')\n",
    "plt.barh(range(len(indices)), importances[indices], color='b', align='center')\n",
    "plt.yticks(range(len(indices)), [features[i] for i in indices])\n",
    "plt.xlabel('Relative Importance')\n",
    "plt.show()"
   ]
  },
  {
   "cell_type": "code",
   "execution_count": null,
   "metadata": {},
   "outputs": [],
   "source": []
  }
 ],
 "metadata": {
  "kernelspec": {
   "display_name": "Python 3",
   "language": "python",
   "name": "python3"
  },
  "language_info": {
   "codemirror_mode": {
    "name": "ipython",
    "version": 3
   },
   "file_extension": ".py",
   "mimetype": "text/x-python",
   "name": "python",
   "nbconvert_exporter": "python",
   "pygments_lexer": "ipython3",
   "version": "3.6.7"
  }
 },
 "nbformat": 4,
 "nbformat_minor": 2
}
