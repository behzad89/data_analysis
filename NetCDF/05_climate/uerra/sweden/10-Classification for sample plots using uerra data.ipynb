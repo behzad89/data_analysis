{
 "cells": [
  {
   "cell_type": "code",
   "execution_count": 3,
   "metadata": {},
   "outputs": [
    {
     "name": "stderr",
     "output_type": "stream",
     "text": [
      "/home/sato/linda-forest-climate/notebooks/env/lib/python3.6/site-packages/sklearn/externals/six.py:31: DeprecationWarning: The module is deprecated in version 0.21 and will be removed in version 0.23 since we've dropped support for Python 2.7. Please rely on the official version of six (https://pypi.org/project/six/).\n",
      "  \"(https://pypi.org/project/six/).\", DeprecationWarning)\n"
     ]
    }
   ],
   "source": [
    "import numpy as np\n",
    "import matplotlib.pyplot as plt\n",
    "import pandas as pd\n",
    "import seaborn as sns\n",
    "\n",
    "from imblearn.over_sampling import SMOTE\n",
    "from sklearn.ensemble import RandomForestClassifier\n",
    "from sklearn.model_selection import StratifiedKFold, GridSearchCV, train_test_split\n",
    "from sklearn.metrics import accuracy_score, f1_score, precision_score, recall_score, confusion_matrix\n",
    "from sklearn.preprocessing import LabelEncoder"
   ]
  },
  {
   "cell_type": "code",
   "execution_count": 4,
   "metadata": {},
   "outputs": [],
   "source": [
    "df = pd.read_csv('../../data/sweden/sample_plots_uerra_cdf_features.csv')"
   ]
  },
  {
   "cell_type": "code",
   "execution_count": 5,
   "metadata": {},
   "outputs": [
    {
     "data": {
      "text/html": [
       "<div>\n",
       "<style scoped>\n",
       "    .dataframe tbody tr th:only-of-type {\n",
       "        vertical-align: middle;\n",
       "    }\n",
       "\n",
       "    .dataframe tbody tr th {\n",
       "        vertical-align: top;\n",
       "    }\n",
       "\n",
       "    .dataframe thead th {\n",
       "        text-align: right;\n",
       "    }\n",
       "</style>\n",
       "<table border=\"1\" class=\"dataframe\">\n",
       "  <thead>\n",
       "    <tr style=\"text-align: right;\">\n",
       "      <th></th>\n",
       "      <th>year</th>\n",
       "      <th>plotid</th>\n",
       "      <th>landuseclass</th>\n",
       "      <th>easting</th>\n",
       "      <th>northing</th>\n",
       "      <th>longitude</th>\n",
       "      <th>latitude</th>\n",
       "      <th>volbirch</th>\n",
       "      <th>volcontorta</th>\n",
       "      <th>volpine</th>\n",
       "      <th>...</th>\n",
       "      <th>era5_consecutive_dry_days_index_per_time_period</th>\n",
       "      <th>era5_number_of_cdd_periods_with_more_than_5days_per_time_period</th>\n",
       "      <th>era5_consecutive_wet_days_index_per_time_period</th>\n",
       "      <th>era5_number_of_cwd_periods_with_more_than_5days_per_time_period</th>\n",
       "      <th>era5_precipitation_days_index_per_time_period</th>\n",
       "      <th>era5_wet_days_index_per_time_period</th>\n",
       "      <th>era5_highest_one_day_precipitation_amount_per_time_period</th>\n",
       "      <th>era5_highest_five_day_precipitation_amount_per_time_period</th>\n",
       "      <th>era5_number_of_5day_heavy_precipitation_periods_per_time_period</th>\n",
       "      <th>era5_simple_daily_intensity_index_per_time_period</th>\n",
       "    </tr>\n",
       "  </thead>\n",
       "  <tbody>\n",
       "    <tr>\n",
       "      <th>0</th>\n",
       "      <td>2007</td>\n",
       "      <td>106</td>\n",
       "      <td>Skogsm</td>\n",
       "      <td>669894</td>\n",
       "      <td>7116684</td>\n",
       "      <td>18.491601</td>\n",
       "      <td>64.134697</td>\n",
       "      <td>78.134338</td>\n",
       "      <td>0.0</td>\n",
       "      <td>0.0</td>\n",
       "      <td>...</td>\n",
       "      <td>33.0</td>\n",
       "      <td>205.0</td>\n",
       "      <td>31.0</td>\n",
       "      <td>76.0</td>\n",
       "      <td>2741.0</td>\n",
       "      <td>2741.0</td>\n",
       "      <td>64.8069</td>\n",
       "      <td>64.8069</td>\n",
       "      <td>31.0</td>\n",
       "      <td>5.361475</td>\n",
       "    </tr>\n",
       "    <tr>\n",
       "      <th>1</th>\n",
       "      <td>2007</td>\n",
       "      <td>112</td>\n",
       "      <td>Skogsm</td>\n",
       "      <td>670490</td>\n",
       "      <td>7116694</td>\n",
       "      <td>18.503833</td>\n",
       "      <td>64.134493</td>\n",
       "      <td>0.000000</td>\n",
       "      <td>0.0</td>\n",
       "      <td>0.0</td>\n",
       "      <td>...</td>\n",
       "      <td>33.0</td>\n",
       "      <td>205.0</td>\n",
       "      <td>31.0</td>\n",
       "      <td>76.0</td>\n",
       "      <td>2741.0</td>\n",
       "      <td>2741.0</td>\n",
       "      <td>64.8069</td>\n",
       "      <td>64.8069</td>\n",
       "      <td>31.0</td>\n",
       "      <td>5.361475</td>\n",
       "    </tr>\n",
       "    <tr>\n",
       "      <th>2</th>\n",
       "      <td>2007</td>\n",
       "      <td>118</td>\n",
       "      <td>Myr</td>\n",
       "      <td>671088</td>\n",
       "      <td>7116706</td>\n",
       "      <td>18.516109</td>\n",
       "      <td>64.134305</td>\n",
       "      <td>84.315784</td>\n",
       "      <td>0.0</td>\n",
       "      <td>0.0</td>\n",
       "      <td>...</td>\n",
       "      <td>33.0</td>\n",
       "      <td>205.0</td>\n",
       "      <td>31.0</td>\n",
       "      <td>76.0</td>\n",
       "      <td>2741.0</td>\n",
       "      <td>2741.0</td>\n",
       "      <td>64.8069</td>\n",
       "      <td>64.8069</td>\n",
       "      <td>31.0</td>\n",
       "      <td>5.361475</td>\n",
       "    </tr>\n",
       "    <tr>\n",
       "      <th>3</th>\n",
       "      <td>2007</td>\n",
       "      <td>212</td>\n",
       "      <td>Skogsm</td>\n",
       "      <td>671110</td>\n",
       "      <td>7115502</td>\n",
       "      <td>18.515195</td>\n",
       "      <td>64.123509</td>\n",
       "      <td>0.000000</td>\n",
       "      <td>0.0</td>\n",
       "      <td>0.0</td>\n",
       "      <td>...</td>\n",
       "      <td>33.0</td>\n",
       "      <td>204.0</td>\n",
       "      <td>31.0</td>\n",
       "      <td>69.0</td>\n",
       "      <td>2712.0</td>\n",
       "      <td>2712.0</td>\n",
       "      <td>64.8069</td>\n",
       "      <td>64.8069</td>\n",
       "      <td>31.0</td>\n",
       "      <td>5.494736</td>\n",
       "    </tr>\n",
       "    <tr>\n",
       "      <th>4</th>\n",
       "      <td>2007</td>\n",
       "      <td>218</td>\n",
       "      <td>Skogsm</td>\n",
       "      <td>671117</td>\n",
       "      <td>7114900</td>\n",
       "      <td>18.514657</td>\n",
       "      <td>64.118114</td>\n",
       "      <td>0.000000</td>\n",
       "      <td>0.0</td>\n",
       "      <td>0.0</td>\n",
       "      <td>...</td>\n",
       "      <td>33.0</td>\n",
       "      <td>204.0</td>\n",
       "      <td>31.0</td>\n",
       "      <td>69.0</td>\n",
       "      <td>2712.0</td>\n",
       "      <td>2712.0</td>\n",
       "      <td>64.8069</td>\n",
       "      <td>64.8069</td>\n",
       "      <td>31.0</td>\n",
       "      <td>5.494736</td>\n",
       "    </tr>\n",
       "  </tbody>\n",
       "</table>\n",
       "<p>5 rows × 46 columns</p>\n",
       "</div>"
      ],
      "text/plain": [
       "   year  plotid landuseclass  easting  northing  longitude   latitude  \\\n",
       "0  2007     106       Skogsm   669894   7116684  18.491601  64.134697   \n",
       "1  2007     112       Skogsm   670490   7116694  18.503833  64.134493   \n",
       "2  2007     118          Myr   671088   7116706  18.516109  64.134305   \n",
       "3  2007     212       Skogsm   671110   7115502  18.515195  64.123509   \n",
       "4  2007     218       Skogsm   671117   7114900  18.514657  64.118114   \n",
       "\n",
       "    volbirch  volcontorta  volpine  ...  \\\n",
       "0  78.134338          0.0      0.0  ...   \n",
       "1   0.000000          0.0      0.0  ...   \n",
       "2  84.315784          0.0      0.0  ...   \n",
       "3   0.000000          0.0      0.0  ...   \n",
       "4   0.000000          0.0      0.0  ...   \n",
       "\n",
       "   era5_consecutive_dry_days_index_per_time_period  \\\n",
       "0                                             33.0   \n",
       "1                                             33.0   \n",
       "2                                             33.0   \n",
       "3                                             33.0   \n",
       "4                                             33.0   \n",
       "\n",
       "   era5_number_of_cdd_periods_with_more_than_5days_per_time_period  \\\n",
       "0                                              205.0                 \n",
       "1                                              205.0                 \n",
       "2                                              205.0                 \n",
       "3                                              204.0                 \n",
       "4                                              204.0                 \n",
       "\n",
       "   era5_consecutive_wet_days_index_per_time_period  \\\n",
       "0                                             31.0   \n",
       "1                                             31.0   \n",
       "2                                             31.0   \n",
       "3                                             31.0   \n",
       "4                                             31.0   \n",
       "\n",
       "   era5_number_of_cwd_periods_with_more_than_5days_per_time_period  \\\n",
       "0                                               76.0                 \n",
       "1                                               76.0                 \n",
       "2                                               76.0                 \n",
       "3                                               69.0                 \n",
       "4                                               69.0                 \n",
       "\n",
       "   era5_precipitation_days_index_per_time_period  \\\n",
       "0                                         2741.0   \n",
       "1                                         2741.0   \n",
       "2                                         2741.0   \n",
       "3                                         2712.0   \n",
       "4                                         2712.0   \n",
       "\n",
       "   era5_wet_days_index_per_time_period  \\\n",
       "0                               2741.0   \n",
       "1                               2741.0   \n",
       "2                               2741.0   \n",
       "3                               2712.0   \n",
       "4                               2712.0   \n",
       "\n",
       "   era5_highest_one_day_precipitation_amount_per_time_period  \\\n",
       "0                                            64.8069           \n",
       "1                                            64.8069           \n",
       "2                                            64.8069           \n",
       "3                                            64.8069           \n",
       "4                                            64.8069           \n",
       "\n",
       "   era5_highest_five_day_precipitation_amount_per_time_period  \\\n",
       "0                                            64.8069            \n",
       "1                                            64.8069            \n",
       "2                                            64.8069            \n",
       "3                                            64.8069            \n",
       "4                                            64.8069            \n",
       "\n",
       "   era5_number_of_5day_heavy_precipitation_periods_per_time_period  \\\n",
       "0                                               31.0                 \n",
       "1                                               31.0                 \n",
       "2                                               31.0                 \n",
       "3                                               31.0                 \n",
       "4                                               31.0                 \n",
       "\n",
       "   era5_simple_daily_intensity_index_per_time_period  \n",
       "0                                           5.361475  \n",
       "1                                           5.361475  \n",
       "2                                           5.361475  \n",
       "3                                           5.494736  \n",
       "4                                           5.494736  \n",
       "\n",
       "[5 rows x 46 columns]"
      ]
     },
     "execution_count": 5,
     "metadata": {},
     "output_type": "execute_result"
    }
   ],
   "source": [
    "df.head()"
   ]
  },
  {
   "cell_type": "code",
   "execution_count": 6,
   "metadata": {},
   "outputs": [
    {
     "data": {
      "text/plain": [
       "Index(['year', 'plotid', 'landuseclass', 'easting', 'northing', 'longitude',\n",
       "       'latitude', 'volbirch', 'volcontorta', 'volpine', 'volspruce',\n",
       "       'volotherdec', 'pine_spruce_ratio', 'voltotal',\n",
       "       'uerra_consecutive_frost_days_index_per_time_period',\n",
       "       'uerra_number_of_cfd_periods_with_more_than_5days_per_time_period',\n",
       "       'uerra_frost_days_index_per_time_period',\n",
       "       'uerra_consecutive_summer_days_index_per_time_period',\n",
       "       'uerra_number_of_csu_periods_with_more_than_5days_per_time_period',\n",
       "       'uerra_ice_days_index_per_time_period',\n",
       "       'uerra_summer_days_index_per_time_period',\n",
       "       'uerra_consecutive_dry_days_index_per_time_period',\n",
       "       'uerra_number_of_cdd_periods_with_more_than_5days_per_time_period',\n",
       "       'uerra_consecutive_wet_days_index_per_time_period',\n",
       "       'uerra_number_of_cwd_periods_with_more_than_5days_per_time_period',\n",
       "       'uerra_precipitation_days_index_per_time_period',\n",
       "       'uerra_wet_days_index_per_time_period',\n",
       "       'uerra_highest_one_day_precipitation_amount_per_time_period',\n",
       "       'uerra_highest_five_day_precipitation_amount_per_time_period',\n",
       "       'uerra_number_of_5day_heavy_precipitation_periods_per_time_period',\n",
       "       'uerra_simple_daily_intensity_index_per_time_period',\n",
       "       'era5_number_of_cfd_periods_with_more_than_5days_per_time_period',\n",
       "       'era5_frost_days_index_per_time_period',\n",
       "       'era5_number_of_csu_periods_with_more_than_5days_per_time_period',\n",
       "       'era5_ice_days_index_per_time_period',\n",
       "       'era5_summer_days_index_per_time_period',\n",
       "       'era5_consecutive_dry_days_index_per_time_period',\n",
       "       'era5_number_of_cdd_periods_with_more_than_5days_per_time_period',\n",
       "       'era5_consecutive_wet_days_index_per_time_period',\n",
       "       'era5_number_of_cwd_periods_with_more_than_5days_per_time_period',\n",
       "       'era5_precipitation_days_index_per_time_period',\n",
       "       'era5_wet_days_index_per_time_period',\n",
       "       'era5_highest_one_day_precipitation_amount_per_time_period',\n",
       "       'era5_highest_five_day_precipitation_amount_per_time_period',\n",
       "       'era5_number_of_5day_heavy_precipitation_periods_per_time_period',\n",
       "       'era5_simple_daily_intensity_index_per_time_period'],\n",
       "      dtype='object')"
      ]
     },
     "execution_count": 6,
     "metadata": {},
     "output_type": "execute_result"
    }
   ],
   "source": [
    "df.columns"
   ]
  },
  {
   "cell_type": "code",
   "execution_count": 7,
   "metadata": {},
   "outputs": [],
   "source": [
    "input_columns = [c for c in df.columns if 'uerra' in c]"
   ]
  },
  {
   "cell_type": "code",
   "execution_count": 8,
   "metadata": {},
   "outputs": [
    {
     "data": {
      "text/plain": [
       "['uerra_consecutive_frost_days_index_per_time_period',\n",
       " 'uerra_number_of_cfd_periods_with_more_than_5days_per_time_period',\n",
       " 'uerra_frost_days_index_per_time_period',\n",
       " 'uerra_consecutive_summer_days_index_per_time_period',\n",
       " 'uerra_number_of_csu_periods_with_more_than_5days_per_time_period',\n",
       " 'uerra_ice_days_index_per_time_period',\n",
       " 'uerra_summer_days_index_per_time_period',\n",
       " 'uerra_consecutive_dry_days_index_per_time_period',\n",
       " 'uerra_number_of_cdd_periods_with_more_than_5days_per_time_period',\n",
       " 'uerra_consecutive_wet_days_index_per_time_period',\n",
       " 'uerra_number_of_cwd_periods_with_more_than_5days_per_time_period',\n",
       " 'uerra_precipitation_days_index_per_time_period',\n",
       " 'uerra_wet_days_index_per_time_period',\n",
       " 'uerra_highest_one_day_precipitation_amount_per_time_period',\n",
       " 'uerra_highest_five_day_precipitation_amount_per_time_period',\n",
       " 'uerra_number_of_5day_heavy_precipitation_periods_per_time_period',\n",
       " 'uerra_simple_daily_intensity_index_per_time_period']"
      ]
     },
     "execution_count": 8,
     "metadata": {},
     "output_type": "execute_result"
    }
   ],
   "source": [
    "input_columns"
   ]
  },
  {
   "cell_type": "code",
   "execution_count": 9,
   "metadata": {},
   "outputs": [],
   "source": [
    "X = df[input_columns]"
   ]
  },
  {
   "cell_type": "code",
   "execution_count": 10,
   "metadata": {},
   "outputs": [
    {
     "data": {
      "text/html": [
       "<div>\n",
       "<style scoped>\n",
       "    .dataframe tbody tr th:only-of-type {\n",
       "        vertical-align: middle;\n",
       "    }\n",
       "\n",
       "    .dataframe tbody tr th {\n",
       "        vertical-align: top;\n",
       "    }\n",
       "\n",
       "    .dataframe thead th {\n",
       "        text-align: right;\n",
       "    }\n",
       "</style>\n",
       "<table border=\"1\" class=\"dataframe\">\n",
       "  <thead>\n",
       "    <tr style=\"text-align: right;\">\n",
       "      <th></th>\n",
       "      <th>uerra_consecutive_frost_days_index_per_time_period</th>\n",
       "      <th>uerra_number_of_cfd_periods_with_more_than_5days_per_time_period</th>\n",
       "      <th>uerra_frost_days_index_per_time_period</th>\n",
       "      <th>uerra_consecutive_summer_days_index_per_time_period</th>\n",
       "      <th>uerra_number_of_csu_periods_with_more_than_5days_per_time_period</th>\n",
       "      <th>uerra_ice_days_index_per_time_period</th>\n",
       "      <th>uerra_summer_days_index_per_time_period</th>\n",
       "      <th>uerra_consecutive_dry_days_index_per_time_period</th>\n",
       "      <th>uerra_number_of_cdd_periods_with_more_than_5days_per_time_period</th>\n",
       "      <th>uerra_consecutive_wet_days_index_per_time_period</th>\n",
       "      <th>uerra_number_of_cwd_periods_with_more_than_5days_per_time_period</th>\n",
       "      <th>uerra_precipitation_days_index_per_time_period</th>\n",
       "      <th>uerra_wet_days_index_per_time_period</th>\n",
       "      <th>uerra_highest_one_day_precipitation_amount_per_time_period</th>\n",
       "      <th>uerra_highest_five_day_precipitation_amount_per_time_period</th>\n",
       "      <th>uerra_number_of_5day_heavy_precipitation_periods_per_time_period</th>\n",
       "      <th>uerra_simple_daily_intensity_index_per_time_period</th>\n",
       "    </tr>\n",
       "  </thead>\n",
       "  <tbody>\n",
       "    <tr>\n",
       "      <th>0</th>\n",
       "      <td>111.0</td>\n",
       "      <td>91.0</td>\n",
       "      <td>2475.0</td>\n",
       "      <td>6.0</td>\n",
       "      <td>1.0</td>\n",
       "      <td>1541.0</td>\n",
       "      <td>54.0</td>\n",
       "      <td>34.0</td>\n",
       "      <td>227.0</td>\n",
       "      <td>9.0</td>\n",
       "      <td>13.0</td>\n",
       "      <td>1549.0</td>\n",
       "      <td>1549.0</td>\n",
       "      <td>63.607101</td>\n",
       "      <td>63.607101</td>\n",
       "      <td>2.0</td>\n",
       "      <td>5.118152</td>\n",
       "    </tr>\n",
       "    <tr>\n",
       "      <th>1</th>\n",
       "      <td>111.0</td>\n",
       "      <td>91.0</td>\n",
       "      <td>2546.0</td>\n",
       "      <td>5.0</td>\n",
       "      <td>0.0</td>\n",
       "      <td>1571.0</td>\n",
       "      <td>48.0</td>\n",
       "      <td>34.0</td>\n",
       "      <td>219.0</td>\n",
       "      <td>9.0</td>\n",
       "      <td>20.0</td>\n",
       "      <td>1646.0</td>\n",
       "      <td>1646.0</td>\n",
       "      <td>63.545086</td>\n",
       "      <td>63.545086</td>\n",
       "      <td>2.0</td>\n",
       "      <td>5.157168</td>\n",
       "    </tr>\n",
       "    <tr>\n",
       "      <th>2</th>\n",
       "      <td>111.0</td>\n",
       "      <td>91.0</td>\n",
       "      <td>2546.0</td>\n",
       "      <td>5.0</td>\n",
       "      <td>0.0</td>\n",
       "      <td>1571.0</td>\n",
       "      <td>48.0</td>\n",
       "      <td>34.0</td>\n",
       "      <td>219.0</td>\n",
       "      <td>9.0</td>\n",
       "      <td>20.0</td>\n",
       "      <td>1646.0</td>\n",
       "      <td>1646.0</td>\n",
       "      <td>63.545086</td>\n",
       "      <td>63.545086</td>\n",
       "      <td>2.0</td>\n",
       "      <td>5.157168</td>\n",
       "    </tr>\n",
       "    <tr>\n",
       "      <th>3</th>\n",
       "      <td>111.0</td>\n",
       "      <td>91.0</td>\n",
       "      <td>2546.0</td>\n",
       "      <td>5.0</td>\n",
       "      <td>0.0</td>\n",
       "      <td>1571.0</td>\n",
       "      <td>48.0</td>\n",
       "      <td>34.0</td>\n",
       "      <td>219.0</td>\n",
       "      <td>9.0</td>\n",
       "      <td>20.0</td>\n",
       "      <td>1646.0</td>\n",
       "      <td>1646.0</td>\n",
       "      <td>63.545086</td>\n",
       "      <td>63.545086</td>\n",
       "      <td>2.0</td>\n",
       "      <td>5.157168</td>\n",
       "    </tr>\n",
       "    <tr>\n",
       "      <th>4</th>\n",
       "      <td>111.0</td>\n",
       "      <td>91.0</td>\n",
       "      <td>2546.0</td>\n",
       "      <td>5.0</td>\n",
       "      <td>0.0</td>\n",
       "      <td>1571.0</td>\n",
       "      <td>48.0</td>\n",
       "      <td>34.0</td>\n",
       "      <td>219.0</td>\n",
       "      <td>9.0</td>\n",
       "      <td>20.0</td>\n",
       "      <td>1646.0</td>\n",
       "      <td>1646.0</td>\n",
       "      <td>63.545086</td>\n",
       "      <td>63.545086</td>\n",
       "      <td>2.0</td>\n",
       "      <td>5.157168</td>\n",
       "    </tr>\n",
       "  </tbody>\n",
       "</table>\n",
       "</div>"
      ],
      "text/plain": [
       "   uerra_consecutive_frost_days_index_per_time_period  \\\n",
       "0                                              111.0    \n",
       "1                                              111.0    \n",
       "2                                              111.0    \n",
       "3                                              111.0    \n",
       "4                                              111.0    \n",
       "\n",
       "   uerra_number_of_cfd_periods_with_more_than_5days_per_time_period  \\\n",
       "0                                               91.0                  \n",
       "1                                               91.0                  \n",
       "2                                               91.0                  \n",
       "3                                               91.0                  \n",
       "4                                               91.0                  \n",
       "\n",
       "   uerra_frost_days_index_per_time_period  \\\n",
       "0                                  2475.0   \n",
       "1                                  2546.0   \n",
       "2                                  2546.0   \n",
       "3                                  2546.0   \n",
       "4                                  2546.0   \n",
       "\n",
       "   uerra_consecutive_summer_days_index_per_time_period  \\\n",
       "0                                                6.0     \n",
       "1                                                5.0     \n",
       "2                                                5.0     \n",
       "3                                                5.0     \n",
       "4                                                5.0     \n",
       "\n",
       "   uerra_number_of_csu_periods_with_more_than_5days_per_time_period  \\\n",
       "0                                                1.0                  \n",
       "1                                                0.0                  \n",
       "2                                                0.0                  \n",
       "3                                                0.0                  \n",
       "4                                                0.0                  \n",
       "\n",
       "   uerra_ice_days_index_per_time_period  \\\n",
       "0                                1541.0   \n",
       "1                                1571.0   \n",
       "2                                1571.0   \n",
       "3                                1571.0   \n",
       "4                                1571.0   \n",
       "\n",
       "   uerra_summer_days_index_per_time_period  \\\n",
       "0                                     54.0   \n",
       "1                                     48.0   \n",
       "2                                     48.0   \n",
       "3                                     48.0   \n",
       "4                                     48.0   \n",
       "\n",
       "   uerra_consecutive_dry_days_index_per_time_period  \\\n",
       "0                                              34.0   \n",
       "1                                              34.0   \n",
       "2                                              34.0   \n",
       "3                                              34.0   \n",
       "4                                              34.0   \n",
       "\n",
       "   uerra_number_of_cdd_periods_with_more_than_5days_per_time_period  \\\n",
       "0                                              227.0                  \n",
       "1                                              219.0                  \n",
       "2                                              219.0                  \n",
       "3                                              219.0                  \n",
       "4                                              219.0                  \n",
       "\n",
       "   uerra_consecutive_wet_days_index_per_time_period  \\\n",
       "0                                               9.0   \n",
       "1                                               9.0   \n",
       "2                                               9.0   \n",
       "3                                               9.0   \n",
       "4                                               9.0   \n",
       "\n",
       "   uerra_number_of_cwd_periods_with_more_than_5days_per_time_period  \\\n",
       "0                                               13.0                  \n",
       "1                                               20.0                  \n",
       "2                                               20.0                  \n",
       "3                                               20.0                  \n",
       "4                                               20.0                  \n",
       "\n",
       "   uerra_precipitation_days_index_per_time_period  \\\n",
       "0                                          1549.0   \n",
       "1                                          1646.0   \n",
       "2                                          1646.0   \n",
       "3                                          1646.0   \n",
       "4                                          1646.0   \n",
       "\n",
       "   uerra_wet_days_index_per_time_period  \\\n",
       "0                                1549.0   \n",
       "1                                1646.0   \n",
       "2                                1646.0   \n",
       "3                                1646.0   \n",
       "4                                1646.0   \n",
       "\n",
       "   uerra_highest_one_day_precipitation_amount_per_time_period  \\\n",
       "0                                          63.607101            \n",
       "1                                          63.545086            \n",
       "2                                          63.545086            \n",
       "3                                          63.545086            \n",
       "4                                          63.545086            \n",
       "\n",
       "   uerra_highest_five_day_precipitation_amount_per_time_period  \\\n",
       "0                                          63.607101             \n",
       "1                                          63.545086             \n",
       "2                                          63.545086             \n",
       "3                                          63.545086             \n",
       "4                                          63.545086             \n",
       "\n",
       "   uerra_number_of_5day_heavy_precipitation_periods_per_time_period  \\\n",
       "0                                                2.0                  \n",
       "1                                                2.0                  \n",
       "2                                                2.0                  \n",
       "3                                                2.0                  \n",
       "4                                                2.0                  \n",
       "\n",
       "   uerra_simple_daily_intensity_index_per_time_period  \n",
       "0                                           5.118152   \n",
       "1                                           5.157168   \n",
       "2                                           5.157168   \n",
       "3                                           5.157168   \n",
       "4                                           5.157168   "
      ]
     },
     "execution_count": 10,
     "metadata": {},
     "output_type": "execute_result"
    }
   ],
   "source": [
    "X.head()"
   ]
  },
  {
   "cell_type": "code",
   "execution_count": 11,
   "metadata": {},
   "outputs": [],
   "source": [
    "df['pine'] = np.where(df.volpine > 0.5, 1, 0)\n",
    "df['spruce'] = np.where(df.volspruce > 0.5, 1, 0)"
   ]
  },
  {
   "cell_type": "code",
   "execution_count": 12,
   "metadata": {},
   "outputs": [
    {
     "data": {
      "text/html": [
       "<div>\n",
       "<style scoped>\n",
       "    .dataframe tbody tr th:only-of-type {\n",
       "        vertical-align: middle;\n",
       "    }\n",
       "\n",
       "    .dataframe tbody tr th {\n",
       "        vertical-align: top;\n",
       "    }\n",
       "\n",
       "    .dataframe thead th {\n",
       "        text-align: right;\n",
       "    }\n",
       "</style>\n",
       "<table border=\"1\" class=\"dataframe\">\n",
       "  <thead>\n",
       "    <tr style=\"text-align: right;\">\n",
       "      <th></th>\n",
       "      <th>year</th>\n",
       "      <th>plotid</th>\n",
       "      <th>landuseclass</th>\n",
       "      <th>easting</th>\n",
       "      <th>northing</th>\n",
       "      <th>longitude</th>\n",
       "      <th>latitude</th>\n",
       "      <th>volbirch</th>\n",
       "      <th>volcontorta</th>\n",
       "      <th>volpine</th>\n",
       "      <th>...</th>\n",
       "      <th>era5_number_of_cdd_periods_with_more_than_5days_per_time_period</th>\n",
       "      <th>era5_consecutive_wet_days_index_per_time_period</th>\n",
       "      <th>era5_number_of_cwd_periods_with_more_than_5days_per_time_period</th>\n",
       "      <th>era5_precipitation_days_index_per_time_period</th>\n",
       "      <th>era5_wet_days_index_per_time_period</th>\n",
       "      <th>era5_highest_one_day_precipitation_amount_per_time_period</th>\n",
       "      <th>era5_highest_five_day_precipitation_amount_per_time_period</th>\n",
       "      <th>era5_number_of_5day_heavy_precipitation_periods_per_time_period</th>\n",
       "      <th>era5_simple_daily_intensity_index_per_time_period</th>\n",
       "      <th>spruce</th>\n",
       "    </tr>\n",
       "    <tr>\n",
       "      <th>pine</th>\n",
       "      <th></th>\n",
       "      <th></th>\n",
       "      <th></th>\n",
       "      <th></th>\n",
       "      <th></th>\n",
       "      <th></th>\n",
       "      <th></th>\n",
       "      <th></th>\n",
       "      <th></th>\n",
       "      <th></th>\n",
       "      <th></th>\n",
       "      <th></th>\n",
       "      <th></th>\n",
       "      <th></th>\n",
       "      <th></th>\n",
       "      <th></th>\n",
       "      <th></th>\n",
       "      <th></th>\n",
       "      <th></th>\n",
       "      <th></th>\n",
       "      <th></th>\n",
       "    </tr>\n",
       "  </thead>\n",
       "  <tbody>\n",
       "    <tr>\n",
       "      <th>0</th>\n",
       "      <td>10310</td>\n",
       "      <td>10310</td>\n",
       "      <td>10310</td>\n",
       "      <td>10310</td>\n",
       "      <td>10310</td>\n",
       "      <td>10310</td>\n",
       "      <td>10310</td>\n",
       "      <td>10310</td>\n",
       "      <td>10310</td>\n",
       "      <td>10310</td>\n",
       "      <td>...</td>\n",
       "      <td>10310</td>\n",
       "      <td>10310</td>\n",
       "      <td>10310</td>\n",
       "      <td>10310</td>\n",
       "      <td>10310</td>\n",
       "      <td>10310</td>\n",
       "      <td>10310</td>\n",
       "      <td>10310</td>\n",
       "      <td>10310</td>\n",
       "      <td>10310</td>\n",
       "    </tr>\n",
       "    <tr>\n",
       "      <th>1</th>\n",
       "      <td>13929</td>\n",
       "      <td>13929</td>\n",
       "      <td>13929</td>\n",
       "      <td>13929</td>\n",
       "      <td>13929</td>\n",
       "      <td>13929</td>\n",
       "      <td>13929</td>\n",
       "      <td>13929</td>\n",
       "      <td>13929</td>\n",
       "      <td>13929</td>\n",
       "      <td>...</td>\n",
       "      <td>13929</td>\n",
       "      <td>13929</td>\n",
       "      <td>13929</td>\n",
       "      <td>13929</td>\n",
       "      <td>13929</td>\n",
       "      <td>13929</td>\n",
       "      <td>13929</td>\n",
       "      <td>13929</td>\n",
       "      <td>13929</td>\n",
       "      <td>13929</td>\n",
       "    </tr>\n",
       "  </tbody>\n",
       "</table>\n",
       "<p>2 rows × 47 columns</p>\n",
       "</div>"
      ],
      "text/plain": [
       "       year  plotid  landuseclass  easting  northing  longitude  latitude  \\\n",
       "pine                                                                        \n",
       "0     10310   10310         10310    10310     10310      10310     10310   \n",
       "1     13929   13929         13929    13929     13929      13929     13929   \n",
       "\n",
       "      volbirch  volcontorta  volpine  ...  \\\n",
       "pine                                  ...   \n",
       "0        10310        10310    10310  ...   \n",
       "1        13929        13929    13929  ...   \n",
       "\n",
       "      era5_number_of_cdd_periods_with_more_than_5days_per_time_period  \\\n",
       "pine                                                                    \n",
       "0                                                 10310                 \n",
       "1                                                 13929                 \n",
       "\n",
       "      era5_consecutive_wet_days_index_per_time_period  \\\n",
       "pine                                                    \n",
       "0                                               10310   \n",
       "1                                               13929   \n",
       "\n",
       "      era5_number_of_cwd_periods_with_more_than_5days_per_time_period  \\\n",
       "pine                                                                    \n",
       "0                                                 10310                 \n",
       "1                                                 13929                 \n",
       "\n",
       "      era5_precipitation_days_index_per_time_period  \\\n",
       "pine                                                  \n",
       "0                                             10310   \n",
       "1                                             13929   \n",
       "\n",
       "      era5_wet_days_index_per_time_period  \\\n",
       "pine                                        \n",
       "0                                   10310   \n",
       "1                                   13929   \n",
       "\n",
       "      era5_highest_one_day_precipitation_amount_per_time_period  \\\n",
       "pine                                                              \n",
       "0                                                 10310           \n",
       "1                                                 13929           \n",
       "\n",
       "      era5_highest_five_day_precipitation_amount_per_time_period  \\\n",
       "pine                                                               \n",
       "0                                                 10310            \n",
       "1                                                 13929            \n",
       "\n",
       "      era5_number_of_5day_heavy_precipitation_periods_per_time_period  \\\n",
       "pine                                                                    \n",
       "0                                                 10310                 \n",
       "1                                                 13929                 \n",
       "\n",
       "      era5_simple_daily_intensity_index_per_time_period  spruce  \n",
       "pine                                                             \n",
       "0                                                 10310   10310  \n",
       "1                                                 13929   13929  \n",
       "\n",
       "[2 rows x 47 columns]"
      ]
     },
     "execution_count": 12,
     "metadata": {},
     "output_type": "execute_result"
    }
   ],
   "source": [
    "df.groupby('pine').count()"
   ]
  },
  {
   "cell_type": "code",
   "execution_count": 13,
   "metadata": {},
   "outputs": [
    {
     "data": {
      "text/html": [
       "<div>\n",
       "<style scoped>\n",
       "    .dataframe tbody tr th:only-of-type {\n",
       "        vertical-align: middle;\n",
       "    }\n",
       "\n",
       "    .dataframe tbody tr th {\n",
       "        vertical-align: top;\n",
       "    }\n",
       "\n",
       "    .dataframe thead th {\n",
       "        text-align: right;\n",
       "    }\n",
       "</style>\n",
       "<table border=\"1\" class=\"dataframe\">\n",
       "  <thead>\n",
       "    <tr style=\"text-align: right;\">\n",
       "      <th></th>\n",
       "      <th>year</th>\n",
       "      <th>plotid</th>\n",
       "      <th>landuseclass</th>\n",
       "      <th>easting</th>\n",
       "      <th>northing</th>\n",
       "      <th>longitude</th>\n",
       "      <th>latitude</th>\n",
       "      <th>volbirch</th>\n",
       "      <th>volcontorta</th>\n",
       "      <th>volpine</th>\n",
       "      <th>...</th>\n",
       "      <th>era5_number_of_cdd_periods_with_more_than_5days_per_time_period</th>\n",
       "      <th>era5_consecutive_wet_days_index_per_time_period</th>\n",
       "      <th>era5_number_of_cwd_periods_with_more_than_5days_per_time_period</th>\n",
       "      <th>era5_precipitation_days_index_per_time_period</th>\n",
       "      <th>era5_wet_days_index_per_time_period</th>\n",
       "      <th>era5_highest_one_day_precipitation_amount_per_time_period</th>\n",
       "      <th>era5_highest_five_day_precipitation_amount_per_time_period</th>\n",
       "      <th>era5_number_of_5day_heavy_precipitation_periods_per_time_period</th>\n",
       "      <th>era5_simple_daily_intensity_index_per_time_period</th>\n",
       "      <th>pine</th>\n",
       "    </tr>\n",
       "    <tr>\n",
       "      <th>spruce</th>\n",
       "      <th></th>\n",
       "      <th></th>\n",
       "      <th></th>\n",
       "      <th></th>\n",
       "      <th></th>\n",
       "      <th></th>\n",
       "      <th></th>\n",
       "      <th></th>\n",
       "      <th></th>\n",
       "      <th></th>\n",
       "      <th></th>\n",
       "      <th></th>\n",
       "      <th></th>\n",
       "      <th></th>\n",
       "      <th></th>\n",
       "      <th></th>\n",
       "      <th></th>\n",
       "      <th></th>\n",
       "      <th></th>\n",
       "      <th></th>\n",
       "      <th></th>\n",
       "    </tr>\n",
       "  </thead>\n",
       "  <tbody>\n",
       "    <tr>\n",
       "      <th>0</th>\n",
       "      <td>8718</td>\n",
       "      <td>8718</td>\n",
       "      <td>8718</td>\n",
       "      <td>8718</td>\n",
       "      <td>8718</td>\n",
       "      <td>8718</td>\n",
       "      <td>8718</td>\n",
       "      <td>8718</td>\n",
       "      <td>8718</td>\n",
       "      <td>8718</td>\n",
       "      <td>...</td>\n",
       "      <td>8718</td>\n",
       "      <td>8718</td>\n",
       "      <td>8718</td>\n",
       "      <td>8718</td>\n",
       "      <td>8718</td>\n",
       "      <td>8718</td>\n",
       "      <td>8718</td>\n",
       "      <td>8718</td>\n",
       "      <td>8718</td>\n",
       "      <td>8718</td>\n",
       "    </tr>\n",
       "    <tr>\n",
       "      <th>1</th>\n",
       "      <td>15521</td>\n",
       "      <td>15521</td>\n",
       "      <td>15521</td>\n",
       "      <td>15521</td>\n",
       "      <td>15521</td>\n",
       "      <td>15521</td>\n",
       "      <td>15521</td>\n",
       "      <td>15521</td>\n",
       "      <td>15521</td>\n",
       "      <td>15521</td>\n",
       "      <td>...</td>\n",
       "      <td>15521</td>\n",
       "      <td>15521</td>\n",
       "      <td>15521</td>\n",
       "      <td>15521</td>\n",
       "      <td>15521</td>\n",
       "      <td>15521</td>\n",
       "      <td>15521</td>\n",
       "      <td>15521</td>\n",
       "      <td>15521</td>\n",
       "      <td>15521</td>\n",
       "    </tr>\n",
       "  </tbody>\n",
       "</table>\n",
       "<p>2 rows × 47 columns</p>\n",
       "</div>"
      ],
      "text/plain": [
       "         year  plotid  landuseclass  easting  northing  longitude  latitude  \\\n",
       "spruce                                                                        \n",
       "0        8718    8718          8718     8718      8718       8718      8718   \n",
       "1       15521   15521         15521    15521     15521      15521     15521   \n",
       "\n",
       "        volbirch  volcontorta  volpine  ...  \\\n",
       "spruce                                  ...   \n",
       "0           8718         8718     8718  ...   \n",
       "1          15521        15521    15521  ...   \n",
       "\n",
       "        era5_number_of_cdd_periods_with_more_than_5days_per_time_period  \\\n",
       "spruce                                                                    \n",
       "0                                                    8718                 \n",
       "1                                                   15521                 \n",
       "\n",
       "        era5_consecutive_wet_days_index_per_time_period  \\\n",
       "spruce                                                    \n",
       "0                                                  8718   \n",
       "1                                                 15521   \n",
       "\n",
       "        era5_number_of_cwd_periods_with_more_than_5days_per_time_period  \\\n",
       "spruce                                                                    \n",
       "0                                                    8718                 \n",
       "1                                                   15521                 \n",
       "\n",
       "        era5_precipitation_days_index_per_time_period  \\\n",
       "spruce                                                  \n",
       "0                                                8718   \n",
       "1                                               15521   \n",
       "\n",
       "        era5_wet_days_index_per_time_period  \\\n",
       "spruce                                        \n",
       "0                                      8718   \n",
       "1                                     15521   \n",
       "\n",
       "        era5_highest_one_day_precipitation_amount_per_time_period  \\\n",
       "spruce                                                              \n",
       "0                                                    8718           \n",
       "1                                                   15521           \n",
       "\n",
       "        era5_highest_five_day_precipitation_amount_per_time_period  \\\n",
       "spruce                                                               \n",
       "0                                                    8718            \n",
       "1                                                   15521            \n",
       "\n",
       "        era5_number_of_5day_heavy_precipitation_periods_per_time_period  \\\n",
       "spruce                                                                    \n",
       "0                                                    8718                 \n",
       "1                                                   15521                 \n",
       "\n",
       "        era5_simple_daily_intensity_index_per_time_period   pine  \n",
       "spruce                                                            \n",
       "0                                                    8718   8718  \n",
       "1                                                   15521  15521  \n",
       "\n",
       "[2 rows x 47 columns]"
      ]
     },
     "execution_count": 13,
     "metadata": {},
     "output_type": "execute_result"
    }
   ],
   "source": [
    "df.groupby('spruce').count()"
   ]
  },
  {
   "cell_type": "code",
   "execution_count": null,
   "metadata": {},
   "outputs": [],
   "source": []
  },
  {
   "cell_type": "markdown",
   "metadata": {},
   "source": [
    "# Pine Classifier"
   ]
  },
  {
   "cell_type": "code",
   "execution_count": 14,
   "metadata": {},
   "outputs": [],
   "source": [
    "y_pine = df['pine']"
   ]
  },
  {
   "cell_type": "code",
   "execution_count": 15,
   "metadata": {},
   "outputs": [],
   "source": [
    "X_pine_resampled, y_pine_resampled = SMOTE().fit_resample(X, y_pine)"
   ]
  },
  {
   "cell_type": "code",
   "execution_count": 16,
   "metadata": {},
   "outputs": [],
   "source": [
    "X_pine_train, X_pine_test, y_pine_train, y_pine_test = train_test_split(X_pine_resampled, y_pine_resampled, train_size=0.7)"
   ]
  },
  {
   "cell_type": "code",
   "execution_count": 17,
   "metadata": {},
   "outputs": [],
   "source": [
    "pine_parameters = {'n_estimators': [10, 50, 100], 'max_depth': [50, 75, 100]}"
   ]
  },
  {
   "cell_type": "code",
   "execution_count": 18,
   "metadata": {},
   "outputs": [],
   "source": [
    "clf_pine = GridSearchCV(RandomForestClassifier(), cv=3, param_grid=pine_parameters, verbose=9)"
   ]
  },
  {
   "cell_type": "code",
   "execution_count": 19,
   "metadata": {},
   "outputs": [
    {
     "name": "stdout",
     "output_type": "stream",
     "text": [
      "Fitting 3 folds for each of 9 candidates, totalling 27 fits\n",
      "[CV] max_depth=50, n_estimators=10 ...................................\n"
     ]
    },
    {
     "name": "stderr",
     "output_type": "stream",
     "text": [
      "[Parallel(n_jobs=1)]: Using backend SequentialBackend with 1 concurrent workers.\n"
     ]
    },
    {
     "name": "stdout",
     "output_type": "stream",
     "text": [
      "[CV] ....... max_depth=50, n_estimators=10, score=0.671, total=   0.3s\n",
      "[CV] max_depth=50, n_estimators=10 ...................................\n"
     ]
    },
    {
     "name": "stderr",
     "output_type": "stream",
     "text": [
      "[Parallel(n_jobs=1)]: Done   1 out of   1 | elapsed:    0.3s remaining:    0.0s\n"
     ]
    },
    {
     "name": "stdout",
     "output_type": "stream",
     "text": [
      "[CV] ....... max_depth=50, n_estimators=10, score=0.664, total=   0.3s\n",
      "[CV] max_depth=50, n_estimators=10 ...................................\n"
     ]
    },
    {
     "name": "stderr",
     "output_type": "stream",
     "text": [
      "[Parallel(n_jobs=1)]: Done   2 out of   2 | elapsed:    0.7s remaining:    0.0s\n"
     ]
    },
    {
     "name": "stdout",
     "output_type": "stream",
     "text": [
      "[CV] ....... max_depth=50, n_estimators=10, score=0.664, total=   0.3s\n",
      "[CV] max_depth=50, n_estimators=50 ...................................\n"
     ]
    },
    {
     "name": "stderr",
     "output_type": "stream",
     "text": [
      "[Parallel(n_jobs=1)]: Done   3 out of   3 | elapsed:    1.0s remaining:    0.0s\n"
     ]
    },
    {
     "name": "stdout",
     "output_type": "stream",
     "text": [
      "[CV] ....... max_depth=50, n_estimators=50, score=0.672, total=   1.6s\n",
      "[CV] max_depth=50, n_estimators=50 ...................................\n"
     ]
    },
    {
     "name": "stderr",
     "output_type": "stream",
     "text": [
      "[Parallel(n_jobs=1)]: Done   4 out of   4 | elapsed:    2.6s remaining:    0.0s\n"
     ]
    },
    {
     "name": "stdout",
     "output_type": "stream",
     "text": [
      "[CV] ....... max_depth=50, n_estimators=50, score=0.673, total=   1.6s\n",
      "[CV] max_depth=50, n_estimators=50 ...................................\n"
     ]
    },
    {
     "name": "stderr",
     "output_type": "stream",
     "text": [
      "[Parallel(n_jobs=1)]: Done   5 out of   5 | elapsed:    4.2s remaining:    0.0s\n"
     ]
    },
    {
     "name": "stdout",
     "output_type": "stream",
     "text": [
      "[CV] ....... max_depth=50, n_estimators=50, score=0.674, total=   1.6s\n",
      "[CV] max_depth=50, n_estimators=100 ..................................\n"
     ]
    },
    {
     "name": "stderr",
     "output_type": "stream",
     "text": [
      "[Parallel(n_jobs=1)]: Done   6 out of   6 | elapsed:    5.8s remaining:    0.0s\n"
     ]
    },
    {
     "name": "stdout",
     "output_type": "stream",
     "text": [
      "[CV] ...... max_depth=50, n_estimators=100, score=0.673, total=   3.2s\n",
      "[CV] max_depth=50, n_estimators=100 ..................................\n"
     ]
    },
    {
     "name": "stderr",
     "output_type": "stream",
     "text": [
      "[Parallel(n_jobs=1)]: Done   7 out of   7 | elapsed:    9.0s remaining:    0.0s\n"
     ]
    },
    {
     "name": "stdout",
     "output_type": "stream",
     "text": [
      "[CV] ...... max_depth=50, n_estimators=100, score=0.672, total=   3.2s\n",
      "[CV] max_depth=50, n_estimators=100 ..................................\n"
     ]
    },
    {
     "name": "stderr",
     "output_type": "stream",
     "text": [
      "[Parallel(n_jobs=1)]: Done   8 out of   8 | elapsed:   12.1s remaining:    0.0s\n"
     ]
    },
    {
     "name": "stdout",
     "output_type": "stream",
     "text": [
      "[CV] ...... max_depth=50, n_estimators=100, score=0.671, total=   3.1s\n",
      "[CV] max_depth=75, n_estimators=10 ...................................\n",
      "[CV] ....... max_depth=75, n_estimators=10, score=0.664, total=   0.3s\n",
      "[CV] max_depth=75, n_estimators=10 ...................................\n",
      "[CV] ....... max_depth=75, n_estimators=10, score=0.665, total=   0.3s\n",
      "[CV] max_depth=75, n_estimators=10 ...................................\n",
      "[CV] ....... max_depth=75, n_estimators=10, score=0.668, total=   0.3s\n",
      "[CV] max_depth=75, n_estimators=50 ...................................\n",
      "[CV] ....... max_depth=75, n_estimators=50, score=0.674, total=   1.6s\n",
      "[CV] max_depth=75, n_estimators=50 ...................................\n",
      "[CV] ....... max_depth=75, n_estimators=50, score=0.668, total=   1.6s\n",
      "[CV] max_depth=75, n_estimators=50 ...................................\n",
      "[CV] ....... max_depth=75, n_estimators=50, score=0.677, total=   1.6s\n",
      "[CV] max_depth=75, n_estimators=100 ..................................\n",
      "[CV] ...... max_depth=75, n_estimators=100, score=0.672, total=   3.2s\n",
      "[CV] max_depth=75, n_estimators=100 ..................................\n",
      "[CV] ...... max_depth=75, n_estimators=100, score=0.668, total=   3.2s\n",
      "[CV] max_depth=75, n_estimators=100 ..................................\n",
      "[CV] ...... max_depth=75, n_estimators=100, score=0.677, total=   3.2s\n",
      "[CV] max_depth=100, n_estimators=10 ..................................\n",
      "[CV] ...... max_depth=100, n_estimators=10, score=0.667, total=   0.3s\n",
      "[CV] max_depth=100, n_estimators=10 ..................................\n",
      "[CV] ...... max_depth=100, n_estimators=10, score=0.662, total=   0.3s\n",
      "[CV] max_depth=100, n_estimators=10 ..................................\n",
      "[CV] ...... max_depth=100, n_estimators=10, score=0.670, total=   0.3s\n",
      "[CV] max_depth=100, n_estimators=50 ..................................\n",
      "[CV] ...... max_depth=100, n_estimators=50, score=0.672, total=   1.7s\n",
      "[CV] max_depth=100, n_estimators=50 ..................................\n",
      "[CV] ...... max_depth=100, n_estimators=50, score=0.664, total=   1.6s\n",
      "[CV] max_depth=100, n_estimators=50 ..................................\n",
      "[CV] ...... max_depth=100, n_estimators=50, score=0.673, total=   1.6s\n",
      "[CV] max_depth=100, n_estimators=100 .................................\n",
      "[CV] ..... max_depth=100, n_estimators=100, score=0.673, total=   3.2s\n",
      "[CV] max_depth=100, n_estimators=100 .................................\n",
      "[CV] ..... max_depth=100, n_estimators=100, score=0.667, total=   3.2s\n",
      "[CV] max_depth=100, n_estimators=100 .................................\n",
      "[CV] ..... max_depth=100, n_estimators=100, score=0.673, total=   3.2s\n"
     ]
    },
    {
     "name": "stderr",
     "output_type": "stream",
     "text": [
      "[Parallel(n_jobs=1)]: Done  27 out of  27 | elapsed:   46.0s finished\n"
     ]
    },
    {
     "data": {
      "text/plain": [
       "GridSearchCV(cv=3, error_score='raise-deprecating',\n",
       "             estimator=RandomForestClassifier(bootstrap=True, class_weight=None,\n",
       "                                              criterion='gini', max_depth=None,\n",
       "                                              max_features='auto',\n",
       "                                              max_leaf_nodes=None,\n",
       "                                              min_impurity_decrease=0.0,\n",
       "                                              min_impurity_split=None,\n",
       "                                              min_samples_leaf=1,\n",
       "                                              min_samples_split=2,\n",
       "                                              min_weight_fraction_leaf=0.0,\n",
       "                                              n_estimators='warn', n_jobs=None,\n",
       "                                              oob_score=False,\n",
       "                                              random_state=None, verbose=0,\n",
       "                                              warm_start=False),\n",
       "             iid='warn', n_jobs=None,\n",
       "             param_grid={'max_depth': [50, 75, 100],\n",
       "                         'n_estimators': [10, 50, 100]},\n",
       "             pre_dispatch='2*n_jobs', refit=True, return_train_score=False,\n",
       "             scoring=None, verbose=9)"
      ]
     },
     "execution_count": 19,
     "metadata": {},
     "output_type": "execute_result"
    }
   ],
   "source": [
    "clf_pine.fit(X_pine_train, y_pine_train)"
   ]
  },
  {
   "cell_type": "code",
   "execution_count": 20,
   "metadata": {},
   "outputs": [],
   "source": [
    "y_pine_pred = clf_pine.predict(X_pine_test)"
   ]
  },
  {
   "cell_type": "code",
   "execution_count": 21,
   "metadata": {},
   "outputs": [
    {
     "data": {
      "text/plain": [
       "0.6847331897583154"
      ]
     },
     "execution_count": 21,
     "metadata": {},
     "output_type": "execute_result"
    }
   ],
   "source": [
    "accuracy_score(y_pine_pred, y_pine_test)"
   ]
  },
  {
   "cell_type": "code",
   "execution_count": 22,
   "metadata": {},
   "outputs": [
    {
     "data": {
      "text/plain": [
       "0.6939960515619557"
      ]
     },
     "execution_count": 22,
     "metadata": {},
     "output_type": "execute_result"
    }
   ],
   "source": [
    "f1_score(y_pine_pred, y_pine_test)"
   ]
  },
  {
   "cell_type": "code",
   "execution_count": 23,
   "metadata": {},
   "outputs": [
    {
     "data": {
      "text/plain": [
       "0.7184419331570089"
      ]
     },
     "execution_count": 23,
     "metadata": {},
     "output_type": "execute_result"
    }
   ],
   "source": [
    "precision_score(y_pine_pred, y_pine_test)"
   ]
  },
  {
   "cell_type": "code",
   "execution_count": 24,
   "metadata": {},
   "outputs": [
    {
     "data": {
      "text/plain": [
       "0.6711590296495957"
      ]
     },
     "execution_count": 24,
     "metadata": {},
     "output_type": "execute_result"
    }
   ],
   "source": [
    "recall_score(y_pine_pred, y_pine_test)"
   ]
  },
  {
   "cell_type": "code",
   "execution_count": 25,
   "metadata": {},
   "outputs": [
    {
     "data": {
      "text/plain": [
       "array([[2735, 1171],\n",
       "       [1464, 2988]])"
      ]
     },
     "execution_count": 25,
     "metadata": {},
     "output_type": "execute_result"
    }
   ],
   "source": [
    "cm = confusion_matrix(y_pine_pred, y_pine_test)\n",
    "cm"
   ]
  },
  {
   "cell_type": "code",
   "execution_count": 26,
   "metadata": {},
   "outputs": [
    {
     "data": {
      "text/plain": [
       "<matplotlib.axes._subplots.AxesSubplot at 0x7fcdb3151828>"
      ]
     },
     "execution_count": 26,
     "metadata": {},
     "output_type": "execute_result"
    },
    {
     "data": {
      "image/png": "[encoded data removed]",
      "text/plain": [
       "<Figure size 432x288 with 2 Axes>"
      ]
     },
     "metadata": {
      "needs_background": "light"
     },
     "output_type": "display_data"
    }
   ],
   "source": [
    "sns.heatmap(cm, annot=True, fmt=\"d\")"
   ]
  },
  {
   "cell_type": "code",
   "execution_count": 27,
   "metadata": {},
   "outputs": [
    {
     "data": {
      "image/png": "[encoded data removed]",
      "text/plain": [
       "<Figure size 432x288 with 1 Axes>"
      ]
     },
     "metadata": {
      "needs_background": "light"
     },
     "output_type": "display_data"
    }
   ],
   "source": [
    "features = [c[6:-16] for c in X.columns]\n",
    "importances = clf_pine.best_estimator_.feature_importances_\n",
    "indices = np.argsort(importances)\n",
    "\n",
    "plt.title('RF Pine Classifier - Feature Importances')\n",
    "plt.barh(range(len(indices)), importances[indices], color='b', align='center')\n",
    "plt.yticks(range(len(indices)), [features[i] for i in indices])\n",
    "plt.xlabel('Relative Importance')\n",
    "plt.show()"
   ]
  },
  {
   "cell_type": "markdown",
   "metadata": {},
   "source": [
    "# Spruce"
   ]
  },
  {
   "cell_type": "code",
   "execution_count": 28,
   "metadata": {},
   "outputs": [],
   "source": [
    "y_spruce = df['spruce']"
   ]
  },
  {
   "cell_type": "code",
   "execution_count": 29,
   "metadata": {},
   "outputs": [],
   "source": [
    "X_spruce_resampled, y_spruce_resampled = SMOTE().fit_resample(X, y_spruce)"
   ]
  },
  {
   "cell_type": "code",
   "execution_count": 30,
   "metadata": {},
   "outputs": [],
   "source": [
    "X_spruce_train, X_spruce_test, y_spruce_train, y_spruce_test = train_test_split(X_spruce_resampled, y_spruce_resampled, train_size=0.7)"
   ]
  },
  {
   "cell_type": "code",
   "execution_count": 31,
   "metadata": {},
   "outputs": [],
   "source": [
    "spruce_parameters = {'n_estimators': [100], 'max_depth': [10, 25, 50]}"
   ]
  },
  {
   "cell_type": "code",
   "execution_count": 32,
   "metadata": {},
   "outputs": [],
   "source": [
    "clf_spruce = GridSearchCV(RandomForestClassifier(), param_grid=spruce_parameters, cv=10, verbose=9)"
   ]
  },
  {
   "cell_type": "code",
   "execution_count": 33,
   "metadata": {},
   "outputs": [
    {
     "name": "stdout",
     "output_type": "stream",
     "text": [
      "Fitting 10 folds for each of 3 candidates, totalling 30 fits\n",
      "[CV] max_depth=10, n_estimators=100 ..................................\n"
     ]
    },
    {
     "name": "stderr",
     "output_type": "stream",
     "text": [
      "[Parallel(n_jobs=1)]: Using backend SequentialBackend with 1 concurrent workers.\n"
     ]
    },
    {
     "name": "stdout",
     "output_type": "stream",
     "text": [
      "[CV] ...... max_depth=10, n_estimators=100, score=0.658, total=   3.1s\n",
      "[CV] max_depth=10, n_estimators=100 ..................................\n"
     ]
    },
    {
     "name": "stderr",
     "output_type": "stream",
     "text": [
      "[Parallel(n_jobs=1)]: Done   1 out of   1 | elapsed:    3.1s remaining:    0.0s\n"
     ]
    },
    {
     "name": "stdout",
     "output_type": "stream",
     "text": [
      "[CV] ...... max_depth=10, n_estimators=100, score=0.640, total=   3.2s\n",
      "[CV] max_depth=10, n_estimators=100 ..................................\n"
     ]
    },
    {
     "name": "stderr",
     "output_type": "stream",
     "text": [
      "[Parallel(n_jobs=1)]: Done   2 out of   2 | elapsed:    6.3s remaining:    0.0s\n"
     ]
    },
    {
     "name": "stdout",
     "output_type": "stream",
     "text": [
      "[CV] ...... max_depth=10, n_estimators=100, score=0.650, total=   3.3s\n",
      "[CV] max_depth=10, n_estimators=100 ..................................\n"
     ]
    },
    {
     "name": "stderr",
     "output_type": "stream",
     "text": [
      "[Parallel(n_jobs=1)]: Done   3 out of   3 | elapsed:    9.6s remaining:    0.0s\n"
     ]
    },
    {
     "name": "stdout",
     "output_type": "stream",
     "text": [
      "[CV] ...... max_depth=10, n_estimators=100, score=0.654, total=   3.3s\n",
      "[CV] max_depth=10, n_estimators=100 ..................................\n"
     ]
    },
    {
     "name": "stderr",
     "output_type": "stream",
     "text": [
      "[Parallel(n_jobs=1)]: Done   4 out of   4 | elapsed:   12.9s remaining:    0.0s\n"
     ]
    },
    {
     "name": "stdout",
     "output_type": "stream",
     "text": [
      "[CV] ...... max_depth=10, n_estimators=100, score=0.657, total=   3.4s\n",
      "[CV] max_depth=10, n_estimators=100 ..................................\n"
     ]
    },
    {
     "name": "stderr",
     "output_type": "stream",
     "text": [
      "[Parallel(n_jobs=1)]: Done   5 out of   5 | elapsed:   16.3s remaining:    0.0s\n"
     ]
    },
    {
     "name": "stdout",
     "output_type": "stream",
     "text": [
      "[CV] ...... max_depth=10, n_estimators=100, score=0.675, total=   3.1s\n",
      "[CV] max_depth=10, n_estimators=100 ..................................\n"
     ]
    },
    {
     "name": "stderr",
     "output_type": "stream",
     "text": [
      "[Parallel(n_jobs=1)]: Done   6 out of   6 | elapsed:   19.4s remaining:    0.0s\n"
     ]
    },
    {
     "name": "stdout",
     "output_type": "stream",
     "text": [
      "[CV] ...... max_depth=10, n_estimators=100, score=0.651, total=   3.1s\n",
      "[CV] max_depth=10, n_estimators=100 ..................................\n"
     ]
    },
    {
     "name": "stderr",
     "output_type": "stream",
     "text": [
      "[Parallel(n_jobs=1)]: Done   7 out of   7 | elapsed:   22.5s remaining:    0.0s\n"
     ]
    },
    {
     "name": "stdout",
     "output_type": "stream",
     "text": [
      "[CV] ...... max_depth=10, n_estimators=100, score=0.665, total=   3.2s\n",
      "[CV] max_depth=10, n_estimators=100 ..................................\n"
     ]
    },
    {
     "name": "stderr",
     "output_type": "stream",
     "text": [
      "[Parallel(n_jobs=1)]: Done   8 out of   8 | elapsed:   25.7s remaining:    0.0s\n"
     ]
    },
    {
     "name": "stdout",
     "output_type": "stream",
     "text": [
      "[CV] ...... max_depth=10, n_estimators=100, score=0.669, total=   3.1s\n",
      "[CV] max_depth=10, n_estimators=100 ..................................\n",
      "[CV] ...... max_depth=10, n_estimators=100, score=0.652, total=   3.1s\n",
      "[CV] max_depth=25, n_estimators=100 ..................................\n",
      "[CV] ...... max_depth=25, n_estimators=100, score=0.690, total=   5.1s\n",
      "[CV] max_depth=25, n_estimators=100 ..................................\n",
      "[CV] ...... max_depth=25, n_estimators=100, score=0.670, total=   5.1s\n",
      "[CV] max_depth=25, n_estimators=100 ..................................\n",
      "[CV] ...... max_depth=25, n_estimators=100, score=0.677, total=   5.2s\n",
      "[CV] max_depth=25, n_estimators=100 ..................................\n",
      "[CV] ...... max_depth=25, n_estimators=100, score=0.696, total=   5.1s\n",
      "[CV] max_depth=25, n_estimators=100 ..................................\n",
      "[CV] ...... max_depth=25, n_estimators=100, score=0.674, total=   5.1s\n",
      "[CV] max_depth=25, n_estimators=100 ..................................\n",
      "[CV] ...... max_depth=25, n_estimators=100, score=0.696, total=   5.1s\n",
      "[CV] max_depth=25, n_estimators=100 ..................................\n",
      "[CV] ...... max_depth=25, n_estimators=100, score=0.690, total=   5.2s\n",
      "[CV] max_depth=25, n_estimators=100 ..................................\n",
      "[CV] ...... max_depth=25, n_estimators=100, score=0.675, total=   5.2s\n",
      "[CV] max_depth=25, n_estimators=100 ..................................\n",
      "[CV] ...... max_depth=25, n_estimators=100, score=0.690, total=   5.6s\n",
      "[CV] max_depth=25, n_estimators=100 ..................................\n",
      "[CV] ...... max_depth=25, n_estimators=100, score=0.696, total=   5.6s\n",
      "[CV] max_depth=50, n_estimators=100 ..................................\n",
      "[CV] ...... max_depth=50, n_estimators=100, score=0.687, total=   5.4s\n",
      "[CV] max_depth=50, n_estimators=100 ..................................\n",
      "[CV] ...... max_depth=50, n_estimators=100, score=0.684, total=   5.4s\n",
      "[CV] max_depth=50, n_estimators=100 ..................................\n",
      "[CV] ...... max_depth=50, n_estimators=100, score=0.674, total=   5.3s\n",
      "[CV] max_depth=50, n_estimators=100 ..................................\n",
      "[CV] ...... max_depth=50, n_estimators=100, score=0.689, total=   5.5s\n",
      "[CV] max_depth=50, n_estimators=100 ..................................\n",
      "[CV] ...... max_depth=50, n_estimators=100, score=0.672, total=   5.3s\n",
      "[CV] max_depth=50, n_estimators=100 ..................................\n",
      "[CV] ...... max_depth=50, n_estimators=100, score=0.699, total=   5.4s\n",
      "[CV] max_depth=50, n_estimators=100 ..................................\n",
      "[CV] ...... max_depth=50, n_estimators=100, score=0.693, total=   5.4s\n",
      "[CV] max_depth=50, n_estimators=100 ..................................\n",
      "[CV] ...... max_depth=50, n_estimators=100, score=0.668, total=   5.4s\n",
      "[CV] max_depth=50, n_estimators=100 ..................................\n",
      "[CV] ...... max_depth=50, n_estimators=100, score=0.692, total=   5.4s\n",
      "[CV] max_depth=50, n_estimators=100 ..................................\n",
      "[CV] ...... max_depth=50, n_estimators=100, score=0.692, total=   5.3s\n"
     ]
    },
    {
     "name": "stderr",
     "output_type": "stream",
     "text": [
      "[Parallel(n_jobs=1)]: Done  30 out of  30 | elapsed:  2.3min finished\n"
     ]
    },
    {
     "data": {
      "text/plain": [
       "GridSearchCV(cv=10, error_score='raise-deprecating',\n",
       "             estimator=RandomForestClassifier(bootstrap=True, class_weight=None,\n",
       "                                              criterion='gini', max_depth=None,\n",
       "                                              max_features='auto',\n",
       "                                              max_leaf_nodes=None,\n",
       "                                              min_impurity_decrease=0.0,\n",
       "                                              min_impurity_split=None,\n",
       "                                              min_samples_leaf=1,\n",
       "                                              min_samples_split=2,\n",
       "                                              min_weight_fraction_leaf=0.0,\n",
       "                                              n_estimators='warn', n_jobs=None,\n",
       "                                              oob_score=False,\n",
       "                                              random_state=None, verbose=0,\n",
       "                                              warm_start=False),\n",
       "             iid='warn', n_jobs=None,\n",
       "             param_grid={'max_depth': [10, 25, 50], 'n_estimators': [100]},\n",
       "             pre_dispatch='2*n_jobs', refit=True, return_train_score=False,\n",
       "             scoring=None, verbose=9)"
      ]
     },
     "execution_count": 33,
     "metadata": {},
     "output_type": "execute_result"
    }
   ],
   "source": [
    "clf_spruce.fit(X_spruce_train, y_spruce_train)"
   ]
  },
  {
   "cell_type": "code",
   "execution_count": 34,
   "metadata": {},
   "outputs": [
    {
     "data": {
      "text/plain": [
       "{'max_depth': 25, 'n_estimators': 100}"
      ]
     },
     "execution_count": 34,
     "metadata": {},
     "output_type": "execute_result"
    }
   ],
   "source": [
    "clf_spruce.best_params_"
   ]
  },
  {
   "cell_type": "code",
   "execution_count": 35,
   "metadata": {},
   "outputs": [],
   "source": [
    "y_spruce_pred = clf_spruce.predict(X_spruce_test)"
   ]
  },
  {
   "cell_type": "code",
   "execution_count": 36,
   "metadata": {},
   "outputs": [
    {
     "data": {
      "text/plain": [
       "0.6889294534521636"
      ]
     },
     "execution_count": 36,
     "metadata": {},
     "output_type": "execute_result"
    }
   ],
   "source": [
    "accuracy_score(y_spruce_pred, y_spruce_test)"
   ]
  },
  {
   "cell_type": "code",
   "execution_count": 37,
   "metadata": {},
   "outputs": [
    {
     "data": {
      "text/plain": [
       "0.6925607555980049"
      ]
     },
     "execution_count": 37,
     "metadata": {},
     "output_type": "execute_result"
    }
   ],
   "source": [
    "f1_score(y_spruce_pred, y_spruce_test)"
   ]
  },
  {
   "cell_type": "code",
   "execution_count": 38,
   "metadata": {},
   "outputs": [
    {
     "data": {
      "text/plain": [
       "0.702173445233484"
      ]
     },
     "execution_count": 38,
     "metadata": {},
     "output_type": "execute_result"
    }
   ],
   "source": [
    "precision_score(y_spruce_pred, y_spruce_test)"
   ]
  },
  {
   "cell_type": "code",
   "execution_count": 39,
   "metadata": {},
   "outputs": [
    {
     "data": {
      "text/plain": [
       "0.6832077051926299"
      ]
     },
     "execution_count": 39,
     "metadata": {},
     "output_type": "execute_result"
    }
   ],
   "source": [
    "recall_score(y_spruce_pred, y_spruce_test)"
   ]
  },
  {
   "cell_type": "code",
   "execution_count": 40,
   "metadata": {},
   "outputs": [
    {
     "data": {
      "text/plain": [
       "array([[3153, 1384],\n",
       "       [1513, 3263]])"
      ]
     },
     "execution_count": 40,
     "metadata": {},
     "output_type": "execute_result"
    }
   ],
   "source": [
    "cm = confusion_matrix(y_spruce_pred, y_spruce_test)\n",
    "cm"
   ]
  },
  {
   "cell_type": "code",
   "execution_count": 41,
   "metadata": {},
   "outputs": [
    {
     "data": {
      "text/plain": [
       "<matplotlib.axes._subplots.AxesSubplot at 0x7fcdb0ffba90>"
      ]
     },
     "execution_count": 41,
     "metadata": {},
     "output_type": "execute_result"
    },
    {
     "data": {
      "image/png": "[encoded data removed]",
      "text/plain": [
       "<Figure size 432x288 with 2 Axes>"
      ]
     },
     "metadata": {
      "needs_background": "light"
     },
     "output_type": "display_data"
    }
   ],
   "source": [
    "sns.heatmap(cm, annot=True, fmt='d')"
   ]
  },
  {
   "cell_type": "code",
   "execution_count": 42,
   "metadata": {},
   "outputs": [
    {
     "data": {
      "image/png": "[encoded data removed]",
      "text/plain": [
       "<Figure size 432x288 with 1 Axes>"
      ]
     },
     "metadata": {
      "needs_background": "light"
     },
     "output_type": "display_data"
    }
   ],
   "source": [
    "features = [c[6:-16] for c in X.columns]\n",
    "importances = clf_spruce.best_estimator_.feature_importances_\n",
    "indices = np.argsort(importances)\n",
    "\n",
    "plt.title('RF Spruce Classifier - Feature Importances')\n",
    "plt.barh(range(len(indices)), importances[indices], color='b', align='center')\n",
    "plt.yticks(range(len(indices)), [features[i] for i in indices])\n",
    "plt.xlabel('Relative Importance')\n",
    "plt.show()"
   ]
  },
  {
   "cell_type": "code",
   "execution_count": null,
   "metadata": {},
   "outputs": [],
   "source": []
  }
 ],
 "metadata": {
  "kernelspec": {
   "display_name": "Python 3",
   "language": "python",
   "name": "python3"
  },
  "language_info": {
   "codemirror_mode": {
    "name": "ipython",
    "version": 3
   },
   "file_extension": ".py",
   "mimetype": "text/x-python",
   "name": "python",
   "nbconvert_exporter": "python",
   "pygments_lexer": "ipython3",
   "version": "3.6.7"
  }
 },
 "nbformat": 4,
 "nbformat_minor": 2
}
