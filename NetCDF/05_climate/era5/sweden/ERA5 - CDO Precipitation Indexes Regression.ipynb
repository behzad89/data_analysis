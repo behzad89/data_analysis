{
 "cells": [
  {
   "cell_type": "code",
   "execution_count": 1,
   "metadata": {},
   "outputs": [
    {
     "name": "stderr",
     "output_type": "stream",
     "text": [
      "/Users/sato/dev/cc/sandbox-fabio/python-notebooks/env/lib/python3.7/site-packages/matplotlib/__init__.py:886: MatplotlibDeprecationWarning: \n",
      "examples.directory is deprecated; in the future, examples will be found relative to the 'datapath' directory.\n",
      "  \"found relative to the 'datapath' directory.\".format(key))\n"
     ]
    }
   ],
   "source": [
    "import xarray as xr\n",
    "import pandas as pd\n",
    "import numpy as np\n",
    "import seaborn as sns\n",
    "import matplotlib.pyplot as plt\n",
    "\n",
    "from glob import glob\n",
    "from imblearn.under_sampling import RandomUnderSampler\n",
    "from sklearn.ensemble import RandomForestRegressor, RandomForestClassifier\n",
    "from sklearn.model_selection import train_test_split\n",
    "from sklearn.metrics import mean_squared_error, r2_score, accuracy_score, confusion_matrix\n",
    "\n",
    "from tqdm import tqdm"
   ]
  },
  {
   "cell_type": "code",
   "execution_count": 2,
   "metadata": {},
   "outputs": [],
   "source": [
    "ds_cdd = xr.open_dataset(\"../era5/era5-nordics-ecacdd.nc\")\n",
    "ds_cwd = xr.open_dataset(\"../era5/era5-nordics-ecacwd.nc\")\n",
    "ds_pd = xr.open_dataset(\"../era5/era5-nordics-ecapd.nc\")\n",
    "ds_rr1 = xr.open_dataset(\"../era5/era5-nordics-ecarr1.nc\")\n",
    "ds_rx1day = xr.open_dataset(\"../era5/era5-nordics-ecarx1day.nc\")\n",
    "ds_rx5day = xr.open_dataset(\"../era5/era5-nordics-ecarx5day.nc\")\n",
    "ds_sdii = xr.open_dataset(\"../era5/era5-nordics-ecasdii.nc\")"
   ]
  },
  {
   "cell_type": "code",
   "execution_count": 4,
   "metadata": {},
   "outputs": [],
   "source": [
    "lons, lats = np.meshgrid(ds_cdd.longitude, ds_cdd.latitude)"
   ]
  },
  {
   "cell_type": "code",
   "execution_count": 5,
   "metadata": {},
   "outputs": [
    {
     "data": {
      "text/plain": [
       "array([[ 4.5 ,  4.75,  5.  , ..., 31.5 , 31.75, 32.  ],\n",
       "       [ 4.5 ,  4.75,  5.  , ..., 31.5 , 31.75, 32.  ],\n",
       "       [ 4.5 ,  4.75,  5.  , ..., 31.5 , 31.75, 32.  ],\n",
       "       ...,\n",
       "       [ 4.5 ,  4.75,  5.  , ..., 31.5 , 31.75, 32.  ],\n",
       "       [ 4.5 ,  4.75,  5.  , ..., 31.5 , 31.75, 32.  ],\n",
       "       [ 4.5 ,  4.75,  5.  , ..., 31.5 , 31.75, 32.  ]], dtype=float32)"
      ]
     },
     "execution_count": 5,
     "metadata": {},
     "output_type": "execute_result"
    }
   ],
   "source": [
    "lons"
   ]
  },
  {
   "cell_type": "code",
   "execution_count": 6,
   "metadata": {},
   "outputs": [],
   "source": [
    "psr = xr.open_dataset(\"pine_spruce.nc\")"
   ]
  },
  {
   "cell_type": "code",
   "execution_count": 7,
   "metadata": {},
   "outputs": [
    {
     "data": {
      "text/plain": [
       "<matplotlib.collections.QuadMesh at 0x118a7e160>"
      ]
     },
     "execution_count": 7,
     "metadata": {},
     "output_type": "execute_result"
    },
    {
     "data": {
      "image/png": "[encoded data removed]",
      "text/plain": [
       "<Figure size 432x288 with 2 Axes>"
      ]
     },
     "metadata": {
      "needs_background": "light"
     },
     "output_type": "display_data"
    }
   ],
   "source": [
    "psr.volume.plot()"
   ]
  },
  {
   "cell_type": "code",
   "execution_count": 8,
   "metadata": {},
   "outputs": [],
   "source": [
    "df = pd.DataFrame()"
   ]
  },
  {
   "cell_type": "code",
   "execution_count": 9,
   "metadata": {},
   "outputs": [],
   "source": [
    "data = {\n",
    "    \"ratio\": psr.volume.values.ravel()\n",
    "}"
   ]
  },
  {
   "cell_type": "code",
   "execution_count": 10,
   "metadata": {},
   "outputs": [
    {
     "data": {
      "text/plain": [
       "dict_keys(['ratio'])"
      ]
     },
     "execution_count": 10,
     "metadata": {},
     "output_type": "execute_result"
    }
   ],
   "source": [
    "data.keys()"
   ]
  },
  {
   "cell_type": "code",
   "execution_count": 11,
   "metadata": {},
   "outputs": [],
   "source": [
    "data[\"cdd\"] = ds_cdd.number_of_cdd_periods_with_more_than_5days_per_time_period.values.ravel()"
   ]
  },
  {
   "cell_type": "code",
   "execution_count": 12,
   "metadata": {},
   "outputs": [],
   "source": [
    "data[\"cwd\"] = ds_cwd.number_of_cwd_periods_with_more_than_5days_per_time_period.values.ravel()"
   ]
  },
  {
   "cell_type": "code",
   "execution_count": 13,
   "metadata": {},
   "outputs": [],
   "source": [
    "data[\"pd\"] = ds_pd.precipitation_days_index_per_time_period.values.ravel()"
   ]
  },
  {
   "cell_type": "code",
   "execution_count": 14,
   "metadata": {},
   "outputs": [],
   "source": [
    "data[\"rr1\"] = ds_rr1.wet_days_index_per_time_period.values.ravel()"
   ]
  },
  {
   "cell_type": "code",
   "execution_count": 15,
   "metadata": {},
   "outputs": [],
   "source": [
    "data[\"rx1day\"] = ds_rx1day.highest_one_day_precipitation_amount_per_time_period.values.ravel()"
   ]
  },
  {
   "cell_type": "code",
   "execution_count": 16,
   "metadata": {},
   "outputs": [],
   "source": [
    "data[\"rx5day\"] = ds_rx5day.highest_five_day_precipitation_amount_per_time_period.values.ravel()"
   ]
  },
  {
   "cell_type": "code",
   "execution_count": 17,
   "metadata": {},
   "outputs": [],
   "source": [
    "data[\"sdii\"] = ds_sdii.simple_daily_intensity_index_per_time_period.values.ravel()"
   ]
  },
  {
   "cell_type": "code",
   "execution_count": 18,
   "metadata": {},
   "outputs": [],
   "source": [
    "df = pd.DataFrame(data)"
   ]
  },
  {
   "cell_type": "code",
   "execution_count": 20,
   "metadata": {},
   "outputs": [
    {
     "data": {
      "text/html": [
       "<div>\n",
       "<style scoped>\n",
       "    .dataframe tbody tr th:only-of-type {\n",
       "        vertical-align: middle;\n",
       "    }\n",
       "\n",
       "    .dataframe tbody tr th {\n",
       "        vertical-align: top;\n",
       "    }\n",
       "\n",
       "    .dataframe thead th {\n",
       "        text-align: right;\n",
       "    }\n",
       "</style>\n",
       "<table border=\"1\" class=\"dataframe\">\n",
       "  <thead>\n",
       "    <tr style=\"text-align: right;\">\n",
       "      <th></th>\n",
       "      <th>ratio</th>\n",
       "      <th>cdd</th>\n",
       "      <th>cwd</th>\n",
       "      <th>pd</th>\n",
       "      <th>rr1</th>\n",
       "      <th>rx1day</th>\n",
       "      <th>rx5day</th>\n",
       "      <th>sdii</th>\n",
       "    </tr>\n",
       "  </thead>\n",
       "  <tbody>\n",
       "    <tr>\n",
       "      <th>0</th>\n",
       "      <td>NaN</td>\n",
       "      <td>118.0</td>\n",
       "      <td>221.0</td>\n",
       "      <td>4157.0</td>\n",
       "      <td>4157.0</td>\n",
       "      <td>64.8069</td>\n",
       "      <td>64.8069</td>\n",
       "      <td>4.414824</td>\n",
       "    </tr>\n",
       "    <tr>\n",
       "      <th>1</th>\n",
       "      <td>NaN</td>\n",
       "      <td>122.0</td>\n",
       "      <td>212.0</td>\n",
       "      <td>4134.0</td>\n",
       "      <td>4134.0</td>\n",
       "      <td>64.8069</td>\n",
       "      <td>64.8069</td>\n",
       "      <td>4.450780</td>\n",
       "    </tr>\n",
       "    <tr>\n",
       "      <th>2</th>\n",
       "      <td>NaN</td>\n",
       "      <td>116.0</td>\n",
       "      <td>214.0</td>\n",
       "      <td>4122.0</td>\n",
       "      <td>4122.0</td>\n",
       "      <td>64.8069</td>\n",
       "      <td>64.8069</td>\n",
       "      <td>4.475977</td>\n",
       "    </tr>\n",
       "    <tr>\n",
       "      <th>3</th>\n",
       "      <td>NaN</td>\n",
       "      <td>113.0</td>\n",
       "      <td>212.0</td>\n",
       "      <td>4121.0</td>\n",
       "      <td>4121.0</td>\n",
       "      <td>64.8069</td>\n",
       "      <td>64.8069</td>\n",
       "      <td>4.441460</td>\n",
       "    </tr>\n",
       "    <tr>\n",
       "      <th>4</th>\n",
       "      <td>NaN</td>\n",
       "      <td>114.0</td>\n",
       "      <td>213.0</td>\n",
       "      <td>4117.0</td>\n",
       "      <td>4117.0</td>\n",
       "      <td>64.8069</td>\n",
       "      <td>64.8069</td>\n",
       "      <td>4.403867</td>\n",
       "    </tr>\n",
       "  </tbody>\n",
       "</table>\n",
       "</div>"
      ],
      "text/plain": [
       "   ratio    cdd    cwd      pd     rr1   rx1day   rx5day      sdii\n",
       "0    NaN  118.0  221.0  4157.0  4157.0  64.8069  64.8069  4.414824\n",
       "1    NaN  122.0  212.0  4134.0  4134.0  64.8069  64.8069  4.450780\n",
       "2    NaN  116.0  214.0  4122.0  4122.0  64.8069  64.8069  4.475977\n",
       "3    NaN  113.0  212.0  4121.0  4121.0  64.8069  64.8069  4.441460\n",
       "4    NaN  114.0  213.0  4117.0  4117.0  64.8069  64.8069  4.403867"
      ]
     },
     "execution_count": 20,
     "metadata": {},
     "output_type": "execute_result"
    }
   ],
   "source": [
    "df.head()"
   ]
  },
  {
   "cell_type": "code",
   "execution_count": 21,
   "metadata": {},
   "outputs": [],
   "source": [
    "df1 = df.dropna(inplace=False)"
   ]
  },
  {
   "cell_type": "code",
   "execution_count": 22,
   "metadata": {},
   "outputs": [],
   "source": [
    "df1 = df[df[\"ratio\"] > 0]"
   ]
  },
  {
   "cell_type": "code",
   "execution_count": 23,
   "metadata": {},
   "outputs": [
    {
     "data": {
      "text/plain": [
       "Index(['cdd', 'cwd', 'pd', 'rr1', 'rx1day', 'rx5day', 'sdii'], dtype='object')"
      ]
     },
     "execution_count": 23,
     "metadata": {},
     "output_type": "execute_result"
    }
   ],
   "source": [
    "df1.columns[1:]"
   ]
  },
  {
   "cell_type": "code",
   "execution_count": 24,
   "metadata": {},
   "outputs": [],
   "source": [
    "rf = RandomForestRegressor(n_estimators=500, max_depth=15)"
   ]
  },
  {
   "cell_type": "code",
   "execution_count": 25,
   "metadata": {},
   "outputs": [],
   "source": [
    "X_train, X_test, y_train, y_test = train_test_split(df1[df1.columns[1:]], df1[\"ratio\"])"
   ]
  },
  {
   "cell_type": "code",
   "execution_count": 26,
   "metadata": {},
   "outputs": [
    {
     "data": {
      "text/html": [
       "<div>\n",
       "<style scoped>\n",
       "    .dataframe tbody tr th:only-of-type {\n",
       "        vertical-align: middle;\n",
       "    }\n",
       "\n",
       "    .dataframe tbody tr th {\n",
       "        vertical-align: top;\n",
       "    }\n",
       "\n",
       "    .dataframe thead th {\n",
       "        text-align: right;\n",
       "    }\n",
       "</style>\n",
       "<table border=\"1\" class=\"dataframe\">\n",
       "  <thead>\n",
       "    <tr style=\"text-align: right;\">\n",
       "      <th></th>\n",
       "      <th>cdd</th>\n",
       "      <th>cwd</th>\n",
       "      <th>pd</th>\n",
       "      <th>rr1</th>\n",
       "      <th>rx1day</th>\n",
       "      <th>rx5day</th>\n",
       "      <th>sdii</th>\n",
       "    </tr>\n",
       "  </thead>\n",
       "  <tbody>\n",
       "    <tr>\n",
       "      <th>4928</th>\n",
       "      <td>223.0</td>\n",
       "      <td>63.0</td>\n",
       "      <td>2560.0</td>\n",
       "      <td>2560.0</td>\n",
       "      <td>64.806900</td>\n",
       "      <td>64.806900</td>\n",
       "      <td>5.536966</td>\n",
       "    </tr>\n",
       "    <tr>\n",
       "      <th>2292</th>\n",
       "      <td>250.0</td>\n",
       "      <td>49.0</td>\n",
       "      <td>2485.0</td>\n",
       "      <td>2485.0</td>\n",
       "      <td>64.806900</td>\n",
       "      <td>64.806900</td>\n",
       "      <td>5.455530</td>\n",
       "    </tr>\n",
       "    <tr>\n",
       "      <th>5249</th>\n",
       "      <td>218.0</td>\n",
       "      <td>100.0</td>\n",
       "      <td>2761.0</td>\n",
       "      <td>2761.0</td>\n",
       "      <td>64.806900</td>\n",
       "      <td>64.806900</td>\n",
       "      <td>6.330444</td>\n",
       "    </tr>\n",
       "    <tr>\n",
       "      <th>2605</th>\n",
       "      <td>194.0</td>\n",
       "      <td>91.0</td>\n",
       "      <td>2895.0</td>\n",
       "      <td>2895.0</td>\n",
       "      <td>64.806900</td>\n",
       "      <td>64.806900</td>\n",
       "      <td>5.564933</td>\n",
       "    </tr>\n",
       "    <tr>\n",
       "      <th>1953</th>\n",
       "      <td>219.0</td>\n",
       "      <td>68.0</td>\n",
       "      <td>2679.0</td>\n",
       "      <td>2679.0</td>\n",
       "      <td>64.806900</td>\n",
       "      <td>64.806900</td>\n",
       "      <td>5.336575</td>\n",
       "    </tr>\n",
       "    <tr>\n",
       "      <th>4937</th>\n",
       "      <td>233.0</td>\n",
       "      <td>46.0</td>\n",
       "      <td>2441.0</td>\n",
       "      <td>2441.0</td>\n",
       "      <td>64.806900</td>\n",
       "      <td>64.806900</td>\n",
       "      <td>5.273360</td>\n",
       "    </tr>\n",
       "    <tr>\n",
       "      <th>5362</th>\n",
       "      <td>216.0</td>\n",
       "      <td>84.0</td>\n",
       "      <td>2699.0</td>\n",
       "      <td>2699.0</td>\n",
       "      <td>64.806900</td>\n",
       "      <td>64.806900</td>\n",
       "      <td>6.207129</td>\n",
       "    </tr>\n",
       "    <tr>\n",
       "      <th>6372</th>\n",
       "      <td>219.0</td>\n",
       "      <td>56.0</td>\n",
       "      <td>2648.0</td>\n",
       "      <td>2648.0</td>\n",
       "      <td>64.806900</td>\n",
       "      <td>64.806900</td>\n",
       "      <td>5.525010</td>\n",
       "    </tr>\n",
       "    <tr>\n",
       "      <th>4709</th>\n",
       "      <td>207.0</td>\n",
       "      <td>75.0</td>\n",
       "      <td>2753.0</td>\n",
       "      <td>2753.0</td>\n",
       "      <td>64.806900</td>\n",
       "      <td>64.806900</td>\n",
       "      <td>5.651465</td>\n",
       "    </tr>\n",
       "    <tr>\n",
       "      <th>3167</th>\n",
       "      <td>223.0</td>\n",
       "      <td>60.0</td>\n",
       "      <td>2551.0</td>\n",
       "      <td>2551.0</td>\n",
       "      <td>64.806900</td>\n",
       "      <td>64.806900</td>\n",
       "      <td>5.309511</td>\n",
       "    </tr>\n",
       "    <tr>\n",
       "      <th>2388</th>\n",
       "      <td>198.0</td>\n",
       "      <td>87.0</td>\n",
       "      <td>2811.0</td>\n",
       "      <td>2811.0</td>\n",
       "      <td>64.806900</td>\n",
       "      <td>64.806900</td>\n",
       "      <td>5.472630</td>\n",
       "    </tr>\n",
       "    <tr>\n",
       "      <th>4474</th>\n",
       "      <td>199.0</td>\n",
       "      <td>100.0</td>\n",
       "      <td>2899.0</td>\n",
       "      <td>2899.0</td>\n",
       "      <td>64.806900</td>\n",
       "      <td>64.806900</td>\n",
       "      <td>5.769200</td>\n",
       "    </tr>\n",
       "    <tr>\n",
       "      <th>5477</th>\n",
       "      <td>204.0</td>\n",
       "      <td>113.0</td>\n",
       "      <td>3030.0</td>\n",
       "      <td>3030.0</td>\n",
       "      <td>64.806900</td>\n",
       "      <td>64.806900</td>\n",
       "      <td>6.339813</td>\n",
       "    </tr>\n",
       "    <tr>\n",
       "      <th>6362</th>\n",
       "      <td>191.0</td>\n",
       "      <td>135.0</td>\n",
       "      <td>3109.0</td>\n",
       "      <td>3109.0</td>\n",
       "      <td>64.806900</td>\n",
       "      <td>64.806900</td>\n",
       "      <td>6.202979</td>\n",
       "    </tr>\n",
       "    <tr>\n",
       "      <th>5480</th>\n",
       "      <td>207.0</td>\n",
       "      <td>71.0</td>\n",
       "      <td>2743.0</td>\n",
       "      <td>2743.0</td>\n",
       "      <td>64.806900</td>\n",
       "      <td>64.806900</td>\n",
       "      <td>5.724229</td>\n",
       "    </tr>\n",
       "    <tr>\n",
       "      <th>3282</th>\n",
       "      <td>203.0</td>\n",
       "      <td>82.0</td>\n",
       "      <td>2739.0</td>\n",
       "      <td>2739.0</td>\n",
       "      <td>64.806900</td>\n",
       "      <td>64.806900</td>\n",
       "      <td>5.409991</td>\n",
       "    </tr>\n",
       "    <tr>\n",
       "      <th>5592</th>\n",
       "      <td>214.0</td>\n",
       "      <td>73.0</td>\n",
       "      <td>2674.0</td>\n",
       "      <td>2674.0</td>\n",
       "      <td>64.806900</td>\n",
       "      <td>64.806900</td>\n",
       "      <td>5.738488</td>\n",
       "    </tr>\n",
       "    <tr>\n",
       "      <th>6812</th>\n",
       "      <td>212.0</td>\n",
       "      <td>76.0</td>\n",
       "      <td>2762.0</td>\n",
       "      <td>2762.0</td>\n",
       "      <td>64.806900</td>\n",
       "      <td>64.806900</td>\n",
       "      <td>5.494557</td>\n",
       "    </tr>\n",
       "    <tr>\n",
       "      <th>4476</th>\n",
       "      <td>199.0</td>\n",
       "      <td>79.0</td>\n",
       "      <td>2811.0</td>\n",
       "      <td>2811.0</td>\n",
       "      <td>64.806900</td>\n",
       "      <td>64.806900</td>\n",
       "      <td>5.553077</td>\n",
       "    </tr>\n",
       "    <tr>\n",
       "      <th>4361</th>\n",
       "      <td>175.0</td>\n",
       "      <td>111.0</td>\n",
       "      <td>3107.0</td>\n",
       "      <td>3107.0</td>\n",
       "      <td>64.806900</td>\n",
       "      <td>64.806900</td>\n",
       "      <td>5.637048</td>\n",
       "    </tr>\n",
       "    <tr>\n",
       "      <th>3716</th>\n",
       "      <td>203.0</td>\n",
       "      <td>54.0</td>\n",
       "      <td>2635.0</td>\n",
       "      <td>2635.0</td>\n",
       "      <td>64.806900</td>\n",
       "      <td>64.806900</td>\n",
       "      <td>5.523571</td>\n",
       "    </tr>\n",
       "    <tr>\n",
       "      <th>6260</th>\n",
       "      <td>234.0</td>\n",
       "      <td>54.0</td>\n",
       "      <td>2545.0</td>\n",
       "      <td>2545.0</td>\n",
       "      <td>68.677994</td>\n",
       "      <td>68.677994</td>\n",
       "      <td>5.353380</td>\n",
       "    </tr>\n",
       "    <tr>\n",
       "      <th>3153</th>\n",
       "      <td>178.0</td>\n",
       "      <td>95.0</td>\n",
       "      <td>3078.0</td>\n",
       "      <td>3078.0</td>\n",
       "      <td>64.806900</td>\n",
       "      <td>64.806900</td>\n",
       "      <td>5.445011</td>\n",
       "    </tr>\n",
       "    <tr>\n",
       "      <th>2842</th>\n",
       "      <td>243.0</td>\n",
       "      <td>54.0</td>\n",
       "      <td>2409.0</td>\n",
       "      <td>2409.0</td>\n",
       "      <td>64.806900</td>\n",
       "      <td>64.806900</td>\n",
       "      <td>5.480575</td>\n",
       "    </tr>\n",
       "    <tr>\n",
       "      <th>4478</th>\n",
       "      <td>179.0</td>\n",
       "      <td>105.0</td>\n",
       "      <td>3016.0</td>\n",
       "      <td>3016.0</td>\n",
       "      <td>64.806900</td>\n",
       "      <td>64.806900</td>\n",
       "      <td>5.716485</td>\n",
       "    </tr>\n",
       "    <tr>\n",
       "      <th>3271</th>\n",
       "      <td>201.0</td>\n",
       "      <td>61.0</td>\n",
       "      <td>2704.0</td>\n",
       "      <td>2704.0</td>\n",
       "      <td>64.806900</td>\n",
       "      <td>64.806900</td>\n",
       "      <td>5.290534</td>\n",
       "    </tr>\n",
       "    <tr>\n",
       "      <th>5705</th>\n",
       "      <td>217.0</td>\n",
       "      <td>60.0</td>\n",
       "      <td>2549.0</td>\n",
       "      <td>2549.0</td>\n",
       "      <td>64.806900</td>\n",
       "      <td>64.806900</td>\n",
       "      <td>5.583279</td>\n",
       "    </tr>\n",
       "    <tr>\n",
       "      <th>5043</th>\n",
       "      <td>226.0</td>\n",
       "      <td>54.0</td>\n",
       "      <td>2453.0</td>\n",
       "      <td>2453.0</td>\n",
       "      <td>64.806900</td>\n",
       "      <td>64.806900</td>\n",
       "      <td>5.509629</td>\n",
       "    </tr>\n",
       "    <tr>\n",
       "      <th>5588</th>\n",
       "      <td>199.0</td>\n",
       "      <td>99.0</td>\n",
       "      <td>2898.0</td>\n",
       "      <td>2898.0</td>\n",
       "      <td>64.806900</td>\n",
       "      <td>64.806900</td>\n",
       "      <td>5.924628</td>\n",
       "    </tr>\n",
       "    <tr>\n",
       "      <th>3831</th>\n",
       "      <td>223.0</td>\n",
       "      <td>68.0</td>\n",
       "      <td>2557.0</td>\n",
       "      <td>2557.0</td>\n",
       "      <td>64.806900</td>\n",
       "      <td>64.806900</td>\n",
       "      <td>5.835674</td>\n",
       "    </tr>\n",
       "    <tr>\n",
       "      <th>...</th>\n",
       "      <td>...</td>\n",
       "      <td>...</td>\n",
       "      <td>...</td>\n",
       "      <td>...</td>\n",
       "      <td>...</td>\n",
       "      <td>...</td>\n",
       "      <td>...</td>\n",
       "    </tr>\n",
       "    <tr>\n",
       "      <th>2516</th>\n",
       "      <td>238.0</td>\n",
       "      <td>54.0</td>\n",
       "      <td>2496.0</td>\n",
       "      <td>2496.0</td>\n",
       "      <td>64.806900</td>\n",
       "      <td>64.806900</td>\n",
       "      <td>5.619276</td>\n",
       "    </tr>\n",
       "    <tr>\n",
       "      <th>3591</th>\n",
       "      <td>183.0</td>\n",
       "      <td>64.0</td>\n",
       "      <td>2959.0</td>\n",
       "      <td>2959.0</td>\n",
       "      <td>64.806900</td>\n",
       "      <td>64.806900</td>\n",
       "      <td>5.230763</td>\n",
       "    </tr>\n",
       "    <tr>\n",
       "      <th>4701</th>\n",
       "      <td>212.0</td>\n",
       "      <td>80.0</td>\n",
       "      <td>2769.0</td>\n",
       "      <td>2769.0</td>\n",
       "      <td>64.806900</td>\n",
       "      <td>64.806900</td>\n",
       "      <td>5.787708</td>\n",
       "    </tr>\n",
       "    <tr>\n",
       "      <th>6596</th>\n",
       "      <td>236.0</td>\n",
       "      <td>50.0</td>\n",
       "      <td>2440.0</td>\n",
       "      <td>2440.0</td>\n",
       "      <td>64.806900</td>\n",
       "      <td>64.806900</td>\n",
       "      <td>5.225304</td>\n",
       "    </tr>\n",
       "    <tr>\n",
       "      <th>3503</th>\n",
       "      <td>217.0</td>\n",
       "      <td>75.0</td>\n",
       "      <td>2642.0</td>\n",
       "      <td>2642.0</td>\n",
       "      <td>64.806900</td>\n",
       "      <td>64.806900</td>\n",
       "      <td>5.628704</td>\n",
       "    </tr>\n",
       "    <tr>\n",
       "      <th>4032</th>\n",
       "      <td>191.0</td>\n",
       "      <td>69.0</td>\n",
       "      <td>2829.0</td>\n",
       "      <td>2829.0</td>\n",
       "      <td>64.806900</td>\n",
       "      <td>64.806900</td>\n",
       "      <td>5.259541</td>\n",
       "    </tr>\n",
       "    <tr>\n",
       "      <th>4926</th>\n",
       "      <td>217.0</td>\n",
       "      <td>76.0</td>\n",
       "      <td>2639.0</td>\n",
       "      <td>2639.0</td>\n",
       "      <td>64.806900</td>\n",
       "      <td>64.806900</td>\n",
       "      <td>5.621624</td>\n",
       "    </tr>\n",
       "    <tr>\n",
       "      <th>6147</th>\n",
       "      <td>231.0</td>\n",
       "      <td>76.0</td>\n",
       "      <td>2702.0</td>\n",
       "      <td>2702.0</td>\n",
       "      <td>90.670258</td>\n",
       "      <td>90.670258</td>\n",
       "      <td>5.726352</td>\n",
       "    </tr>\n",
       "    <tr>\n",
       "      <th>4158</th>\n",
       "      <td>223.0</td>\n",
       "      <td>51.0</td>\n",
       "      <td>2519.0</td>\n",
       "      <td>2519.0</td>\n",
       "      <td>64.806900</td>\n",
       "      <td>64.806900</td>\n",
       "      <td>5.624765</td>\n",
       "    </tr>\n",
       "    <tr>\n",
       "      <th>5496</th>\n",
       "      <td>227.0</td>\n",
       "      <td>61.0</td>\n",
       "      <td>2518.0</td>\n",
       "      <td>2518.0</td>\n",
       "      <td>64.806900</td>\n",
       "      <td>64.806900</td>\n",
       "      <td>5.261385</td>\n",
       "    </tr>\n",
       "    <tr>\n",
       "      <th>2291</th>\n",
       "      <td>240.0</td>\n",
       "      <td>55.0</td>\n",
       "      <td>2562.0</td>\n",
       "      <td>2562.0</td>\n",
       "      <td>64.806900</td>\n",
       "      <td>64.806900</td>\n",
       "      <td>5.524632</td>\n",
       "    </tr>\n",
       "    <tr>\n",
       "      <th>5487</th>\n",
       "      <td>222.0</td>\n",
       "      <td>49.0</td>\n",
       "      <td>2464.0</td>\n",
       "      <td>2464.0</td>\n",
       "      <td>64.806900</td>\n",
       "      <td>64.806900</td>\n",
       "      <td>5.705398</td>\n",
       "    </tr>\n",
       "    <tr>\n",
       "      <th>3384</th>\n",
       "      <td>201.0</td>\n",
       "      <td>63.0</td>\n",
       "      <td>2724.0</td>\n",
       "      <td>2724.0</td>\n",
       "      <td>64.806900</td>\n",
       "      <td>64.806900</td>\n",
       "      <td>5.470532</td>\n",
       "    </tr>\n",
       "    <tr>\n",
       "      <th>4253</th>\n",
       "      <td>174.0</td>\n",
       "      <td>96.0</td>\n",
       "      <td>3051.0</td>\n",
       "      <td>3051.0</td>\n",
       "      <td>64.806900</td>\n",
       "      <td>64.806900</td>\n",
       "      <td>5.504211</td>\n",
       "    </tr>\n",
       "    <tr>\n",
       "      <th>3935</th>\n",
       "      <td>200.0</td>\n",
       "      <td>61.0</td>\n",
       "      <td>2667.0</td>\n",
       "      <td>2667.0</td>\n",
       "      <td>64.806900</td>\n",
       "      <td>64.806900</td>\n",
       "      <td>5.562719</td>\n",
       "    </tr>\n",
       "    <tr>\n",
       "      <th>2058</th>\n",
       "      <td>206.0</td>\n",
       "      <td>83.0</td>\n",
       "      <td>2769.0</td>\n",
       "      <td>2769.0</td>\n",
       "      <td>64.806900</td>\n",
       "      <td>64.806900</td>\n",
       "      <td>5.629384</td>\n",
       "    </tr>\n",
       "    <tr>\n",
       "      <th>4380</th>\n",
       "      <td>233.0</td>\n",
       "      <td>60.0</td>\n",
       "      <td>2485.0</td>\n",
       "      <td>2485.0</td>\n",
       "      <td>64.806900</td>\n",
       "      <td>64.806900</td>\n",
       "      <td>5.588482</td>\n",
       "    </tr>\n",
       "    <tr>\n",
       "      <th>5274</th>\n",
       "      <td>234.0</td>\n",
       "      <td>43.0</td>\n",
       "      <td>2394.0</td>\n",
       "      <td>2394.0</td>\n",
       "      <td>64.806900</td>\n",
       "      <td>64.806900</td>\n",
       "      <td>5.271324</td>\n",
       "    </tr>\n",
       "    <tr>\n",
       "      <th>6476</th>\n",
       "      <td>212.0</td>\n",
       "      <td>111.0</td>\n",
       "      <td>2919.0</td>\n",
       "      <td>2919.0</td>\n",
       "      <td>64.806900</td>\n",
       "      <td>64.806900</td>\n",
       "      <td>5.853374</td>\n",
       "    </tr>\n",
       "    <tr>\n",
       "      <th>6475</th>\n",
       "      <td>206.0</td>\n",
       "      <td>122.0</td>\n",
       "      <td>3002.0</td>\n",
       "      <td>3002.0</td>\n",
       "      <td>64.806900</td>\n",
       "      <td>64.806900</td>\n",
       "      <td>5.910105</td>\n",
       "    </tr>\n",
       "    <tr>\n",
       "      <th>1958</th>\n",
       "      <td>229.0</td>\n",
       "      <td>69.0</td>\n",
       "      <td>2639.0</td>\n",
       "      <td>2639.0</td>\n",
       "      <td>64.806900</td>\n",
       "      <td>64.806900</td>\n",
       "      <td>5.301700</td>\n",
       "    </tr>\n",
       "    <tr>\n",
       "      <th>1832</th>\n",
       "      <td>151.0</td>\n",
       "      <td>136.0</td>\n",
       "      <td>3363.0</td>\n",
       "      <td>3363.0</td>\n",
       "      <td>64.806900</td>\n",
       "      <td>64.806900</td>\n",
       "      <td>5.205529</td>\n",
       "    </tr>\n",
       "    <tr>\n",
       "      <th>2514</th>\n",
       "      <td>245.0</td>\n",
       "      <td>50.0</td>\n",
       "      <td>2466.0</td>\n",
       "      <td>2466.0</td>\n",
       "      <td>64.806900</td>\n",
       "      <td>64.806900</td>\n",
       "      <td>5.620018</td>\n",
       "    </tr>\n",
       "    <tr>\n",
       "      <th>5374</th>\n",
       "      <td>223.0</td>\n",
       "      <td>34.0</td>\n",
       "      <td>2406.0</td>\n",
       "      <td>2406.0</td>\n",
       "      <td>64.806900</td>\n",
       "      <td>64.806900</td>\n",
       "      <td>5.684829</td>\n",
       "    </tr>\n",
       "    <tr>\n",
       "      <th>2943</th>\n",
       "      <td>222.0</td>\n",
       "      <td>72.0</td>\n",
       "      <td>2626.0</td>\n",
       "      <td>2626.0</td>\n",
       "      <td>64.806900</td>\n",
       "      <td>64.806900</td>\n",
       "      <td>5.502409</td>\n",
       "    </tr>\n",
       "    <tr>\n",
       "      <th>4711</th>\n",
       "      <td>233.0</td>\n",
       "      <td>62.0</td>\n",
       "      <td>2551.0</td>\n",
       "      <td>2551.0</td>\n",
       "      <td>64.806900</td>\n",
       "      <td>64.806900</td>\n",
       "      <td>5.660095</td>\n",
       "    </tr>\n",
       "    <tr>\n",
       "      <th>4939</th>\n",
       "      <td>224.0</td>\n",
       "      <td>60.0</td>\n",
       "      <td>2518.0</td>\n",
       "      <td>2518.0</td>\n",
       "      <td>64.806900</td>\n",
       "      <td>64.806900</td>\n",
       "      <td>5.307949</td>\n",
       "    </tr>\n",
       "    <tr>\n",
       "      <th>3714</th>\n",
       "      <td>197.0</td>\n",
       "      <td>50.0</td>\n",
       "      <td>2605.0</td>\n",
       "      <td>2605.0</td>\n",
       "      <td>64.806900</td>\n",
       "      <td>64.806900</td>\n",
       "      <td>5.361115</td>\n",
       "    </tr>\n",
       "    <tr>\n",
       "      <th>5483</th>\n",
       "      <td>224.0</td>\n",
       "      <td>48.0</td>\n",
       "      <td>2492.0</td>\n",
       "      <td>2492.0</td>\n",
       "      <td>64.806900</td>\n",
       "      <td>64.806900</td>\n",
       "      <td>5.593770</td>\n",
       "    </tr>\n",
       "    <tr>\n",
       "      <th>4049</th>\n",
       "      <td>228.0</td>\n",
       "      <td>50.0</td>\n",
       "      <td>2490.0</td>\n",
       "      <td>2490.0</td>\n",
       "      <td>64.806900</td>\n",
       "      <td>64.806900</td>\n",
       "      <td>5.782841</td>\n",
       "    </tr>\n",
       "  </tbody>\n",
       "</table>\n",
       "<p>813 rows × 7 columns</p>\n",
       "</div>"
      ],
      "text/plain": [
       "        cdd    cwd      pd     rr1     rx1day     rx5day      sdii\n",
       "4928  223.0   63.0  2560.0  2560.0  64.806900  64.806900  5.536966\n",
       "2292  250.0   49.0  2485.0  2485.0  64.806900  64.806900  5.455530\n",
       "5249  218.0  100.0  2761.0  2761.0  64.806900  64.806900  6.330444\n",
       "2605  194.0   91.0  2895.0  2895.0  64.806900  64.806900  5.564933\n",
       "1953  219.0   68.0  2679.0  2679.0  64.806900  64.806900  5.336575\n",
       "4937  233.0   46.0  2441.0  2441.0  64.806900  64.806900  5.273360\n",
       "5362  216.0   84.0  2699.0  2699.0  64.806900  64.806900  6.207129\n",
       "6372  219.0   56.0  2648.0  2648.0  64.806900  64.806900  5.525010\n",
       "4709  207.0   75.0  2753.0  2753.0  64.806900  64.806900  5.651465\n",
       "3167  223.0   60.0  2551.0  2551.0  64.806900  64.806900  5.309511\n",
       "2388  198.0   87.0  2811.0  2811.0  64.806900  64.806900  5.472630\n",
       "4474  199.0  100.0  2899.0  2899.0  64.806900  64.806900  5.769200\n",
       "5477  204.0  113.0  3030.0  3030.0  64.806900  64.806900  6.339813\n",
       "6362  191.0  135.0  3109.0  3109.0  64.806900  64.806900  6.202979\n",
       "5480  207.0   71.0  2743.0  2743.0  64.806900  64.806900  5.724229\n",
       "3282  203.0   82.0  2739.0  2739.0  64.806900  64.806900  5.409991\n",
       "5592  214.0   73.0  2674.0  2674.0  64.806900  64.806900  5.738488\n",
       "6812  212.0   76.0  2762.0  2762.0  64.806900  64.806900  5.494557\n",
       "4476  199.0   79.0  2811.0  2811.0  64.806900  64.806900  5.553077\n",
       "4361  175.0  111.0  3107.0  3107.0  64.806900  64.806900  5.637048\n",
       "3716  203.0   54.0  2635.0  2635.0  64.806900  64.806900  5.523571\n",
       "6260  234.0   54.0  2545.0  2545.0  68.677994  68.677994  5.353380\n",
       "3153  178.0   95.0  3078.0  3078.0  64.806900  64.806900  5.445011\n",
       "2842  243.0   54.0  2409.0  2409.0  64.806900  64.806900  5.480575\n",
       "4478  179.0  105.0  3016.0  3016.0  64.806900  64.806900  5.716485\n",
       "3271  201.0   61.0  2704.0  2704.0  64.806900  64.806900  5.290534\n",
       "5705  217.0   60.0  2549.0  2549.0  64.806900  64.806900  5.583279\n",
       "5043  226.0   54.0  2453.0  2453.0  64.806900  64.806900  5.509629\n",
       "5588  199.0   99.0  2898.0  2898.0  64.806900  64.806900  5.924628\n",
       "3831  223.0   68.0  2557.0  2557.0  64.806900  64.806900  5.835674\n",
       "...     ...    ...     ...     ...        ...        ...       ...\n",
       "2516  238.0   54.0  2496.0  2496.0  64.806900  64.806900  5.619276\n",
       "3591  183.0   64.0  2959.0  2959.0  64.806900  64.806900  5.230763\n",
       "4701  212.0   80.0  2769.0  2769.0  64.806900  64.806900  5.787708\n",
       "6596  236.0   50.0  2440.0  2440.0  64.806900  64.806900  5.225304\n",
       "3503  217.0   75.0  2642.0  2642.0  64.806900  64.806900  5.628704\n",
       "4032  191.0   69.0  2829.0  2829.0  64.806900  64.806900  5.259541\n",
       "4926  217.0   76.0  2639.0  2639.0  64.806900  64.806900  5.621624\n",
       "6147  231.0   76.0  2702.0  2702.0  90.670258  90.670258  5.726352\n",
       "4158  223.0   51.0  2519.0  2519.0  64.806900  64.806900  5.624765\n",
       "5496  227.0   61.0  2518.0  2518.0  64.806900  64.806900  5.261385\n",
       "2291  240.0   55.0  2562.0  2562.0  64.806900  64.806900  5.524632\n",
       "5487  222.0   49.0  2464.0  2464.0  64.806900  64.806900  5.705398\n",
       "3384  201.0   63.0  2724.0  2724.0  64.806900  64.806900  5.470532\n",
       "4253  174.0   96.0  3051.0  3051.0  64.806900  64.806900  5.504211\n",
       "3935  200.0   61.0  2667.0  2667.0  64.806900  64.806900  5.562719\n",
       "2058  206.0   83.0  2769.0  2769.0  64.806900  64.806900  5.629384\n",
       "4380  233.0   60.0  2485.0  2485.0  64.806900  64.806900  5.588482\n",
       "5274  234.0   43.0  2394.0  2394.0  64.806900  64.806900  5.271324\n",
       "6476  212.0  111.0  2919.0  2919.0  64.806900  64.806900  5.853374\n",
       "6475  206.0  122.0  3002.0  3002.0  64.806900  64.806900  5.910105\n",
       "1958  229.0   69.0  2639.0  2639.0  64.806900  64.806900  5.301700\n",
       "1832  151.0  136.0  3363.0  3363.0  64.806900  64.806900  5.205529\n",
       "2514  245.0   50.0  2466.0  2466.0  64.806900  64.806900  5.620018\n",
       "5374  223.0   34.0  2406.0  2406.0  64.806900  64.806900  5.684829\n",
       "2943  222.0   72.0  2626.0  2626.0  64.806900  64.806900  5.502409\n",
       "4711  233.0   62.0  2551.0  2551.0  64.806900  64.806900  5.660095\n",
       "4939  224.0   60.0  2518.0  2518.0  64.806900  64.806900  5.307949\n",
       "3714  197.0   50.0  2605.0  2605.0  64.806900  64.806900  5.361115\n",
       "5483  224.0   48.0  2492.0  2492.0  64.806900  64.806900  5.593770\n",
       "4049  228.0   50.0  2490.0  2490.0  64.806900  64.806900  5.782841\n",
       "\n",
       "[813 rows x 7 columns]"
      ]
     },
     "execution_count": 26,
     "metadata": {},
     "output_type": "execute_result"
    }
   ],
   "source": [
    "X_train"
   ]
  },
  {
   "cell_type": "code",
   "execution_count": 37,
   "metadata": {},
   "outputs": [
    {
     "data": {
      "text/plain": [
       "RandomForestRegressor(bootstrap=True, criterion='mse', max_depth=15,\n",
       "           max_features='auto', max_leaf_nodes=None,\n",
       "           min_impurity_decrease=0.0, min_impurity_split=None,\n",
       "           min_samples_leaf=1, min_samples_split=2,\n",
       "           min_weight_fraction_leaf=0.0, n_estimators=500, n_jobs=None,\n",
       "           oob_score=False, random_state=None, verbose=0, warm_start=False)"
      ]
     },
     "execution_count": 37,
     "metadata": {},
     "output_type": "execute_result"
    }
   ],
   "source": [
    "rf.fit(X_train, y_train)"
   ]
  },
  {
   "cell_type": "code",
   "execution_count": 38,
   "metadata": {},
   "outputs": [],
   "source": [
    "y_pred = rf.predict(X_test)"
   ]
  },
  {
   "cell_type": "code",
   "execution_count": 39,
   "metadata": {},
   "outputs": [
    {
     "data": {
      "text/plain": [
       "0.0539913551799052"
      ]
     },
     "execution_count": 39,
     "metadata": {},
     "output_type": "execute_result"
    }
   ],
   "source": [
    "mean_squared_error(y_test, y_pred)"
   ]
  },
  {
   "cell_type": "code",
   "execution_count": 40,
   "metadata": {},
   "outputs": [
    {
     "data": {
      "text/plain": [
       "0.19724878556796643"
      ]
     },
     "execution_count": 40,
     "metadata": {},
     "output_type": "execute_result"
    }
   ],
   "source": [
    "r2_score(y_test, y_pred)"
   ]
  },
  {
   "cell_type": "code",
   "execution_count": 41,
   "metadata": {},
   "outputs": [
    {
     "data": {
      "text/plain": [
       "<matplotlib.collections.PathCollection at 0x11aca8a20>"
      ]
     },
     "execution_count": 41,
     "metadata": {},
     "output_type": "execute_result"
    },
    {
     "data": {
      "image/png": "[encoded data removed]",
      "text/plain": [
       "<Figure size 432x288 with 1 Axes>"
      ]
     },
     "metadata": {
      "needs_background": "light"
     },
     "output_type": "display_data"
    }
   ],
   "source": [
    "plt.scatter(y_test, y_pred)"
   ]
  },
  {
   "cell_type": "code",
   "execution_count": 42,
   "metadata": {},
   "outputs": [],
   "source": [
    "df_results = pd.DataFrame({\"observed\": y_test, \"predicted\": y_pred},)"
   ]
  },
  {
   "cell_type": "code",
   "execution_count": 43,
   "metadata": {},
   "outputs": [
    {
     "data": {
      "text/html": [
       "<div>\n",
       "<style scoped>\n",
       "    .dataframe tbody tr th:only-of-type {\n",
       "        vertical-align: middle;\n",
       "    }\n",
       "\n",
       "    .dataframe tbody tr th {\n",
       "        vertical-align: top;\n",
       "    }\n",
       "\n",
       "    .dataframe thead th {\n",
       "        text-align: right;\n",
       "    }\n",
       "</style>\n",
       "<table border=\"1\" class=\"dataframe\">\n",
       "  <thead>\n",
       "    <tr style=\"text-align: right;\">\n",
       "      <th></th>\n",
       "      <th>observed</th>\n",
       "      <th>predicted</th>\n",
       "    </tr>\n",
       "  </thead>\n",
       "  <tbody>\n",
       "    <tr>\n",
       "      <th>3274</th>\n",
       "      <td>0.685934</td>\n",
       "      <td>0.552975</td>\n",
       "    </tr>\n",
       "    <tr>\n",
       "      <th>5272</th>\n",
       "      <td>0.515966</td>\n",
       "      <td>0.438878</td>\n",
       "    </tr>\n",
       "    <tr>\n",
       "      <th>4589</th>\n",
       "      <td>0.458427</td>\n",
       "      <td>0.570555</td>\n",
       "    </tr>\n",
       "    <tr>\n",
       "      <th>3474</th>\n",
       "      <td>0.173967</td>\n",
       "      <td>0.201797</td>\n",
       "    </tr>\n",
       "    <tr>\n",
       "      <th>2401</th>\n",
       "      <td>0.731787</td>\n",
       "      <td>0.425903</td>\n",
       "    </tr>\n",
       "    <tr>\n",
       "      <th>3927</th>\n",
       "      <td>0.220850</td>\n",
       "      <td>0.528938</td>\n",
       "    </tr>\n",
       "    <tr>\n",
       "      <th>5265</th>\n",
       "      <td>0.425134</td>\n",
       "      <td>0.453270</td>\n",
       "    </tr>\n",
       "    <tr>\n",
       "      <th>4138</th>\n",
       "      <td>1.000000</td>\n",
       "      <td>0.699654</td>\n",
       "    </tr>\n",
       "    <tr>\n",
       "      <th>2728</th>\n",
       "      <td>0.915016</td>\n",
       "      <td>0.616852</td>\n",
       "    </tr>\n",
       "    <tr>\n",
       "      <th>5931</th>\n",
       "      <td>0.696260</td>\n",
       "      <td>0.466028</td>\n",
       "    </tr>\n",
       "    <tr>\n",
       "      <th>3820</th>\n",
       "      <td>0.502065</td>\n",
       "      <td>0.423549</td>\n",
       "    </tr>\n",
       "    <tr>\n",
       "      <th>3286</th>\n",
       "      <td>0.741609</td>\n",
       "      <td>0.693142</td>\n",
       "    </tr>\n",
       "    <tr>\n",
       "      <th>2501</th>\n",
       "      <td>0.681000</td>\n",
       "      <td>0.477658</td>\n",
       "    </tr>\n",
       "    <tr>\n",
       "      <th>2519</th>\n",
       "      <td>0.705640</td>\n",
       "      <td>0.651824</td>\n",
       "    </tr>\n",
       "    <tr>\n",
       "      <th>1728</th>\n",
       "      <td>1.000000</td>\n",
       "      <td>0.632541</td>\n",
       "    </tr>\n",
       "    <tr>\n",
       "      <th>5370</th>\n",
       "      <td>0.445707</td>\n",
       "      <td>0.477256</td>\n",
       "    </tr>\n",
       "    <tr>\n",
       "      <th>4151</th>\n",
       "      <td>0.460940</td>\n",
       "      <td>0.562674</td>\n",
       "    </tr>\n",
       "    <tr>\n",
       "      <th>5152</th>\n",
       "      <td>0.781234</td>\n",
       "      <td>0.402203</td>\n",
       "    </tr>\n",
       "    <tr>\n",
       "      <th>6151</th>\n",
       "      <td>0.597103</td>\n",
       "      <td>0.418798</td>\n",
       "    </tr>\n",
       "    <tr>\n",
       "      <th>3260</th>\n",
       "      <td>0.159857</td>\n",
       "      <td>0.649640</td>\n",
       "    </tr>\n",
       "    <tr>\n",
       "      <th>6247</th>\n",
       "      <td>0.277143</td>\n",
       "      <td>0.476138</td>\n",
       "    </tr>\n",
       "    <tr>\n",
       "      <th>5359</th>\n",
       "      <td>0.620321</td>\n",
       "      <td>0.386197</td>\n",
       "    </tr>\n",
       "    <tr>\n",
       "      <th>6257</th>\n",
       "      <td>0.326075</td>\n",
       "      <td>0.296570</td>\n",
       "    </tr>\n",
       "    <tr>\n",
       "      <th>5157</th>\n",
       "      <td>0.670055</td>\n",
       "      <td>0.521379</td>\n",
       "    </tr>\n",
       "    <tr>\n",
       "      <th>3828</th>\n",
       "      <td>0.308916</td>\n",
       "      <td>0.318549</td>\n",
       "    </tr>\n",
       "    <tr>\n",
       "      <th>2609</th>\n",
       "      <td>0.194341</td>\n",
       "      <td>0.591665</td>\n",
       "    </tr>\n",
       "    <tr>\n",
       "      <th>5485</th>\n",
       "      <td>0.216706</td>\n",
       "      <td>0.487051</td>\n",
       "    </tr>\n",
       "    <tr>\n",
       "      <th>5911</th>\n",
       "      <td>0.311351</td>\n",
       "      <td>0.424715</td>\n",
       "    </tr>\n",
       "    <tr>\n",
       "      <th>3493</th>\n",
       "      <td>0.458943</td>\n",
       "      <td>0.477245</td>\n",
       "    </tr>\n",
       "    <tr>\n",
       "      <th>3159</th>\n",
       "      <td>0.645595</td>\n",
       "      <td>0.457851</td>\n",
       "    </tr>\n",
       "    <tr>\n",
       "      <th>...</th>\n",
       "      <td>...</td>\n",
       "      <td>...</td>\n",
       "    </tr>\n",
       "    <tr>\n",
       "      <th>1956</th>\n",
       "      <td>0.678911</td>\n",
       "      <td>0.550795</td>\n",
       "    </tr>\n",
       "    <tr>\n",
       "      <th>5262</th>\n",
       "      <td>0.579243</td>\n",
       "      <td>0.496799</td>\n",
       "    </tr>\n",
       "    <tr>\n",
       "      <th>6250</th>\n",
       "      <td>0.337287</td>\n",
       "      <td>0.284203</td>\n",
       "    </tr>\n",
       "    <tr>\n",
       "      <th>6703</th>\n",
       "      <td>0.243925</td>\n",
       "      <td>0.697992</td>\n",
       "    </tr>\n",
       "    <tr>\n",
       "      <th>2070</th>\n",
       "      <td>0.746224</td>\n",
       "      <td>0.752716</td>\n",
       "    </tr>\n",
       "    <tr>\n",
       "      <th>4820</th>\n",
       "      <td>0.624230</td>\n",
       "      <td>0.598536</td>\n",
       "    </tr>\n",
       "    <tr>\n",
       "      <th>4811</th>\n",
       "      <td>0.912372</td>\n",
       "      <td>0.482422</td>\n",
       "    </tr>\n",
       "    <tr>\n",
       "      <th>5809</th>\n",
       "      <td>0.265624</td>\n",
       "      <td>0.518020</td>\n",
       "    </tr>\n",
       "    <tr>\n",
       "      <th>5038</th>\n",
       "      <td>0.368498</td>\n",
       "      <td>0.519807</td>\n",
       "    </tr>\n",
       "    <tr>\n",
       "      <th>4155</th>\n",
       "      <td>0.183624</td>\n",
       "      <td>0.640198</td>\n",
       "    </tr>\n",
       "    <tr>\n",
       "      <th>4484</th>\n",
       "      <td>0.430385</td>\n",
       "      <td>0.697726</td>\n",
       "    </tr>\n",
       "    <tr>\n",
       "      <th>6698</th>\n",
       "      <td>0.209846</td>\n",
       "      <td>0.517160</td>\n",
       "    </tr>\n",
       "    <tr>\n",
       "      <th>3051</th>\n",
       "      <td>0.439403</td>\n",
       "      <td>0.781318</td>\n",
       "    </tr>\n",
       "    <tr>\n",
       "      <th>4157</th>\n",
       "      <td>0.388195</td>\n",
       "      <td>0.415713</td>\n",
       "    </tr>\n",
       "    <tr>\n",
       "      <th>2934</th>\n",
       "      <td>0.007659</td>\n",
       "      <td>0.523349</td>\n",
       "    </tr>\n",
       "    <tr>\n",
       "      <th>5698</th>\n",
       "      <td>0.487575</td>\n",
       "      <td>0.484120</td>\n",
       "    </tr>\n",
       "    <tr>\n",
       "      <th>5140</th>\n",
       "      <td>0.490875</td>\n",
       "      <td>0.267490</td>\n",
       "    </tr>\n",
       "    <tr>\n",
       "      <th>4373</th>\n",
       "      <td>0.849696</td>\n",
       "      <td>0.637362</td>\n",
       "    </tr>\n",
       "    <tr>\n",
       "      <th>6702</th>\n",
       "      <td>0.168165</td>\n",
       "      <td>0.576411</td>\n",
       "    </tr>\n",
       "    <tr>\n",
       "      <th>3500</th>\n",
       "      <td>0.486785</td>\n",
       "      <td>0.297159</td>\n",
       "    </tr>\n",
       "    <tr>\n",
       "      <th>3264</th>\n",
       "      <td>0.136690</td>\n",
       "      <td>0.576398</td>\n",
       "    </tr>\n",
       "    <tr>\n",
       "      <th>5250</th>\n",
       "      <td>0.111738</td>\n",
       "      <td>0.391348</td>\n",
       "    </tr>\n",
       "    <tr>\n",
       "      <th>2174</th>\n",
       "      <td>0.870300</td>\n",
       "      <td>0.681785</td>\n",
       "    </tr>\n",
       "    <tr>\n",
       "      <th>2829</th>\n",
       "      <td>0.953284</td>\n",
       "      <td>0.758437</td>\n",
       "    </tr>\n",
       "    <tr>\n",
       "      <th>5704</th>\n",
       "      <td>0.358192</td>\n",
       "      <td>0.499948</td>\n",
       "    </tr>\n",
       "    <tr>\n",
       "      <th>1516</th>\n",
       "      <td>1.000000</td>\n",
       "      <td>0.977912</td>\n",
       "    </tr>\n",
       "    <tr>\n",
       "      <th>2171</th>\n",
       "      <td>0.714426</td>\n",
       "      <td>0.670460</td>\n",
       "    </tr>\n",
       "    <tr>\n",
       "      <th>3389</th>\n",
       "      <td>0.268495</td>\n",
       "      <td>0.573605</td>\n",
       "    </tr>\n",
       "    <tr>\n",
       "      <th>2493</th>\n",
       "      <td>0.011816</td>\n",
       "      <td>0.601165</td>\n",
       "    </tr>\n",
       "    <tr>\n",
       "      <th>3815</th>\n",
       "      <td>0.390818</td>\n",
       "      <td>0.499540</td>\n",
       "    </tr>\n",
       "  </tbody>\n",
       "</table>\n",
       "<p>272 rows × 2 columns</p>\n",
       "</div>"
      ],
      "text/plain": [
       "      observed  predicted\n",
       "3274  0.685934   0.552975\n",
       "5272  0.515966   0.438878\n",
       "4589  0.458427   0.570555\n",
       "3474  0.173967   0.201797\n",
       "2401  0.731787   0.425903\n",
       "3927  0.220850   0.528938\n",
       "5265  0.425134   0.453270\n",
       "4138  1.000000   0.699654\n",
       "2728  0.915016   0.616852\n",
       "5931  0.696260   0.466028\n",
       "3820  0.502065   0.423549\n",
       "3286  0.741609   0.693142\n",
       "2501  0.681000   0.477658\n",
       "2519  0.705640   0.651824\n",
       "1728  1.000000   0.632541\n",
       "5370  0.445707   0.477256\n",
       "4151  0.460940   0.562674\n",
       "5152  0.781234   0.402203\n",
       "6151  0.597103   0.418798\n",
       "3260  0.159857   0.649640\n",
       "6247  0.277143   0.476138\n",
       "5359  0.620321   0.386197\n",
       "6257  0.326075   0.296570\n",
       "5157  0.670055   0.521379\n",
       "3828  0.308916   0.318549\n",
       "2609  0.194341   0.591665\n",
       "5485  0.216706   0.487051\n",
       "5911  0.311351   0.424715\n",
       "3493  0.458943   0.477245\n",
       "3159  0.645595   0.457851\n",
       "...        ...        ...\n",
       "1956  0.678911   0.550795\n",
       "5262  0.579243   0.496799\n",
       "6250  0.337287   0.284203\n",
       "6703  0.243925   0.697992\n",
       "2070  0.746224   0.752716\n",
       "4820  0.624230   0.598536\n",
       "4811  0.912372   0.482422\n",
       "5809  0.265624   0.518020\n",
       "5038  0.368498   0.519807\n",
       "4155  0.183624   0.640198\n",
       "4484  0.430385   0.697726\n",
       "6698  0.209846   0.517160\n",
       "3051  0.439403   0.781318\n",
       "4157  0.388195   0.415713\n",
       "2934  0.007659   0.523349\n",
       "5698  0.487575   0.484120\n",
       "5140  0.490875   0.267490\n",
       "4373  0.849696   0.637362\n",
       "6702  0.168165   0.576411\n",
       "3500  0.486785   0.297159\n",
       "3264  0.136690   0.576398\n",
       "5250  0.111738   0.391348\n",
       "2174  0.870300   0.681785\n",
       "2829  0.953284   0.758437\n",
       "5704  0.358192   0.499948\n",
       "1516  1.000000   0.977912\n",
       "2171  0.714426   0.670460\n",
       "3389  0.268495   0.573605\n",
       "2493  0.011816   0.601165\n",
       "3815  0.390818   0.499540\n",
       "\n",
       "[272 rows x 2 columns]"
      ]
     },
     "execution_count": 43,
     "metadata": {},
     "output_type": "execute_result"
    }
   ],
   "source": [
    "df_results"
   ]
  },
  {
   "cell_type": "code",
   "execution_count": 44,
   "metadata": {},
   "outputs": [],
   "source": [
    "feature_importances = pd.DataFrame(rf.feature_importances_,\n",
    "                                   index = X_train.columns,\n",
    "                                    columns=['importance']).sort_values('importance', ascending=False)"
   ]
  },
  {
   "cell_type": "code",
   "execution_count": 45,
   "metadata": {},
   "outputs": [
    {
     "data": {
      "text/html": [
       "<div>\n",
       "<style scoped>\n",
       "    .dataframe tbody tr th:only-of-type {\n",
       "        vertical-align: middle;\n",
       "    }\n",
       "\n",
       "    .dataframe tbody tr th {\n",
       "        vertical-align: top;\n",
       "    }\n",
       "\n",
       "    .dataframe thead th {\n",
       "        text-align: right;\n",
       "    }\n",
       "</style>\n",
       "<table border=\"1\" class=\"dataframe\">\n",
       "  <thead>\n",
       "    <tr style=\"text-align: right;\">\n",
       "      <th></th>\n",
       "      <th>importance</th>\n",
       "    </tr>\n",
       "  </thead>\n",
       "  <tbody>\n",
       "    <tr>\n",
       "      <th>sdii</th>\n",
       "      <td>0.316114</td>\n",
       "    </tr>\n",
       "    <tr>\n",
       "      <th>cwd</th>\n",
       "      <td>0.193597</td>\n",
       "    </tr>\n",
       "    <tr>\n",
       "      <th>cdd</th>\n",
       "      <td>0.187251</td>\n",
       "    </tr>\n",
       "    <tr>\n",
       "      <th>rr1</th>\n",
       "      <td>0.145466</td>\n",
       "    </tr>\n",
       "    <tr>\n",
       "      <th>pd</th>\n",
       "      <td>0.145158</td>\n",
       "    </tr>\n",
       "    <tr>\n",
       "      <th>rx1day</th>\n",
       "      <td>0.006255</td>\n",
       "    </tr>\n",
       "    <tr>\n",
       "      <th>rx5day</th>\n",
       "      <td>0.006159</td>\n",
       "    </tr>\n",
       "  </tbody>\n",
       "</table>\n",
       "</div>"
      ],
      "text/plain": [
       "        importance\n",
       "sdii      0.316114\n",
       "cwd       0.193597\n",
       "cdd       0.187251\n",
       "rr1       0.145466\n",
       "pd        0.145158\n",
       "rx1day    0.006255\n",
       "rx5day    0.006159"
      ]
     },
     "execution_count": 45,
     "metadata": {},
     "output_type": "execute_result"
    }
   ],
   "source": [
    "feature_importances"
   ]
  },
  {
   "cell_type": "code",
   "execution_count": 46,
   "metadata": {},
   "outputs": [
    {
     "data": {
      "image/png": "[encoded data removed]",
      "text/plain": [
       "<Figure size 864x576 with 1 Axes>"
      ]
     },
     "metadata": {
      "needs_background": "light"
     },
     "output_type": "display_data"
    }
   ],
   "source": [
    "plt.figure(figsize=(12,8))\n",
    "plt.bar(feature_importances.index, feature_importances[\"importance\"])\n",
    "plt.xticks(rotation=90)\n",
    "plt.show()"
   ]
  },
  {
   "cell_type": "markdown",
   "metadata": {},
   "source": [
    "# Spruce - Classifier"
   ]
  },
  {
   "cell_type": "code",
   "execution_count": 47,
   "metadata": {},
   "outputs": [],
   "source": [
    "ds_spruce = xr.open_dataset(\"spruce.nc\")"
   ]
  },
  {
   "cell_type": "code",
   "execution_count": 48,
   "metadata": {},
   "outputs": [
    {
     "data": {
      "text/plain": [
       "<matplotlib.collections.QuadMesh at 0x11b1bed30>"
      ]
     },
     "execution_count": 48,
     "metadata": {},
     "output_type": "execute_result"
    },
    {
     "data": {
      "image/png": "[encoded data removed]",
      "text/plain": [
       "<Figure size 432x288 with 2 Axes>"
      ]
     },
     "metadata": {
      "needs_background": "light"
     },
     "output_type": "display_data"
    }
   ],
   "source": [
    "ds_spruce.volume.where(ds_spruce.volume > 0.5).plot()"
   ]
  },
  {
   "cell_type": "code",
   "execution_count": 49,
   "metadata": {},
   "outputs": [
    {
     "data": {
      "text/html": [
       "<div>\n",
       "<style scoped>\n",
       "    .dataframe tbody tr th:only-of-type {\n",
       "        vertical-align: middle;\n",
       "    }\n",
       "\n",
       "    .dataframe tbody tr th {\n",
       "        vertical-align: top;\n",
       "    }\n",
       "\n",
       "    .dataframe thead th {\n",
       "        text-align: right;\n",
       "    }\n",
       "</style>\n",
       "<table border=\"1\" class=\"dataframe\">\n",
       "  <thead>\n",
       "    <tr style=\"text-align: right;\">\n",
       "      <th></th>\n",
       "      <th>ratio</th>\n",
       "      <th>cdd</th>\n",
       "      <th>cwd</th>\n",
       "      <th>pd</th>\n",
       "      <th>rr1</th>\n",
       "      <th>rx1day</th>\n",
       "      <th>rx5day</th>\n",
       "      <th>sdii</th>\n",
       "      <th>predominant</th>\n",
       "    </tr>\n",
       "  </thead>\n",
       "  <tbody>\n",
       "    <tr>\n",
       "      <th>0</th>\n",
       "      <td>NaN</td>\n",
       "      <td>118.0</td>\n",
       "      <td>221.0</td>\n",
       "      <td>4157.0</td>\n",
       "      <td>4157.0</td>\n",
       "      <td>64.8069</td>\n",
       "      <td>64.8069</td>\n",
       "      <td>4.414824</td>\n",
       "      <td>0</td>\n",
       "    </tr>\n",
       "    <tr>\n",
       "      <th>1</th>\n",
       "      <td>NaN</td>\n",
       "      <td>122.0</td>\n",
       "      <td>212.0</td>\n",
       "      <td>4134.0</td>\n",
       "      <td>4134.0</td>\n",
       "      <td>64.8069</td>\n",
       "      <td>64.8069</td>\n",
       "      <td>4.450780</td>\n",
       "      <td>0</td>\n",
       "    </tr>\n",
       "    <tr>\n",
       "      <th>2</th>\n",
       "      <td>NaN</td>\n",
       "      <td>116.0</td>\n",
       "      <td>214.0</td>\n",
       "      <td>4122.0</td>\n",
       "      <td>4122.0</td>\n",
       "      <td>64.8069</td>\n",
       "      <td>64.8069</td>\n",
       "      <td>4.475977</td>\n",
       "      <td>0</td>\n",
       "    </tr>\n",
       "    <tr>\n",
       "      <th>3</th>\n",
       "      <td>NaN</td>\n",
       "      <td>113.0</td>\n",
       "      <td>212.0</td>\n",
       "      <td>4121.0</td>\n",
       "      <td>4121.0</td>\n",
       "      <td>64.8069</td>\n",
       "      <td>64.8069</td>\n",
       "      <td>4.441460</td>\n",
       "      <td>0</td>\n",
       "    </tr>\n",
       "    <tr>\n",
       "      <th>4</th>\n",
       "      <td>NaN</td>\n",
       "      <td>114.0</td>\n",
       "      <td>213.0</td>\n",
       "      <td>4117.0</td>\n",
       "      <td>4117.0</td>\n",
       "      <td>64.8069</td>\n",
       "      <td>64.8069</td>\n",
       "      <td>4.403867</td>\n",
       "      <td>0</td>\n",
       "    </tr>\n",
       "  </tbody>\n",
       "</table>\n",
       "</div>"
      ],
      "text/plain": [
       "   ratio    cdd    cwd      pd     rr1   rx1day   rx5day      sdii  \\\n",
       "0    NaN  118.0  221.0  4157.0  4157.0  64.8069  64.8069  4.414824   \n",
       "1    NaN  122.0  212.0  4134.0  4134.0  64.8069  64.8069  4.450780   \n",
       "2    NaN  116.0  214.0  4122.0  4122.0  64.8069  64.8069  4.475977   \n",
       "3    NaN  113.0  212.0  4121.0  4121.0  64.8069  64.8069  4.441460   \n",
       "4    NaN  114.0  213.0  4117.0  4117.0  64.8069  64.8069  4.403867   \n",
       "\n",
       "   predominant  \n",
       "0            0  \n",
       "1            0  \n",
       "2            0  \n",
       "3            0  \n",
       "4            0  "
      ]
     },
     "execution_count": 49,
     "metadata": {},
     "output_type": "execute_result"
    }
   ],
   "source": [
    "df2 = df.copy()\n",
    "df2[\"ratio\"] = ds_spruce.volume.where(ds_spruce.volume > 0.5).values.ravel()\n",
    "df2[\"predominant\"] = df2.apply(lambda r: 0 if np.isnan(r[\"ratio\"]) else 1, axis=1)\n",
    "df2.head()"
   ]
  },
  {
   "cell_type": "code",
   "execution_count": 77,
   "metadata": {},
   "outputs": [],
   "source": [
    "X = df2[df2.columns[1:7]]\n",
    "y = df2[\"predominant\"]"
   ]
  },
  {
   "cell_type": "code",
   "execution_count": 78,
   "metadata": {},
   "outputs": [],
   "source": [
    "rus = RandomUnderSampler(random_state=1234)"
   ]
  },
  {
   "cell_type": "code",
   "execution_count": 79,
   "metadata": {},
   "outputs": [
    {
     "data": {
      "text/plain": [
       "RandomUnderSampler(random_state=1234, ratio=None, replacement=False,\n",
       "          return_indices=False, sampling_strategy='auto')"
      ]
     },
     "execution_count": 79,
     "metadata": {},
     "output_type": "execute_result"
    }
   ],
   "source": [
    "rus.fit(X, y)"
   ]
  },
  {
   "cell_type": "code",
   "execution_count": 80,
   "metadata": {},
   "outputs": [],
   "source": [
    "X_resampled, y_resampled = rus.fit_resample(X, y)"
   ]
  },
  {
   "cell_type": "code",
   "execution_count": 81,
   "metadata": {},
   "outputs": [],
   "source": [
    "X_train, X_test, y_train, y_test = train_test_split(X_resampled, y_resampled)"
   ]
  },
  {
   "cell_type": "code",
   "execution_count": 82,
   "metadata": {},
   "outputs": [],
   "source": [
    "rf2 = RandomForestClassifier(n_estimators=500, max_depth=15)"
   ]
  },
  {
   "cell_type": "code",
   "execution_count": 83,
   "metadata": {},
   "outputs": [
    {
     "data": {
      "text/plain": [
       "RandomForestClassifier(bootstrap=True, class_weight=None, criterion='gini',\n",
       "            max_depth=15, max_features='auto', max_leaf_nodes=None,\n",
       "            min_impurity_decrease=0.0, min_impurity_split=None,\n",
       "            min_samples_leaf=1, min_samples_split=2,\n",
       "            min_weight_fraction_leaf=0.0, n_estimators=500, n_jobs=None,\n",
       "            oob_score=False, random_state=None, verbose=0,\n",
       "            warm_start=False)"
      ]
     },
     "execution_count": 83,
     "metadata": {},
     "output_type": "execute_result"
    }
   ],
   "source": [
    "rf2.fit(X_train, y_train)"
   ]
  },
  {
   "cell_type": "code",
   "execution_count": 84,
   "metadata": {},
   "outputs": [],
   "source": [
    "y_pred = rf2.predict(X_test)"
   ]
  },
  {
   "cell_type": "code",
   "execution_count": 85,
   "metadata": {},
   "outputs": [
    {
     "data": {
      "text/plain": [
       "0.6353591160220995"
      ]
     },
     "execution_count": 85,
     "metadata": {},
     "output_type": "execute_result"
    }
   ],
   "source": [
    "accuracy_score(y_pred, y_test)"
   ]
  },
  {
   "cell_type": "code",
   "execution_count": 86,
   "metadata": {},
   "outputs": [
    {
     "data": {
      "text/plain": [
       "array([[52, 36],\n",
       "       [30, 63]])"
      ]
     },
     "execution_count": 86,
     "metadata": {},
     "output_type": "execute_result"
    }
   ],
   "source": [
    "confusion_matrix(y_pred, y_test)"
   ]
  },
  {
   "cell_type": "code",
   "execution_count": 87,
   "metadata": {},
   "outputs": [],
   "source": [
    "feature_importances = pd.DataFrame(rf2.feature_importances_,\n",
    "                                   index = df2.columns[1:7],\n",
    "                                   columns=['importance']).sort_values('importance', ascending=False)"
   ]
  },
  {
   "cell_type": "code",
   "execution_count": 88,
   "metadata": {},
   "outputs": [
    {
     "data": {
      "text/html": [
       "<div>\n",
       "<style scoped>\n",
       "    .dataframe tbody tr th:only-of-type {\n",
       "        vertical-align: middle;\n",
       "    }\n",
       "\n",
       "    .dataframe tbody tr th {\n",
       "        vertical-align: top;\n",
       "    }\n",
       "\n",
       "    .dataframe thead th {\n",
       "        text-align: right;\n",
       "    }\n",
       "</style>\n",
       "<table border=\"1\" class=\"dataframe\">\n",
       "  <thead>\n",
       "    <tr style=\"text-align: right;\">\n",
       "      <th></th>\n",
       "      <th>importance</th>\n",
       "    </tr>\n",
       "  </thead>\n",
       "  <tbody>\n",
       "    <tr>\n",
       "      <th>cwd</th>\n",
       "      <td>0.249920</td>\n",
       "    </tr>\n",
       "    <tr>\n",
       "      <th>rr1</th>\n",
       "      <td>0.247982</td>\n",
       "    </tr>\n",
       "    <tr>\n",
       "      <th>cdd</th>\n",
       "      <td>0.240704</td>\n",
       "    </tr>\n",
       "    <tr>\n",
       "      <th>pd</th>\n",
       "      <td>0.232411</td>\n",
       "    </tr>\n",
       "    <tr>\n",
       "      <th>rx1day</th>\n",
       "      <td>0.014543</td>\n",
       "    </tr>\n",
       "    <tr>\n",
       "      <th>rx5day</th>\n",
       "      <td>0.014440</td>\n",
       "    </tr>\n",
       "  </tbody>\n",
       "</table>\n",
       "</div>"
      ],
      "text/plain": [
       "        importance\n",
       "cwd       0.249920\n",
       "rr1       0.247982\n",
       "cdd       0.240704\n",
       "pd        0.232411\n",
       "rx1day    0.014543\n",
       "rx5day    0.014440"
      ]
     },
     "execution_count": 88,
     "metadata": {},
     "output_type": "execute_result"
    }
   ],
   "source": [
    "feature_importances"
   ]
  },
  {
   "cell_type": "code",
   "execution_count": 89,
   "metadata": {},
   "outputs": [
    {
     "data": {
      "image/png": "[encoded data removed]",
      "text/plain": [
       "<Figure size 864x576 with 1 Axes>"
      ]
     },
     "metadata": {
      "needs_background": "light"
     },
     "output_type": "display_data"
    }
   ],
   "source": [
    "plt.figure(figsize=(12,8))\n",
    "plt.bar(feature_importances.index, feature_importances[\"importance\"])\n",
    "plt.xticks(rotation=90)\n",
    "plt.show()"
   ]
  },
  {
   "cell_type": "markdown",
   "metadata": {},
   "source": [
    "# Pine - Classifier"
   ]
  },
  {
   "cell_type": "code",
   "execution_count": 90,
   "metadata": {},
   "outputs": [
    {
     "data": {
      "text/plain": [
       "<matplotlib.collections.QuadMesh at 0x11bdb6e10>"
      ]
     },
     "execution_count": 90,
     "metadata": {},
     "output_type": "execute_result"
    },
    {
     "data": {
      "image/png": "[encoded data removed]",
      "text/plain": [
       "<Figure size 432x288 with 2 Axes>"
      ]
     },
     "metadata": {
      "needs_background": "light"
     },
     "output_type": "display_data"
    }
   ],
   "source": [
    "ds_pine = xr.open_dataset(\"pine.nc\")\n",
    "ds_pine.volume.where(ds_pine.volume > 0.5).plot()"
   ]
  },
  {
   "cell_type": "code",
   "execution_count": 91,
   "metadata": {},
   "outputs": [
    {
     "data": {
      "text/html": [
       "<div>\n",
       "<style scoped>\n",
       "    .dataframe tbody tr th:only-of-type {\n",
       "        vertical-align: middle;\n",
       "    }\n",
       "\n",
       "    .dataframe tbody tr th {\n",
       "        vertical-align: top;\n",
       "    }\n",
       "\n",
       "    .dataframe thead th {\n",
       "        text-align: right;\n",
       "    }\n",
       "</style>\n",
       "<table border=\"1\" class=\"dataframe\">\n",
       "  <thead>\n",
       "    <tr style=\"text-align: right;\">\n",
       "      <th></th>\n",
       "      <th>ratio</th>\n",
       "      <th>cdd</th>\n",
       "      <th>cwd</th>\n",
       "      <th>pd</th>\n",
       "      <th>rr1</th>\n",
       "      <th>rx1day</th>\n",
       "      <th>rx5day</th>\n",
       "      <th>sdii</th>\n",
       "      <th>predominant</th>\n",
       "    </tr>\n",
       "  </thead>\n",
       "  <tbody>\n",
       "    <tr>\n",
       "      <th>0</th>\n",
       "      <td>NaN</td>\n",
       "      <td>118.0</td>\n",
       "      <td>221.0</td>\n",
       "      <td>4157.0</td>\n",
       "      <td>4157.0</td>\n",
       "      <td>64.8069</td>\n",
       "      <td>64.8069</td>\n",
       "      <td>4.414824</td>\n",
       "      <td>0</td>\n",
       "    </tr>\n",
       "    <tr>\n",
       "      <th>1</th>\n",
       "      <td>NaN</td>\n",
       "      <td>122.0</td>\n",
       "      <td>212.0</td>\n",
       "      <td>4134.0</td>\n",
       "      <td>4134.0</td>\n",
       "      <td>64.8069</td>\n",
       "      <td>64.8069</td>\n",
       "      <td>4.450780</td>\n",
       "      <td>0</td>\n",
       "    </tr>\n",
       "    <tr>\n",
       "      <th>2</th>\n",
       "      <td>NaN</td>\n",
       "      <td>116.0</td>\n",
       "      <td>214.0</td>\n",
       "      <td>4122.0</td>\n",
       "      <td>4122.0</td>\n",
       "      <td>64.8069</td>\n",
       "      <td>64.8069</td>\n",
       "      <td>4.475977</td>\n",
       "      <td>0</td>\n",
       "    </tr>\n",
       "    <tr>\n",
       "      <th>3</th>\n",
       "      <td>NaN</td>\n",
       "      <td>113.0</td>\n",
       "      <td>212.0</td>\n",
       "      <td>4121.0</td>\n",
       "      <td>4121.0</td>\n",
       "      <td>64.8069</td>\n",
       "      <td>64.8069</td>\n",
       "      <td>4.441460</td>\n",
       "      <td>0</td>\n",
       "    </tr>\n",
       "    <tr>\n",
       "      <th>4</th>\n",
       "      <td>NaN</td>\n",
       "      <td>114.0</td>\n",
       "      <td>213.0</td>\n",
       "      <td>4117.0</td>\n",
       "      <td>4117.0</td>\n",
       "      <td>64.8069</td>\n",
       "      <td>64.8069</td>\n",
       "      <td>4.403867</td>\n",
       "      <td>0</td>\n",
       "    </tr>\n",
       "  </tbody>\n",
       "</table>\n",
       "</div>"
      ],
      "text/plain": [
       "   ratio    cdd    cwd      pd     rr1   rx1day   rx5day      sdii  \\\n",
       "0    NaN  118.0  221.0  4157.0  4157.0  64.8069  64.8069  4.414824   \n",
       "1    NaN  122.0  212.0  4134.0  4134.0  64.8069  64.8069  4.450780   \n",
       "2    NaN  116.0  214.0  4122.0  4122.0  64.8069  64.8069  4.475977   \n",
       "3    NaN  113.0  212.0  4121.0  4121.0  64.8069  64.8069  4.441460   \n",
       "4    NaN  114.0  213.0  4117.0  4117.0  64.8069  64.8069  4.403867   \n",
       "\n",
       "   predominant  \n",
       "0            0  \n",
       "1            0  \n",
       "2            0  \n",
       "3            0  \n",
       "4            0  "
      ]
     },
     "execution_count": 91,
     "metadata": {},
     "output_type": "execute_result"
    }
   ],
   "source": [
    "df3 = df.copy()\n",
    "df3[\"ratio\"] = ds_pine.volume.where(ds_spruce.volume > 0.5).values.ravel()\n",
    "df3[\"predominant\"] = df3.apply(lambda r: 0 if np.isnan(r[\"ratio\"]) else 1, axis=1)\n",
    "df3.head()"
   ]
  },
  {
   "cell_type": "code",
   "execution_count": 92,
   "metadata": {},
   "outputs": [],
   "source": [
    "X = df3[df3.columns[1:7]]\n",
    "y = df3[\"predominant\"]"
   ]
  },
  {
   "cell_type": "code",
   "execution_count": 93,
   "metadata": {},
   "outputs": [],
   "source": [
    "X_resampled, y_resampled = rus.fit_resample(X, y)"
   ]
  },
  {
   "cell_type": "code",
   "execution_count": 94,
   "metadata": {},
   "outputs": [],
   "source": [
    "X_train, X_test, y_train, y_test = train_test_split(X_resampled, y_resampled)"
   ]
  },
  {
   "cell_type": "code",
   "execution_count": 95,
   "metadata": {},
   "outputs": [
    {
     "data": {
      "text/plain": [
       "RandomForestClassifier(bootstrap=True, class_weight=None, criterion='gini',\n",
       "            max_depth=15, max_features='auto', max_leaf_nodes=None,\n",
       "            min_impurity_decrease=0.0, min_impurity_split=None,\n",
       "            min_samples_leaf=1, min_samples_split=2,\n",
       "            min_weight_fraction_leaf=0.0, n_estimators=500, n_jobs=None,\n",
       "            oob_score=False, random_state=None, verbose=0,\n",
       "            warm_start=False)"
      ]
     },
     "execution_count": 95,
     "metadata": {},
     "output_type": "execute_result"
    }
   ],
   "source": [
    "rf2.fit(X_train, y_train)"
   ]
  },
  {
   "cell_type": "code",
   "execution_count": 96,
   "metadata": {},
   "outputs": [],
   "source": [
    "y_pred = rf2.predict(X_test)"
   ]
  },
  {
   "cell_type": "code",
   "execution_count": 97,
   "metadata": {},
   "outputs": [
    {
     "data": {
      "text/plain": [
       "0.6961325966850829"
      ]
     },
     "execution_count": 97,
     "metadata": {},
     "output_type": "execute_result"
    }
   ],
   "source": [
    "accuracy_score(y_pred, y_test)"
   ]
  },
  {
   "cell_type": "code",
   "execution_count": 98,
   "metadata": {},
   "outputs": [
    {
     "data": {
      "text/plain": [
       "array([[61, 31],\n",
       "       [24, 65]])"
      ]
     },
     "execution_count": 98,
     "metadata": {},
     "output_type": "execute_result"
    }
   ],
   "source": [
    "confusion_matrix(y_pred, y_test)"
   ]
  },
  {
   "cell_type": "code",
   "execution_count": 99,
   "metadata": {},
   "outputs": [],
   "source": [
    "feature_importances = pd.DataFrame(rf2.feature_importances_,\n",
    "                                   index = df2.columns[1:7],\n",
    "                                   columns=['importance']).sort_values('importance', ascending=False)"
   ]
  },
  {
   "cell_type": "code",
   "execution_count": 100,
   "metadata": {},
   "outputs": [
    {
     "data": {
      "image/png": "[encoded data removed]",
      "text/plain": [
       "<Figure size 864x576 with 1 Axes>"
      ]
     },
     "metadata": {
      "needs_background": "light"
     },
     "output_type": "display_data"
    }
   ],
   "source": [
    "plt.figure(figsize=(12,8))\n",
    "plt.bar(feature_importances.index, feature_importances[\"importance\"])\n",
    "plt.xticks(rotation=90)\n",
    "plt.show()"
   ]
  }
 ],
 "metadata": {
  "kernelspec": {
   "display_name": "Python 3",
   "language": "python",
   "name": "python3"
  },
  "language_info": {
   "codemirror_mode": {
    "name": "ipython",
    "version": 3
   },
   "file_extension": ".py",
   "mimetype": "text/x-python",
   "name": "python",
   "nbconvert_exporter": "python",
   "pygments_lexer": "ipython3",
   "version": "3.7.2"
  }
 },
 "nbformat": 4,
 "nbformat_minor": 2
}
