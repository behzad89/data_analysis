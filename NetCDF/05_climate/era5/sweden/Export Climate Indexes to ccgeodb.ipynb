{
 "cells": [
  {
   "cell_type": "code",
   "execution_count": 44,
   "metadata": {},
   "outputs": [],
   "source": [
    "import psycopg2\n",
    "import pandas as pd\n",
    "import subprocess\n",
    "import xarray as xr\n",
    "\n",
    "from getpass import getpass\n",
    "from subprocess import call"
   ]
  },
  {
   "cell_type": "markdown",
   "metadata": {},
   "source": [
    "# Database Connection"
   ]
  },
  {
   "cell_type": "markdown",
   "metadata": {},
   "source": [
    "Type database password"
   ]
  },
  {
   "cell_type": "code",
   "execution_count": 7,
   "metadata": {},
   "outputs": [
    {
     "name": "stdout",
     "output_type": "stream",
     "text": [
      "········\n"
     ]
    }
   ],
   "source": [
    "password = getpass()"
   ]
  },
  {
   "cell_type": "code",
   "execution_count": 67,
   "metadata": {},
   "outputs": [],
   "source": [
    "conn = psycopg2.connect(\"dbname='ccgeodb' user='linda_ml' host='10.0.18.10' password='%s'\" % (password))"
   ]
  },
  {
   "cell_type": "markdown",
   "metadata": {},
   "source": [
    "# Load multi-year monthly temperature means into database"
   ]
  },
  {
   "cell_type": "markdown",
   "metadata": {},
   "source": [
    "Open netcdf dataset"
   ]
  },
  {
   "cell_type": "code",
   "execution_count": 3,
   "metadata": {},
   "outputs": [],
   "source": [
    "ds_t = xr.open_dataarray(\"../era5/era5-nordics-t2m_ymon.nc\")"
   ]
  },
  {
   "cell_type": "code",
   "execution_count": 4,
   "metadata": {},
   "outputs": [
    {
     "data": {
      "text/plain": [
       "<xarray.DataArray 't2m' (time: 12, latitude: 73, longitude: 111)>\n",
       "array([[[ 1.553332,  1.586333, ..., -0.495939, -0.505287],\n",
       "        [ 1.771608,  1.803768, ..., -0.563426, -0.577458],\n",
       "        ...,\n",
       "        [ 5.869842,  5.77492 , ..., -5.671416, -5.759909],\n",
       "        [ 5.838496,  5.635948, ..., -5.537386, -5.648471]],\n",
       "\n",
       "       [[ 1.103031,  1.137396, ..., -0.956588, -0.96615 ],\n",
       "        [ 1.314581,  1.348727, ..., -1.039494, -1.05264 ],\n",
       "        ...,\n",
       "        [ 4.973172,  4.902813, ..., -5.122883, -5.187818],\n",
       "        [ 4.98227 ,  4.822037, ..., -4.944853, -5.04524 ]],\n",
       "\n",
       "       ...,\n",
       "\n",
       "       [[ 2.934793,  2.967538, ...,  2.28324 ,  2.254706],\n",
       "        [ 3.15368 ,  3.185802, ...,  2.276114,  2.255093],\n",
       "        ...,\n",
       "        [10.08759 , 10.028041, ...,  1.417875,  1.342215],\n",
       "        [10.098333,  9.930233, ...,  1.526189,  1.431734]],\n",
       "\n",
       "       [[ 1.820105,  1.853624, ...,  0.754191,  0.730996],\n",
       "        [ 2.046061,  2.077623, ...,  0.757282,  0.731566],\n",
       "        ...,\n",
       "        [ 7.374341,  7.293108, ..., -3.006989, -3.092436],\n",
       "        [ 7.316495,  7.124025, ..., -2.94628 , -3.048766]]], dtype=float32)\n",
       "Coordinates:\n",
       "  * time       (time) datetime64[ns] 2018-01-31T23:00:00 2018-02-28T23:00:00 ...\n",
       "  * longitude  (longitude) float32 4.5 4.75 5.0 5.25 5.5 5.75 6.0 6.25 6.5 ...\n",
       "  * latitude   (latitude) float32 71.5 71.25 71.0 70.75 70.5 70.25 70.0 ...\n",
       "Attributes:\n",
       "    long_name:  2 metre temperature\n",
       "    units:      K"
      ]
     },
     "execution_count": 4,
     "metadata": {},
     "output_type": "execute_result"
    }
   ],
   "source": [
    "ds_t"
   ]
  },
  {
   "cell_type": "code",
   "execution_count": 13,
   "metadata": {},
   "outputs": [
    {
     "data": {
      "text/plain": [
       "<xarray.DataArray 'time' (time: 12)>\n",
       "array(['2018-01-31T23:00:00.000000000', '2018-02-28T23:00:00.000000000',\n",
       "       '2018-03-31T23:00:00.000000000', '2018-04-30T23:00:00.000000000',\n",
       "       '2018-05-31T23:00:00.000000000', '2018-06-30T23:00:00.000000000',\n",
       "       '2018-07-31T23:00:00.000000000', '2018-08-31T23:00:00.000000000',\n",
       "       '2017-09-30T23:00:00.000000000', '2017-10-31T23:00:00.000000000',\n",
       "       '2017-11-30T23:00:00.000000000', '2017-12-31T23:00:00.000000000'],\n",
       "      dtype='datetime64[ns]')\n",
       "Coordinates:\n",
       "  * time     (time) datetime64[ns] 2018-01-31T23:00:00 2018-02-28T23:00:00 ...\n",
       "Attributes:\n",
       "    standard_name:  time\n",
       "    long_name:      time\n",
       "    axis:           T"
      ]
     },
     "execution_count": 13,
     "metadata": {},
     "output_type": "execute_result"
    }
   ],
   "source": [
    "ds_t.time"
   ]
  },
  {
   "cell_type": "markdown",
   "metadata": {},
   "source": [
    "Extract each month to a individual file using ncks"
   ]
  },
  {
   "cell_type": "code",
   "execution_count": 33,
   "metadata": {},
   "outputs": [
    {
     "name": "stdout",
     "output_type": "stream",
     "text": [
      "0\n",
      "1\n",
      "2\n",
      "3\n",
      "4\n",
      "5\n",
      "6\n",
      "7\n",
      "8\n",
      "9\n",
      "10\n",
      "11\n"
     ]
    }
   ],
   "source": [
    "for m in range(0, 12):\n",
    "    print(m)\n",
    "    call(['ncks', '-O', '-d', 'time,%d' % m, '../era5/era5-nordics-t2m_ymon.nc', '../era5/era5-nordics-t2m_ymon_%02d.nc' % (m+1)])"
   ]
  },
  {
   "cell_type": "markdown",
   "metadata": {},
   "source": [
    "Check one of the files to ensure it has only one single time dimension"
   ]
  },
  {
   "cell_type": "code",
   "execution_count": 37,
   "metadata": {},
   "outputs": [
    {
     "data": {
      "text/plain": [
       "<xarray.Dataset>\n",
       "Dimensions:    (latitude: 73, longitude: 111, time: 1)\n",
       "Coordinates:\n",
       "  * latitude   (latitude) float32 71.5 71.25 71.0 70.75 70.5 70.25 70.0 ...\n",
       "  * longitude  (longitude) float32 4.5 4.75 5.0 5.25 5.5 5.75 6.0 6.25 6.5 ...\n",
       "  * time       (time) datetime64[ns] 2018-01-31T23:00:00\n",
       "Data variables:\n",
       "    t2m        (time, latitude, longitude) float32 ...\n",
       "Attributes:\n",
       "    CDI:          Climate Data Interface version ?? (http://mpimet.mpg.de/cdi)\n",
       "    Conventions:  CF-1.6\n",
       "    history:      Thu Nov 29 21:35:06 2018: ncks -O -d time,0 ../era5/era5-no...\n",
       "    CDO:          Climate Data Operators version 1.9.3 (http://mpimet.mpg.de/...\n",
       "    NCO:          4.7.2"
      ]
     },
     "execution_count": 37,
     "metadata": {},
     "output_type": "execute_result"
    }
   ],
   "source": [
    "ds = xr.open_dataset('../era5/era5-nordics-t2m_ymon_01.nc')\n",
    "ds"
   ]
  },
  {
   "cell_type": "markdown",
   "metadata": {},
   "source": [
    "Convert each one of the new NetCDF files into GeoTiff"
   ]
  },
  {
   "cell_type": "code",
   "execution_count": 94,
   "metadata": {},
   "outputs": [
    {
     "name": "stdout",
     "output_type": "stream",
     "text": [
      "1\n",
      "2\n",
      "3\n",
      "4\n",
      "5\n",
      "6\n",
      "7\n",
      "8\n",
      "9\n",
      "10\n",
      "11\n",
      "12\n"
     ]
    }
   ],
   "source": [
    "for m in range(1, 13):\n",
    "    print(m)\n",
    "    call([\"gdal_translate\", \"-a_srs\", \"EPSG:4258\", \"NETCDF:../era5/era5-nordics-t2m_ymon_%02d.nc:t2m\" % m, \n",
    "          \"-of\", \"GTiff\", \"../era5/era5-nordics-t2m_ymon_%02d.tiff\" % m])"
   ]
  },
  {
   "cell_type": "markdown",
   "metadata": {},
   "source": [
    "Generate SQL script to load each raster"
   ]
  },
  {
   "cell_type": "code",
   "execution_count": 98,
   "metadata": {},
   "outputs": [
    {
     "name": "stdout",
     "output_type": "stream",
     "text": [
      "CREATE TABLE \"climate\".\"era5_nordics_temperature_ymon_01\" (\"rid\" serial PRIMARY KEY,\"rast\" raster);\n",
      "CREATE TABLE \"climate\".\"era5_nordics_temperature_ymon_02\" (\"rid\" serial PRIMARY KEY,\"rast\" raster);\n",
      "CREATE TABLE \"climate\".\"era5_nordics_temperature_ymon_03\" (\"rid\" serial PRIMARY KEY,\"rast\" raster);\n",
      "CREATE TABLE \"climate\".\"era5_nordics_temperature_ymon_04\" (\"rid\" serial PRIMARY KEY,\"rast\" raster);\n",
      "CREATE TABLE \"climate\".\"era5_nordics_temperature_ymon_05\" (\"rid\" serial PRIMARY KEY,\"rast\" raster);\n",
      "CREATE TABLE \"climate\".\"era5_nordics_temperature_ymon_06\" (\"rid\" serial PRIMARY KEY,\"rast\" raster);\n",
      "CREATE TABLE \"climate\".\"era5_nordics_temperature_ymon_07\" (\"rid\" serial PRIMARY KEY,\"rast\" raster);\n",
      "CREATE TABLE \"climate\".\"era5_nordics_temperature_ymon_08\" (\"rid\" serial PRIMARY KEY,\"rast\" raster);\n",
      "CREATE TABLE \"climate\".\"era5_nordics_temperature_ymon_09\" (\"rid\" serial PRIMARY KEY,\"rast\" raster);\n",
      "CREATE TABLE \"climate\".\"era5_nordics_temperature_ymon_10\" (\"rid\" serial PRIMARY KEY,\"rast\" raster);\n",
      "CREATE TABLE \"climate\".\"era5_nordics_temperature_ymon_11\" (\"rid\" serial PRIMARY KEY,\"rast\" raster);\n",
      "CREATE TABLE \"climate\".\"era5_nordics_temperature_ymon_12\" (\"rid\" serial PRIMARY KEY,\"rast\" raster);\n"
     ]
    }
   ],
   "source": [
    "for m in range(1, 13):\n",
    "    output = subprocess.check_output([\"raster2pgsql\", \"-I\", \"../era5/era5-nordics-t2m_ymon_%02d.tiff\" % m, \n",
    "                                      \"climate.era5_nordics_temperature_ymon_%02d\" % m])\n",
    "    \n",
    "    output = output.decode('utf-8')\n",
    "    statements = output.split('\\n')\n",
    "    \n",
    "    # skip BEGIN and COMMIT statements\n",
    "    for i in range(1, 4):\n",
    "        if i == 1:\n",
    "            print(statements[i])\n",
    "        cursor.execute(statements[i])\n",
    "    \n",
    "    conn.commit()"
   ]
  },
  {
   "cell_type": "markdown",
   "metadata": {},
   "source": [
    "# Load multi-year monthly precipitation totals into database"
   ]
  },
  {
   "cell_type": "markdown",
   "metadata": {},
   "source": [
    "Open netcdf dataset"
   ]
  },
  {
   "cell_type": "code",
   "execution_count": 90,
   "metadata": {},
   "outputs": [],
   "source": [
    "ds_p = xr.open_dataset('../era5/era5-nordics-precipitation_ymon.nc')"
   ]
  },
  {
   "cell_type": "code",
   "execution_count": 91,
   "metadata": {},
   "outputs": [
    {
     "data": {
      "text/plain": [
       "<xarray.Dataset>\n",
       "Dimensions:    (latitude: 73, longitude: 111, time: 12)\n",
       "Coordinates:\n",
       "  * time       (time) datetime64[ns] 2018-01-31T23:00:00 2018-02-28T23:00:00 ...\n",
       "  * longitude  (longitude) float32 4.5 4.75 5.0 5.25 5.5 5.75 6.0 6.25 6.5 ...\n",
       "  * latitude   (latitude) float32 71.5 71.25 71.0 70.75 70.5 70.25 70.0 ...\n",
       "Data variables:\n",
       "    tp         (time, latitude, longitude) float32 ...\n",
       "Attributes:\n",
       "    CDI:          Climate Data Interface version ?? (http://mpimet.mpg.de/cdi)\n",
       "    Conventions:  CF-1.6\n",
       "    history:      Mon Nov 26 11:33:02 2018: cdo -b 32 ymonsum -expr,tp=tp*100...\n",
       "    CDO:          Climate Data Operators version 1.9.3 (http://mpimet.mpg.de/..."
      ]
     },
     "execution_count": 91,
     "metadata": {},
     "output_type": "execute_result"
    }
   ],
   "source": [
    "ds_p"
   ]
  },
  {
   "cell_type": "markdown",
   "metadata": {},
   "source": [
    "Split into single time files"
   ]
  },
  {
   "cell_type": "code",
   "execution_count": 92,
   "metadata": {},
   "outputs": [
    {
     "name": "stdout",
     "output_type": "stream",
     "text": [
      "0\n",
      "1\n",
      "2\n",
      "3\n",
      "4\n",
      "5\n",
      "6\n",
      "7\n",
      "8\n",
      "9\n",
      "10\n",
      "11\n"
     ]
    }
   ],
   "source": [
    "for m in range(0, 12):\n",
    "    print(m)\n",
    "    call(['ncks', '-O', '-d', 'time,%d' % m, '../era5/era5-nordics-precipitation_ymon.nc', '../era5/era5-nordics-precipitation_ymon_%02d.nc' % (m+1)])"
   ]
  },
  {
   "cell_type": "markdown",
   "metadata": {},
   "source": [
    "Convert files to GeoTiff"
   ]
  },
  {
   "cell_type": "code",
   "execution_count": 96,
   "metadata": {},
   "outputs": [
    {
     "name": "stdout",
     "output_type": "stream",
     "text": [
      "1\n",
      "2\n",
      "3\n",
      "4\n",
      "5\n",
      "6\n",
      "7\n",
      "8\n",
      "9\n",
      "10\n",
      "11\n",
      "12\n"
     ]
    }
   ],
   "source": [
    "for m in range(1, 13):\n",
    "    print(m)\n",
    "    call([\"gdal_translate\", \"-a_srs\", \"EPSG:4258\", \"NETCDF:../era5/era5-nordics-precipitation_ymon_%02d.nc:tp\" %m, \n",
    "          \"-of\", \"GTiff\", \"../era5/era5-nordics-precipitation_ymon_%02d.tiff\" % m])"
   ]
  },
  {
   "cell_type": "code",
   "execution_count": 97,
   "metadata": {},
   "outputs": [
    {
     "name": "stdout",
     "output_type": "stream",
     "text": [
      "CREATE TABLE \"climate\".\"era5_nordics_precipitation_ymon_01\" (\"rid\" serial PRIMARY KEY,\"rast\" raster);\n",
      "CREATE TABLE \"climate\".\"era5_nordics_precipitation_ymon_02\" (\"rid\" serial PRIMARY KEY,\"rast\" raster);\n",
      "CREATE TABLE \"climate\".\"era5_nordics_precipitation_ymon_03\" (\"rid\" serial PRIMARY KEY,\"rast\" raster);\n",
      "CREATE TABLE \"climate\".\"era5_nordics_precipitation_ymon_04\" (\"rid\" serial PRIMARY KEY,\"rast\" raster);\n",
      "CREATE TABLE \"climate\".\"era5_nordics_precipitation_ymon_05\" (\"rid\" serial PRIMARY KEY,\"rast\" raster);\n",
      "CREATE TABLE \"climate\".\"era5_nordics_precipitation_ymon_06\" (\"rid\" serial PRIMARY KEY,\"rast\" raster);\n",
      "CREATE TABLE \"climate\".\"era5_nordics_precipitation_ymon_07\" (\"rid\" serial PRIMARY KEY,\"rast\" raster);\n",
      "CREATE TABLE \"climate\".\"era5_nordics_precipitation_ymon_08\" (\"rid\" serial PRIMARY KEY,\"rast\" raster);\n",
      "CREATE TABLE \"climate\".\"era5_nordics_precipitation_ymon_09\" (\"rid\" serial PRIMARY KEY,\"rast\" raster);\n",
      "CREATE TABLE \"climate\".\"era5_nordics_precipitation_ymon_10\" (\"rid\" serial PRIMARY KEY,\"rast\" raster);\n",
      "CREATE TABLE \"climate\".\"era5_nordics_precipitation_ymon_11\" (\"rid\" serial PRIMARY KEY,\"rast\" raster);\n",
      "CREATE TABLE \"climate\".\"era5_nordics_precipitation_ymon_12\" (\"rid\" serial PRIMARY KEY,\"rast\" raster);\n"
     ]
    }
   ],
   "source": [
    "for m in range(1, 13):\n",
    "    output = subprocess.check_output([\"raster2pgsql\", \"-I\", \"../era5/era5-nordics-precipitation_ymon_%02d.tiff\" % m, \n",
    "                                      \"climate.era5_nordics_precipitation_ymon_%02d\" % m])\n",
    "    \n",
    "    output = output.decode('utf-8')\n",
    "    statements = output.split('\\n')\n",
    "    \n",
    "    # skip BEGIN and COMMIT statements\n",
    "    for i in range(1, 4):\n",
    "        if i == 1:\n",
    "            print(statements[i])\n",
    "        cursor.execute(statements[i])\n",
    "    \n",
    "    conn.commit()"
   ]
  },
  {
   "cell_type": "code",
   "execution_count": null,
   "metadata": {},
   "outputs": [],
   "source": []
  }
 ],
 "metadata": {
  "kernelspec": {
   "display_name": "Python 3",
   "language": "python",
   "name": "python3"
  },
  "language_info": {
   "codemirror_mode": {
    "name": "ipython",
    "version": 3
   },
   "file_extension": ".py",
   "mimetype": "text/x-python",
   "name": "python",
   "nbconvert_exporter": "python",
   "pygments_lexer": "ipython3",
   "version": "3.6.7"
  }
 },
 "nbformat": 4,
 "nbformat_minor": 2
}
