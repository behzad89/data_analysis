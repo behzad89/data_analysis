{
 "cells": [
  {
   "cell_type": "code",
   "execution_count": 6,
   "metadata": {},
   "outputs": [
    {
     "name": "stderr",
     "output_type": "stream",
     "text": [
      "/Users/sato/dev/cc/sandbox-fabio/python-notebooks/env/lib/python3.7/site-packages/psycopg2/__init__.py:144: UserWarning: The psycopg2 wheel package will be renamed from release 2.8; in order to keep installing from binary please use \"pip install psycopg2-binary\" instead. For details see: <http://initd.org/psycopg/docs/install.html#binary-install-from-pypi>.\n",
      "  \"\"\")\n"
     ]
    }
   ],
   "source": [
    "import psycopg2\n",
    "import pandas as pd\n",
    "import subprocess\n",
    "import xarray as xr\n",
    "\n",
    "from getpass import getpass\n",
    "from subprocess import call"
   ]
  },
  {
   "cell_type": "markdown",
   "metadata": {},
   "source": [
    "# Database Connection"
   ]
  },
  {
   "cell_type": "markdown",
   "metadata": {},
   "source": [
    "Type database password"
   ]
  },
  {
   "cell_type": "code",
   "execution_count": 9,
   "metadata": {},
   "outputs": [
    {
     "name": "stdout",
     "output_type": "stream",
     "text": [
      "········\n"
     ]
    }
   ],
   "source": [
    "password = getpass()"
   ]
  },
  {
   "cell_type": "code",
   "execution_count": 10,
   "metadata": {},
   "outputs": [],
   "source": [
    "conn = psycopg2.connect(\"dbname='ccgeodb' user='linda_ml' host='10.0.18.10' password='%s'\" % (password))"
   ]
  },
  {
   "cell_type": "markdown",
   "metadata": {},
   "source": [
    "# Load CDO Temperature and Precipitation indexes"
   ]
  },
  {
   "cell_type": "markdown",
   "metadata": {},
   "source": [
    "Open dataset from single netcdf files"
   ]
  },
  {
   "cell_type": "code",
   "execution_count": 16,
   "metadata": {},
   "outputs": [],
   "source": [
    "files = [\n",
    "    \"../era5/era5-nordics-ecacfd.nc\",\n",
    "    \"../era5/era5-nordics-ecafd.nc\",\n",
    "    \"../era5/era5-nordics-ecacsu.nc\",\n",
    "    \"../era5/era5-nordics-ecaid.nc\",\n",
    "    \"../era5/era5-nordics-ecasu.nc\",\n",
    "    \"../era5/era5-nordics-ecacdd.nc\",\n",
    "    \"../era5/era5-nordics-ecacwd.nc\",\n",
    "    \"../era5/era5-nordics-ecapd.nc\",\n",
    "    \"../era5/era5-nordics-ecarr1.nc\",\n",
    "    \"../era5/era5-nordics-ecarx1day.nc\",\n",
    "    \"../era5/era5-nordics-ecarx5day.nc\",\n",
    "    \"../era5/era5-nordics-ecasdii.nc\"\n",
    "]"
   ]
  },
  {
   "cell_type": "markdown",
   "metadata": {},
   "source": [
    "# Create list of variables per file\n",
    "\n",
    "Some files have more than one climate index variable"
   ]
  },
  {
   "cell_type": "code",
   "execution_count": 30,
   "metadata": {},
   "outputs": [
    {
     "name": "stdout",
     "output_type": "stream",
     "text": [
      "{'../era5/era5-nordics-ecacfd.nc': ['number_of_cfd_periods_with_more_than_5days_per_time_period'], '../era5/era5-nordics-ecafd.nc': ['frost_days_index_per_time_period'], '../era5/era5-nordics-ecacsu.nc': ['number_of_csu_periods_with_more_than_5days_per_time_period'], '../era5/era5-nordics-ecaid.nc': ['ice_days_index_per_time_period'], '../era5/era5-nordics-ecasu.nc': ['summer_days_index_per_time_period'], '../era5/era5-nordics-ecacdd.nc': ['consecutive_dry_days_index_per_time_period', 'number_of_cdd_periods_with_more_than_5days_per_time_period'], '../era5/era5-nordics-ecacwd.nc': ['consecutive_wet_days_index_per_time_period', 'number_of_cwd_periods_with_more_than_5days_per_time_period'], '../era5/era5-nordics-ecapd.nc': ['precipitation_days_index_per_time_period'], '../era5/era5-nordics-ecarr1.nc': ['wet_days_index_per_time_period'], '../era5/era5-nordics-ecarx1day.nc': ['highest_one_day_precipitation_amount_per_time_period'], '../era5/era5-nordics-ecarx5day.nc': ['highest_five_day_precipitation_amount_per_time_period', 'number_of_5day_heavy_precipitation_periods_per_time_period'], '../era5/era5-nordics-ecasdii.nc': ['simple_daily_intensity_index_per_time_period']}\n"
     ]
    }
   ],
   "source": [
    "variables = {}\n",
    "for f in files:\n",
    "    ds = xr.open_dataset(f)\n",
    "    for v in ds.variables:\n",
    "        if f not in variables:\n",
    "            variables[f] = []\n",
    "        if v not in [\"time\", \"longitude\", \"latitude\", \"inate.\", \"oordinate.\"]:\n",
    "            variables[f].append(v)\n",
    "\n",
    "print(variables)"
   ]
  },
  {
   "cell_type": "markdown",
   "metadata": {},
   "source": [
    "Convert each one of the variables into single GeoTiff files"
   ]
  },
  {
   "cell_type": "code",
   "execution_count": 36,
   "metadata": {},
   "outputs": [
    {
     "name": "stdout",
     "output_type": "stream",
     "text": [
      "../era5/era5-nordics-ecacfd.nc\n",
      "number_of_cfd_periods_with_more_than_5days_per_time_period.tiff\n",
      "../era5/era5-nordics-ecafd.nc\n",
      "frost_days_index_per_time_period.tiff\n",
      "../era5/era5-nordics-ecacsu.nc\n",
      "number_of_csu_periods_with_more_than_5days_per_time_period.tiff\n",
      "../era5/era5-nordics-ecaid.nc\n",
      "ice_days_index_per_time_period.tiff\n",
      "../era5/era5-nordics-ecasu.nc\n",
      "summer_days_index_per_time_period.tiff\n",
      "../era5/era5-nordics-ecacdd.nc\n",
      "consecutive_dry_days_index_per_time_period.tiff\n",
      "number_of_cdd_periods_with_more_than_5days_per_time_period.tiff\n",
      "../era5/era5-nordics-ecacwd.nc\n",
      "consecutive_wet_days_index_per_time_period.tiff\n",
      "number_of_cwd_periods_with_more_than_5days_per_time_period.tiff\n",
      "../era5/era5-nordics-ecapd.nc\n",
      "precipitation_days_index_per_time_period.tiff\n",
      "../era5/era5-nordics-ecarr1.nc\n",
      "wet_days_index_per_time_period.tiff\n",
      "../era5/era5-nordics-ecarx1day.nc\n",
      "highest_one_day_precipitation_amount_per_time_period.tiff\n",
      "../era5/era5-nordics-ecarx5day.nc\n",
      "highest_five_day_precipitation_amount_per_time_period.tiff\n",
      "number_of_5day_heavy_precipitation_periods_per_time_period.tiff\n",
      "../era5/era5-nordics-ecasdii.nc\n",
      "simple_daily_intensity_index_per_time_period.tiff\n"
     ]
    }
   ],
   "source": [
    "for f in files:\n",
    "    print(f)\n",
    "    for v in variables[f]:\n",
    "        g = \"%s.tiff\" % v\n",
    "        print(g)\n",
    "        call([\"gdal_translate\", \"-a_srs\", \"EPSG:4258\", \"NETCDF:%s:%s\" % (f, v), \n",
    "              \"-of\", \"GTiff\", \"%s\" % g])"
   ]
  },
  {
   "cell_type": "markdown",
   "metadata": {},
   "source": [
    "Generate SQL script to load each raster"
   ]
  },
  {
   "cell_type": "code",
   "execution_count": 41,
   "metadata": {},
   "outputs": [
    {
     "name": "stdout",
     "output_type": "stream",
     "text": [
      "number_of_cfd_periods_with_more_than_5days_per_time_period.tiff\n",
      "number_of_cfd_periods_with_more_than_5days\n",
      "CREATE TABLE \"climate\".\"number_of_cfd_periods_with_more_than_5days\" (\"rid\" serial PRIMARY KEY,\"rast\" raster);\n"
     ]
    },
    {
     "ename": "KeyboardInterrupt",
     "evalue": "",
     "output_type": "error",
     "traceback": [
      "\u001b[0;31m---------------------------------------------------------------------------\u001b[0m",
      "\u001b[0;31mKeyboardInterrupt\u001b[0m                         Traceback (most recent call last)",
      "\u001b[0;32m<ipython-input-41-3864bf49713f>\u001b[0m in \u001b[0;36m<module>\u001b[0;34m()\u001b[0m\n\u001b[1;32m     16\u001b[0m             \u001b[0;32mif\u001b[0m \u001b[0mi\u001b[0m \u001b[0;34m==\u001b[0m \u001b[0;36m1\u001b[0m\u001b[0;34m:\u001b[0m\u001b[0;34m\u001b[0m\u001b[0;34m\u001b[0m\u001b[0m\n\u001b[1;32m     17\u001b[0m                 \u001b[0mprint\u001b[0m\u001b[0;34m(\u001b[0m\u001b[0mstatements\u001b[0m\u001b[0;34m[\u001b[0m\u001b[0mi\u001b[0m\u001b[0;34m]\u001b[0m\u001b[0;34m)\u001b[0m\u001b[0;34m\u001b[0m\u001b[0;34m\u001b[0m\u001b[0m\n\u001b[0;32m---> 18\u001b[0;31m             \u001b[0mcursor\u001b[0m\u001b[0;34m.\u001b[0m\u001b[0mexecute\u001b[0m\u001b[0;34m(\u001b[0m\u001b[0mstatements\u001b[0m\u001b[0;34m[\u001b[0m\u001b[0mi\u001b[0m\u001b[0;34m]\u001b[0m\u001b[0;34m)\u001b[0m\u001b[0;34m\u001b[0m\u001b[0;34m\u001b[0m\u001b[0m\n\u001b[0m\u001b[1;32m     19\u001b[0m \u001b[0;34m\u001b[0m\u001b[0m\n\u001b[1;32m     20\u001b[0m         \u001b[0mconn\u001b[0m\u001b[0;34m.\u001b[0m\u001b[0mcommit\u001b[0m\u001b[0;34m(\u001b[0m\u001b[0;34m)\u001b[0m\u001b[0;34m\u001b[0m\u001b[0;34m\u001b[0m\u001b[0m\n",
      "\u001b[0;32m~/dev/cc/sandbox-fabio/python-notebooks/env/bin/../lib/python3.7/encodings/utf_8.py\u001b[0m in \u001b[0;36mdecode\u001b[0;34m(input, errors)\u001b[0m\n",
      "\u001b[0;31mKeyboardInterrupt\u001b[0m: "
     ]
    }
   ],
   "source": [
    "cursor = conn.cursor()\n",
    "for f in files:\n",
    "    for v in variables[f]:\n",
    "        g = \"%s.tiff\" % v\n",
    "        table = \"era5_nordics_%s\" % g[0:-21]\n",
    "        print(g)\n",
    "        print(table)\n",
    "        output = subprocess.check_output([\"raster2pgsql\", \"-I\", \"%s\" % g, \n",
    "                                          \"climate.%s\" % table])\n",
    "\n",
    "        output = output.decode('utf-8')\n",
    "        statements = output.split('\\n')\n",
    "\n",
    "        # skip BEGIN and COMMIT statements\n",
    "        for i in range(1, 4):\n",
    "            if i == 1:\n",
    "                print(statements[i])\n",
    "            cursor.execute(statements[i])\n",
    "\n",
    "        conn.commit()"
   ]
  },
  {
   "cell_type": "code",
   "execution_count": null,
   "metadata": {},
   "outputs": [],
   "source": [
    " "
   ]
  }
 ],
 "metadata": {
  "kernelspec": {
   "display_name": "Python 3",
   "language": "python",
   "name": "python3"
  },
  "language_info": {
   "codemirror_mode": {
    "name": "ipython",
    "version": 3
   },
   "file_extension": ".py",
   "mimetype": "text/x-python",
   "name": "python",
   "nbconvert_exporter": "python",
   "pygments_lexer": "ipython3",
   "version": "3.6.7"
  }
 },
 "nbformat": 4,
 "nbformat_minor": 2
}
