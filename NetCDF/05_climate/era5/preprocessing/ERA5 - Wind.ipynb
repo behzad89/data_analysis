{
 "cells": [
  {
   "cell_type": "code",
   "execution_count": 2,
   "metadata": {},
   "outputs": [],
   "source": [
    "import cdsapi\n",
    "import getpass\n",
    "\n",
    "from azure.storage.blob import BlockBlobService\n",
    "from calendar import monthrange"
   ]
  },
  {
   "cell_type": "code",
   "execution_count": 3,
   "metadata": {},
   "outputs": [
    {
     "name": "stdout",
     "output_type": "stream",
     "text": [
      "········\n"
     ]
    }
   ],
   "source": [
    "key = getpass.getpass()"
   ]
  },
  {
   "cell_type": "code",
   "execution_count": 4,
   "metadata": {},
   "outputs": [],
   "source": [
    "llon = 4.5\n",
    "ulon = 32\n",
    "llat = 53.5\n",
    "ulat = 71.5"
   ]
  },
  {
   "cell_type": "code",
   "execution_count": 5,
   "metadata": {},
   "outputs": [],
   "source": [
    "blob_storage = BlockBlobService(account_name=\"ccclimatedata\", account_key=key)\n",
    "blob_storage_container_name = \"era5-nordics-wind\""
   ]
  },
  {
   "cell_type": "code",
   "execution_count": null,
   "metadata": {},
   "outputs": [],
   "source": [
    "for year in range(2007, 2008):\n",
    "    for month in range(18, 13):\n",
    "        days = range(1, monthrange(year, month)[1] + 1)\n",
    "\n",
    "        request = {\n",
    "                'variable':[\n",
    "                    '100m_u_component_of_wind','100m_v_component_of_wind','10m_u_component_of_neutral_wind',\n",
    "                    '10m_u_component_of_wind','10m_v_component_of_neutral_wind','10m_v_component_of_wind',\n",
    "                    '10m_wind_direction','10m_wind_speed'\n",
    "                ],\n",
    "                'product_type':'reanalysis',\n",
    "                'year': \"%04d\" % year,\n",
    "                'month': \"%02d\" % month ,\n",
    "                'day': [\"%02d\" % d for d in range(1, 32)],\n",
    "                'time': [\"%02d:00\" % h for h in range(0, 24)],\n",
    "                'area': [\n",
    "                    ulon, llat, llon, ulat # North, West, South, East\n",
    "                ],\n",
    "                'format':'netcdf'\n",
    "            }\n",
    "\n",
    "        c = cdsapi.Client()\n",
    "\n",
    "        r = c.retrieve(\n",
    "            'reanalysis-era5-single-levels',\n",
    "            request\n",
    "            )\n",
    "\n",
    "        file_path = \"era5-nordics-wind-%04d-%02d.nc\" % (year, month)\n",
    "\n",
    "        r.download(file_path)\n",
    "\n",
    "        blob_storage.create_blob_from_path(\n",
    "        container_name=blob_storage_container_name,\n",
    "        file_path=file_path,\n",
    "        blob_name=file_path)"
   ]
  },
  {
   "cell_type": "code",
   "execution_count": null,
   "metadata": {},
   "outputs": [],
   "source": []
  }
 ],
 "metadata": {
  "kernelspec": {
   "display_name": "Python 2",
   "language": "python",
   "name": "python2"
  },
  "language_info": {
   "codemirror_mode": {
    "name": "ipython",
    "version": 3
   },
   "file_extension": ".py",
   "mimetype": "text/x-python",
   "name": "python",
   "nbconvert_exporter": "python",
   "pygments_lexer": "ipython3",
   "version": "3.6.5"
  }
 },
 "nbformat": 4,
 "nbformat_minor": 2
}
