{
 "cells": [
  {
   "cell_type": "code",
   "execution_count": 1,
   "metadata": {},
   "outputs": [],
   "source": [
    "import xarray as xr\n",
    "import matplotlib.pyplot as plt\n",
    "from tqdm import tqdm"
   ]
  },
  {
   "cell_type": "markdown",
   "metadata": {},
   "source": [
    "# Level 1(surface) _ SM"
   ]
  },
  {
   "cell_type": "code",
   "execution_count": 2,
   "metadata": {},
   "outputs": [
    {
     "name": "stdout",
     "output_type": "stream",
     "text": [
      "total 5925616\r\n",
      "drwxrwxrwx 2 root root         0 Oct 14 07:02 .\r\n",
      "drwxrwxrwx 2 root root         0 Oct 14 06:04 ..\r\n",
      "-rwxrwxrwx 1 root root      1389 Oct 14 06:52 down_sm_L1.sh\r\n",
      "drwxrwxrwx 2 root root         0 Oct 19 14:31 .ipynb_checkpoints\r\n",
      "-rwxrwxrwx 1 root root   6917874 Oct 14 07:01 log.txt\r\n",
      "-rwxrwxrwx 1 root root 852711540 Oct 14 07:01 uerra_harmonie_soil_moisture_L1_2014.grib\r\n",
      "-rwxrwxrwx 1 root root 852711540 Oct 14 07:00 uerra_harmonie_soil_moisture_L1_2015.grib\r\n",
      "-rwxrwxrwx 1 root root 855047736 Oct 14 06:59 uerra_harmonie_soil_moisture_L1_2016.grib\r\n",
      "-rwxrwxrwx 1 root root 852711540 Oct 14 06:58 uerra_harmonie_soil_moisture_L1_2017.grib\r\n",
      "-rwxrwxrwx 1 root root 852711540 Oct 14 06:58 uerra_harmonie_soil_moisture_L1_2018.grib\r\n",
      "-rwxrwxrwx 1 root root 352765596 Oct 14 06:57 uerra_harmonie_soil_moisture_L1_2019.grib\r\n",
      "-rwxrwxrwx 1 root root 266272152 Oct 19 13:17 uerra_harmonie_soil_moisture_L1_clipped_2014.nc\r\n",
      "-rwxrwxrwx 1 root root 266272152 Oct 19 13:15 uerra_harmonie_soil_moisture_L1_clipped_2015.nc\r\n",
      "-rwxrwxrwx 1 root root 267001656 Oct 19 13:12 uerra_harmonie_soil_moisture_L1_clipped_2016.nc\r\n",
      "-rwxrwxrwx 1 root root 266272152 Oct 19 13:10 uerra_harmonie_soil_moisture_L1_clipped_2017.nc\r\n",
      "-rwxrwxrwx 1 root root 266272152 Oct 19 13:07 uerra_harmonie_soil_moisture_L1_clipped_2018.nc\r\n",
      "-rwxrwxrwx 1 root root 110158296 Oct 19 13:05 uerra_harmonie_soil_moisture_L1_clipped_2019.nc\r\n"
     ]
    }
   ],
   "source": [
    "!ls -la /data-uerra-sm/UERRA-HARMONIE/level_1"
   ]
  },
  {
   "cell_type": "markdown",
   "metadata": {},
   "source": [
    "## Time step mean (Level 1)"
   ]
  },
  {
   "cell_type": "code",
   "execution_count": 3,
   "metadata": {},
   "outputs": [
    {
     "name": "stdout",
     "output_type": "stream",
     "text": [
      "cdo chname: Started child process \"timmean -cat /data-uerra-sm/UERRA-HARMONIE/level_1/uerra_harmonie_soil_moisture_L1_clipped_????.nc (pipe1.1)\".\n",
      "cdo(2) timmean: Started child process \"cat /data-uerra-sm/UERRA-HARMONIE/level_1/uerra_harmonie_soil_moisture_L1_clipped_????.nc (pipe2.1)\".\n",
      "cdo(3) cat:                        1 1 1 1 1 1 1 1 1 1 2 2 2 2 2 2 2 2 2 2 3 3 3 3 3 3 3 3 3 3 4 4 4 4 4 4 4 4 4 4 5 5 5 5 5 5 5 5 5 5 6 6 6 6 6 6 6 6 6 6 7 7 7 7 7 7 7 7 7 7 8 8 8 8 8 8 8 8 8 8 9 9 9 9 9 9 9 9 9 910cdo(3) cat: Processed 360541536 values from 6 variables over 7908 timesteps [5.60s]\n",
      "cdo(2) timmean: Processed 360541536 values from 1 variable over 7908 timesteps [5.60s]\n",
      "cdo chname: Processed 45592 values from 1 variable over 1 timestep [5.60s 49MB]\n"
     ]
    }
   ],
   "source": [
    "!cdo -b 32 -chname,vsw,uerra_harmonie_soil_moisture_L1_timmean -timmean -cat '/home/behzad/sm-result/uerra_harmonie_soil_moisture_L1_clipped_????.nc' /home/behzad/sm-result-bearing-capacity/uerra_harmonie_soil_moisture_L1_timmean.nc"
   ]
  },
  {
   "cell_type": "code",
   "execution_count": 4,
   "metadata": {},
   "outputs": [],
   "source": [
    "ds_1 = xr.open_dataset('/home/behzad/sm-result-bearing-capacity/uerra_harmonie_soil_moisture_L1_timmean.nc')"
   ]
  },
  {
   "cell_type": "code",
   "execution_count": 5,
   "metadata": {},
   "outputs": [
    {
     "data": {
      "text/plain": [
       "<xarray.Dataset>\n",
       "Dimensions:                                  (bnds: 2, lat: 164, lev: 1, lon: 278, time: 1)\n",
       "Coordinates:\n",
       "  * time                                     (time) datetime64[ns] 2016-09-15T12:00:00\n",
       "  * lon                                      (lon) float32 4.5 4.61 ... 34.97\n",
       "  * lat                                      (lat) float32 53.5 53.61 ... 71.43\n",
       "  * lev                                      (lev) float64 0.5\n",
       "Dimensions without coordinates: bnds\n",
       "Data variables:\n",
       "    time_bnds                                (time, bnds) datetime64[ns] ...\n",
       "    lev_bnds                                 (lev, bnds) float64 ...\n",
       "    uerra_harmonie_soil_moisture_L1_timmean  (time, lev, lat, lon) float32 ...\n",
       "Attributes:\n",
       "    CDI:          Climate Data Interface version ?? (http://mpimet.mpg.de/cdi)\n",
       "    Conventions:  CF-1.6\n",
       "    history:      Tue Oct 22 11:39:20 2019: cdo -b 32 -chname,vsw,uerra_harmo...\n",
       "    CDO:          Climate Data Operators version 1.9.3 (http://mpimet.mpg.de/..."
      ]
     },
     "execution_count": 5,
     "metadata": {},
     "output_type": "execute_result"
    }
   ],
   "source": [
    "ds_1"
   ]
  },
  {
   "cell_type": "markdown",
   "metadata": {},
   "source": [
    "## Time step mean (Level 2)"
   ]
  },
  {
   "cell_type": "code",
   "execution_count": 6,
   "metadata": {},
   "outputs": [
    {
     "name": "stdout",
     "output_type": "stream",
     "text": [
      "cdo chname: Started child process \"timmean -cat /data-uerra-sm/UERRA-HARMONIE/level_2/uerra_harmonie_soil_moisture_L2_clipped_????.nc (pipe1.1)\".\n",
      "cdo(2) timmean: Started child process \"cat /data-uerra-sm/UERRA-HARMONIE/level_2/uerra_harmonie_soil_moisture_L2_clipped_????.nc (pipe2.1)\".\n",
      "cdo(3) cat:                        1 1 1 1 1 1 1 1 1 1 2 2 2 2 2 2 2 2 2 2 3 3 3 3 3 3 3 3 3 3 4 4 4 4 4 4 4 4 4 4 5 5 5 5 5 5 5 5 5 5 6 6 6 6 6 6 6 6 6 6 7 7 7 7 7 7 7 7 7 7 8 8 8 8 8 8 8 8 8 8 9 9 9 9 9 9 9 9 9 910cdo(3) cat: Processed 360541536 values from 6 variables over 7908 timesteps [5.73s]\n",
      "cdo(2) timmean: Processed 360541536 values from 1 variable over 7908 timesteps [5.73s]\n",
      "cdo chname: Processed 45592 values from 1 variable over 1 timestep [5.73s 49MB]\n"
     ]
    }
   ],
   "source": [
    "!cdo -b 32 -chname,vsw,uerra_harmonie_soil_moisture_L2_timmean -timmean -cat '/home/behzad/sm-result/uerra_harmonie_soil_moisture_L2_clipped_????.nc' /home/behzad/sm-result-bearing-capacity/uerra_harmonie_soil_moisture_L2_timmean.nc"
   ]
  },
  {
   "cell_type": "code",
   "execution_count": 7,
   "metadata": {},
   "outputs": [],
   "source": [
    "ds_2 = xr.open_dataset('/home/behzad/sm-result-bearing-capacity/uerra_harmonie_soil_moisture_L2_timmean.nc')"
   ]
  },
  {
   "cell_type": "code",
   "execution_count": 8,
   "metadata": {},
   "outputs": [
    {
     "data": {
      "text/plain": [
       "<xarray.Dataset>\n",
       "Dimensions:                                  (bnds: 2, lat: 164, lev: 1, lon: 278, time: 1)\n",
       "Coordinates:\n",
       "  * time                                     (time) datetime64[ns] 2016-09-15T12:00:00\n",
       "  * lon                                      (lon) float32 4.5 4.61 ... 34.97\n",
       "  * lat                                      (lat) float32 53.5 53.61 ... 71.43\n",
       "  * lev                                      (lev) float64 1.5\n",
       "Dimensions without coordinates: bnds\n",
       "Data variables:\n",
       "    time_bnds                                (time, bnds) datetime64[ns] ...\n",
       "    lev_bnds                                 (lev, bnds) float64 ...\n",
       "    uerra_harmonie_soil_moisture_L2_timmean  (time, lev, lat, lon) float32 ...\n",
       "Attributes:\n",
       "    CDI:          Climate Data Interface version ?? (http://mpimet.mpg.de/cdi)\n",
       "    Conventions:  CF-1.6\n",
       "    history:      Tue Oct 22 11:40:06 2019: cdo -b 32 -chname,vsw,uerra_harmo...\n",
       "    CDO:          Climate Data Operators version 1.9.3 (http://mpimet.mpg.de/..."
      ]
     },
     "execution_count": 8,
     "metadata": {},
     "output_type": "execute_result"
    }
   ],
   "source": [
    "ds_2"
   ]
  },
  {
   "cell_type": "markdown",
   "metadata": {},
   "source": [
    "## Time step mean (Level 3)"
   ]
  },
  {
   "cell_type": "code",
   "execution_count": 9,
   "metadata": {},
   "outputs": [
    {
     "name": "stdout",
     "output_type": "stream",
     "text": [
      "cdo chname: Started child process \"timmean -cat /data-uerra-sm/UERRA-HARMONIE/level_3/uerra_harmonie_soil_moisture_L3_clipped_????.nc (pipe1.1)\".\n",
      "cdo(2) timmean: Started child process \"cat /data-uerra-sm/UERRA-HARMONIE/level_3/uerra_harmonie_soil_moisture_L3_clipped_????.nc (pipe2.1)\".\n",
      "cdo(3) cat:                        1 1 1 1 1 1 1 1 1 1 2 2 2 2 2 2 2 2 2 2 3 3 3 3 3 3 3 3 3 3 4 4 4 4 4 4 4 4 4 4 5 5 5 5 5 5 5 5 5 5 6 6 6 6 6 6 6 6 6 6 7 7 7 7 7 7 7 7 7 7 8 8 8 8 8 8 8 8 8 8 9 9 9 9 9 9 9 9 9 910cdo(3) cat: Processed 360541536 values from 6 variables over 7908 timesteps [5.75s]\n",
      "cdo(2) timmean: Processed 360541536 values from 1 variable over 7908 timesteps [5.75s]\n",
      "cdo chname: Processed 45592 values from 1 variable over 1 timestep [5.75s 49MB]\n"
     ]
    }
   ],
   "source": [
    "!cdo -b 32 -chname,vsw,uerra_harmonie_soil_moisture_L3_timmean -timmean -cat '/home/behzad/sm-result/uerra_harmonie_soil_moisture_L3_clipped_????.nc' /home/behzad/sm-result-bearing-capacity/uerra_harmonie_soil_moisture_L3_timmean.nc"
   ]
  },
  {
   "cell_type": "code",
   "execution_count": 10,
   "metadata": {},
   "outputs": [],
   "source": [
    "ds_3 = xr.open_dataset('/home/behzad/sm-result-bearing-capacity/uerra_harmonie_soil_moisture_L3_timmean.nc')"
   ]
  },
  {
   "cell_type": "code",
   "execution_count": 11,
   "metadata": {},
   "outputs": [
    {
     "data": {
      "text/plain": [
       "<xarray.Dataset>\n",
       "Dimensions:                                  (bnds: 2, lat: 164, lev: 1, lon: 278, time: 1)\n",
       "Coordinates:\n",
       "  * time                                     (time) datetime64[ns] 2016-09-15T12:00:00\n",
       "  * lon                                      (lon) float32 4.5 4.61 ... 34.97\n",
       "  * lat                                      (lat) float32 53.5 53.61 ... 71.43\n",
       "  * lev                                      (lev) float64 2.5\n",
       "Dimensions without coordinates: bnds\n",
       "Data variables:\n",
       "    time_bnds                                (time, bnds) datetime64[ns] ...\n",
       "    lev_bnds                                 (lev, bnds) float64 ...\n",
       "    uerra_harmonie_soil_moisture_L3_timmean  (time, lev, lat, lon) float32 ...\n",
       "Attributes:\n",
       "    CDI:          Climate Data Interface version ?? (http://mpimet.mpg.de/cdi)\n",
       "    Conventions:  CF-1.6\n",
       "    history:      Tue Oct 22 11:40:57 2019: cdo -b 32 -chname,vsw,uerra_harmo...\n",
       "    CDO:          Climate Data Operators version 1.9.3 (http://mpimet.mpg.de/..."
      ]
     },
     "execution_count": 11,
     "metadata": {},
     "output_type": "execute_result"
    }
   ],
   "source": [
    "ds_3"
   ]
  }
 ],
 "metadata": {
  "kernelspec": {
   "display_name": "Python 3",
   "language": "python",
   "name": "python3"
  },
  "language_info": {
   "codemirror_mode": {
    "name": "ipython",
    "version": 3
   },
   "file_extension": ".py",
   "mimetype": "text/x-python",
   "name": "python",
   "nbconvert_exporter": "python",
   "pygments_lexer": "ipython3",
   "version": "3.6.7"
  }
 },
 "nbformat": 4,
 "nbformat_minor": 2
}
