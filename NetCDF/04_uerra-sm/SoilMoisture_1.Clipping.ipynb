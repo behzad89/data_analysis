{
 "cells": [
  {
   "cell_type": "markdown",
   "metadata": {},
   "source": [
    "# Level 1 _ SM"
   ]
  },
  {
   "cell_type": "code",
   "execution_count": 1,
   "metadata": {},
   "outputs": [],
   "source": [
    "import xarray as xr\n",
    "import pandas as pn\n",
    "import numpy as np\n",
    "import pandas as pd\n",
    "import subprocess as sb\n",
    "import matplotlib.pyplot as plt\n",
    "from tqdm import tqdm"
   ]
  },
  {
   "cell_type": "code",
   "execution_count": 2,
   "metadata": {},
   "outputs": [
    {
     "name": "stdout",
     "output_type": "stream",
     "text": [
      "/data-uerra-sm/UERRA-HARMONIE/level_1/uerra_harmonie_soil_moisture_L1_2014.grib\r\n",
      "/data-uerra-sm/UERRA-HARMONIE/level_1/uerra_harmonie_soil_moisture_L1_2015.grib\r\n",
      "/data-uerra-sm/UERRA-HARMONIE/level_1/uerra_harmonie_soil_moisture_L1_2016.grib\r\n",
      "/data-uerra-sm/UERRA-HARMONIE/level_1/uerra_harmonie_soil_moisture_L1_2017.grib\r\n",
      "/data-uerra-sm/UERRA-HARMONIE/level_1/uerra_harmonie_soil_moisture_L1_2018.grib\r\n",
      "/data-uerra-sm/UERRA-HARMONIE/level_1/uerra_harmonie_soil_moisture_L1_2019.grib\r\n"
     ]
    }
   ],
   "source": [
    "!ls /data-uerra-sm/UERRA-HARMONIE/level_1/*.grib"
   ]
  },
  {
   "cell_type": "code",
   "execution_count": 3,
   "metadata": {},
   "outputs": [
    {
     "name": "stdout",
     "output_type": "stream",
     "text": [
      "cdo griddes: Processed 1 variable [0.10s 61MB]\r\n"
     ]
    }
   ],
   "source": [
    "!cdo griddes /data-uerra-sm/UERRA-HARMONIE/level_1/uerra_harmonie_soil_moisture_L1_2014.grib > grid_info.txt"
   ]
  },
  {
   "cell_type": "code",
   "execution_count": 4,
   "metadata": {},
   "outputs": [
    {
     "name": "stdout",
     "output_type": "stream",
     "text": [
      "Processing year: 2014\n",
      "cdo remapbil: Started child process \"shifttime,3hour /data-uerra-sm/UERRA-HARMONIE/level_1/uerra_harmonie_soil_moisture_L1_2014.grib (pipe1.1)\".\n",
      "cdo remapbil: SCRIP bilinear weights from curvilinear (565x565) to lonlat (140x197) grid, with source mask (181319)\n",
      "cdo remapbil:                        1 1 1 1 1 1 1 1 1 1 2 2 2 2 2 2 2 2 2 2 3 3 3 3 3 3 3 3 3 3 4 4 4 4 4 4 4 4 4 4 5 5 5 5 5 5 5 5 5 5 6 6 6 6 6 6 6 6 6 6 7 7 7 7 7 7 7 7 7 7 8 8 8 8 8 8 8 8 8 8 9 9 9 9 9 9 9 9 9 910cdo(2) shifttime: Processed 466068500 values from 1 variable over 1460 timesteps [10.48s]\n",
      "cdo remapbil: Processed 466068500 values from 1 variable over 1460 timesteps [10.48s 115MB]\n",
      "Processing year: 2015\n",
      "cdo remapbil: Started child process \"shifttime,3hour /data-uerra-sm/UERRA-HARMONIE/level_1/uerra_harmonie_soil_moisture_L1_2015.grib (pipe1.1)\".\n",
      "cdo remapbil: SCRIP bilinear weights from curvilinear (565x565) to lonlat (140x197) grid, with source mask (181319)\n",
      "cdo remapbil:                        1 1 1 1 1 1 1 1 1 1 2 2 2 2 2 2 2 2 2 2 3 3 3 3 3 3 3 3 3 3 4 4 4 4 4 4 4 4 4 4 5 5 5 5 5 5 5 5 5 5 6 6 6 6 6 6 6 6 6 6 7 7 7 7 7 7 7 7 7 7 8 8 8 8 8 8 8 8 8 8 9 9 9 9 9 9 9 9 9 910cdo(2) shifttime: Processed 466068500 values from 1 variable over 1460 timesteps [10.61s]\n",
      "cdo remapbil: Processed 466068500 values from 1 variable over 1460 timesteps [10.61s 114MB]\n",
      "Processing year: 2016\n",
      "cdo remapbil: Started child process \"shifttime,3hour /data-uerra-sm/UERRA-HARMONIE/level_1/uerra_harmonie_soil_moisture_L1_2016.grib (pipe1.1)\".\n",
      "cdo remapbil: SCRIP bilinear weights from curvilinear (565x565) to lonlat (140x197) grid, with source mask (181319)\n",
      "cdo remapbil:                        1 1 1 1 1 1 1 1 1 1 2 2 2 2 2 2 2 2 2 2 3 3 3 3 3 3 3 3 3 3 4 4 4 4 4 4 4 4 4 4 5 5 5 5 5 5 5 5 5 5 6 6 6 6 6 6 6 6 6 6 7 7 7 7 7 7 7 7 7 7 8 8 8 8 8 8 8 8 8 8 9 9 9 9 9 9 9 9 9 910cdo(2) shifttime: Processed 467345400 values from 1 variable over 1464 timesteps [10.57s]\n",
      "cdo remapbil: Processed 467345400 values from 1 variable over 1464 timesteps [10.57s 115MB]\n",
      "Processing year: 2017\n",
      "cdo remapbil: Started child process \"shifttime,3hour /data-uerra-sm/UERRA-HARMONIE/level_1/uerra_harmonie_soil_moisture_L1_2017.grib (pipe1.1)\".\n",
      "cdo remapbil: SCRIP bilinear weights from curvilinear (565x565) to lonlat (140x197) grid, with source mask (181319)\n",
      "cdo remapbil:                        1 1 1 1 1 1 1 1 1 1 2 2 2 2 2 2 2 2 2 2 3 3 3 3 3 3 3 3 3 3 4 4 4 4 4 4 4 4 4 4 5 5 5 5 5 5 5 5 5 5 6 6 6 6 6 6 6 6 6 6 7 7 7 7 7 7 7 7 7 7 8 8 8 8 8 8 8 8 8 8 9 9 9 9 9 9 9 9 9 910cdo(2) shifttime: Processed 466068500 values from 1 variable over 1460 timesteps [10.58s]\n",
      "cdo remapbil: Processed 466068500 values from 1 variable over 1460 timesteps [10.58s 115MB]\n",
      "Processing year: 2018\n",
      "cdo remapbil: Started child process \"shifttime,3hour /data-uerra-sm/UERRA-HARMONIE/level_1/uerra_harmonie_soil_moisture_L1_2018.grib (pipe1.1)\".\n",
      "cdo remapbil: SCRIP bilinear weights from curvilinear (565x565) to lonlat (140x197) grid, with source mask (181319)\n",
      "cdo remapbil:                        1 1 1 1 1 1 1 1 1 1 2 2 2 2 2 2 2 2 2 2 3 3 3 3 3 3 3 3 3 3 4 4 4 4 4 4 4 4 4 4 5 5 5 5 5 5 5 5 5 5 6 6 6 6 6 6 6 6 6 6 7 7 7 7 7 7 7 7 7 7 8 8 8 8 8 8 8 8 8 8 9 9 9 9 9 9 9 9 9 910cdo(2) shifttime: Processed 466068500 values from 1 variable over 1460 timesteps [10.65s]\n",
      "cdo remapbil: Processed 466068500 values from 1 variable over 1460 timesteps [10.65s 115MB]\n",
      "Processing year: 2019\n",
      "cdo remapbil: Started child process \"shifttime,3hour /data-uerra-sm/UERRA-HARMONIE/level_1/uerra_harmonie_soil_moisture_L1_2019.grib (pipe1.1)\".\n",
      "cdo remapbil: SCRIP bilinear weights from curvilinear (565x565) to lonlat (140x197) grid, with source mask (181319)\n",
      "cdo remapbil:                        1 1 1 1 1 1 1 1 1 1 2 2 2 2 2 2 2 2 2 2 3 3 3 3 3 3 3 3 3 3 4 4 4 4 4 4 4 4 4 4 5 5 5 5 5 5 5 5 5 5 6 6 6 6 6 6 6 6 6 6 7 7 7 7 7 7 7 7 7 7 8 8 8 8 8 8 8 8 8 8 9 9 9 9 9 9 9 9 9 910cdo(2) shifttime: Processed 192811900 values from 1 variable over 604 timesteps [4.84s]\n",
      "cdo remapbil: Processed 192811900 values from 1 variable over 604 timesteps [4.84s 114MB]\n"
     ]
    }
   ],
   "source": [
    "for y in range(2014,2020):\n",
    "    print(f'Processing year: {y}')\n",
    "    !cdo -f nc remapbil,outgrid.txt -shifttime,3hour /data-uerra-sm/UERRA-HARMONIE/level_1/uerra_harmonie_soil_moisture_L1_{y}.grib /home/behzad/sm-result/uerra_harmonie_soil_moisture_L1_clipped_{y}.nc"
   ]
  },
  {
   "cell_type": "code",
   "execution_count": 5,
   "metadata": {},
   "outputs": [
    {
     "name": "stdout",
     "output_type": "stream",
     "text": [
      "uerra_harmonie_soil_moisture_L1_2014.grib\r\n",
      "uerra_harmonie_soil_moisture_L1_2015.grib\r\n",
      "uerra_harmonie_soil_moisture_L1_2016.grib\r\n",
      "uerra_harmonie_soil_moisture_L1_2017.grib\r\n",
      "uerra_harmonie_soil_moisture_L1_2018.grib\r\n",
      "uerra_harmonie_soil_moisture_L1_2019.grib\r\n",
      "uerra_harmonie_soil_moisture_L1_clipped_2018.nc\r\n",
      "uerra_harmonie_soil_moisture_L1_clipped_2019.nc\r\n"
     ]
    }
   ],
   "source": [
    "!ls /data-uerra-sm/UERRA-HARMONIE/level_1"
   ]
  },
  {
   "cell_type": "code",
   "execution_count": 6,
   "metadata": {},
   "outputs": [],
   "source": [
    "ds = xr.open_dataset('/home/behzad/sm-result/uerra_harmonie_soil_moisture_L1_clipped_2015.nc')"
   ]
  },
  {
   "cell_type": "code",
   "execution_count": 7,
   "metadata": {},
   "outputs": [
    {
     "data": {
      "text/plain": [
       "<xarray.Dataset>\n",
       "Dimensions:   (bnds: 2, lat: 197, lev: 1, lon: 140, time: 1460)\n",
       "Coordinates:\n",
       "  * time      (time) datetime64[ns] 2015-01-01T03:00:00 ... 2015-12-31T21:00:00\n",
       "  * lon       (lon) float32 4.5 4.718169 4.9363384 ... 34.607365 34.825535\n",
       "  * lat       (lat) float32 53.5 53.59905 53.698093 ... 72.814125 72.91317\n",
       "  * lev       (lev) float64 0.5\n",
       "Dimensions without coordinates: bnds\n",
       "Data variables:\n",
       "    lev_bnds  (lev, bnds) float64 ...\n",
       "    vsw       (time, lev, lat, lon) float32 ...\n",
       "Attributes:\n",
       "    CDI:          Climate Data Interface version ?? (http://mpimet.mpg.de/cdi)\n",
       "    Conventions:  CF-1.6\n",
       "    history:      Wed Oct 23 12:36:16 2019: cdo -f nc remapbil,outgrid.txt -s...\n",
       "    CDO:          Climate Data Operators version 1.9.3 (http://mpimet.mpg.de/..."
      ]
     },
     "execution_count": 7,
     "metadata": {},
     "output_type": "execute_result"
    }
   ],
   "source": [
    "ds"
   ]
  },
  {
   "cell_type": "code",
   "execution_count": 8,
   "metadata": {},
   "outputs": [
    {
     "data": {
      "text/plain": [
       "<matplotlib.collections.QuadMesh at 0x7fdbd05c64a8>"
      ]
     },
     "execution_count": 8,
     "metadata": {},
     "output_type": "execute_result"
    },
    {
     "data": {
      "image/png": "[encoded data removed]",
      "text/plain": [
       "<Figure size 432x288 with 2 Axes>"
      ]
     },
     "metadata": {
      "needs_background": "light"
     },
     "output_type": "display_data"
    }
   ],
   "source": [
    "ds.vsw[0,:,:].plot()"
   ]
  },
  {
   "cell_type": "markdown",
   "metadata": {},
   "source": [
    "# Level 2 _ SM"
   ]
  },
  {
   "cell_type": "code",
   "execution_count": 9,
   "metadata": {},
   "outputs": [
    {
     "name": "stdout",
     "output_type": "stream",
     "text": [
      "/data-uerra-sm/UERRA-HARMONIE/level_2/uerra_harmonie_soil_moisture_L2_2014.grib\r\n",
      "/data-uerra-sm/UERRA-HARMONIE/level_2/uerra_harmonie_soil_moisture_L2_2015.grib\r\n",
      "/data-uerra-sm/UERRA-HARMONIE/level_2/uerra_harmonie_soil_moisture_L2_2016.grib\r\n",
      "/data-uerra-sm/UERRA-HARMONIE/level_2/uerra_harmonie_soil_moisture_L2_2017.grib\r\n",
      "/data-uerra-sm/UERRA-HARMONIE/level_2/uerra_harmonie_soil_moisture_L2_2018.grib\r\n",
      "/data-uerra-sm/UERRA-HARMONIE/level_2/uerra_harmonie_soil_moisture_L2_2019.grib\r\n"
     ]
    }
   ],
   "source": [
    "!ls /data-uerra-sm/UERRA-HARMONIE/level_2/*.grib"
   ]
  },
  {
   "cell_type": "code",
   "execution_count": 10,
   "metadata": {},
   "outputs": [
    {
     "name": "stdout",
     "output_type": "stream",
     "text": [
      "cdo griddes: Processed 1 variable [0.07s 61MB]\r\n"
     ]
    }
   ],
   "source": [
    "!cdo griddes /data-uerra-sm/UERRA-HARMONIE/level_2/uerra_harmonie_soil_moisture_L2_2014.grib > grid_info.txt"
   ]
  },
  {
   "cell_type": "code",
   "execution_count": 11,
   "metadata": {},
   "outputs": [
    {
     "name": "stdout",
     "output_type": "stream",
     "text": [
      "Processing year: 2014\n",
      "cdo remapbil: Started child process \"shifttime,3hour /data-uerra-sm/UERRA-HARMONIE/level_2/uerra_harmonie_soil_moisture_L2_2014.grib (pipe1.1)\".\n",
      "cdo remapbil: SCRIP bilinear weights from curvilinear (565x565) to lonlat (140x197) grid, with source mask (181319)\n",
      "cdo remapbil:                        1 1 1 1 1 1 1 1 1 1 2 2 2 2 2 2 2 2 2 2 3 3 3 3 3 3 3 3 3 3 4 4 4 4 4 4 4 4 4 4 5 5 5 5 5 5 5 5 5 5 6 6 6 6 6 6 6 6 6 6 7 7 7 7 7 7 7 7 7 7 8 8 8 8 8 8 8 8 8 8 9 9 9 9 9 9 9 9 9 910cdo(2) shifttime: Processed 466068500 values from 1 variable over 1460 timesteps [10.42s]\n",
      "cdo remapbil: Processed 466068500 values from 1 variable over 1460 timesteps [10.42s 114MB]\n",
      "Processing year: 2015\n",
      "cdo remapbil: Started child process \"shifttime,3hour /data-uerra-sm/UERRA-HARMONIE/level_2/uerra_harmonie_soil_moisture_L2_2015.grib (pipe1.1)\".\n",
      "cdo remapbil: SCRIP bilinear weights from curvilinear (565x565) to lonlat (140x197) grid, with source mask (181319)\n",
      "cdo remapbil:                        1 1 1 1 1 1 1 1 1 1 2 2 2 2 2 2 2 2 2 2 3 3 3 3 3 3 3 3 3 3 4 4 4 4 4 4 4 4 4 4 5 5 5 5 5 5 5 5 5 5 6 6 6 6 6 6 6 6 6 6 7 7 7 7 7 7 7 7 7 7 8 8 8 8 8 8 8 8 8 8 9 9 9 9 9 9 9 9 9 910cdo(2) shifttime: Processed 466068500 values from 1 variable over 1460 timesteps [10.62s]\n",
      "cdo remapbil: Processed 466068500 values from 1 variable over 1460 timesteps [10.62s 115MB]\n",
      "Processing year: 2016\n",
      "cdo remapbil: Started child process \"shifttime,3hour /data-uerra-sm/UERRA-HARMONIE/level_2/uerra_harmonie_soil_moisture_L2_2016.grib (pipe1.1)\".\n",
      "cdo remapbil: SCRIP bilinear weights from curvilinear (565x565) to lonlat (140x197) grid, with source mask (181319)\n",
      "cdo remapbil:                        1 1 1 1 1 1 1 1 1 1 2 2 2 2 2 2 2 2 2 2 3 3 3 3 3 3 3 3 3 3 4 4 4 4 4 4 4 4 4 4 5 5 5 5 5 5 5 5 5 5 6 6 6 6 6 6 6 6 6 6 7 7 7 7 7 7 7 7 7 7 8 8 8 8 8 8 8 8 8 8 9 9 9 9 9 9 9 9 9 910cdo(2) shifttime: Processed 467345400 values from 1 variable over 1464 timesteps [10.57s]\n",
      "cdo remapbil: Processed 467345400 values from 1 variable over 1464 timesteps [10.57s 115MB]\n",
      "Processing year: 2017\n",
      "cdo remapbil: Started child process \"shifttime,3hour /data-uerra-sm/UERRA-HARMONIE/level_2/uerra_harmonie_soil_moisture_L2_2017.grib (pipe1.1)\".\n",
      "cdo remapbil: SCRIP bilinear weights from curvilinear (565x565) to lonlat (140x197) grid, with source mask (181319)\n",
      "cdo remapbil:                        1 1 1 1 1 1 1 1 1 1 2 2 2 2 2 2 2 2 2 2 3 3 3 3 3 3 3 3 3 3 4 4 4 4 4 4 4 4 4 4 5 5 5 5 5 5 5 5 5 5 6 6 6 6 6 6 6 6 6 6 7 7 7 7 7 7 7 7 7 7 8 8 8 8 8 8 8 8 8 8 9 9 9 9 9 9 9 9 9 910cdo(2) shifttime: Processed 466068500 values from 1 variable over 1460 timesteps [10.62s]\n",
      "cdo remapbil: Processed 466068500 values from 1 variable over 1460 timesteps [10.62s 114MB]\n",
      "Processing year: 2018\n",
      "cdo remapbil: Started child process \"shifttime,3hour /data-uerra-sm/UERRA-HARMONIE/level_2/uerra_harmonie_soil_moisture_L2_2018.grib (pipe1.1)\".\n",
      "cdo remapbil: SCRIP bilinear weights from curvilinear (565x565) to lonlat (140x197) grid, with source mask (181319)\n",
      "cdo remapbil:                        1 1 1 1 1 1 1 1 1 1 2 2 2 2 2 2 2 2 2 2 3 3 3 3 3 3 3 3 3 3 4 4 4 4 4 4 4 4 4 4 5 5 5 5 5 5 5 5 5 5 6 6 6 6 6 6 6 6 6 6 7 7 7 7 7 7 7 7 7 7 8 8 8 8 8 8 8 8 8 8 9 9 9 9 9 9 9 9 9 910cdo(2) shifttime: Processed 466068500 values from 1 variable over 1460 timesteps [10.61s]\n",
      "cdo remapbil: Processed 466068500 values from 1 variable over 1460 timesteps [10.62s 115MB]\n",
      "Processing year: 2019\n",
      "cdo remapbil: Started child process \"shifttime,3hour /data-uerra-sm/UERRA-HARMONIE/level_2/uerra_harmonie_soil_moisture_L2_2019.grib (pipe1.1)\".\n",
      "cdo remapbil: SCRIP bilinear weights from curvilinear (565x565) to lonlat (140x197) grid, with source mask (181319)\n",
      "cdo remapbil:                        1 1 1 1 1 1 1 1 1 1 2 2 2 2 2 2 2 2 2 2 3 3 3 3 3 3 3 3 3 3 4 4 4 4 4 4 4 4 4 4 5 5 5 5 5 5 5 5 5 5 6 6 6 6 6 6 6 6 6 6 7 7 7 7 7 7 7 7 7 7 8 8 8 8 8 8 8 8 8 8 9 9 9 9 9 9 9 9 9 910cdo(2) shifttime: Processed 192811900 values from 1 variable over 604 timesteps [4.73s]\n",
      "cdo remapbil: Processed 192811900 values from 1 variable over 604 timesteps [4.73s 115MB]\n"
     ]
    }
   ],
   "source": [
    "for y in range(2014,2020):\n",
    "    print(f'Processing year: {y}')\n",
    "    !cdo -f nc remapbil,outgrid.txt -shifttime,3hour /data-uerra-sm/UERRA-HARMONIE/level_2/uerra_harmonie_soil_moisture_L2_{y}.grib /home/behzad/sm-result/uerra_harmonie_soil_moisture_L2_clipped_{y}.nc"
   ]
  },
  {
   "cell_type": "code",
   "execution_count": 12,
   "metadata": {},
   "outputs": [
    {
     "name": "stdout",
     "output_type": "stream",
     "text": [
      "uerra_harmonie_soil_moisture_L2_2014.grib\r\n",
      "uerra_harmonie_soil_moisture_L2_2015.grib\r\n",
      "uerra_harmonie_soil_moisture_L2_2016.grib\r\n",
      "uerra_harmonie_soil_moisture_L2_2017.grib\r\n",
      "uerra_harmonie_soil_moisture_L2_2018.grib\r\n",
      "uerra_harmonie_soil_moisture_L2_2019.grib\r\n"
     ]
    }
   ],
   "source": [
    "!ls /data-uerra-sm/UERRA-HARMONIE/level_2"
   ]
  },
  {
   "cell_type": "markdown",
   "metadata": {},
   "source": [
    "# Level 3 _ SM"
   ]
  },
  {
   "cell_type": "code",
   "execution_count": 13,
   "metadata": {},
   "outputs": [
    {
     "name": "stdout",
     "output_type": "stream",
     "text": [
      "/data-uerra-sm/UERRA-HARMONIE/level_3/uerra_harmonie_soil_moisture_L3_2014.grib\r\n",
      "/data-uerra-sm/UERRA-HARMONIE/level_3/uerra_harmonie_soil_moisture_L3_2015.grib\r\n",
      "/data-uerra-sm/UERRA-HARMONIE/level_3/uerra_harmonie_soil_moisture_L3_2016.grib\r\n",
      "/data-uerra-sm/UERRA-HARMONIE/level_3/uerra_harmonie_soil_moisture_L3_2017.grib\r\n",
      "/data-uerra-sm/UERRA-HARMONIE/level_3/uerra_harmonie_soil_moisture_L3_2018.grib\r\n",
      "/data-uerra-sm/UERRA-HARMONIE/level_3/uerra_harmonie_soil_moisture_L3_2019.grib\r\n"
     ]
    }
   ],
   "source": [
    "!ls /data-uerra-sm/UERRA-HARMONIE/level_3/*.grib"
   ]
  },
  {
   "cell_type": "code",
   "execution_count": 14,
   "metadata": {},
   "outputs": [
    {
     "name": "stdout",
     "output_type": "stream",
     "text": [
      "cdo griddes: Processed 1 variable [0.09s 60MB]\r\n"
     ]
    }
   ],
   "source": [
    "!cdo griddes /data-uerra-sm/UERRA-HARMONIE/level_3/uerra_harmonie_soil_moisture_L3_2014.grib > grid_info.txt"
   ]
  },
  {
   "cell_type": "code",
   "execution_count": 15,
   "metadata": {},
   "outputs": [
    {
     "name": "stdout",
     "output_type": "stream",
     "text": [
      "Processing year: 2014\n",
      "cdo remapbil: Started child process \"shifttime,3hour /data-uerra-sm/UERRA-HARMONIE/level_3/uerra_harmonie_soil_moisture_L3_2014.grib (pipe1.1)\".\n",
      "cdo remapbil: SCRIP bilinear weights from curvilinear (565x565) to lonlat (140x197) grid, with source mask (181319)\n",
      "cdo remapbil:                        1 1 1 1 1 1 1 1 1 1 2 2 2 2 2 2 2 2 2 2 3 3 3 3 3 3 3 3 3 3 4 4 4 4 4 4 4 4 4 4 5 5 5 5 5 5 5 5 5 5 6 6 6 6 6 6 6 6 6 6 7 7 7 7 7 7 7 7 7 7 8 8 8 8 8 8 8 8 8 8 9 9 9 9 9 9 9 9 9 910cdo(2) shifttime: Processed 466068500 values from 1 variable over 1460 timesteps [10.45s]\n",
      "cdo remapbil: Processed 466068500 values from 1 variable over 1460 timesteps [10.45s 114MB]\n",
      "Processing year: 2015\n",
      "cdo remapbil: Started child process \"shifttime,3hour /data-uerra-sm/UERRA-HARMONIE/level_3/uerra_harmonie_soil_moisture_L3_2015.grib (pipe1.1)\".\n",
      "cdo remapbil: SCRIP bilinear weights from curvilinear (565x565) to lonlat (140x197) grid, with source mask (181319)\n",
      "cdo remapbil:                        1 1 1 1 1 1 1 1 1 1 2 2 2 2 2 2 2 2 2 2 3 3 3 3 3 3 3 3 3 3 4 4 4 4 4 4 4 4 4 4 5 5 5 5 5 5 5 5 5 5 6 6 6 6 6 6 6 6 6 6 7 7 7 7 7 7 7 7 7 7 8 8 8 8 8 8 8 8 8 8 9 9 9 9 9 9 9 9 9 910cdo(2) shifttime: Processed 466068500 values from 1 variable over 1460 timesteps [10.49s]\n",
      "cdo remapbil: Processed 466068500 values from 1 variable over 1460 timesteps [10.49s 116MB]\n",
      "Processing year: 2016\n",
      "cdo remapbil: Started child process \"shifttime,3hour /data-uerra-sm/UERRA-HARMONIE/level_3/uerra_harmonie_soil_moisture_L3_2016.grib (pipe1.1)\".\n",
      "cdo remapbil: SCRIP bilinear weights from curvilinear (565x565) to lonlat (140x197) grid, with source mask (181319)\n",
      "cdo remapbil:                        1 1 1 1 1 1 1 1 1 1 2 2 2 2 2 2 2 2 2 2 3 3 3 3 3 3 3 3 3 3 4 4 4 4 4 4 4 4 4 4 5 5 5 5 5 5 5 5 5 5 6 6 6 6 6 6 6 6 6 6 7 7 7 7 7 7 7 7 7 7 8 8 8 8 8 8 8 8 8 8 9 9 9 9 9 9 9 9 9 910cdo(2) shifttime: Processed 467345400 values from 1 variable over 1464 timesteps [10.61s]\n",
      "cdo remapbil: Processed 467345400 values from 1 variable over 1464 timesteps [10.61s 114MB]\n",
      "Processing year: 2017\n",
      "cdo remapbil: Started child process \"shifttime,3hour /data-uerra-sm/UERRA-HARMONIE/level_3/uerra_harmonie_soil_moisture_L3_2017.grib (pipe1.1)\".\n",
      "cdo remapbil: SCRIP bilinear weights from curvilinear (565x565) to lonlat (140x197) grid, with source mask (181319)\n",
      "cdo remapbil:                        1 1 1 1 1 1 1 1 1 1 2 2 2 2 2 2 2 2 2 2 3 3 3 3 3 3 3 3 3 3 4 4 4 4 4 4 4 4 4 4 5 5 5 5 5 5 5 5 5 5 6 6 6 6 6 6 6 6 6 6 7 7 7 7 7 7 7 7 7 7 8 8 8 8 8 8 8 8 8 8 9 9 9 9 9 9 9 9 9 910cdo(2) shifttime: Processed 466068500 values from 1 variable over 1460 timesteps [10.51s]\n",
      "cdo remapbil: Processed 466068500 values from 1 variable over 1460 timesteps [10.51s 114MB]\n",
      "Processing year: 2018\n",
      "cdo remapbil: Started child process \"shifttime,3hour /data-uerra-sm/UERRA-HARMONIE/level_3/uerra_harmonie_soil_moisture_L3_2018.grib (pipe1.1)\".\n",
      "cdo remapbil: SCRIP bilinear weights from curvilinear (565x565) to lonlat (140x197) grid, with source mask (181319)\n",
      "cdo remapbil:                        1 1 1 1 1 1 1 1 1 1 2 2 2 2 2 2 2 2 2 2 3 3 3 3 3 3 3 3 3 3 4 4 4 4 4 4 4 4 4 4 5 5 5 5 5 5 5 5 5 5 6 6 6 6 6 6 6 6 6 6 7 7 7 7 7 7 7 7 7 7 8 8 8 8 8 8 8 8 8 8 9 9 9 9 9 9 9 9 9 910cdo(2) shifttime: Processed 466068500 values from 1 variable over 1460 timesteps [10.48s]\n",
      "cdo remapbil: Processed 466068500 values from 1 variable over 1460 timesteps [10.48s 114MB]\n",
      "Processing year: 2019\n",
      "cdo remapbil: Started child process \"shifttime,3hour /data-uerra-sm/UERRA-HARMONIE/level_3/uerra_harmonie_soil_moisture_L3_2019.grib (pipe1.1)\".\n",
      "cdo remapbil: SCRIP bilinear weights from curvilinear (565x565) to lonlat (140x197) grid, with source mask (181319)\n",
      "cdo remapbil:                        1 1 1 1 1 1 1 1 1 1 2 2 2 2 2 2 2 2 2 2 3 3 3 3 3 3 3 3 3 3 4 4 4 4 4 4 4 4 4 4 5 5 5 5 5 5 5 5 5 5 6 6 6 6 6 6 6 6 6 6 7 7 7 7 7 7 7 7 7 7 8 8 8 8 8 8 8 8 8 8 9 9 9 9 9 9 9 9 9 910cdo(2) shifttime: Processed 192811900 values from 1 variable over 604 timesteps [4.70s]\n",
      "cdo remapbil: Processed 192811900 values from 1 variable over 604 timesteps [4.70s 113MB]\n"
     ]
    }
   ],
   "source": [
    "for y in range(2014,2020):\n",
    "    print(f'Processing year: {y}')\n",
    "    !cdo -f nc remapbil,outgrid.txt -shifttime,3hour /data-uerra-sm/UERRA-HARMONIE/level_3/uerra_harmonie_soil_moisture_L3_{y}.grib /home/behzad/sm-result/uerra_harmonie_soil_moisture_L3_clipped_{y}.nc"
   ]
  },
  {
   "cell_type": "code",
   "execution_count": 16,
   "metadata": {},
   "outputs": [
    {
     "name": "stdout",
     "output_type": "stream",
     "text": [
      "uerra_harmonie_soil_moisture_L3_2014.grib\r\n",
      "uerra_harmonie_soil_moisture_L3_2015.grib\r\n",
      "uerra_harmonie_soil_moisture_L3_2016.grib\r\n",
      "uerra_harmonie_soil_moisture_L3_2017.grib\r\n",
      "uerra_harmonie_soil_moisture_L3_2018.grib\r\n",
      "uerra_harmonie_soil_moisture_L3_2019.grib\r\n"
     ]
    }
   ],
   "source": [
    "!ls /data-uerra-sm/UERRA-HARMONIE/level_3"
   ]
  }
 ],
 "metadata": {
  "kernelspec": {
   "display_name": "Python 3",
   "language": "python",
   "name": "python3"
  },
  "language_info": {
   "codemirror_mode": {
    "name": "ipython",
    "version": 3
   },
   "file_extension": ".py",
   "mimetype": "text/x-python",
   "name": "python",
   "nbconvert_exporter": "python",
   "pygments_lexer": "ipython3",
   "version": "3.6.7"
  }
 },
 "nbformat": 4,
 "nbformat_minor": 2
}
