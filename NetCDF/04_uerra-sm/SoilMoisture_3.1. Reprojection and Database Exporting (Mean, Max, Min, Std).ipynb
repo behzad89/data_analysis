{
 "cells": [
  {
   "cell_type": "code",
   "execution_count": 43,
   "metadata": {},
   "outputs": [],
   "source": [
    "import pandas as pd\n",
    "import psycopg2\n",
    "import sys\n",
    "import xarray as xr\n",
    "\n",
    "from getpass import getpass\n",
    "from subprocess import call, check_output"
   ]
  },
  {
   "cell_type": "code",
   "execution_count": 44,
   "metadata": {},
   "outputs": [],
   "source": [
    "# List of files to process\n",
    "path = \"/home/behzad/sm-result/\""
   ]
  },
  {
   "cell_type": "code",
   "execution_count": 45,
   "metadata": {},
   "outputs": [
    {
     "data": {
      "text/plain": [
       "23"
      ]
     },
     "execution_count": 45,
     "metadata": {},
     "output_type": "execute_result"
    }
   ],
   "source": [
    "len(path)"
   ]
  },
  {
   "cell_type": "code",
   "execution_count": 46,
   "metadata": {},
   "outputs": [
    {
     "name": "stdout",
     "output_type": "stream",
     "text": [
      "uerra_harmonie_soil_moisture_L1_clipped_2014.nc\r\n",
      "uerra_harmonie_soil_moisture_L1_clipped_2015.nc\r\n",
      "uerra_harmonie_soil_moisture_L1_clipped_2016.nc\r\n",
      "uerra_harmonie_soil_moisture_L1_clipped_2017.nc\r\n",
      "uerra_harmonie_soil_moisture_L1_clipped_2018.nc\r\n",
      "uerra_harmonie_soil_moisture_L1_clipped_2019.nc\r\n",
      "uerra_harmonie_soil_moisture_L1_ymonmax.nc\r\n",
      "uerra_harmonie_soil_moisture_L1_ymonmean.nc\r\n",
      "uerra_harmonie_soil_moisture_L1_ymonmin.nc\r\n",
      "uerra_harmonie_soil_moisture_L1_ymonstd.nc\r\n",
      "uerra_harmonie_soil_moisture_L2_clipped_2014.nc\r\n",
      "uerra_harmonie_soil_moisture_L2_clipped_2015.nc\r\n",
      "uerra_harmonie_soil_moisture_L2_clipped_2016.nc\r\n",
      "uerra_harmonie_soil_moisture_L2_clipped_2017.nc\r\n",
      "uerra_harmonie_soil_moisture_L2_clipped_2018.nc\r\n",
      "uerra_harmonie_soil_moisture_L2_clipped_2019.nc\r\n",
      "uerra_harmonie_soil_moisture_L2_ymonmax.nc\r\n",
      "uerra_harmonie_soil_moisture_L2_ymonmean.nc\r\n",
      "uerra_harmonie_soil_moisture_L2_ymonmin.nc\r\n",
      "uerra_harmonie_soil_moisture_L2_ymonstd.nc\r\n",
      "uerra_harmonie_soil_moisture_L3_clipped_2014.nc\r\n",
      "uerra_harmonie_soil_moisture_L3_clipped_2015.nc\r\n",
      "uerra_harmonie_soil_moisture_L3_clipped_2016.nc\r\n",
      "uerra_harmonie_soil_moisture_L3_clipped_2017.nc\r\n",
      "uerra_harmonie_soil_moisture_L3_clipped_2018.nc\r\n",
      "uerra_harmonie_soil_moisture_L3_clipped_2019.nc\r\n",
      "uerra_harmonie_soil_moisture_L3_ymonmax.nc\r\n",
      "uerra_harmonie_soil_moisture_L3_ymonmean.nc\r\n",
      "uerra_harmonie_soil_moisture_L3_ymonmin.nc\r\n",
      "uerra_harmonie_soil_moisture_L3_ymonstd.nc\r\n"
     ]
    }
   ],
   "source": [
    "!ls {path}"
   ]
  },
  {
   "cell_type": "code",
   "execution_count": 47,
   "metadata": {},
   "outputs": [],
   "source": [
    "files = [\n",
    "    \"uerra_harmonie_soil_moisture_L1_ymonmax.nc\",\n",
    "    \"uerra_harmonie_soil_moisture_L1_ymonmean.nc\",\n",
    "    \"uerra_harmonie_soil_moisture_L1_ymonmin.nc\",\n",
    "    \"uerra_harmonie_soil_moisture_L1_ymonstd.nc\",\n",
    "    \"uerra_harmonie_soil_moisture_L2_ymonmax.nc\",\n",
    "    \"uerra_harmonie_soil_moisture_L2_ymonmean.nc\",\n",
    "    \"uerra_harmonie_soil_moisture_L2_ymonmin.nc\",\n",
    "    \"uerra_harmonie_soil_moisture_L2_ymonstd.nc\",\n",
    "    \"uerra_harmonie_soil_moisture_L3_ymonmax.nc\",\n",
    "    \"uerra_harmonie_soil_moisture_L3_ymonmean.nc\",\n",
    "    \"uerra_harmonie_soil_moisture_L3_ymonmin.nc\",\n",
    "    \"uerra_harmonie_soil_moisture_L3_ymonstd.nc\"\n",
    "]"
   ]
  },
  {
   "cell_type": "code",
   "execution_count": 48,
   "metadata": {},
   "outputs": [
    {
     "name": "stdout",
     "output_type": "stream",
     "text": [
      "{'uerra_harmonie_soil_moisture_L1_ymonmax.nc': ['uerra_harmonie_nordics_sm_L1_ymonmax'], 'uerra_harmonie_soil_moisture_L1_ymonmean.nc': ['uerra_harmonie_nordics_sm_L1_ymonmean'], 'uerra_harmonie_soil_moisture_L1_ymonmin.nc': ['uerra_harmonie_nordics_sm_L1_ymonmin'], 'uerra_harmonie_soil_moisture_L1_ymonstd.nc': ['uerra_harmonie_nordics_sm_L1_ymonstd'], 'uerra_harmonie_soil_moisture_L2_ymonmax.nc': ['uerra_harmonie_nordics_sm_L2_ymonmax'], 'uerra_harmonie_soil_moisture_L2_ymonmean.nc': ['uerra_harmonie_nordics_sm_L2_ymonmean'], 'uerra_harmonie_soil_moisture_L2_ymonmin.nc': ['uerra_harmonie_nordics_sm_L2_ymonmin'], 'uerra_harmonie_soil_moisture_L2_ymonstd.nc': ['uerra_harmonie_nordics_sm_L2_ymonstd'], 'uerra_harmonie_soil_moisture_L3_ymonmax.nc': ['uerra_harmonie_nordics_sm_L3_ymonmax'], 'uerra_harmonie_soil_moisture_L3_ymonmean.nc': ['uerra_harmonie_nordics_sm_L3_ymonmean'], 'uerra_harmonie_soil_moisture_L3_ymonmin.nc': ['uerra_harmonie_nordics_sm_L3_ymonmin'], 'uerra_harmonie_soil_moisture_L3_ymonstd.nc': ['uerra_harmonie_nordics_sm_L3_ymonstd']}\n"
     ]
    }
   ],
   "source": [
    "# Build list of variables for each file\n",
    "variables = {}\n",
    "for f in files:\n",
    "    ds = xr.open_dataset(path + f)\n",
    "    for v in ds.variables:\n",
    "        if f not in variables:\n",
    "            variables[f] = []\n",
    "        if v not in [\"time\", \"lon\", \"lat\", \"inate.\", \"oordinate.\", \"lev\",\"lev_bnds\"]:\n",
    "            variables[f].append(v)\n",
    "\n",
    "print(variables)"
   ]
  },
  {
   "cell_type": "code",
   "execution_count": 49,
   "metadata": {},
   "outputs": [
    {
     "name": "stdout",
     "output_type": "stream",
     "text": [
      "uerra_harmonie_soil_moisture_L1_ymonmax.nc\n",
      "uerra_harmonie_nordics_sm_L1_ymonmax.tiff\n",
      "uerra_harmonie_soil_moisture_L1_ymonmean.nc\n",
      "uerra_harmonie_nordics_sm_L1_ymonmean.tiff\n",
      "uerra_harmonie_soil_moisture_L1_ymonmin.nc\n",
      "uerra_harmonie_nordics_sm_L1_ymonmin.tiff\n",
      "uerra_harmonie_soil_moisture_L1_ymonstd.nc\n",
      "uerra_harmonie_nordics_sm_L1_ymonstd.tiff\n",
      "uerra_harmonie_soil_moisture_L2_ymonmax.nc\n",
      "uerra_harmonie_nordics_sm_L2_ymonmax.tiff\n",
      "uerra_harmonie_soil_moisture_L2_ymonmean.nc\n",
      "uerra_harmonie_nordics_sm_L2_ymonmean.tiff\n",
      "uerra_harmonie_soil_moisture_L2_ymonmin.nc\n",
      "uerra_harmonie_nordics_sm_L2_ymonmin.tiff\n",
      "uerra_harmonie_soil_moisture_L2_ymonstd.nc\n",
      "uerra_harmonie_nordics_sm_L2_ymonstd.tiff\n",
      "uerra_harmonie_soil_moisture_L3_ymonmax.nc\n",
      "uerra_harmonie_nordics_sm_L3_ymonmax.tiff\n",
      "uerra_harmonie_soil_moisture_L3_ymonmean.nc\n",
      "uerra_harmonie_nordics_sm_L3_ymonmean.tiff\n",
      "uerra_harmonie_soil_moisture_L3_ymonmin.nc\n",
      "uerra_harmonie_nordics_sm_L3_ymonmin.tiff\n",
      "uerra_harmonie_soil_moisture_L3_ymonstd.nc\n",
      "uerra_harmonie_nordics_sm_L3_ymonstd.tiff\n"
     ]
    }
   ],
   "source": [
    "# Convert each variable to a single GeoTiff file\n",
    "for f in files:\n",
    "    print(f)\n",
    "    for v in variables[f]:\n",
    "        g = \"%s.tiff\" % v\n",
    "        print(g) \n",
    "        call([\"gdalwarp\", \"-s_srs\", \"EPSG:4326\", \"-t_srs\", \"EPSG:3035\", \"NETCDF:%s/%s:%s\" % (path, f, v), \n",
    "              \"-of\", \"GTiff\", \"%s/%s\" % (path, g)])"
   ]
  },
  {
   "cell_type": "code",
   "execution_count": 50,
   "metadata": {},
   "outputs": [
    {
     "name": "stdout",
     "output_type": "stream",
     "text": [
      "········\n"
     ]
    }
   ],
   "source": [
    "password = getpass()"
   ]
  },
  {
   "cell_type": "code",
   "execution_count": 51,
   "metadata": {},
   "outputs": [],
   "source": [
    "conn = psycopg2.connect(\"dbname='ccgeodb' user='behzad' host='10.0.18.10' password='%s'\" % (password))"
   ]
  },
  {
   "cell_type": "code",
   "execution_count": 52,
   "metadata": {},
   "outputs": [
    {
     "name": "stdout",
     "output_type": "stream",
     "text": [
      "uerra_harmonie_nordics_sm_L1_ymonmax.tiff\n",
      "uerra_harmonie_nordics_sm_l1_ymonmax\n",
      "DROP TABLE IF EXISTS \"soilmoisture\".\"uerra_harmonie_nordics_sm_l1_ymonmax\"\n",
      "CREATE TABLE \"soilmoisture\".\"uerra_harmonie_nordics_sm_l1_ymonmax\" (\"rid\" serial PRIMARY KEY,\"rast\" raster);\n",
      "uerra_harmonie_nordics_sm_L1_ymonmean.tiff\n",
      "uerra_harmonie_nordics_sm_l1_ymonmean\n",
      "DROP TABLE IF EXISTS \"soilmoisture\".\"uerra_harmonie_nordics_sm_l1_ymonmean\"\n",
      "CREATE TABLE \"soilmoisture\".\"uerra_harmonie_nordics_sm_l1_ymonmean\" (\"rid\" serial PRIMARY KEY,\"rast\" raster);\n",
      "uerra_harmonie_nordics_sm_L1_ymonmin.tiff\n",
      "uerra_harmonie_nordics_sm_l1_ymonmin\n",
      "DROP TABLE IF EXISTS \"soilmoisture\".\"uerra_harmonie_nordics_sm_l1_ymonmin\"\n",
      "CREATE TABLE \"soilmoisture\".\"uerra_harmonie_nordics_sm_l1_ymonmin\" (\"rid\" serial PRIMARY KEY,\"rast\" raster);\n",
      "uerra_harmonie_nordics_sm_L1_ymonstd.tiff\n",
      "uerra_harmonie_nordics_sm_l1_ymonstd\n",
      "DROP TABLE IF EXISTS \"soilmoisture\".\"uerra_harmonie_nordics_sm_l1_ymonstd\"\n",
      "CREATE TABLE \"soilmoisture\".\"uerra_harmonie_nordics_sm_l1_ymonstd\" (\"rid\" serial PRIMARY KEY,\"rast\" raster);\n",
      "uerra_harmonie_nordics_sm_L2_ymonmax.tiff\n",
      "uerra_harmonie_nordics_sm_l2_ymonmax\n",
      "DROP TABLE IF EXISTS \"soilmoisture\".\"uerra_harmonie_nordics_sm_l2_ymonmax\"\n",
      "CREATE TABLE \"soilmoisture\".\"uerra_harmonie_nordics_sm_l2_ymonmax\" (\"rid\" serial PRIMARY KEY,\"rast\" raster);\n",
      "uerra_harmonie_nordics_sm_L2_ymonmean.tiff\n",
      "uerra_harmonie_nordics_sm_l2_ymonmean\n",
      "DROP TABLE IF EXISTS \"soilmoisture\".\"uerra_harmonie_nordics_sm_l2_ymonmean\"\n",
      "CREATE TABLE \"soilmoisture\".\"uerra_harmonie_nordics_sm_l2_ymonmean\" (\"rid\" serial PRIMARY KEY,\"rast\" raster);\n",
      "uerra_harmonie_nordics_sm_L2_ymonmin.tiff\n",
      "uerra_harmonie_nordics_sm_l2_ymonmin\n",
      "DROP TABLE IF EXISTS \"soilmoisture\".\"uerra_harmonie_nordics_sm_l2_ymonmin\"\n",
      "CREATE TABLE \"soilmoisture\".\"uerra_harmonie_nordics_sm_l2_ymonmin\" (\"rid\" serial PRIMARY KEY,\"rast\" raster);\n",
      "uerra_harmonie_nordics_sm_L2_ymonstd.tiff\n",
      "uerra_harmonie_nordics_sm_l2_ymonstd\n",
      "DROP TABLE IF EXISTS \"soilmoisture\".\"uerra_harmonie_nordics_sm_l2_ymonstd\"\n",
      "CREATE TABLE \"soilmoisture\".\"uerra_harmonie_nordics_sm_l2_ymonstd\" (\"rid\" serial PRIMARY KEY,\"rast\" raster);\n",
      "uerra_harmonie_nordics_sm_L3_ymonmax.tiff\n",
      "uerra_harmonie_nordics_sm_l3_ymonmax\n",
      "DROP TABLE IF EXISTS \"soilmoisture\".\"uerra_harmonie_nordics_sm_l3_ymonmax\"\n",
      "CREATE TABLE \"soilmoisture\".\"uerra_harmonie_nordics_sm_l3_ymonmax\" (\"rid\" serial PRIMARY KEY,\"rast\" raster);\n",
      "uerra_harmonie_nordics_sm_L3_ymonmean.tiff\n",
      "uerra_harmonie_nordics_sm_l3_ymonmean\n",
      "DROP TABLE IF EXISTS \"soilmoisture\".\"uerra_harmonie_nordics_sm_l3_ymonmean\"\n",
      "CREATE TABLE \"soilmoisture\".\"uerra_harmonie_nordics_sm_l3_ymonmean\" (\"rid\" serial PRIMARY KEY,\"rast\" raster);\n",
      "uerra_harmonie_nordics_sm_L3_ymonmin.tiff\n",
      "uerra_harmonie_nordics_sm_l3_ymonmin\n",
      "DROP TABLE IF EXISTS \"soilmoisture\".\"uerra_harmonie_nordics_sm_l3_ymonmin\"\n",
      "CREATE TABLE \"soilmoisture\".\"uerra_harmonie_nordics_sm_l3_ymonmin\" (\"rid\" serial PRIMARY KEY,\"rast\" raster);\n",
      "uerra_harmonie_nordics_sm_L3_ymonstd.tiff\n",
      "uerra_harmonie_nordics_sm_l3_ymonstd\n",
      "DROP TABLE IF EXISTS \"soilmoisture\".\"uerra_harmonie_nordics_sm_l3_ymonstd\"\n",
      "CREATE TABLE \"soilmoisture\".\"uerra_harmonie_nordics_sm_l3_ymonstd\" (\"rid\" serial PRIMARY KEY,\"rast\" raster);\n"
     ]
    }
   ],
   "source": [
    "cursor = conn.cursor()\n",
    "for f in files:\n",
    "    for v in variables[f]:\n",
    "        g = \"%s.tiff\" % v\n",
    "        table = \"%s\" % g[0:-5]\n",
    "        table = table.lower()\n",
    "        print(g)\n",
    "        print(table)\n",
    "        sql = f'DROP TABLE IF EXISTS \"soilmoisture\".\"{table}\"'\n",
    "        print(sql)\n",
    "        cursor.execute(sql)\n",
    "        \n",
    "        output = check_output([\"raster2pgsql\", \"-I\", \"%s%s\" % (path, g), \"soilmoisture.%s\" % table]).decode(sys.stdout.encoding)\n",
    "        statements = output.split('\\n')\n",
    "    \n",
    "        # skip BEGIN and COMMIT statements\n",
    "        for i in range(1, 4):\n",
    "            if i == 1:\n",
    "                print(statements[i])\n",
    "            \n",
    "            cursor.execute(statements[i])\n",
    "        conn.commit()\n",
    "        \n",
    "        # Save to SQL file\n",
    "        with open('%s%s.sql' % (path, table), 'w') as sql:\n",
    "            sql.write(output)"
   ]
  }
 ],
 "metadata": {
  "kernelspec": {
   "display_name": "Python 3",
   "language": "python",
   "name": "python3"
  },
  "language_info": {
   "codemirror_mode": {
    "name": "ipython",
    "version": 3
   },
   "file_extension": ".py",
   "mimetype": "text/x-python",
   "name": "python",
   "nbconvert_exporter": "python",
   "pygments_lexer": "ipython3",
   "version": "3.6.7"
  }
 },
 "nbformat": 4,
 "nbformat_minor": 2
}
