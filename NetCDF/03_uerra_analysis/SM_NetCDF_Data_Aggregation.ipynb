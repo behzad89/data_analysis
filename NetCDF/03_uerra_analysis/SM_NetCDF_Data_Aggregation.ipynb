{
 "cells": [
  {
   "cell_type": "code",
   "execution_count": 3,
   "metadata": {},
   "outputs": [],
   "source": [
    "# Climate_env\n",
    "# Import Packages\n",
    "import xarray as xr\n",
    "import pandas as pn\n",
    "import numpy as np\n",
    "import pandas as pd\n",
    "import subprocess as sb\n",
    "import matplotlib.pyplot as plt\n",
    "import cartopy.crs as ccrs\n",
    "from tqdm import tqdm"
   ]
  },
  {
   "cell_type": "code",
   "execution_count": 5,
   "metadata": {},
   "outputs": [
    {
     "name": "stdout",
     "output_type": "stream",
     "text": [
      "../Data/UERRA_Volumetric_Soil_moisture.grib\n"
     ]
    }
   ],
   "source": [
    "!ls ../Data/*.grib"
   ]
  },
  {
   "cell_type": "markdown",
   "metadata": {},
   "source": [
    "# Export info. to the text file"
   ]
  },
  {
   "cell_type": "code",
   "execution_count": null,
   "metadata": {},
   "outputs": [],
   "source": [
    "!cdo griddes UERRA_Volumetric_Soil_moisture.grib > grid_info.txt"
   ]
  },
  {
   "cell_type": "markdown",
   "metadata": {},
   "source": [
    "# Remap and clip to the Latlon Coordinate using CDO"
   ]
  },
  {
   "cell_type": "markdown",
   "metadata": {},
   "source": [
    " 5 and 30 arc-minute grids as 10km and 50km grids"
   ]
  },
  {
   "cell_type": "code",
   "execution_count": 7,
   "metadata": {},
   "outputs": [],
   "source": [
    "### How to calculate the targetgrid file\n",
    "\n",
    "# Xfirst, yfirst > the left down corner coordinates \n",
    "# Xsize,Ysize > the number of the pixels\n",
    "# Xinc,Yinc > the pixel size\n",
    "# Xsecond,Ysecond > the right upper corner coordinates\n",
    "\n",
    "# xsize= (xsecond - xfirst)/xinc\n",
    "# ysize= (ysecond - yfirst)/yinc"
   ]
  },
  {
   "cell_type": "code",
   "execution_count": null,
   "metadata": {},
   "outputs": [],
   "source": [
    "!cdo -f nc remapbil,outgrid.txt -shifttime,2hour UERRA_Volumetric_Soil_moisture.grib  UERRA_Volumetric_Soil_moisture_clip.nc"
   ]
  },
  {
   "cell_type": "markdown",
   "metadata": {},
   "source": [
    "## Clipping using xarray"
   ]
  },
  {
   "cell_type": "code",
   "execution_count": null,
   "metadata": {},
   "outputs": [],
   "source": [
    "# Cliping the intrest area\n",
    "clip_sm_allPeriod = sm_2010_2018.vsw.sel(latitude=slice(41.5, 38.5),longitude=slice(8,10))"
   ]
  },
  {
   "cell_type": "code",
   "execution_count": 7,
   "metadata": {},
   "outputs": [
    {
     "data": {
      "text/plain": [
       "<xarray.DataArray 'sm' (time: 3103, lat: 12, lon: 8)>\n",
       "dask.array<shape=(3103, 12, 8), dtype=float32, chunksize=(1, 12, 8)>\n",
       "Coordinates:\n",
       "  * lat      (lat) float32 41.375 41.125 40.875 40.625 ... 39.125 38.875 38.625\n",
       "  * lon      (lon) float32 8.125 8.375 8.625 8.875 9.125 9.375 9.625 9.875\n",
       "  * time     (time) datetime64[ns] 2010-01-01 2010-01-02 ... 2018-06-30\n",
       "Attributes:\n",
       "    long_name:        Volumetric Soil Moisture\n",
       "    units:            m3 m-3\n",
       "    valid_range:      [0. 1.]\n",
       "    _CoordinateAxes:  time lat lon"
      ]
     },
     "execution_count": 7,
     "metadata": {},
     "output_type": "execute_result"
    }
   ],
   "source": [
    "clip_sm_allPeriod"
   ]
  },
  {
   "cell_type": "code",
   "execution_count": 9,
   "metadata": {},
   "outputs": [],
   "source": [
    "clip_sm_allPeriod.to_netcdf(path='../Data/result/clip_sm_allPeriod.nc',format = 'NETCDF4')"
   ]
  },
  {
   "cell_type": "markdown",
   "metadata": {},
   "source": [
    "## Visulization the clipped image"
   ]
  },
  {
   "cell_type": "code",
   "execution_count": 9,
   "metadata": {},
   "outputs": [
    {
     "name": "stdout",
     "output_type": "stream",
     "text": [
      "../Data/UERRA_Volumetric_Soil_moisture_clip.nc\n"
     ]
    }
   ],
   "source": [
    "!ls ../Data/*.nc"
   ]
  },
  {
   "cell_type": "code",
   "execution_count": 10,
   "metadata": {},
   "outputs": [],
   "source": [
    "sm_2010_2018 = xr.open_mfdataset('../Data/UERRA_Volumetric_Soil_moisture_clip.nc')"
   ]
  },
  {
   "cell_type": "code",
   "execution_count": 12,
   "metadata": {},
   "outputs": [
    {
     "data": {
      "image/png": "[encoded data removed]",
      "text/plain": [
       "<Figure size 432x288 with 2 Axes>"
      ]
     },
     "metadata": {
      "needs_background": "light"
     },
     "output_type": "display_data"
    }
   ],
   "source": [
    "# Centered over Darmstadt\n",
    "ax = plt.axes(projection=ccrs.Orthographic(20, 50))\n",
    "ax.coastlines()\n",
    "# Use last time step in array.\n",
    "p = sm_2010_2018.vsw.isel(time=3).plot(transform=ccrs.PlateCarree(), robust=True)"
   ]
  },
  {
   "cell_type": "markdown",
   "metadata": {},
   "source": [
    "## Bi-weekly Aggregation"
   ]
  },
  {
   "cell_type": "code",
   "execution_count": null,
   "metadata": {},
   "outputs": [],
   "source": [
    "# multi-year daily mean calculated\n",
    "\n",
    "!cdo ydaymean  UERRA_Volumetric_Soil_moisture_clip.nc UERRA_Volumetric_Soil_multiYear_daily_mean.nc\n",
    "\n",
    "\n",
    "# bi-weely mean was calculated based on the daily mean\n",
    "\n",
    "!cdo timselmean,14 UERRA_Volumetric_Soil_multiYear_daily_mean.nc UERRA_Volumetric_Soil_biWeekly_mean.nc\n",
    "\n"
   ]
  },
  {
   "cell_type": "markdown",
   "metadata": {},
   "source": [
    "#### Selection of the timestamps (May - Oct.) ~ 12 weeks"
   ]
  },
  {
   "cell_type": "code",
   "execution_count": 13,
   "metadata": {},
   "outputs": [],
   "source": [
    "a = xr.open_dataset('../Data/Result/UERRA_Volumetric_Soil_biWeekly_mean.nc')"
   ]
  },
  {
   "cell_type": "code",
   "execution_count": 14,
   "metadata": {},
   "outputs": [],
   "source": [
    "sel_a = a.sel(time=slice('2018-05-01', '2018-10-31'))"
   ]
  },
  {
   "cell_type": "code",
   "execution_count": 15,
   "metadata": {},
   "outputs": [],
   "source": [
    "sel_a.to_netcdf(path='../Data/result/sel_period_biweekly.nc',format = 'NETCDF4')"
   ]
  },
  {
   "cell_type": "code",
   "execution_count": null,
   "metadata": {},
   "outputs": [],
   "source": [
    "\n",
    "# The bi-weekly data was separated into different layer for further analysis\n",
    "\n",
    "!cdo splitsel,1 sel_period_biweekly.nc bi_weekly_"
   ]
  },
  {
   "cell_type": "markdown",
   "metadata": {},
   "source": [
    "## Yearly Agrregation"
   ]
  },
  {
   "cell_type": "code",
   "execution_count": null,
   "metadata": {},
   "outputs": [],
   "source": [
    "# Yearly mean\n",
    "\n",
    "!cdo yearmean UERRA_Volumetric_Soil_moisture_clip.nc UERRA_Volumetric_Soil_moisture_yearly_mean.nc"
   ]
  },
  {
   "cell_type": "code",
   "execution_count": null,
   "metadata": {},
   "outputs": [],
   "source": [
    "! cdo outputtab,date,value,name UERRA_Volumetric_Soil_moisture_yearly_mean.nc>yearly.txt"
   ]
  },
  {
   "cell_type": "code",
   "execution_count": null,
   "metadata": {},
   "outputs": [],
   "source": [
    "# The yearly data was separated into different layer for further analysis\n",
    "\n",
    "!cdo splitsel,1 clip_sm_allPeriod_yearly_mean.nc yearly"
   ]
  },
  {
   "cell_type": "markdown",
   "metadata": {},
   "source": [
    "## Visulization Yearly Aggregation"
   ]
  },
  {
   "cell_type": "code",
   "execution_count": 13,
   "metadata": {},
   "outputs": [
    {
     "name": "stdout",
     "output_type": "stream",
     "text": [
      "../Data/Result/UERRA_Volumetric_Soil_biWeekly_mean.nc\n",
      "../Data/Result/UERRA_Volumetric_Soil_moisture_yearly_mean.nc\n",
      "../Data/Result/UERRA_Volumetric_Soil_multiYear_daily_mean.nc\n"
     ]
    }
   ],
   "source": [
    "!ls ../Data/Result/*.nc"
   ]
  },
  {
   "cell_type": "code",
   "execution_count": 14,
   "metadata": {},
   "outputs": [],
   "source": [
    "yearly_mean = xr.open_dataset('../Data/Result/UERRA_Volumetric_Soil_moisture_yearly_mean.nc')"
   ]
  },
  {
   "cell_type": "code",
   "execution_count": 21,
   "metadata": {},
   "outputs": [
    {
     "data": {
      "text/plain": [
       "<xarray.Dataset>\n",
       "Dimensions:    (bnds: 2, lat: 28, lev: 1, lon: 18, time: 9)\n",
       "Coordinates:\n",
       "  * time       (time) datetime64[ns] 2010-07-02T11:00:00 ... 2018-07-02T11:00:00\n",
       "  * lon        (lon) float32 8.0 8.11 8.22 8.33 8.44 ... 9.54 9.65 9.76 9.87\n",
       "  * lat        (lat) float32 38.5 38.61 38.72 38.83 ... 41.14 41.25 41.36 41.47\n",
       "  * lev        (lev) float64 0.5\n",
       "Dimensions without coordinates: bnds\n",
       "Data variables:\n",
       "    time_bnds  (time, bnds) datetime64[ns] ...\n",
       "    lev_bnds   (lev, bnds) float64 ...\n",
       "    vsw        (time, lev, lat, lon) float32 nan nan nan nan ... nan nan nan nan\n",
       "Attributes:\n",
       "    CDI:          Climate Data Interface version ?? (http://mpimet.mpg.de/cdi)\n",
       "    Conventions:  CF-1.6\n",
       "    history:      Sat Jun 22 11:06:05 2019: cdo yearmean UERRA_Volumetric_Soi...\n",
       "    frequency:    year\n",
       "    CDO:          Climate Data Operators version 1.9.3 (http://mpimet.mpg.de/..."
      ]
     },
     "execution_count": 21,
     "metadata": {},
     "output_type": "execute_result"
    }
   ],
   "source": [
    "yearly_mean"
   ]
  },
  {
   "cell_type": "code",
   "execution_count": 22,
   "metadata": {
    "scrolled": false
   },
   "outputs": [
    {
     "name": "stderr",
     "output_type": "stream",
     "text": [
      "100%|████████████████████████████████████████████████████████████████| 3/3 [00:00<00:00, 22.90it/s]\n"
     ]
    },
    {
     "data": {
      "image/png": "[encoded data removed]",
      "text/plain": [
       "<Figure size 1440x1440 with 18 Axes>"
      ]
     },
     "metadata": {
      "needs_background": "light"
     },
     "output_type": "display_data"
    }
   ],
   "source": [
    "fig, axes = plt.subplots(nrows=3, ncols=3, figsize=(20,20))\n",
    "for i in tqdm(range(0, 3)):\n",
    "    for j in range(0, 3):\n",
    "        year = ((i * 3) + j)\n",
    "        yearly_mean.vsw.isel(time=year,lev=0).plot.pcolormesh(ax=axes[i,j])"
   ]
  },
  {
   "cell_type": "markdown",
   "metadata": {},
   "source": [
    "# Build NetCDF from CSV file (Fire DATA)"
   ]
  },
  {
   "cell_type": "code",
   "execution_count": 2,
   "metadata": {},
   "outputs": [
    {
     "name": "stdout",
     "output_type": "stream",
     "text": [
      "../Data/Result/Fire_data/fire_points.csv\n"
     ]
    }
   ],
   "source": [
    "!ls ../Data/Result/Fire_data/*.csv"
   ]
  },
  {
   "cell_type": "code",
   "execution_count": 5,
   "metadata": {},
   "outputs": [],
   "source": [
    "df = pd.read_csv(\"../Data/Result/Fire_data/fire_points.csv\",sep=';')"
   ]
  },
  {
   "cell_type": "code",
   "execution_count": 5,
   "metadata": {},
   "outputs": [
    {
     "data": {
      "text/html": [
       "<div>\n",
       "<style scoped>\n",
       "    .dataframe tbody tr th:only-of-type {\n",
       "        vertical-align: middle;\n",
       "    }\n",
       "\n",
       "    .dataframe tbody tr th {\n",
       "        vertical-align: top;\n",
       "    }\n",
       "\n",
       "    .dataframe thead th {\n",
       "        text-align: right;\n",
       "    }\n",
       "</style>\n",
       "<table border=\"1\" class=\"dataframe\">\n",
       "  <thead>\n",
       "    <tr style=\"text-align: right;\">\n",
       "      <th></th>\n",
       "      <th>id</th>\n",
       "      <th>area_ha</th>\n",
       "      <th>province</th>\n",
       "      <th>lon</th>\n",
       "      <th>lat</th>\n",
       "    </tr>\n",
       "  </thead>\n",
       "  <tbody>\n",
       "    <tr>\n",
       "      <th>0</th>\n",
       "      <td>1</td>\n",
       "      <td>32</td>\n",
       "      <td>Cagliari</td>\n",
       "      <td>9.067254</td>\n",
       "      <td>39.382330</td>\n",
       "    </tr>\n",
       "    <tr>\n",
       "      <th>1</th>\n",
       "      <td>2</td>\n",
       "      <td>49</td>\n",
       "      <td>Medio Campidano</td>\n",
       "      <td>9.005168</td>\n",
       "      <td>39.478324</td>\n",
       "    </tr>\n",
       "    <tr>\n",
       "      <th>2</th>\n",
       "      <td>3</td>\n",
       "      <td>2108</td>\n",
       "      <td>Nuoro</td>\n",
       "      <td>8.623332</td>\n",
       "      <td>40.279205</td>\n",
       "    </tr>\n",
       "    <tr>\n",
       "      <th>3</th>\n",
       "      <td>4</td>\n",
       "      <td>3259</td>\n",
       "      <td>Nuoro</td>\n",
       "      <td>8.709084</td>\n",
       "      <td>40.299548</td>\n",
       "    </tr>\n",
       "    <tr>\n",
       "      <th>4</th>\n",
       "      <td>5</td>\n",
       "      <td>324</td>\n",
       "      <td>Nuoro</td>\n",
       "      <td>8.851534</td>\n",
       "      <td>40.290140</td>\n",
       "    </tr>\n",
       "  </tbody>\n",
       "</table>\n",
       "</div>"
      ],
      "text/plain": [
       "   id  area_ha         province       lon        lat\n",
       "0   1       32         Cagliari  9.067254  39.382330\n",
       "1   2       49  Medio Campidano  9.005168  39.478324\n",
       "2   3     2108            Nuoro  8.623332  40.279205\n",
       "3   4     3259            Nuoro  8.709084  40.299548\n",
       "4   5      324            Nuoro  8.851534  40.290140"
      ]
     },
     "execution_count": 5,
     "metadata": {},
     "output_type": "execute_result"
    }
   ],
   "source": [
    "df.head()"
   ]
  },
  {
   "cell_type": "markdown",
   "metadata": {},
   "source": [
    "## Classification of fires"
   ]
  },
  {
   "cell_type": "markdown",
   "metadata": {},
   "source": [
    "### Area of the fire"
   ]
  },
  {
   "cell_type": "code",
   "execution_count": 297,
   "metadata": {},
   "outputs": [
    {
     "data": {
      "text/plain": [
       "1677.0"
      ]
     },
     "execution_count": 297,
     "metadata": {},
     "output_type": "execute_result"
    }
   ],
   "source": [
    "(df['area_ha'].max() - df['area_ha'].min())/3"
   ]
  },
  {
   "cell_type": "code",
   "execution_count": 298,
   "metadata": {},
   "outputs": [],
   "source": [
    "#def fire_level(x):\n",
    "#    if x <= 1677:\n",
    "#        return 1\n",
    "#    elif x>1677 and x<= 2200:\n",
    "#        return 2\n",
    "#    else:\n",
    "#        return 3\n",
    "#df['fire_level'] = df['area_ha'].apply(fire_level)"
   ]
  },
  {
   "cell_type": "markdown",
   "metadata": {},
   "source": [
    "### Repetition on the area"
   ]
  },
  {
   "cell_type": "code",
   "execution_count": 6,
   "metadata": {},
   "outputs": [],
   "source": [
    "df['repetition'] = 1"
   ]
  },
  {
   "cell_type": "code",
   "execution_count": 7,
   "metadata": {},
   "outputs": [
    {
     "data": {
      "text/html": [
       "<div>\n",
       "<style scoped>\n",
       "    .dataframe tbody tr th:only-of-type {\n",
       "        vertical-align: middle;\n",
       "    }\n",
       "\n",
       "    .dataframe tbody tr th {\n",
       "        vertical-align: top;\n",
       "    }\n",
       "\n",
       "    .dataframe thead th {\n",
       "        text-align: right;\n",
       "    }\n",
       "</style>\n",
       "<table border=\"1\" class=\"dataframe\">\n",
       "  <thead>\n",
       "    <tr style=\"text-align: right;\">\n",
       "      <th></th>\n",
       "      <th>id</th>\n",
       "      <th>area_ha</th>\n",
       "      <th>province</th>\n",
       "      <th>lon</th>\n",
       "      <th>lat</th>\n",
       "      <th>repetition</th>\n",
       "    </tr>\n",
       "  </thead>\n",
       "  <tbody>\n",
       "    <tr>\n",
       "      <th>0</th>\n",
       "      <td>1</td>\n",
       "      <td>32</td>\n",
       "      <td>Cagliari</td>\n",
       "      <td>9.067254</td>\n",
       "      <td>39.382330</td>\n",
       "      <td>1</td>\n",
       "    </tr>\n",
       "    <tr>\n",
       "      <th>1</th>\n",
       "      <td>2</td>\n",
       "      <td>49</td>\n",
       "      <td>Medio Campidano</td>\n",
       "      <td>9.005168</td>\n",
       "      <td>39.478324</td>\n",
       "      <td>1</td>\n",
       "    </tr>\n",
       "    <tr>\n",
       "      <th>2</th>\n",
       "      <td>3</td>\n",
       "      <td>2108</td>\n",
       "      <td>Nuoro</td>\n",
       "      <td>8.623332</td>\n",
       "      <td>40.279205</td>\n",
       "      <td>1</td>\n",
       "    </tr>\n",
       "    <tr>\n",
       "      <th>3</th>\n",
       "      <td>4</td>\n",
       "      <td>3259</td>\n",
       "      <td>Nuoro</td>\n",
       "      <td>8.709084</td>\n",
       "      <td>40.299548</td>\n",
       "      <td>1</td>\n",
       "    </tr>\n",
       "    <tr>\n",
       "      <th>4</th>\n",
       "      <td>5</td>\n",
       "      <td>324</td>\n",
       "      <td>Nuoro</td>\n",
       "      <td>8.851534</td>\n",
       "      <td>40.290140</td>\n",
       "      <td>1</td>\n",
       "    </tr>\n",
       "  </tbody>\n",
       "</table>\n",
       "</div>"
      ],
      "text/plain": [
       "   id  area_ha         province       lon        lat  repetition\n",
       "0   1       32         Cagliari  9.067254  39.382330           1\n",
       "1   2       49  Medio Campidano  9.005168  39.478324           1\n",
       "2   3     2108            Nuoro  8.623332  40.279205           1\n",
       "3   4     3259            Nuoro  8.709084  40.299548           1\n",
       "4   5      324            Nuoro  8.851534  40.290140           1"
      ]
     },
     "execution_count": 7,
     "metadata": {},
     "output_type": "execute_result"
    }
   ],
   "source": [
    "df.head()"
   ]
  },
  {
   "cell_type": "markdown",
   "metadata": {},
   "source": [
    "# Ceartion of the NetCDF file for fire data"
   ]
  },
  {
   "cell_type": "code",
   "execution_count": 8,
   "metadata": {},
   "outputs": [
    {
     "name": "stdout",
     "output_type": "stream",
     "text": [
      "../Data/Result/clip_sm_allPeriod.nc\n",
      "../Data/Result/clip_sm_allPeriod_biWeekly_mean.nc\n",
      "../Data/Result/clip_sm_allPeriod_multiYear_daily_mean.nc\n",
      "../Data/Result/clip_sm_allPeriod_yearly_mean.nc\n"
     ]
    }
   ],
   "source": [
    "!ls ../Data/Result/*.nc"
   ]
  },
  {
   "cell_type": "code",
   "execution_count": 9,
   "metadata": {},
   "outputs": [],
   "source": [
    "sm_yearly_mean= xr.open_dataset(\"../Data/Result/clip_sm_allPeriod_yearly_mean.nc\")"
   ]
  },
  {
   "cell_type": "code",
   "execution_count": 10,
   "metadata": {},
   "outputs": [
    {
     "data": {
      "text/plain": [
       "<xarray.Dataset>\n",
       "Dimensions:    (bnds: 2, lat: 12, lon: 8, time: 9)\n",
       "Coordinates:\n",
       "  * time       (time) datetime64[ns] 2010-07-02 2011-07-02 ... 2018-04-01\n",
       "  * lon        (lon) float32 8.125 8.375 8.625 8.875 9.125 9.375 9.625 9.875\n",
       "  * lat        (lat) float32 41.375 41.125 40.875 ... 39.125 38.875 38.625\n",
       "Dimensions without coordinates: bnds\n",
       "Data variables:\n",
       "    time_bnds  (time, bnds) datetime64[ns] ...\n",
       "    sm         (time, lat, lon) float32 ...\n",
       "Attributes:\n",
       "    CDI:          Climate Data Interface version ?? (http://mpimet.mpg.de/cdi)\n",
       "    Conventions:  CF-1.6\n",
       "    history:      Wed Jun 05 10:41:58 2019: cdo yearmean clip_sm_allPeriod.nc...\n",
       "    frequency:    year\n",
       "    CDO:          Climate Data Operators version 1.9.3 (http://mpimet.mpg.de/..."
      ]
     },
     "execution_count": 10,
     "metadata": {},
     "output_type": "execute_result"
    }
   ],
   "source": [
    "sm_yearly_mean"
   ]
  },
  {
   "cell_type": "code",
   "execution_count": 11,
   "metadata": {},
   "outputs": [],
   "source": [
    "lon = sm_yearly_mean.sm.lon.values\n",
    "lat = sm_yearly_mean.sm.lat.values"
   ]
  },
  {
   "cell_type": "code",
   "execution_count": 12,
   "metadata": {},
   "outputs": [
    {
     "data": {
      "text/plain": [
       "array([41.375, 41.125, 40.875, 40.625, 40.375, 40.125, 39.875, 39.625,\n",
       "       39.375, 39.125, 38.875, 38.625], dtype=float32)"
      ]
     },
     "execution_count": 12,
     "metadata": {},
     "output_type": "execute_result"
    }
   ],
   "source": [
    "lat"
   ]
  },
  {
   "cell_type": "code",
   "execution_count": 13,
   "metadata": {},
   "outputs": [],
   "source": [
    "delta_lon = lon[1] - lon[0]\n",
    "delta_lat = lat[1] - lat[0]"
   ]
  },
  {
   "cell_type": "code",
   "execution_count": 21,
   "metadata": {},
   "outputs": [
    {
     "data": {
      "text/plain": [
       "(8.125, 38.625, 9.875, 41.375)"
      ]
     },
     "execution_count": 21,
     "metadata": {},
     "output_type": "execute_result"
    }
   ],
   "source": [
    "llat = lat.min()\n",
    "ulat = lat.max()\n",
    "llon = lon.min()\n",
    "ulon = lon.max()\n",
    "(llon, llat, ulon, ulat)"
   ]
  },
  {
   "cell_type": "code",
   "execution_count": 22,
   "metadata": {},
   "outputs": [],
   "source": [
    "grid = np.zeros((lon.shape[0], lat.shape[0]))"
   ]
  },
  {
   "cell_type": "code",
   "execution_count": 23,
   "metadata": {},
   "outputs": [],
   "source": [
    "df[\"i\"] = df[\"lon\"].apply(lambda x: int(round((x - llon) / delta_lon)))\n",
    "df[\"j\"] = df[\"lat\"].apply(lambda y: int((round((y - llat) / delta_lat))-1))"
   ]
  },
  {
   "cell_type": "code",
   "execution_count": 17,
   "metadata": {},
   "outputs": [],
   "source": [
    "df.dropna(inplace=True)"
   ]
  },
  {
   "cell_type": "code",
   "execution_count": 37,
   "metadata": {},
   "outputs": [
    {
     "data": {
      "text/plain": [
       "id                     113\n",
       "area_ha                365\n",
       "province      Olbia-Tempio\n",
       "lon                9.67861\n",
       "lat                40.7358\n",
       "repetition               1\n",
       "i                        6\n",
       "j                       -9\n",
       "Name: 112, dtype: object"
      ]
     },
     "execution_count": 37,
     "metadata": {},
     "output_type": "execute_result"
    }
   ],
   "source": [
    "row"
   ]
  },
  {
   "cell_type": "code",
   "execution_count": 27,
   "metadata": {},
   "outputs": [],
   "source": [
    "rows = lat.shape[0]\n",
    "columns = lon.shape[0]\n",
    "size = (rows, columns)\n",
    "\n",
    "fire = np.zeros(size)\n",
    "fire_count = np.zeros(size)\n",
    "\n",
    "\n",
    "for idx, row in df.iterrows():\n",
    "    i = row.i\n",
    "    j = row.j\n",
    "    fire[j][i] += float(row.repetition)\n",
    "    fire_count[j][i] += 1\n",
    "    \n",
    "#fire = np.add(fire, fire_count, out=np.zeros_like(fire), where=fire_count!=0)"
   ]
  },
  {
   "cell_type": "code",
   "execution_count": 19,
   "metadata": {},
   "outputs": [],
   "source": [
    "dlon = xr.DataArray(lon, dims=['longitude'])\n",
    "dlat = xr.DataArray(lat, dims=['latitude'])"
   ]
  },
  {
   "cell_type": "code",
   "execution_count": 20,
   "metadata": {},
   "outputs": [],
   "source": [
    "ds_fire = xr.Dataset(\n",
    "    data_vars = {'fire_level': (('latitude', 'longitude'), fire)},\n",
    "    coords = {'latitude': lat,\n",
    "             'longitude': lon}\n",
    ")"
   ]
  },
  {
   "cell_type": "code",
   "execution_count": 21,
   "metadata": {},
   "outputs": [
    {
     "data": {
      "text/plain": [
       "<xarray.Dataset>\n",
       "Dimensions:     (latitude: 12, longitude: 8)\n",
       "Coordinates:\n",
       "  * latitude    (latitude) float32 41.375 41.125 40.875 ... 39.125 38.875 38.625\n",
       "  * longitude   (longitude) float32 8.125 8.375 8.625 ... 9.375 9.625 9.875\n",
       "Data variables:\n",
       "    fire_level  (latitude, longitude) float64 0.0 0.0 0.0 0.0 ... 0.0 0.0 0.0"
      ]
     },
     "execution_count": 21,
     "metadata": {},
     "output_type": "execute_result"
    }
   ],
   "source": [
    "ds_fire"
   ]
  },
  {
   "cell_type": "code",
   "execution_count": 22,
   "metadata": {},
   "outputs": [
    {
     "data": {
      "text/plain": [
       "<matplotlib.collections.QuadMesh at 0x16da25e9048>"
      ]
     },
     "execution_count": 22,
     "metadata": {},
     "output_type": "execute_result"
    },
    {
     "data": {
      "image/png": "[encoded data removed]",
      "text/plain": [
       "<Figure size 432x288 with 2 Axes>"
      ]
     },
     "metadata": {
      "needs_background": "light"
     },
     "output_type": "display_data"
    }
   ],
   "source": [
    "ds_fire.fire_level.plot()"
   ]
  },
  {
   "cell_type": "code",
   "execution_count": 23,
   "metadata": {},
   "outputs": [],
   "source": [
    "ds_fire.to_netcdf('../Data/Result/fire_repetition.nc')"
   ]
  },
  {
   "cell_type": "code",
   "execution_count": null,
   "metadata": {},
   "outputs": [],
   "source": []
  },
  {
   "cell_type": "code",
   "execution_count": null,
   "metadata": {},
   "outputs": [],
   "source": [
    "!cdo griddes data/mescan-surfex/precipitation/mescan-surfex-precipitation-2014.grib > grid_precipitation.txt"
   ]
  },
  {
   "cell_type": "code",
   "execution_count": null,
   "metadata": {},
   "outputs": [],
   "source": []
  },
  {
   "cell_type": "code",
   "execution_count": null,
   "metadata": {},
   "outputs": [],
   "source": []
  },
  {
   "cell_type": "code",
   "execution_count": null,
   "metadata": {},
   "outputs": [],
   "source": []
  },
  {
   "cell_type": "code",
   "execution_count": 5,
   "metadata": {},
   "outputs": [],
   "source": [
    "a = xr.open_dataset('../Data/Result/test_resample.nc')"
   ]
  },
  {
   "cell_type": "code",
   "execution_count": 6,
   "metadata": {},
   "outputs": [
    {
     "data": {
      "text/plain": [
       "<xarray.Dataset>\n",
       "Dimensions:    (bnds: 2, lat: 12, lon: 8, time: 25)\n",
       "Coordinates:\n",
       "  * time       (time) datetime64[ns] 2018-01-08 ... 2017-12-28T12:00:00\n",
       "  * lon        (lon) float32 8.125 8.1255 8.126 8.1265 8.127 8.1275 8.128 8.1285\n",
       "  * lat        (lat) float32 41.375 41.3745 41.374 ... 41.3705 41.37 41.3695\n",
       "Dimensions without coordinates: bnds\n",
       "Data variables:\n",
       "    time_bnds  (time, bnds) datetime64[ns] ...\n",
       "    sm         (time, lat, lon) float32 ...\n",
       "Attributes:\n",
       "    CDI:          Climate Data Interface version ?? (http://mpimet.mpg.de/cdi)\n",
       "    history:      Sat Jun 15 11:20:14 2019: cdo remapbil,resmple_grid.txt cli...\n",
       "    Conventions:  CF-1.6\n",
       "    CDO:          Climate Data Operators version 1.9.3 (http://mpimet.mpg.de/..."
      ]
     },
     "execution_count": 6,
     "metadata": {},
     "output_type": "execute_result"
    }
   ],
   "source": [
    "a"
   ]
  },
  {
   "cell_type": "code",
   "execution_count": 9,
   "metadata": {},
   "outputs": [
    {
     "data": {
      "text/plain": [
       "<matplotlib.collections.QuadMesh at 0x1fbcae91550>"
      ]
     },
     "execution_count": 9,
     "metadata": {},
     "output_type": "execute_result"
    },
    {
     "data": {
      "image/png": "[encoded data removed]",
      "text/plain": [
       "<Figure size 432x288 with 2 Axes>"
      ]
     },
     "metadata": {
      "needs_background": "light"
     },
     "output_type": "display_data"
    }
   ],
   "source": [
    "a.sm.isel(time=1).plot()"
   ]
  },
  {
   "cell_type": "code",
   "execution_count": 93,
   "metadata": {},
   "outputs": [],
   "source": [
    "lons, lats = np.meshgrid(sm_yearly_mean.sm.lon, sm_yearly_mean.sm.lat)"
   ]
  },
  {
   "cell_type": "code",
   "execution_count": 119,
   "metadata": {},
   "outputs": [],
   "source": [
    "data = {}"
   ]
  },
  {
   "cell_type": "code",
   "execution_count": 120,
   "metadata": {},
   "outputs": [
    {
     "data": {
      "text/plain": [
       "dict_keys([])"
      ]
     },
     "execution_count": 120,
     "metadata": {},
     "output_type": "execute_result"
    }
   ],
   "source": [
    "data.keys()"
   ]
  },
  {
   "cell_type": "code",
   "execution_count": 121,
   "metadata": {},
   "outputs": [],
   "source": [
    "for m in range(0, 9):\n",
    "    data[\"lat\"] = lats.ravel()\n",
    "    data[\"lon\"] = lons.ravel()\n",
    "    data[\"sm_%02d\" % (m + 2010)] = sm_yearly_mean.sm[m].values.ravel()\n",
    "    "
   ]
  },
  {
   "cell_type": "code",
   "execution_count": 122,
   "metadata": {},
   "outputs": [],
   "source": [
    "df = pd.DataFrame(data)"
   ]
  },
  {
   "cell_type": "code",
   "execution_count": 125,
   "metadata": {},
   "outputs": [
    {
     "data": {
      "text/html": [
       "<div>\n",
       "<style scoped>\n",
       "    .dataframe tbody tr th:only-of-type {\n",
       "        vertical-align: middle;\n",
       "    }\n",
       "\n",
       "    .dataframe tbody tr th {\n",
       "        vertical-align: top;\n",
       "    }\n",
       "\n",
       "    .dataframe thead th {\n",
       "        text-align: right;\n",
       "    }\n",
       "</style>\n",
       "<table border=\"1\" class=\"dataframe\">\n",
       "  <thead>\n",
       "    <tr style=\"text-align: right;\">\n",
       "      <th></th>\n",
       "      <th>lat</th>\n",
       "      <th>lon</th>\n",
       "      <th>sm_2010</th>\n",
       "      <th>sm_2011</th>\n",
       "      <th>sm_2012</th>\n",
       "      <th>sm_2013</th>\n",
       "      <th>sm_2014</th>\n",
       "      <th>sm_2015</th>\n",
       "      <th>sm_2016</th>\n",
       "      <th>sm_2017</th>\n",
       "      <th>sm_2018</th>\n",
       "    </tr>\n",
       "  </thead>\n",
       "  <tbody>\n",
       "    <tr>\n",
       "      <th>12</th>\n",
       "      <td>41.125</td>\n",
       "      <td>9.125</td>\n",
       "      <td>0.232390</td>\n",
       "      <td>0.197842</td>\n",
       "      <td>0.202369</td>\n",
       "      <td>NaN</td>\n",
       "      <td>NaN</td>\n",
       "      <td>NaN</td>\n",
       "      <td>NaN</td>\n",
       "      <td>NaN</td>\n",
       "      <td>NaN</td>\n",
       "    </tr>\n",
       "    <tr>\n",
       "      <th>13</th>\n",
       "      <td>41.125</td>\n",
       "      <td>9.375</td>\n",
       "      <td>0.240188</td>\n",
       "      <td>0.219680</td>\n",
       "      <td>0.266413</td>\n",
       "      <td>NaN</td>\n",
       "      <td>NaN</td>\n",
       "      <td>NaN</td>\n",
       "      <td>NaN</td>\n",
       "      <td>NaN</td>\n",
       "      <td>NaN</td>\n",
       "    </tr>\n",
       "    <tr>\n",
       "      <th>19</th>\n",
       "      <td>40.875</td>\n",
       "      <td>8.875</td>\n",
       "      <td>0.222997</td>\n",
       "      <td>0.203450</td>\n",
       "      <td>0.226598</td>\n",
       "      <td>0.235182</td>\n",
       "      <td>0.211713</td>\n",
       "      <td>0.195051</td>\n",
       "      <td>0.212598</td>\n",
       "      <td>0.198100</td>\n",
       "      <td>0.265417</td>\n",
       "    </tr>\n",
       "    <tr>\n",
       "      <th>20</th>\n",
       "      <td>40.875</td>\n",
       "      <td>9.125</td>\n",
       "      <td>0.236278</td>\n",
       "      <td>0.211050</td>\n",
       "      <td>0.227311</td>\n",
       "      <td>0.231003</td>\n",
       "      <td>0.213771</td>\n",
       "      <td>0.205365</td>\n",
       "      <td>0.215925</td>\n",
       "      <td>0.220320</td>\n",
       "      <td>0.277636</td>\n",
       "    </tr>\n",
       "    <tr>\n",
       "      <th>21</th>\n",
       "      <td>40.875</td>\n",
       "      <td>9.375</td>\n",
       "      <td>0.221529</td>\n",
       "      <td>0.202406</td>\n",
       "      <td>0.226960</td>\n",
       "      <td>0.238107</td>\n",
       "      <td>0.207967</td>\n",
       "      <td>0.199818</td>\n",
       "      <td>0.217201</td>\n",
       "      <td>0.220728</td>\n",
       "      <td>0.276430</td>\n",
       "    </tr>\n",
       "  </tbody>\n",
       "</table>\n",
       "</div>"
      ],
      "text/plain": [
       "       lat    lon   sm_2010   sm_2011   sm_2012   sm_2013   sm_2014   sm_2015  \\\n",
       "12  41.125  9.125  0.232390  0.197842  0.202369       NaN       NaN       NaN   \n",
       "13  41.125  9.375  0.240188  0.219680  0.266413       NaN       NaN       NaN   \n",
       "19  40.875  8.875  0.222997  0.203450  0.226598  0.235182  0.211713  0.195051   \n",
       "20  40.875  9.125  0.236278  0.211050  0.227311  0.231003  0.213771  0.205365   \n",
       "21  40.875  9.375  0.221529  0.202406  0.226960  0.238107  0.207967  0.199818   \n",
       "\n",
       "     sm_2016   sm_2017   sm_2018  \n",
       "12       NaN       NaN       NaN  \n",
       "13       NaN       NaN       NaN  \n",
       "19  0.212598  0.198100  0.265417  \n",
       "20  0.215925  0.220320  0.277636  \n",
       "21  0.217201  0.220728  0.276430  "
      ]
     },
     "execution_count": 125,
     "metadata": {},
     "output_type": "execute_result"
    }
   ],
   "source": [
    "df.head()"
   ]
  },
  {
   "cell_type": "code",
   "execution_count": 130,
   "metadata": {},
   "outputs": [],
   "source": [
    "df = df[df[\"sm_2010\"] > 0]"
   ]
  },
  {
   "cell_type": "code",
   "execution_count": 131,
   "metadata": {},
   "outputs": [
    {
     "data": {
      "text/plain": [
       "Index(['lon', 'sm_2010', 'sm_2011', 'sm_2012', 'sm_2013', 'sm_2014', 'sm_2015',\n",
       "       'sm_2016', 'sm_2017', 'sm_2018'],\n",
       "      dtype='object')"
      ]
     },
     "execution_count": 131,
     "metadata": {},
     "output_type": "execute_result"
    }
   ],
   "source": [
    "df.columns[1:]"
   ]
  },
  {
   "cell_type": "code",
   "execution_count": 11,
   "metadata": {},
   "outputs": [],
   "source": [
    "# https://gist.github.com/shoyer/0eb96fa8ab683ef078eb"
   ]
  },
  {
   "cell_type": "code",
   "execution_count": 12,
   "metadata": {},
   "outputs": [
    {
     "ename": "NameError",
     "evalue": "name 'clip_sm' is not defined",
     "output_type": "error",
     "traceback": [
      "\u001b[1;31m---------------------------------------------------------------------------\u001b[0m",
      "\u001b[1;31mNameError\u001b[0m                                 Traceback (most recent call last)",
      "\u001b[1;32m<ipython-input-12-94d290303030>\u001b[0m in \u001b[0;36m<module>\u001b[1;34m\u001b[0m\n\u001b[1;32m----> 1\u001b[1;33m \u001b[0ma\u001b[0m \u001b[1;33m=\u001b[0m\u001b[0mxr\u001b[0m\u001b[1;33m.\u001b[0m\u001b[0mDataArray\u001b[0m\u001b[1;33m.\u001b[0m\u001b[0mto_dataframe\u001b[0m\u001b[1;33m(\u001b[0m\u001b[0mclip_sm\u001b[0m\u001b[1;33m)\u001b[0m\u001b[1;33m\u001b[0m\u001b[1;33m\u001b[0m\u001b[0m\n\u001b[0m",
      "\u001b[1;31mNameError\u001b[0m: name 'clip_sm' is not defined"
     ]
    }
   ],
   "source": [
    "#a =xr.DataArray.to_dataframe(clip_sm)"
   ]
  },
  {
   "cell_type": "code",
   "execution_count": null,
   "metadata": {},
   "outputs": [],
   "source": [
    "#a.groupby('time').mean()"
   ]
  },
  {
   "cell_type": "code",
   "execution_count": null,
   "metadata": {},
   "outputs": [],
   "source": [
    "https://code.mpimet.mpg.de/boards/1/topics/3225\n",
    "    \n",
    "    https://code.mpimet.mpg.de/boards/1/topics/2214"
   ]
  },
  {
   "cell_type": "code",
   "execution_count": 1,
   "metadata": {},
   "outputs": [
    {
     "name": "stdout",
     "output_type": "stream",
     "text": [
      "UERRA_Volumetric_Soil_biWeekly_mean.nc\n"
     ]
    }
   ],
   "source": [
    "!ls *.nc"
   ]
  },
  {
   "cell_type": "code",
   "execution_count": 4,
   "metadata": {},
   "outputs": [],
   "source": [
    "a = xr.open_dataset('UERRA_Volumetric_Soil_biWeekly_mean.nc')"
   ]
  },
  {
   "cell_type": "code",
   "execution_count": 5,
   "metadata": {},
   "outputs": [
    {
     "data": {
      "text/plain": [
       "<xarray.DataArray 'time' (time: 27)>\n",
       "array(['2018-01-08T08:00:00.000000000', '2018-01-22T08:00:00.000000000',\n",
       "       '2018-02-05T08:00:00.000000000', '2018-02-19T08:00:00.000000000',\n",
       "       '2018-03-04T08:00:00.000000000', '2018-03-18T08:00:00.000000000',\n",
       "       '2018-04-01T08:00:00.000000000', '2018-04-15T08:00:00.000000000',\n",
       "       '2018-04-29T08:00:00.000000000', '2018-05-13T08:00:00.000000000',\n",
       "       '2018-05-27T08:00:00.000000000', '2018-06-10T08:00:00.000000000',\n",
       "       '2018-06-24T08:00:00.000000000', '2018-07-08T08:00:00.000000000',\n",
       "       '2018-07-22T08:00:00.000000000', '2018-08-05T08:00:00.000000000',\n",
       "       '2018-08-19T08:00:00.000000000', '2018-09-02T08:00:00.000000000',\n",
       "       '2018-09-16T08:00:00.000000000', '2018-09-30T08:00:00.000000000',\n",
       "       '2018-10-14T08:00:00.000000000', '2018-10-28T08:00:00.000000000',\n",
       "       '2018-11-11T08:00:00.000000000', '2018-11-25T08:00:00.000000000',\n",
       "       '2018-12-09T08:00:00.000000000', '2018-12-23T08:00:00.000000000',\n",
       "       '2018-12-31T08:00:00.000000000'], dtype='datetime64[ns]')\n",
       "Coordinates:\n",
       "  * time     (time) datetime64[ns] 2018-01-08T08:00:00 ... 2018-12-31T08:00:00\n",
       "Attributes:\n",
       "    standard_name:  time\n",
       "    bounds:         time_bnds\n",
       "    axis:           T"
      ]
     },
     "execution_count": 5,
     "metadata": {},
     "output_type": "execute_result"
    }
   ],
   "source": [
    "a.time"
   ]
  },
  {
   "cell_type": "code",
   "execution_count": 12,
   "metadata": {},
   "outputs": [
    {
     "data": {
      "text/plain": [
       "<xarray.Dataset>\n",
       "Dimensions:    (bnds: 2, lat: 28, lev: 1, lon: 18, time: 13)\n",
       "Coordinates:\n",
       "  * time       (time) datetime64[ns] 2018-05-13T08:00:00 ... 2018-10-28T08:00:00\n",
       "  * lon        (lon) float32 8.0 8.11 8.22 8.33 8.44 ... 9.54 9.65 9.76 9.87\n",
       "  * lat        (lat) float32 38.5 38.61 38.72 38.83 ... 41.14 41.25 41.36 41.47\n",
       "  * lev        (lev) float64 0.5\n",
       "Dimensions without coordinates: bnds\n",
       "Data variables:\n",
       "    time_bnds  (time, bnds) datetime64[ns] ...\n",
       "    lev_bnds   (lev, bnds) float64 ...\n",
       "    vsw        (time, lev, lat, lon) float32 ...\n",
       "Attributes:\n",
       "    CDI:          Climate Data Interface version ?? (http://mpimet.mpg.de/cdi)\n",
       "    Conventions:  CF-1.6\n",
       "    history:      Sat Jun 22 11:01:28 2019: cdo timselmean,14 UERRA_Volumetri...\n",
       "    CDO:          Climate Data Operators version 1.9.3 (http://mpimet.mpg.de/..."
      ]
     },
     "execution_count": 12,
     "metadata": {},
     "output_type": "execute_result"
    }
   ],
   "source": [
    "a.sel(time=slice('2018-05-01', '2018-10-31'))"
   ]
  },
  {
   "cell_type": "code",
   "execution_count": null,
   "metadata": {},
   "outputs": [],
   "source": []
  }
 ],
 "metadata": {
  "kernelspec": {
   "display_name": "Python 3",
   "language": "python",
   "name": "python3"
  },
  "language_info": {
   "codemirror_mode": {
    "name": "ipython",
    "version": 3
   },
   "file_extension": ".py",
   "mimetype": "text/x-python",
   "name": "python",
   "nbconvert_exporter": "python",
   "pygments_lexer": "ipython3",
   "version": "3.6.8"
  }
 },
 "nbformat": 4,
 "nbformat_minor": 2
}
